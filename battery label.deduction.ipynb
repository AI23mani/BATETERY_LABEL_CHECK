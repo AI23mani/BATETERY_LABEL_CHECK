{
 "cells": [
  {
   "cell_type": "code",
   "execution_count": 1,
   "id": "660c6749-4cdb-4710-ac0a-88682604d3c4",
   "metadata": {},
   "outputs": [
    {
     "name": "stdout",
     "output_type": "stream",
     "text": [
      "Downloading https://github.com/ultralytics/assets/releases/download/v8.1.0/yolov8n.pt to 'yolov8n.pt'...\n"
     ]
    },
    {
     "name": "stderr",
     "output_type": "stream",
     "text": [
      "100%|█████████████████████████████████████████████████████████████████████████████| 6.23M/6.23M [00:01<00:00, 3.97MB/s]\n"
     ]
    },
    {
     "name": "stdout",
     "output_type": "stream",
     "text": [
      "New https://pypi.org/project/ultralytics/8.2.51 available 😃 Update with 'pip install -U ultralytics'\n",
      "Ultralytics YOLOv8.1.34 🚀 Python-3.10.14 torch-2.3.1+cpu CPU (Intel Core(TM) i5-6300U 2.40GHz)\n",
      "\u001b[34m\u001b[1mengine\\trainer: \u001b[0mtask=detect, mode=train, model=yolov8n.pt, data=data.yaml, epochs=50, time=None, patience=100, batch=35, imgsz=640, save=True, save_period=-1, val_period=1, cache=False, device=None, workers=8, project=None, name=train, exist_ok=False, pretrained=True, optimizer=auto, verbose=True, seed=0, deterministic=True, single_cls=False, rect=False, cos_lr=False, close_mosaic=10, resume=False, amp=True, fraction=1.0, profile=False, freeze=None, multi_scale=False, overlap_mask=True, mask_ratio=4, dropout=0.0, val=True, split=val, save_json=False, save_hybrid=False, conf=None, iou=0.7, max_det=300, half=False, dnn=False, plots=True, source=None, vid_stride=1, stream_buffer=False, visualize=False, augment=False, agnostic_nms=False, classes=None, retina_masks=False, embed=None, show=False, save_frames=False, save_txt=False, save_conf=False, save_crop=False, show_labels=True, show_conf=True, show_boxes=True, line_width=None, format=torchscript, keras=False, optimize=False, int8=False, dynamic=False, simplify=False, opset=None, workspace=4, nms=False, lr0=0.01, lrf=0.01, momentum=0.937, weight_decay=0.0005, warmup_epochs=3.0, warmup_momentum=0.8, warmup_bias_lr=0.1, box=7.5, cls=0.5, dfl=1.5, pose=12.0, kobj=1.0, label_smoothing=0.0, nbs=64, hsv_h=0.015, hsv_s=0.7, hsv_v=0.4, degrees=0.0, translate=0.1, scale=0.5, shear=0.0, perspective=0.0, flipud=0.0, fliplr=0.5, bgr=0.0, mosaic=1.0, mixup=0.0, copy_paste=0.0, auto_augment=randaugment, erasing=0.4, crop_fraction=1.0, cfg=None, tracker=botsort.yaml, save_dir=runs\\detect\\train\n",
      "Overriding model.yaml nc=80 with nc=4\n",
      "\n",
      "                   from  n    params  module                                       arguments                     \n",
      "  0                  -1  1       464  ultralytics.nn.modules.conv.Conv             [3, 16, 3, 2]                 \n",
      "  1                  -1  1      4672  ultralytics.nn.modules.conv.Conv             [16, 32, 3, 2]                \n",
      "  2                  -1  1      7360  ultralytics.nn.modules.block.C2f             [32, 32, 1, True]             \n",
      "  3                  -1  1     18560  ultralytics.nn.modules.conv.Conv             [32, 64, 3, 2]                \n",
      "  4                  -1  2     49664  ultralytics.nn.modules.block.C2f             [64, 64, 2, True]             \n",
      "  5                  -1  1     73984  ultralytics.nn.modules.conv.Conv             [64, 128, 3, 2]               \n",
      "  6                  -1  2    197632  ultralytics.nn.modules.block.C2f             [128, 128, 2, True]           \n",
      "  7                  -1  1    295424  ultralytics.nn.modules.conv.Conv             [128, 256, 3, 2]              \n",
      "  8                  -1  1    460288  ultralytics.nn.modules.block.C2f             [256, 256, 1, True]           \n",
      "  9                  -1  1    164608  ultralytics.nn.modules.block.SPPF            [256, 256, 5]                 \n",
      " 10                  -1  1         0  torch.nn.modules.upsampling.Upsample         [None, 2, 'nearest']          \n",
      " 11             [-1, 6]  1         0  ultralytics.nn.modules.conv.Concat           [1]                           \n",
      " 12                  -1  1    148224  ultralytics.nn.modules.block.C2f             [384, 128, 1]                 \n",
      " 13                  -1  1         0  torch.nn.modules.upsampling.Upsample         [None, 2, 'nearest']          \n",
      " 14             [-1, 4]  1         0  ultralytics.nn.modules.conv.Concat           [1]                           \n",
      " 15                  -1  1     37248  ultralytics.nn.modules.block.C2f             [192, 64, 1]                  \n",
      " 16                  -1  1     36992  ultralytics.nn.modules.conv.Conv             [64, 64, 3, 2]                \n",
      " 17            [-1, 12]  1         0  ultralytics.nn.modules.conv.Concat           [1]                           \n",
      " 18                  -1  1    123648  ultralytics.nn.modules.block.C2f             [192, 128, 1]                 \n",
      " 19                  -1  1    147712  ultralytics.nn.modules.conv.Conv             [128, 128, 3, 2]              \n",
      " 20             [-1, 9]  1         0  ultralytics.nn.modules.conv.Concat           [1]                           \n",
      " 21                  -1  1    493056  ultralytics.nn.modules.block.C2f             [384, 256, 1]                 \n",
      " 22        [15, 18, 21]  1    752092  ultralytics.nn.modules.head.Detect           [4, [64, 128, 256]]           \n",
      "Model summary: 225 layers, 3011628 parameters, 3011612 gradients, 8.2 GFLOPs\n",
      "\n",
      "Transferred 319/355 items from pretrained weights\n",
      "\u001b[34m\u001b[1mTensorBoard: \u001b[0mStart with 'tensorboard --logdir runs\\detect\\train', view at http://localhost:6006/\n",
      "Freezing layer 'model.22.dfl.conv.weight'\n"
     ]
    },
    {
     "name": "stderr",
     "output_type": "stream",
     "text": [
      "\u001b[34m\u001b[1mtrain: \u001b[0mScanning D:\\AI COURSE TAMIL\\First project\\BATTERY LABEL. YOLO8\\train\\labels... 288 images, 0 backgrounds, 0 corr\u001b[0m\n"
     ]
    },
    {
     "name": "stdout",
     "output_type": "stream",
     "text": [
      "\u001b[34m\u001b[1mtrain: \u001b[0mNew cache created: D:\\AI COURSE TAMIL\\First project\\BATTERY LABEL. YOLO8\\train\\labels.cache\n"
     ]
    },
    {
     "name": "stderr",
     "output_type": "stream",
     "text": [
      "\u001b[34m\u001b[1mval: \u001b[0mScanning D:\\AI COURSE TAMIL\\First project\\BATTERY LABEL. YOLO8\\valid\\labels... 72 images, 0 backgrounds, 0 corrupt\u001b[0m"
     ]
    },
    {
     "name": "stdout",
     "output_type": "stream",
     "text": [
      "\u001b[34m\u001b[1mval: \u001b[0mNew cache created: D:\\AI COURSE TAMIL\\First project\\BATTERY LABEL. YOLO8\\valid\\labels.cache\n"
     ]
    },
    {
     "name": "stderr",
     "output_type": "stream",
     "text": [
      "\n"
     ]
    },
    {
     "name": "stdout",
     "output_type": "stream",
     "text": [
      "Plotting labels to runs\\detect\\train\\labels.jpg... \n",
      "\u001b[34m\u001b[1moptimizer:\u001b[0m 'optimizer=auto' found, ignoring 'lr0=0.01' and 'momentum=0.937' and determining best 'optimizer', 'lr0' and 'momentum' automatically... \n",
      "\u001b[34m\u001b[1moptimizer:\u001b[0m AdamW(lr=0.00125, momentum=0.9) with parameter groups 57 weight(decay=0.0), 64 weight(decay=0.000546875), 63 bias(decay=0.0)\n",
      "\u001b[34m\u001b[1mTensorBoard: \u001b[0mmodel graph visualization added ✅\n",
      "Image sizes 640 train, 640 val\n",
      "Using 0 dataloader workers\n",
      "Logging results to \u001b[1mruns\\detect\\train\u001b[0m\n",
      "Starting training for 50 epochs...\n",
      "\n",
      "      Epoch    GPU_mem   box_loss   cls_loss   dfl_loss  Instances       Size\n"
     ]
    },
    {
     "name": "stderr",
     "output_type": "stream",
     "text": [
      "       1/50         0G     0.4117      3.106      1.025         19        640: 100%|██████████| 9/9 [08:47<00:00, 58.63\n",
      "                 Class     Images  Instances      Box(P          R      mAP50  mAP50-95): 100%|██████████| 2/2 [00:20<0"
     ]
    },
    {
     "name": "stdout",
     "output_type": "stream",
     "text": [
      "                   all         72         72    0.00343          1      0.496      0.477\n"
     ]
    },
    {
     "name": "stderr",
     "output_type": "stream",
     "text": [
      "\n"
     ]
    },
    {
     "name": "stdout",
     "output_type": "stream",
     "text": [
      "\n",
      "      Epoch    GPU_mem   box_loss   cls_loss   dfl_loss  Instances       Size\n"
     ]
    },
    {
     "name": "stderr",
     "output_type": "stream",
     "text": [
      "       2/50         0G     0.2932      2.267     0.9022         24        640: 100%|██████████| 9/9 [07:42<00:00, 51.44\n",
      "                 Class     Images  Instances      Box(P          R      mAP50  mAP50-95): 100%|██████████| 2/2 [00:20<0"
     ]
    },
    {
     "name": "stdout",
     "output_type": "stream",
     "text": [
      "                   all         72         72    0.00368          1      0.538      0.507\n"
     ]
    },
    {
     "name": "stderr",
     "output_type": "stream",
     "text": [
      "\n"
     ]
    },
    {
     "name": "stdout",
     "output_type": "stream",
     "text": [
      "\n",
      "      Epoch    GPU_mem   box_loss   cls_loss   dfl_loss  Instances       Size\n"
     ]
    },
    {
     "name": "stderr",
     "output_type": "stream",
     "text": [
      "       3/50         0G      0.333      1.633     0.9137         20        640: 100%|██████████| 9/9 [07:22<00:00, 49.12\n",
      "                 Class     Images  Instances      Box(P          R      mAP50  mAP50-95): 100%|██████████| 2/2 [00:20<0"
     ]
    },
    {
     "name": "stdout",
     "output_type": "stream",
     "text": [
      "                   all         72         72      0.501      0.971       0.71      0.688\n"
     ]
    },
    {
     "name": "stderr",
     "output_type": "stream",
     "text": [
      "\n"
     ]
    },
    {
     "name": "stdout",
     "output_type": "stream",
     "text": [
      "\n",
      "      Epoch    GPU_mem   box_loss   cls_loss   dfl_loss  Instances       Size\n"
     ]
    },
    {
     "name": "stderr",
     "output_type": "stream",
     "text": [
      "       4/50         0G      0.324      1.326     0.9091         22        640: 100%|██████████| 9/9 [07:20<00:00, 48.94\n",
      "                 Class     Images  Instances      Box(P          R      mAP50  mAP50-95): 100%|██████████| 2/2 [00:20<0"
     ]
    },
    {
     "name": "stdout",
     "output_type": "stream",
     "text": [
      "                   all         72         72      0.739      0.521      0.871       0.84\n"
     ]
    },
    {
     "name": "stderr",
     "output_type": "stream",
     "text": [
      "\n"
     ]
    },
    {
     "name": "stdout",
     "output_type": "stream",
     "text": [
      "\n",
      "      Epoch    GPU_mem   box_loss   cls_loss   dfl_loss  Instances       Size\n"
     ]
    },
    {
     "name": "stderr",
     "output_type": "stream",
     "text": [
      "       5/50         0G     0.3056      1.135     0.9007         21        640: 100%|██████████| 9/9 [07:10<00:00, 47.88\n",
      "                 Class     Images  Instances      Box(P          R      mAP50  mAP50-95): 100%|██████████| 2/2 [00:20<0"
     ]
    },
    {
     "name": "stdout",
     "output_type": "stream",
     "text": [
      "                   all         72         72      0.955      0.763      0.991      0.914\n"
     ]
    },
    {
     "name": "stderr",
     "output_type": "stream",
     "text": [
      "\n"
     ]
    },
    {
     "name": "stdout",
     "output_type": "stream",
     "text": [
      "\n",
      "      Epoch    GPU_mem   box_loss   cls_loss   dfl_loss  Instances       Size\n"
     ]
    },
    {
     "name": "stderr",
     "output_type": "stream",
     "text": [
      "       6/50         0G     0.3101     0.9688     0.8954         17        640: 100%|██████████| 9/9 [07:06<00:00, 47.40\n",
      "                 Class     Images  Instances      Box(P          R      mAP50  mAP50-95): 100%|██████████| 2/2 [00:19<0"
     ]
    },
    {
     "name": "stdout",
     "output_type": "stream",
     "text": [
      "                   all         72         72      0.858      0.664      0.975      0.817\n"
     ]
    },
    {
     "name": "stderr",
     "output_type": "stream",
     "text": [
      "\n"
     ]
    },
    {
     "name": "stdout",
     "output_type": "stream",
     "text": [
      "\n",
      "      Epoch    GPU_mem   box_loss   cls_loss   dfl_loss  Instances       Size\n"
     ]
    },
    {
     "name": "stderr",
     "output_type": "stream",
     "text": [
      "       7/50         0G     0.3406     0.9035     0.8949         20        640: 100%|██████████| 9/9 [07:04<00:00, 47.21\n",
      "                 Class     Images  Instances      Box(P          R      mAP50  mAP50-95): 100%|██████████| 2/2 [00:20<0"
     ]
    },
    {
     "name": "stdout",
     "output_type": "stream",
     "text": [
      "                   all         72         72      0.843      0.785       0.99      0.895\n"
     ]
    },
    {
     "name": "stderr",
     "output_type": "stream",
     "text": [
      "\n"
     ]
    },
    {
     "name": "stdout",
     "output_type": "stream",
     "text": [
      "\n",
      "      Epoch    GPU_mem   box_loss   cls_loss   dfl_loss  Instances       Size\n"
     ]
    },
    {
     "name": "stderr",
     "output_type": "stream",
     "text": [
      "       8/50         0G     0.2958     0.7942     0.8759         22        640: 100%|██████████| 9/9 [07:03<00:00, 47.06\n",
      "                 Class     Images  Instances      Box(P          R      mAP50  mAP50-95): 100%|██████████| 2/2 [00:19<0"
     ]
    },
    {
     "name": "stdout",
     "output_type": "stream",
     "text": [
      "                   all         72         72       0.73      0.918      0.995      0.853\n"
     ]
    },
    {
     "name": "stderr",
     "output_type": "stream",
     "text": [
      "\n"
     ]
    },
    {
     "name": "stdout",
     "output_type": "stream",
     "text": [
      "\n",
      "      Epoch    GPU_mem   box_loss   cls_loss   dfl_loss  Instances       Size\n"
     ]
    },
    {
     "name": "stderr",
     "output_type": "stream",
     "text": [
      "       9/50         0G     0.2878      0.776     0.8734         19        640: 100%|██████████| 9/9 [07:20<00:00, 48.97\n",
      "                 Class     Images  Instances      Box(P          R      mAP50  mAP50-95): 100%|██████████| 2/2 [00:20<0"
     ]
    },
    {
     "name": "stdout",
     "output_type": "stream",
     "text": [
      "                   all         72         72      0.977      0.995      0.995      0.947\n"
     ]
    },
    {
     "name": "stderr",
     "output_type": "stream",
     "text": [
      "\n"
     ]
    },
    {
     "name": "stdout",
     "output_type": "stream",
     "text": [
      "\n",
      "      Epoch    GPU_mem   box_loss   cls_loss   dfl_loss  Instances       Size\n"
     ]
    },
    {
     "name": "stderr",
     "output_type": "stream",
     "text": [
      "      10/50         0G     0.2956     0.7147     0.8914         25        640: 100%|██████████| 9/9 [07:09<00:00, 47.70\n",
      "                 Class     Images  Instances      Box(P          R      mAP50  mAP50-95): 100%|██████████| 2/2 [00:20<0"
     ]
    },
    {
     "name": "stdout",
     "output_type": "stream",
     "text": [
      "                   all         72         72      0.938      0.977      0.995       0.95\n"
     ]
    },
    {
     "name": "stderr",
     "output_type": "stream",
     "text": [
      "\n"
     ]
    },
    {
     "name": "stdout",
     "output_type": "stream",
     "text": [
      "\n",
      "      Epoch    GPU_mem   box_loss   cls_loss   dfl_loss  Instances       Size\n"
     ]
    },
    {
     "name": "stderr",
     "output_type": "stream",
     "text": [
      "      11/50         0G     0.3084     0.7636     0.8914         23        640: 100%|██████████| 9/9 [07:21<00:00, 49.01\n",
      "                 Class     Images  Instances      Box(P          R      mAP50  mAP50-95): 100%|██████████| 2/2 [00:20<0"
     ]
    },
    {
     "name": "stdout",
     "output_type": "stream",
     "text": [
      "                   all         72         72      0.803      0.995      0.851      0.798\n"
     ]
    },
    {
     "name": "stderr",
     "output_type": "stream",
     "text": [
      "\n"
     ]
    },
    {
     "name": "stdout",
     "output_type": "stream",
     "text": [
      "\n",
      "      Epoch    GPU_mem   box_loss   cls_loss   dfl_loss  Instances       Size\n"
     ]
    },
    {
     "name": "stderr",
     "output_type": "stream",
     "text": [
      "      12/50         0G     0.2903     0.6919     0.8808         28        640: 100%|██████████| 9/9 [07:05<00:00, 47.23\n",
      "                 Class     Images  Instances      Box(P          R      mAP50  mAP50-95): 100%|██████████| 2/2 [00:20<0"
     ]
    },
    {
     "name": "stdout",
     "output_type": "stream",
     "text": [
      "                   all         72         72      0.778      0.992      0.839      0.773\n"
     ]
    },
    {
     "name": "stderr",
     "output_type": "stream",
     "text": [
      "\n"
     ]
    },
    {
     "name": "stdout",
     "output_type": "stream",
     "text": [
      "\n",
      "      Epoch    GPU_mem   box_loss   cls_loss   dfl_loss  Instances       Size\n"
     ]
    },
    {
     "name": "stderr",
     "output_type": "stream",
     "text": [
      "      13/50         0G     0.2895      0.642     0.8805         20        640: 100%|██████████| 9/9 [06:50<00:00, 45.62\n",
      "                 Class     Images  Instances      Box(P          R      mAP50  mAP50-95): 100%|██████████| 2/2 [00:22<0"
     ]
    },
    {
     "name": "stdout",
     "output_type": "stream",
     "text": [
      "                   all         72         72      0.971      0.995      0.995      0.958\n"
     ]
    },
    {
     "name": "stderr",
     "output_type": "stream",
     "text": [
      "\n"
     ]
    },
    {
     "name": "stdout",
     "output_type": "stream",
     "text": [
      "\n",
      "      Epoch    GPU_mem   box_loss   cls_loss   dfl_loss  Instances       Size\n"
     ]
    },
    {
     "name": "stderr",
     "output_type": "stream",
     "text": [
      "      14/50         0G      0.267     0.5912     0.8734         24        640: 100%|██████████| 9/9 [07:10<00:00, 47.80\n",
      "                 Class     Images  Instances      Box(P          R      mAP50  mAP50-95): 100%|██████████| 2/2 [00:19<0"
     ]
    },
    {
     "name": "stdout",
     "output_type": "stream",
     "text": [
      "                   all         72         72       0.99          1      0.995      0.961\n"
     ]
    },
    {
     "name": "stderr",
     "output_type": "stream",
     "text": [
      "\n"
     ]
    },
    {
     "name": "stdout",
     "output_type": "stream",
     "text": [
      "\n",
      "      Epoch    GPU_mem   box_loss   cls_loss   dfl_loss  Instances       Size\n"
     ]
    },
    {
     "name": "stderr",
     "output_type": "stream",
     "text": [
      "      15/50         0G     0.2911     0.6198     0.8882         21        640: 100%|██████████| 9/9 [06:54<00:00, 46.01\n",
      "                 Class     Images  Instances      Box(P          R      mAP50  mAP50-95): 100%|██████████| 2/2 [00:20<0"
     ]
    },
    {
     "name": "stdout",
     "output_type": "stream",
     "text": [
      "                   all         72         72       0.93      0.991      0.995      0.955\n"
     ]
    },
    {
     "name": "stderr",
     "output_type": "stream",
     "text": [
      "\n"
     ]
    },
    {
     "name": "stdout",
     "output_type": "stream",
     "text": [
      "\n",
      "      Epoch    GPU_mem   box_loss   cls_loss   dfl_loss  Instances       Size\n"
     ]
    },
    {
     "name": "stderr",
     "output_type": "stream",
     "text": [
      "      16/50         0G      0.293     0.5787     0.8865         20        640: 100%|██████████| 9/9 [07:00<00:00, 46.68\n",
      "                 Class     Images  Instances      Box(P          R      mAP50  mAP50-95): 100%|██████████| 2/2 [00:20<0"
     ]
    },
    {
     "name": "stdout",
     "output_type": "stream",
     "text": [
      "                   all         72         72      0.945      0.962      0.995      0.961\n"
     ]
    },
    {
     "name": "stderr",
     "output_type": "stream",
     "text": [
      "\n"
     ]
    },
    {
     "name": "stdout",
     "output_type": "stream",
     "text": [
      "\n",
      "      Epoch    GPU_mem   box_loss   cls_loss   dfl_loss  Instances       Size\n"
     ]
    },
    {
     "name": "stderr",
     "output_type": "stream",
     "text": [
      "      17/50         0G     0.2829     0.5491     0.8789         19        640: 100%|██████████| 9/9 [07:24<00:00, 49.36\n",
      "                 Class     Images  Instances      Box(P          R      mAP50  mAP50-95): 100%|██████████| 2/2 [00:20<0"
     ]
    },
    {
     "name": "stdout",
     "output_type": "stream",
     "text": [
      "                   all         72         72      0.988          1      0.995       0.95\n"
     ]
    },
    {
     "name": "stderr",
     "output_type": "stream",
     "text": [
      "\n"
     ]
    },
    {
     "name": "stdout",
     "output_type": "stream",
     "text": [
      "\n",
      "      Epoch    GPU_mem   box_loss   cls_loss   dfl_loss  Instances       Size\n"
     ]
    },
    {
     "name": "stderr",
     "output_type": "stream",
     "text": [
      "      18/50         0G     0.2623     0.5145     0.8819         16        640: 100%|██████████| 9/9 [07:20<00:00, 48.93\n",
      "                 Class     Images  Instances      Box(P          R      mAP50  mAP50-95): 100%|██████████| 2/2 [00:20<0"
     ]
    },
    {
     "name": "stdout",
     "output_type": "stream",
     "text": [
      "                   all         72         72       0.99          1      0.995       0.98\n"
     ]
    },
    {
     "name": "stderr",
     "output_type": "stream",
     "text": [
      "\n"
     ]
    },
    {
     "name": "stdout",
     "output_type": "stream",
     "text": [
      "\n",
      "      Epoch    GPU_mem   box_loss   cls_loss   dfl_loss  Instances       Size\n"
     ]
    },
    {
     "name": "stderr",
     "output_type": "stream",
     "text": [
      "      19/50         0G     0.2533      0.499     0.8789         19        640: 100%|██████████| 9/9 [07:12<00:00, 48.10\n",
      "                 Class     Images  Instances      Box(P          R      mAP50  mAP50-95): 100%|██████████| 2/2 [00:21<0"
     ]
    },
    {
     "name": "stdout",
     "output_type": "stream",
     "text": [
      "                   all         72         72      0.995          1      0.995       0.99\n"
     ]
    },
    {
     "name": "stderr",
     "output_type": "stream",
     "text": [
      "\n"
     ]
    },
    {
     "name": "stdout",
     "output_type": "stream",
     "text": [
      "\n",
      "      Epoch    GPU_mem   box_loss   cls_loss   dfl_loss  Instances       Size\n"
     ]
    },
    {
     "name": "stderr",
     "output_type": "stream",
     "text": [
      "      20/50         0G     0.2657     0.4916     0.8618         24        640: 100%|██████████| 9/9 [06:57<00:00, 46.43\n",
      "                 Class     Images  Instances      Box(P          R      mAP50  mAP50-95): 100%|██████████| 2/2 [00:20<0"
     ]
    },
    {
     "name": "stdout",
     "output_type": "stream",
     "text": [
      "                   all         72         72      0.991          1      0.995      0.988\n"
     ]
    },
    {
     "name": "stderr",
     "output_type": "stream",
     "text": [
      "\n"
     ]
    },
    {
     "name": "stdout",
     "output_type": "stream",
     "text": [
      "\n",
      "      Epoch    GPU_mem   box_loss   cls_loss   dfl_loss  Instances       Size\n"
     ]
    },
    {
     "name": "stderr",
     "output_type": "stream",
     "text": [
      "      21/50         0G     0.2699     0.4669     0.8735         24        640: 100%|██████████| 9/9 [07:04<00:00, 47.14\n",
      "                 Class     Images  Instances      Box(P          R      mAP50  mAP50-95): 100%|██████████| 2/2 [00:20<0"
     ]
    },
    {
     "name": "stdout",
     "output_type": "stream",
     "text": [
      "                   all         72         72      0.996          1      0.995      0.987\n"
     ]
    },
    {
     "name": "stderr",
     "output_type": "stream",
     "text": [
      "\n"
     ]
    },
    {
     "name": "stdout",
     "output_type": "stream",
     "text": [
      "\n",
      "      Epoch    GPU_mem   box_loss   cls_loss   dfl_loss  Instances       Size\n"
     ]
    },
    {
     "name": "stderr",
     "output_type": "stream",
     "text": [
      "      22/50         0G      0.248     0.4522     0.8723         22        640: 100%|██████████| 9/9 [07:06<00:00, 47.43\n",
      "                 Class     Images  Instances      Box(P          R      mAP50  mAP50-95): 100%|██████████| 2/2 [00:20<0"
     ]
    },
    {
     "name": "stdout",
     "output_type": "stream",
     "text": [
      "                   all         72         72      0.995          1      0.995      0.988\n"
     ]
    },
    {
     "name": "stderr",
     "output_type": "stream",
     "text": [
      "\n"
     ]
    },
    {
     "name": "stdout",
     "output_type": "stream",
     "text": [
      "\n",
      "      Epoch    GPU_mem   box_loss   cls_loss   dfl_loss  Instances       Size\n"
     ]
    },
    {
     "name": "stderr",
     "output_type": "stream",
     "text": [
      "      23/50         0G     0.2341     0.4337     0.8658         16        640: 100%|██████████| 9/9 [07:03<00:00, 47.05\n",
      "                 Class     Images  Instances      Box(P          R      mAP50  mAP50-95): 100%|██████████| 2/2 [00:20<0"
     ]
    },
    {
     "name": "stdout",
     "output_type": "stream",
     "text": [
      "                   all         72         72      0.992          1      0.995      0.985\n"
     ]
    },
    {
     "name": "stderr",
     "output_type": "stream",
     "text": [
      "\n"
     ]
    },
    {
     "name": "stdout",
     "output_type": "stream",
     "text": [
      "\n",
      "      Epoch    GPU_mem   box_loss   cls_loss   dfl_loss  Instances       Size\n"
     ]
    },
    {
     "name": "stderr",
     "output_type": "stream",
     "text": [
      "      24/50         0G     0.2575     0.4327     0.8641         20        640: 100%|██████████| 9/9 [06:57<00:00, 46.42\n",
      "                 Class     Images  Instances      Box(P          R      mAP50  mAP50-95): 100%|██████████| 2/2 [00:20<0"
     ]
    },
    {
     "name": "stdout",
     "output_type": "stream",
     "text": [
      "                   all         72         72      0.993          1      0.995      0.986\n"
     ]
    },
    {
     "name": "stderr",
     "output_type": "stream",
     "text": [
      "\n"
     ]
    },
    {
     "name": "stdout",
     "output_type": "stream",
     "text": [
      "\n",
      "      Epoch    GPU_mem   box_loss   cls_loss   dfl_loss  Instances       Size\n"
     ]
    },
    {
     "name": "stderr",
     "output_type": "stream",
     "text": [
      "      25/50         0G     0.2345     0.4159     0.8671         25        640: 100%|██████████| 9/9 [07:03<00:00, 47.04\n",
      "                 Class     Images  Instances      Box(P          R      mAP50  mAP50-95): 100%|██████████| 2/2 [00:22<0"
     ]
    },
    {
     "name": "stdout",
     "output_type": "stream",
     "text": [
      "                   all         72         72      0.996          1      0.995       0.99\n"
     ]
    },
    {
     "name": "stderr",
     "output_type": "stream",
     "text": [
      "\n"
     ]
    },
    {
     "name": "stdout",
     "output_type": "stream",
     "text": [
      "\n",
      "      Epoch    GPU_mem   box_loss   cls_loss   dfl_loss  Instances       Size\n"
     ]
    },
    {
     "name": "stderr",
     "output_type": "stream",
     "text": [
      "      26/50         0G     0.2443      0.423     0.8682         19        640: 100%|██████████| 9/9 [07:30<00:00, 50.02\n",
      "                 Class     Images  Instances      Box(P          R      mAP50  mAP50-95): 100%|██████████| 2/2 [00:20<0"
     ]
    },
    {
     "name": "stdout",
     "output_type": "stream",
     "text": [
      "                   all         72         72      0.996          1      0.995      0.984\n"
     ]
    },
    {
     "name": "stderr",
     "output_type": "stream",
     "text": [
      "\n"
     ]
    },
    {
     "name": "stdout",
     "output_type": "stream",
     "text": [
      "\n",
      "      Epoch    GPU_mem   box_loss   cls_loss   dfl_loss  Instances       Size\n"
     ]
    },
    {
     "name": "stderr",
     "output_type": "stream",
     "text": [
      "      27/50         0G     0.2297     0.3865     0.8676         22        640: 100%|██████████| 9/9 [06:57<00:00, 46.35\n",
      "                 Class     Images  Instances      Box(P          R      mAP50  mAP50-95): 100%|██████████| 2/2 [00:19<0"
     ]
    },
    {
     "name": "stdout",
     "output_type": "stream",
     "text": [
      "                   all         72         72       0.99          1      0.995      0.993\n"
     ]
    },
    {
     "name": "stderr",
     "output_type": "stream",
     "text": [
      "\n"
     ]
    },
    {
     "name": "stdout",
     "output_type": "stream",
     "text": [
      "\n",
      "      Epoch    GPU_mem   box_loss   cls_loss   dfl_loss  Instances       Size\n"
     ]
    },
    {
     "name": "stderr",
     "output_type": "stream",
     "text": [
      "      28/50         0G     0.2271     0.4018     0.8689         18        640: 100%|██████████| 9/9 [07:03<00:00, 47.04\n",
      "                 Class     Images  Instances      Box(P          R      mAP50  mAP50-95): 100%|██████████| 2/2 [00:19<0"
     ]
    },
    {
     "name": "stdout",
     "output_type": "stream",
     "text": [
      "                   all         72         72      0.996          1      0.995      0.988\n"
     ]
    },
    {
     "name": "stderr",
     "output_type": "stream",
     "text": [
      "\n"
     ]
    },
    {
     "name": "stdout",
     "output_type": "stream",
     "text": [
      "\n",
      "      Epoch    GPU_mem   box_loss   cls_loss   dfl_loss  Instances       Size\n"
     ]
    },
    {
     "name": "stderr",
     "output_type": "stream",
     "text": [
      "      29/50         0G     0.2331     0.3795     0.8627         22        640: 100%|██████████| 9/9 [07:17<00:00, 48.61\n",
      "                 Class     Images  Instances      Box(P          R      mAP50  mAP50-95): 100%|██████████| 2/2 [00:20<0"
     ]
    },
    {
     "name": "stdout",
     "output_type": "stream",
     "text": [
      "                   all         72         72      0.995          1      0.995      0.989\n"
     ]
    },
    {
     "name": "stderr",
     "output_type": "stream",
     "text": [
      "\n"
     ]
    },
    {
     "name": "stdout",
     "output_type": "stream",
     "text": [
      "\n",
      "      Epoch    GPU_mem   box_loss   cls_loss   dfl_loss  Instances       Size\n"
     ]
    },
    {
     "name": "stderr",
     "output_type": "stream",
     "text": [
      "      30/50         0G     0.2183     0.3618     0.8523         22        640: 100%|██████████| 9/9 [07:09<00:00, 47.75\n",
      "                 Class     Images  Instances      Box(P          R      mAP50  mAP50-95): 100%|██████████| 2/2 [00:20<0"
     ]
    },
    {
     "name": "stdout",
     "output_type": "stream",
     "text": [
      "                   all         72         72      0.995          1      0.995      0.987\n"
     ]
    },
    {
     "name": "stderr",
     "output_type": "stream",
     "text": [
      "\n"
     ]
    },
    {
     "name": "stdout",
     "output_type": "stream",
     "text": [
      "\n",
      "      Epoch    GPU_mem   box_loss   cls_loss   dfl_loss  Instances       Size\n"
     ]
    },
    {
     "name": "stderr",
     "output_type": "stream",
     "text": [
      "      31/50         0G     0.2118     0.3521     0.8544         20        640: 100%|██████████| 9/9 [07:06<00:00, 47.36\n",
      "                 Class     Images  Instances      Box(P          R      mAP50  mAP50-95): 100%|██████████| 2/2 [00:20<0"
     ]
    },
    {
     "name": "stdout",
     "output_type": "stream",
     "text": [
      "                   all         72         72      0.994          1      0.995      0.991\n"
     ]
    },
    {
     "name": "stderr",
     "output_type": "stream",
     "text": [
      "\n"
     ]
    },
    {
     "name": "stdout",
     "output_type": "stream",
     "text": [
      "\n",
      "      Epoch    GPU_mem   box_loss   cls_loss   dfl_loss  Instances       Size\n"
     ]
    },
    {
     "name": "stderr",
     "output_type": "stream",
     "text": [
      "      32/50         0G     0.2178     0.3619     0.8582         17        640: 100%|██████████| 9/9 [06:59<00:00, 46.62\n",
      "                 Class     Images  Instances      Box(P          R      mAP50  mAP50-95): 100%|██████████| 2/2 [00:20<0"
     ]
    },
    {
     "name": "stdout",
     "output_type": "stream",
     "text": [
      "                   all         72         72      0.996          1      0.995      0.993\n"
     ]
    },
    {
     "name": "stderr",
     "output_type": "stream",
     "text": [
      "\n"
     ]
    },
    {
     "name": "stdout",
     "output_type": "stream",
     "text": [
      "\n",
      "      Epoch    GPU_mem   box_loss   cls_loss   dfl_loss  Instances       Size\n"
     ]
    },
    {
     "name": "stderr",
     "output_type": "stream",
     "text": [
      "      33/50         0G     0.2163     0.3445     0.8501         17        640: 100%|██████████| 9/9 [06:52<00:00, 45.79\n",
      "                 Class     Images  Instances      Box(P          R      mAP50  mAP50-95): 100%|██████████| 2/2 [00:20<0"
     ]
    },
    {
     "name": "stdout",
     "output_type": "stream",
     "text": [
      "                   all         72         72      0.996          1      0.995      0.992\n"
     ]
    },
    {
     "name": "stderr",
     "output_type": "stream",
     "text": [
      "\n"
     ]
    },
    {
     "name": "stdout",
     "output_type": "stream",
     "text": [
      "\n",
      "      Epoch    GPU_mem   box_loss   cls_loss   dfl_loss  Instances       Size\n"
     ]
    },
    {
     "name": "stderr",
     "output_type": "stream",
     "text": [
      "      34/50         0G     0.2206      0.342     0.8619         21        640: 100%|██████████| 9/9 [07:05<00:00, 47.30\n",
      "                 Class     Images  Instances      Box(P          R      mAP50  mAP50-95): 100%|██████████| 2/2 [00:20<0"
     ]
    },
    {
     "name": "stdout",
     "output_type": "stream",
     "text": [
      "                   all         72         72      0.996          1      0.995      0.993\n"
     ]
    },
    {
     "name": "stderr",
     "output_type": "stream",
     "text": [
      "\n"
     ]
    },
    {
     "name": "stdout",
     "output_type": "stream",
     "text": [
      "\n",
      "      Epoch    GPU_mem   box_loss   cls_loss   dfl_loss  Instances       Size\n"
     ]
    },
    {
     "name": "stderr",
     "output_type": "stream",
     "text": [
      "      35/50         0G     0.2091     0.3346     0.8756         26        640: 100%|██████████| 9/9 [07:00<00:00, 46.75\n",
      "                 Class     Images  Instances      Box(P          R      mAP50  mAP50-95): 100%|██████████| 2/2 [00:20<0"
     ]
    },
    {
     "name": "stdout",
     "output_type": "stream",
     "text": [
      "                   all         72         72      0.996          1      0.995      0.994\n"
     ]
    },
    {
     "name": "stderr",
     "output_type": "stream",
     "text": [
      "\n"
     ]
    },
    {
     "name": "stdout",
     "output_type": "stream",
     "text": [
      "\n",
      "      Epoch    GPU_mem   box_loss   cls_loss   dfl_loss  Instances       Size\n"
     ]
    },
    {
     "name": "stderr",
     "output_type": "stream",
     "text": [
      "      36/50         0G      0.207     0.3299     0.8668         21        640: 100%|██████████| 9/9 [06:57<00:00, 46.40\n",
      "                 Class     Images  Instances      Box(P          R      mAP50  mAP50-95): 100%|██████████| 2/2 [00:20<0"
     ]
    },
    {
     "name": "stdout",
     "output_type": "stream",
     "text": [
      "                   all         72         72      0.996          1      0.995      0.988\n"
     ]
    },
    {
     "name": "stderr",
     "output_type": "stream",
     "text": [
      "\n"
     ]
    },
    {
     "name": "stdout",
     "output_type": "stream",
     "text": [
      "\n",
      "      Epoch    GPU_mem   box_loss   cls_loss   dfl_loss  Instances       Size\n"
     ]
    },
    {
     "name": "stderr",
     "output_type": "stream",
     "text": [
      "      37/50         0G      0.211     0.3287      0.859         17        640: 100%|██████████| 9/9 [06:59<00:00, 46.67\n",
      "                 Class     Images  Instances      Box(P          R      mAP50  mAP50-95): 100%|██████████| 2/2 [00:20<0"
     ]
    },
    {
     "name": "stdout",
     "output_type": "stream",
     "text": [
      "                   all         72         72      0.996          1      0.995      0.992\n"
     ]
    },
    {
     "name": "stderr",
     "output_type": "stream",
     "text": [
      "\n"
     ]
    },
    {
     "name": "stdout",
     "output_type": "stream",
     "text": [
      "\n",
      "      Epoch    GPU_mem   box_loss   cls_loss   dfl_loss  Instances       Size\n"
     ]
    },
    {
     "name": "stderr",
     "output_type": "stream",
     "text": [
      "      38/50         0G     0.1999     0.3415     0.8541         18        640: 100%|██████████| 9/9 [07:14<00:00, 48.27\n",
      "                 Class     Images  Instances      Box(P          R      mAP50  mAP50-95): 100%|██████████| 2/2 [00:20<0"
     ]
    },
    {
     "name": "stdout",
     "output_type": "stream",
     "text": [
      "                   all         72         72      0.996          1      0.995      0.993\n"
     ]
    },
    {
     "name": "stderr",
     "output_type": "stream",
     "text": [
      "\n"
     ]
    },
    {
     "name": "stdout",
     "output_type": "stream",
     "text": [
      "\n",
      "      Epoch    GPU_mem   box_loss   cls_loss   dfl_loss  Instances       Size\n"
     ]
    },
    {
     "name": "stderr",
     "output_type": "stream",
     "text": [
      "      39/50         0G     0.2174     0.3143     0.8617         22        640: 100%|██████████| 9/9 [07:03<00:00, 47.08\n",
      "                 Class     Images  Instances      Box(P          R      mAP50  mAP50-95): 100%|██████████| 2/2 [00:19<0"
     ]
    },
    {
     "name": "stdout",
     "output_type": "stream",
     "text": [
      "                   all         72         72      0.996          1      0.995      0.994\n"
     ]
    },
    {
     "name": "stderr",
     "output_type": "stream",
     "text": [
      "\n"
     ]
    },
    {
     "name": "stdout",
     "output_type": "stream",
     "text": [
      "\n",
      "      Epoch    GPU_mem   box_loss   cls_loss   dfl_loss  Instances       Size\n"
     ]
    },
    {
     "name": "stderr",
     "output_type": "stream",
     "text": [
      "      40/50         0G     0.1991     0.3109     0.8542         25        640: 100%|██████████| 9/9 [06:59<00:00, 46.62\n",
      "                 Class     Images  Instances      Box(P          R      mAP50  mAP50-95): 100%|██████████| 2/2 [00:20<0"
     ]
    },
    {
     "name": "stdout",
     "output_type": "stream",
     "text": [
      "                   all         72         72      0.996          1      0.995      0.993\n"
     ]
    },
    {
     "name": "stderr",
     "output_type": "stream",
     "text": [
      "\n"
     ]
    },
    {
     "name": "stdout",
     "output_type": "stream",
     "text": [
      "Closing dataloader mosaic\n",
      "\n",
      "      Epoch    GPU_mem   box_loss   cls_loss   dfl_loss  Instances       Size\n"
     ]
    },
    {
     "name": "stderr",
     "output_type": "stream",
     "text": [
      "      41/50         0G     0.1862     0.4141     0.8201          8        640: 100%|██████████| 9/9 [06:29<00:00, 43.28\n",
      "                 Class     Images  Instances      Box(P          R      mAP50  mAP50-95): 100%|██████████| 2/2 [00:20<0"
     ]
    },
    {
     "name": "stdout",
     "output_type": "stream",
     "text": [
      "                   all         72         72       0.99          1      0.995      0.989\n"
     ]
    },
    {
     "name": "stderr",
     "output_type": "stream",
     "text": [
      "\n"
     ]
    },
    {
     "name": "stdout",
     "output_type": "stream",
     "text": [
      "\n",
      "      Epoch    GPU_mem   box_loss   cls_loss   dfl_loss  Instances       Size\n"
     ]
    },
    {
     "name": "stderr",
     "output_type": "stream",
     "text": [
      "      42/50         0G     0.1795     0.3856     0.8229          8        640: 100%|██████████| 9/9 [06:32<00:00, 43.58\n",
      "                 Class     Images  Instances      Box(P          R      mAP50  mAP50-95): 100%|██████████| 2/2 [00:20<0"
     ]
    },
    {
     "name": "stdout",
     "output_type": "stream",
     "text": [
      "                   all         72         72      0.995          1      0.995      0.994\n"
     ]
    },
    {
     "name": "stderr",
     "output_type": "stream",
     "text": [
      "\n"
     ]
    },
    {
     "name": "stdout",
     "output_type": "stream",
     "text": [
      "\n",
      "      Epoch    GPU_mem   box_loss   cls_loss   dfl_loss  Instances       Size\n"
     ]
    },
    {
     "name": "stderr",
     "output_type": "stream",
     "text": [
      "      43/50         0G     0.1729      0.354     0.8086          8        640: 100%|██████████| 9/9 [06:31<00:00, 43.55\n",
      "                 Class     Images  Instances      Box(P          R      mAP50  mAP50-95): 100%|██████████| 2/2 [00:20<0"
     ]
    },
    {
     "name": "stdout",
     "output_type": "stream",
     "text": [
      "                   all         72         72      0.994          1      0.995      0.993\n"
     ]
    },
    {
     "name": "stderr",
     "output_type": "stream",
     "text": [
      "\n"
     ]
    },
    {
     "name": "stdout",
     "output_type": "stream",
     "text": [
      "\n",
      "      Epoch    GPU_mem   box_loss   cls_loss   dfl_loss  Instances       Size\n"
     ]
    },
    {
     "name": "stderr",
     "output_type": "stream",
     "text": [
      "      44/50         0G     0.1849     0.3555     0.8167          8        640: 100%|██████████| 9/9 [06:35<00:00, 43.98\n",
      "                 Class     Images  Instances      Box(P          R      mAP50  mAP50-95): 100%|██████████| 2/2 [00:20<0"
     ]
    },
    {
     "name": "stdout",
     "output_type": "stream",
     "text": [
      "                   all         72         72      0.993          1      0.995      0.994\n"
     ]
    },
    {
     "name": "stderr",
     "output_type": "stream",
     "text": [
      "\n"
     ]
    },
    {
     "name": "stdout",
     "output_type": "stream",
     "text": [
      "\n",
      "      Epoch    GPU_mem   box_loss   cls_loss   dfl_loss  Instances       Size\n"
     ]
    },
    {
     "name": "stderr",
     "output_type": "stream",
     "text": [
      "      45/50         0G     0.1752     0.3417     0.8039          8        640: 100%|██████████| 9/9 [06:28<00:00, 43.12\n",
      "                 Class     Images  Instances      Box(P          R      mAP50  mAP50-95): 100%|██████████| 2/2 [00:20<0"
     ]
    },
    {
     "name": "stdout",
     "output_type": "stream",
     "text": [
      "                   all         72         72      0.994          1      0.995      0.994\n"
     ]
    },
    {
     "name": "stderr",
     "output_type": "stream",
     "text": [
      "\n"
     ]
    },
    {
     "name": "stdout",
     "output_type": "stream",
     "text": [
      "\n",
      "      Epoch    GPU_mem   box_loss   cls_loss   dfl_loss  Instances       Size\n"
     ]
    },
    {
     "name": "stderr",
     "output_type": "stream",
     "text": [
      "      46/50         0G     0.1695     0.3311     0.8081          8        640: 100%|██████████| 9/9 [06:29<00:00, 43.25\n",
      "                 Class     Images  Instances      Box(P          R      mAP50  mAP50-95): 100%|██████████| 2/2 [00:20<0"
     ]
    },
    {
     "name": "stdout",
     "output_type": "stream",
     "text": [
      "                   all         72         72      0.995          1      0.995      0.995\n"
     ]
    },
    {
     "name": "stderr",
     "output_type": "stream",
     "text": [
      "\n"
     ]
    },
    {
     "name": "stdout",
     "output_type": "stream",
     "text": [
      "\n",
      "      Epoch    GPU_mem   box_loss   cls_loss   dfl_loss  Instances       Size\n"
     ]
    },
    {
     "name": "stderr",
     "output_type": "stream",
     "text": [
      "      47/50         0G     0.1672     0.3208     0.7991          8        640: 100%|██████████| 9/9 [06:32<00:00, 43.58\n",
      "                 Class     Images  Instances      Box(P          R      mAP50  mAP50-95): 100%|██████████| 2/2 [00:19<0"
     ]
    },
    {
     "name": "stdout",
     "output_type": "stream",
     "text": [
      "                   all         72         72      0.996          1      0.995      0.994\n"
     ]
    },
    {
     "name": "stderr",
     "output_type": "stream",
     "text": [
      "\n"
     ]
    },
    {
     "name": "stdout",
     "output_type": "stream",
     "text": [
      "\n",
      "      Epoch    GPU_mem   box_loss   cls_loss   dfl_loss  Instances       Size\n"
     ]
    },
    {
     "name": "stderr",
     "output_type": "stream",
     "text": [
      "      48/50         0G      0.164     0.3344     0.7997          8        640: 100%|██████████| 9/9 [06:23<00:00, 42.63\n",
      "                 Class     Images  Instances      Box(P          R      mAP50  mAP50-95): 100%|██████████| 2/2 [00:19<0"
     ]
    },
    {
     "name": "stdout",
     "output_type": "stream",
     "text": [
      "                   all         72         72      0.996          1      0.995       0.99\n"
     ]
    },
    {
     "name": "stderr",
     "output_type": "stream",
     "text": [
      "\n"
     ]
    },
    {
     "name": "stdout",
     "output_type": "stream",
     "text": [
      "\n",
      "      Epoch    GPU_mem   box_loss   cls_loss   dfl_loss  Instances       Size\n"
     ]
    },
    {
     "name": "stderr",
     "output_type": "stream",
     "text": [
      "      49/50         0G     0.1539     0.2991     0.8006          8        640: 100%|██████████| 9/9 [06:31<00:00, 43.53\n",
      "                 Class     Images  Instances      Box(P          R      mAP50  mAP50-95): 100%|██████████| 2/2 [00:19<0"
     ]
    },
    {
     "name": "stdout",
     "output_type": "stream",
     "text": [
      "                   all         72         72      0.995          1      0.995      0.994\n"
     ]
    },
    {
     "name": "stderr",
     "output_type": "stream",
     "text": [
      "\n"
     ]
    },
    {
     "name": "stdout",
     "output_type": "stream",
     "text": [
      "\n",
      "      Epoch    GPU_mem   box_loss   cls_loss   dfl_loss  Instances       Size\n"
     ]
    },
    {
     "name": "stderr",
     "output_type": "stream",
     "text": [
      "      50/50         0G     0.1612      0.299     0.8011          8        640: 100%|██████████| 9/9 [06:31<00:00, 43.54\n",
      "                 Class     Images  Instances      Box(P          R      mAP50  mAP50-95): 100%|██████████| 2/2 [00:19<0"
     ]
    },
    {
     "name": "stdout",
     "output_type": "stream",
     "text": [
      "                   all         72         72      0.995          1      0.995      0.994\n"
     ]
    },
    {
     "name": "stderr",
     "output_type": "stream",
     "text": [
      "\n"
     ]
    },
    {
     "name": "stdout",
     "output_type": "stream",
     "text": [
      "\n",
      "50 epochs completed in 6.180 hours.\n",
      "Optimizer stripped from runs\\detect\\train\\weights\\last.pt, 6.2MB\n",
      "Optimizer stripped from runs\\detect\\train\\weights\\best.pt, 6.2MB\n",
      "\n",
      "Validating runs\\detect\\train\\weights\\best.pt...\n",
      "Ultralytics YOLOv8.1.34 🚀 Python-3.10.14 torch-2.3.1+cpu CPU (Intel Core(TM) i5-6300U 2.40GHz)\n",
      "Model summary (fused): 168 layers, 3006428 parameters, 0 gradients, 8.1 GFLOPs\n"
     ]
    },
    {
     "name": "stderr",
     "output_type": "stream",
     "text": [
      "                 Class     Images  Instances      Box(P          R      mAP50  mAP50-95): 100%|██████████| 2/2 [00:17<0\n"
     ]
    },
    {
     "name": "stdout",
     "output_type": "stream",
     "text": [
      "                   all         72         72      0.995          1      0.995      0.995\n",
      "        BATTERYNOLABEL         72          9       0.99          1      0.995      0.995\n",
      "        BATTERYOKLABEL         72         24      0.997          1      0.995      0.995\n",
      "         BATTERYREJECT         72         21      0.998          1      0.995      0.995\n",
      "         BATTERYREJECT         72         18      0.995          1      0.995      0.995\n",
      "Speed: 5.4ms preprocess, 221.7ms inference, 0.0ms loss, 2.1ms postprocess per image\n",
      "Results saved to \u001b[1mruns\\detect\\train\u001b[0m\n"
     ]
    },
    {
     "data": {
      "text/plain": [
       "ultralytics.utils.metrics.DetMetrics object with attributes:\n",
       "\n",
       "ap_class_index: array([0, 1, 2, 3])\n",
       "box: ultralytics.utils.metrics.Metric object\n",
       "confusion_matrix: <ultralytics.utils.metrics.ConfusionMatrix object at 0x000002858E3CAA70>\n",
       "curves: ['Precision-Recall(B)', 'F1-Confidence(B)', 'Precision-Confidence(B)', 'Recall-Confidence(B)']\n",
       "curves_results: [[array([          0,    0.001001,    0.002002,    0.003003,    0.004004,    0.005005,    0.006006,    0.007007,    0.008008,    0.009009,     0.01001,    0.011011,    0.012012,    0.013013,    0.014014,    0.015015,    0.016016,    0.017017,    0.018018,    0.019019,     0.02002,    0.021021,    0.022022,    0.023023,\n",
       "          0.024024,    0.025025,    0.026026,    0.027027,    0.028028,    0.029029,     0.03003,    0.031031,    0.032032,    0.033033,    0.034034,    0.035035,    0.036036,    0.037037,    0.038038,    0.039039,     0.04004,    0.041041,    0.042042,    0.043043,    0.044044,    0.045045,    0.046046,    0.047047,\n",
       "          0.048048,    0.049049,     0.05005,    0.051051,    0.052052,    0.053053,    0.054054,    0.055055,    0.056056,    0.057057,    0.058058,    0.059059,     0.06006,    0.061061,    0.062062,    0.063063,    0.064064,    0.065065,    0.066066,    0.067067,    0.068068,    0.069069,     0.07007,    0.071071,\n",
       "          0.072072,    0.073073,    0.074074,    0.075075,    0.076076,    0.077077,    0.078078,    0.079079,     0.08008,    0.081081,    0.082082,    0.083083,    0.084084,    0.085085,    0.086086,    0.087087,    0.088088,    0.089089,     0.09009,    0.091091,    0.092092,    0.093093,    0.094094,    0.095095,\n",
       "          0.096096,    0.097097,    0.098098,    0.099099,      0.1001,      0.1011,      0.1021,      0.1031,      0.1041,     0.10511,     0.10611,     0.10711,     0.10811,     0.10911,     0.11011,     0.11111,     0.11211,     0.11311,     0.11411,     0.11512,     0.11612,     0.11712,     0.11812,     0.11912,\n",
       "           0.12012,     0.12112,     0.12212,     0.12312,     0.12412,     0.12513,     0.12613,     0.12713,     0.12813,     0.12913,     0.13013,     0.13113,     0.13213,     0.13313,     0.13413,     0.13514,     0.13614,     0.13714,     0.13814,     0.13914,     0.14014,     0.14114,     0.14214,     0.14314,\n",
       "           0.14414,     0.14515,     0.14615,     0.14715,     0.14815,     0.14915,     0.15015,     0.15115,     0.15215,     0.15315,     0.15415,     0.15516,     0.15616,     0.15716,     0.15816,     0.15916,     0.16016,     0.16116,     0.16216,     0.16316,     0.16416,     0.16517,     0.16617,     0.16717,\n",
       "           0.16817,     0.16917,     0.17017,     0.17117,     0.17217,     0.17317,     0.17417,     0.17518,     0.17618,     0.17718,     0.17818,     0.17918,     0.18018,     0.18118,     0.18218,     0.18318,     0.18418,     0.18519,     0.18619,     0.18719,     0.18819,     0.18919,     0.19019,     0.19119,\n",
       "           0.19219,     0.19319,     0.19419,      0.1952,      0.1962,      0.1972,      0.1982,      0.1992,      0.2002,      0.2012,      0.2022,      0.2032,      0.2042,     0.20521,     0.20621,     0.20721,     0.20821,     0.20921,     0.21021,     0.21121,     0.21221,     0.21321,     0.21421,     0.21522,\n",
       "           0.21622,     0.21722,     0.21822,     0.21922,     0.22022,     0.22122,     0.22222,     0.22322,     0.22422,     0.22523,     0.22623,     0.22723,     0.22823,     0.22923,     0.23023,     0.23123,     0.23223,     0.23323,     0.23423,     0.23524,     0.23624,     0.23724,     0.23824,     0.23924,\n",
       "           0.24024,     0.24124,     0.24224,     0.24324,     0.24424,     0.24525,     0.24625,     0.24725,     0.24825,     0.24925,     0.25025,     0.25125,     0.25225,     0.25325,     0.25425,     0.25526,     0.25626,     0.25726,     0.25826,     0.25926,     0.26026,     0.26126,     0.26226,     0.26326,\n",
       "           0.26426,     0.26527,     0.26627,     0.26727,     0.26827,     0.26927,     0.27027,     0.27127,     0.27227,     0.27327,     0.27427,     0.27528,     0.27628,     0.27728,     0.27828,     0.27928,     0.28028,     0.28128,     0.28228,     0.28328,     0.28428,     0.28529,     0.28629,     0.28729,\n",
       "           0.28829,     0.28929,     0.29029,     0.29129,     0.29229,     0.29329,     0.29429,      0.2953,      0.2963,      0.2973,      0.2983,      0.2993,      0.3003,      0.3013,      0.3023,      0.3033,      0.3043,     0.30531,     0.30631,     0.30731,     0.30831,     0.30931,     0.31031,     0.31131,\n",
       "           0.31231,     0.31331,     0.31431,     0.31532,     0.31632,     0.31732,     0.31832,     0.31932,     0.32032,     0.32132,     0.32232,     0.32332,     0.32432,     0.32533,     0.32633,     0.32733,     0.32833,     0.32933,     0.33033,     0.33133,     0.33233,     0.33333,     0.33433,     0.33534,\n",
       "           0.33634,     0.33734,     0.33834,     0.33934,     0.34034,     0.34134,     0.34234,     0.34334,     0.34434,     0.34535,     0.34635,     0.34735,     0.34835,     0.34935,     0.35035,     0.35135,     0.35235,     0.35335,     0.35435,     0.35536,     0.35636,     0.35736,     0.35836,     0.35936,\n",
       "           0.36036,     0.36136,     0.36236,     0.36336,     0.36436,     0.36537,     0.36637,     0.36737,     0.36837,     0.36937,     0.37037,     0.37137,     0.37237,     0.37337,     0.37437,     0.37538,     0.37638,     0.37738,     0.37838,     0.37938,     0.38038,     0.38138,     0.38238,     0.38338,\n",
       "           0.38438,     0.38539,     0.38639,     0.38739,     0.38839,     0.38939,     0.39039,     0.39139,     0.39239,     0.39339,     0.39439,      0.3954,      0.3964,      0.3974,      0.3984,      0.3994,      0.4004,      0.4014,      0.4024,      0.4034,      0.4044,     0.40541,     0.40641,     0.40741,\n",
       "           0.40841,     0.40941,     0.41041,     0.41141,     0.41241,     0.41341,     0.41441,     0.41542,     0.41642,     0.41742,     0.41842,     0.41942,     0.42042,     0.42142,     0.42242,     0.42342,     0.42442,     0.42543,     0.42643,     0.42743,     0.42843,     0.42943,     0.43043,     0.43143,\n",
       "           0.43243,     0.43343,     0.43443,     0.43544,     0.43644,     0.43744,     0.43844,     0.43944,     0.44044,     0.44144,     0.44244,     0.44344,     0.44444,     0.44545,     0.44645,     0.44745,     0.44845,     0.44945,     0.45045,     0.45145,     0.45245,     0.45345,     0.45445,     0.45546,\n",
       "           0.45646,     0.45746,     0.45846,     0.45946,     0.46046,     0.46146,     0.46246,     0.46346,     0.46446,     0.46547,     0.46647,     0.46747,     0.46847,     0.46947,     0.47047,     0.47147,     0.47247,     0.47347,     0.47447,     0.47548,     0.47648,     0.47748,     0.47848,     0.47948,\n",
       "           0.48048,     0.48148,     0.48248,     0.48348,     0.48448,     0.48549,     0.48649,     0.48749,     0.48849,     0.48949,     0.49049,     0.49149,     0.49249,     0.49349,     0.49449,      0.4955,      0.4965,      0.4975,      0.4985,      0.4995,      0.5005,      0.5015,      0.5025,      0.5035,\n",
       "            0.5045,     0.50551,     0.50651,     0.50751,     0.50851,     0.50951,     0.51051,     0.51151,     0.51251,     0.51351,     0.51451,     0.51552,     0.51652,     0.51752,     0.51852,     0.51952,     0.52052,     0.52152,     0.52252,     0.52352,     0.52452,     0.52553,     0.52653,     0.52753,\n",
       "           0.52853,     0.52953,     0.53053,     0.53153,     0.53253,     0.53353,     0.53453,     0.53554,     0.53654,     0.53754,     0.53854,     0.53954,     0.54054,     0.54154,     0.54254,     0.54354,     0.54454,     0.54555,     0.54655,     0.54755,     0.54855,     0.54955,     0.55055,     0.55155,\n",
       "           0.55255,     0.55355,     0.55455,     0.55556,     0.55656,     0.55756,     0.55856,     0.55956,     0.56056,     0.56156,     0.56256,     0.56356,     0.56456,     0.56557,     0.56657,     0.56757,     0.56857,     0.56957,     0.57057,     0.57157,     0.57257,     0.57357,     0.57457,     0.57558,\n",
       "           0.57658,     0.57758,     0.57858,     0.57958,     0.58058,     0.58158,     0.58258,     0.58358,     0.58458,     0.58559,     0.58659,     0.58759,     0.58859,     0.58959,     0.59059,     0.59159,     0.59259,     0.59359,     0.59459,      0.5956,      0.5966,      0.5976,      0.5986,      0.5996,\n",
       "            0.6006,      0.6016,      0.6026,      0.6036,      0.6046,     0.60561,     0.60661,     0.60761,     0.60861,     0.60961,     0.61061,     0.61161,     0.61261,     0.61361,     0.61461,     0.61562,     0.61662,     0.61762,     0.61862,     0.61962,     0.62062,     0.62162,     0.62262,     0.62362,\n",
       "           0.62462,     0.62563,     0.62663,     0.62763,     0.62863,     0.62963,     0.63063,     0.63163,     0.63263,     0.63363,     0.63463,     0.63564,     0.63664,     0.63764,     0.63864,     0.63964,     0.64064,     0.64164,     0.64264,     0.64364,     0.64464,     0.64565,     0.64665,     0.64765,\n",
       "           0.64865,     0.64965,     0.65065,     0.65165,     0.65265,     0.65365,     0.65465,     0.65566,     0.65666,     0.65766,     0.65866,     0.65966,     0.66066,     0.66166,     0.66266,     0.66366,     0.66466,     0.66567,     0.66667,     0.66767,     0.66867,     0.66967,     0.67067,     0.67167,\n",
       "           0.67267,     0.67367,     0.67467,     0.67568,     0.67668,     0.67768,     0.67868,     0.67968,     0.68068,     0.68168,     0.68268,     0.68368,     0.68468,     0.68569,     0.68669,     0.68769,     0.68869,     0.68969,     0.69069,     0.69169,     0.69269,     0.69369,     0.69469,      0.6957,\n",
       "            0.6967,      0.6977,      0.6987,      0.6997,      0.7007,      0.7017,      0.7027,      0.7037,      0.7047,     0.70571,     0.70671,     0.70771,     0.70871,     0.70971,     0.71071,     0.71171,     0.71271,     0.71371,     0.71471,     0.71572,     0.71672,     0.71772,     0.71872,     0.71972,\n",
       "           0.72072,     0.72172,     0.72272,     0.72372,     0.72472,     0.72573,     0.72673,     0.72773,     0.72873,     0.72973,     0.73073,     0.73173,     0.73273,     0.73373,     0.73473,     0.73574,     0.73674,     0.73774,     0.73874,     0.73974,     0.74074,     0.74174,     0.74274,     0.74374,\n",
       "           0.74474,     0.74575,     0.74675,     0.74775,     0.74875,     0.74975,     0.75075,     0.75175,     0.75275,     0.75375,     0.75475,     0.75576,     0.75676,     0.75776,     0.75876,     0.75976,     0.76076,     0.76176,     0.76276,     0.76376,     0.76476,     0.76577,     0.76677,     0.76777,\n",
       "           0.76877,     0.76977,     0.77077,     0.77177,     0.77277,     0.77377,     0.77477,     0.77578,     0.77678,     0.77778,     0.77878,     0.77978,     0.78078,     0.78178,     0.78278,     0.78378,     0.78478,     0.78579,     0.78679,     0.78779,     0.78879,     0.78979,     0.79079,     0.79179,\n",
       "           0.79279,     0.79379,     0.79479,      0.7958,      0.7968,      0.7978,      0.7988,      0.7998,      0.8008,      0.8018,      0.8028,      0.8038,      0.8048,     0.80581,     0.80681,     0.80781,     0.80881,     0.80981,     0.81081,     0.81181,     0.81281,     0.81381,     0.81481,     0.81582,\n",
       "           0.81682,     0.81782,     0.81882,     0.81982,     0.82082,     0.82182,     0.82282,     0.82382,     0.82482,     0.82583,     0.82683,     0.82783,     0.82883,     0.82983,     0.83083,     0.83183,     0.83283,     0.83383,     0.83483,     0.83584,     0.83684,     0.83784,     0.83884,     0.83984,\n",
       "           0.84084,     0.84184,     0.84284,     0.84384,     0.84484,     0.84585,     0.84685,     0.84785,     0.84885,     0.84985,     0.85085,     0.85185,     0.85285,     0.85385,     0.85485,     0.85586,     0.85686,     0.85786,     0.85886,     0.85986,     0.86086,     0.86186,     0.86286,     0.86386,\n",
       "           0.86486,     0.86587,     0.86687,     0.86787,     0.86887,     0.86987,     0.87087,     0.87187,     0.87287,     0.87387,     0.87487,     0.87588,     0.87688,     0.87788,     0.87888,     0.87988,     0.88088,     0.88188,     0.88288,     0.88388,     0.88488,     0.88589,     0.88689,     0.88789,\n",
       "           0.88889,     0.88989,     0.89089,     0.89189,     0.89289,     0.89389,     0.89489,      0.8959,      0.8969,      0.8979,      0.8989,      0.8999,      0.9009,      0.9019,      0.9029,      0.9039,      0.9049,     0.90591,     0.90691,     0.90791,     0.90891,     0.90991,     0.91091,     0.91191,\n",
       "           0.91291,     0.91391,     0.91491,     0.91592,     0.91692,     0.91792,     0.91892,     0.91992,     0.92092,     0.92192,     0.92292,     0.92392,     0.92492,     0.92593,     0.92693,     0.92793,     0.92893,     0.92993,     0.93093,     0.93193,     0.93293,     0.93393,     0.93493,     0.93594,\n",
       "           0.93694,     0.93794,     0.93894,     0.93994,     0.94094,     0.94194,     0.94294,     0.94394,     0.94494,     0.94595,     0.94695,     0.94795,     0.94895,     0.94995,     0.95095,     0.95195,     0.95295,     0.95395,     0.95495,     0.95596,     0.95696,     0.95796,     0.95896,     0.95996,\n",
       "           0.96096,     0.96196,     0.96296,     0.96396,     0.96496,     0.96597,     0.96697,     0.96797,     0.96897,     0.96997,     0.97097,     0.97197,     0.97297,     0.97397,     0.97497,     0.97598,     0.97698,     0.97798,     0.97898,     0.97998,     0.98098,     0.98198,     0.98298,     0.98398,\n",
       "           0.98498,     0.98599,     0.98699,     0.98799,     0.98899,     0.98999,     0.99099,     0.99199,     0.99299,     0.99399,     0.99499,       0.996,       0.997,       0.998,       0.999,           1]), array([[          1,           1,           1, ...,           1,           1,           0],\n",
       "       [          1,           1,           1, ...,           1,           1,           0],\n",
       "       [          1,           1,           1, ...,           1,           1,           0],\n",
       "       [          1,           1,           1, ...,           1,           1,           0]]), 'Recall', 'Precision'], [array([          0,    0.001001,    0.002002,    0.003003,    0.004004,    0.005005,    0.006006,    0.007007,    0.008008,    0.009009,     0.01001,    0.011011,    0.012012,    0.013013,    0.014014,    0.015015,    0.016016,    0.017017,    0.018018,    0.019019,     0.02002,    0.021021,    0.022022,    0.023023,\n",
       "          0.024024,    0.025025,    0.026026,    0.027027,    0.028028,    0.029029,     0.03003,    0.031031,    0.032032,    0.033033,    0.034034,    0.035035,    0.036036,    0.037037,    0.038038,    0.039039,     0.04004,    0.041041,    0.042042,    0.043043,    0.044044,    0.045045,    0.046046,    0.047047,\n",
       "          0.048048,    0.049049,     0.05005,    0.051051,    0.052052,    0.053053,    0.054054,    0.055055,    0.056056,    0.057057,    0.058058,    0.059059,     0.06006,    0.061061,    0.062062,    0.063063,    0.064064,    0.065065,    0.066066,    0.067067,    0.068068,    0.069069,     0.07007,    0.071071,\n",
       "          0.072072,    0.073073,    0.074074,    0.075075,    0.076076,    0.077077,    0.078078,    0.079079,     0.08008,    0.081081,    0.082082,    0.083083,    0.084084,    0.085085,    0.086086,    0.087087,    0.088088,    0.089089,     0.09009,    0.091091,    0.092092,    0.093093,    0.094094,    0.095095,\n",
       "          0.096096,    0.097097,    0.098098,    0.099099,      0.1001,      0.1011,      0.1021,      0.1031,      0.1041,     0.10511,     0.10611,     0.10711,     0.10811,     0.10911,     0.11011,     0.11111,     0.11211,     0.11311,     0.11411,     0.11512,     0.11612,     0.11712,     0.11812,     0.11912,\n",
       "           0.12012,     0.12112,     0.12212,     0.12312,     0.12412,     0.12513,     0.12613,     0.12713,     0.12813,     0.12913,     0.13013,     0.13113,     0.13213,     0.13313,     0.13413,     0.13514,     0.13614,     0.13714,     0.13814,     0.13914,     0.14014,     0.14114,     0.14214,     0.14314,\n",
       "           0.14414,     0.14515,     0.14615,     0.14715,     0.14815,     0.14915,     0.15015,     0.15115,     0.15215,     0.15315,     0.15415,     0.15516,     0.15616,     0.15716,     0.15816,     0.15916,     0.16016,     0.16116,     0.16216,     0.16316,     0.16416,     0.16517,     0.16617,     0.16717,\n",
       "           0.16817,     0.16917,     0.17017,     0.17117,     0.17217,     0.17317,     0.17417,     0.17518,     0.17618,     0.17718,     0.17818,     0.17918,     0.18018,     0.18118,     0.18218,     0.18318,     0.18418,     0.18519,     0.18619,     0.18719,     0.18819,     0.18919,     0.19019,     0.19119,\n",
       "           0.19219,     0.19319,     0.19419,      0.1952,      0.1962,      0.1972,      0.1982,      0.1992,      0.2002,      0.2012,      0.2022,      0.2032,      0.2042,     0.20521,     0.20621,     0.20721,     0.20821,     0.20921,     0.21021,     0.21121,     0.21221,     0.21321,     0.21421,     0.21522,\n",
       "           0.21622,     0.21722,     0.21822,     0.21922,     0.22022,     0.22122,     0.22222,     0.22322,     0.22422,     0.22523,     0.22623,     0.22723,     0.22823,     0.22923,     0.23023,     0.23123,     0.23223,     0.23323,     0.23423,     0.23524,     0.23624,     0.23724,     0.23824,     0.23924,\n",
       "           0.24024,     0.24124,     0.24224,     0.24324,     0.24424,     0.24525,     0.24625,     0.24725,     0.24825,     0.24925,     0.25025,     0.25125,     0.25225,     0.25325,     0.25425,     0.25526,     0.25626,     0.25726,     0.25826,     0.25926,     0.26026,     0.26126,     0.26226,     0.26326,\n",
       "           0.26426,     0.26527,     0.26627,     0.26727,     0.26827,     0.26927,     0.27027,     0.27127,     0.27227,     0.27327,     0.27427,     0.27528,     0.27628,     0.27728,     0.27828,     0.27928,     0.28028,     0.28128,     0.28228,     0.28328,     0.28428,     0.28529,     0.28629,     0.28729,\n",
       "           0.28829,     0.28929,     0.29029,     0.29129,     0.29229,     0.29329,     0.29429,      0.2953,      0.2963,      0.2973,      0.2983,      0.2993,      0.3003,      0.3013,      0.3023,      0.3033,      0.3043,     0.30531,     0.30631,     0.30731,     0.30831,     0.30931,     0.31031,     0.31131,\n",
       "           0.31231,     0.31331,     0.31431,     0.31532,     0.31632,     0.31732,     0.31832,     0.31932,     0.32032,     0.32132,     0.32232,     0.32332,     0.32432,     0.32533,     0.32633,     0.32733,     0.32833,     0.32933,     0.33033,     0.33133,     0.33233,     0.33333,     0.33433,     0.33534,\n",
       "           0.33634,     0.33734,     0.33834,     0.33934,     0.34034,     0.34134,     0.34234,     0.34334,     0.34434,     0.34535,     0.34635,     0.34735,     0.34835,     0.34935,     0.35035,     0.35135,     0.35235,     0.35335,     0.35435,     0.35536,     0.35636,     0.35736,     0.35836,     0.35936,\n",
       "           0.36036,     0.36136,     0.36236,     0.36336,     0.36436,     0.36537,     0.36637,     0.36737,     0.36837,     0.36937,     0.37037,     0.37137,     0.37237,     0.37337,     0.37437,     0.37538,     0.37638,     0.37738,     0.37838,     0.37938,     0.38038,     0.38138,     0.38238,     0.38338,\n",
       "           0.38438,     0.38539,     0.38639,     0.38739,     0.38839,     0.38939,     0.39039,     0.39139,     0.39239,     0.39339,     0.39439,      0.3954,      0.3964,      0.3974,      0.3984,      0.3994,      0.4004,      0.4014,      0.4024,      0.4034,      0.4044,     0.40541,     0.40641,     0.40741,\n",
       "           0.40841,     0.40941,     0.41041,     0.41141,     0.41241,     0.41341,     0.41441,     0.41542,     0.41642,     0.41742,     0.41842,     0.41942,     0.42042,     0.42142,     0.42242,     0.42342,     0.42442,     0.42543,     0.42643,     0.42743,     0.42843,     0.42943,     0.43043,     0.43143,\n",
       "           0.43243,     0.43343,     0.43443,     0.43544,     0.43644,     0.43744,     0.43844,     0.43944,     0.44044,     0.44144,     0.44244,     0.44344,     0.44444,     0.44545,     0.44645,     0.44745,     0.44845,     0.44945,     0.45045,     0.45145,     0.45245,     0.45345,     0.45445,     0.45546,\n",
       "           0.45646,     0.45746,     0.45846,     0.45946,     0.46046,     0.46146,     0.46246,     0.46346,     0.46446,     0.46547,     0.46647,     0.46747,     0.46847,     0.46947,     0.47047,     0.47147,     0.47247,     0.47347,     0.47447,     0.47548,     0.47648,     0.47748,     0.47848,     0.47948,\n",
       "           0.48048,     0.48148,     0.48248,     0.48348,     0.48448,     0.48549,     0.48649,     0.48749,     0.48849,     0.48949,     0.49049,     0.49149,     0.49249,     0.49349,     0.49449,      0.4955,      0.4965,      0.4975,      0.4985,      0.4995,      0.5005,      0.5015,      0.5025,      0.5035,\n",
       "            0.5045,     0.50551,     0.50651,     0.50751,     0.50851,     0.50951,     0.51051,     0.51151,     0.51251,     0.51351,     0.51451,     0.51552,     0.51652,     0.51752,     0.51852,     0.51952,     0.52052,     0.52152,     0.52252,     0.52352,     0.52452,     0.52553,     0.52653,     0.52753,\n",
       "           0.52853,     0.52953,     0.53053,     0.53153,     0.53253,     0.53353,     0.53453,     0.53554,     0.53654,     0.53754,     0.53854,     0.53954,     0.54054,     0.54154,     0.54254,     0.54354,     0.54454,     0.54555,     0.54655,     0.54755,     0.54855,     0.54955,     0.55055,     0.55155,\n",
       "           0.55255,     0.55355,     0.55455,     0.55556,     0.55656,     0.55756,     0.55856,     0.55956,     0.56056,     0.56156,     0.56256,     0.56356,     0.56456,     0.56557,     0.56657,     0.56757,     0.56857,     0.56957,     0.57057,     0.57157,     0.57257,     0.57357,     0.57457,     0.57558,\n",
       "           0.57658,     0.57758,     0.57858,     0.57958,     0.58058,     0.58158,     0.58258,     0.58358,     0.58458,     0.58559,     0.58659,     0.58759,     0.58859,     0.58959,     0.59059,     0.59159,     0.59259,     0.59359,     0.59459,      0.5956,      0.5966,      0.5976,      0.5986,      0.5996,\n",
       "            0.6006,      0.6016,      0.6026,      0.6036,      0.6046,     0.60561,     0.60661,     0.60761,     0.60861,     0.60961,     0.61061,     0.61161,     0.61261,     0.61361,     0.61461,     0.61562,     0.61662,     0.61762,     0.61862,     0.61962,     0.62062,     0.62162,     0.62262,     0.62362,\n",
       "           0.62462,     0.62563,     0.62663,     0.62763,     0.62863,     0.62963,     0.63063,     0.63163,     0.63263,     0.63363,     0.63463,     0.63564,     0.63664,     0.63764,     0.63864,     0.63964,     0.64064,     0.64164,     0.64264,     0.64364,     0.64464,     0.64565,     0.64665,     0.64765,\n",
       "           0.64865,     0.64965,     0.65065,     0.65165,     0.65265,     0.65365,     0.65465,     0.65566,     0.65666,     0.65766,     0.65866,     0.65966,     0.66066,     0.66166,     0.66266,     0.66366,     0.66466,     0.66567,     0.66667,     0.66767,     0.66867,     0.66967,     0.67067,     0.67167,\n",
       "           0.67267,     0.67367,     0.67467,     0.67568,     0.67668,     0.67768,     0.67868,     0.67968,     0.68068,     0.68168,     0.68268,     0.68368,     0.68468,     0.68569,     0.68669,     0.68769,     0.68869,     0.68969,     0.69069,     0.69169,     0.69269,     0.69369,     0.69469,      0.6957,\n",
       "            0.6967,      0.6977,      0.6987,      0.6997,      0.7007,      0.7017,      0.7027,      0.7037,      0.7047,     0.70571,     0.70671,     0.70771,     0.70871,     0.70971,     0.71071,     0.71171,     0.71271,     0.71371,     0.71471,     0.71572,     0.71672,     0.71772,     0.71872,     0.71972,\n",
       "           0.72072,     0.72172,     0.72272,     0.72372,     0.72472,     0.72573,     0.72673,     0.72773,     0.72873,     0.72973,     0.73073,     0.73173,     0.73273,     0.73373,     0.73473,     0.73574,     0.73674,     0.73774,     0.73874,     0.73974,     0.74074,     0.74174,     0.74274,     0.74374,\n",
       "           0.74474,     0.74575,     0.74675,     0.74775,     0.74875,     0.74975,     0.75075,     0.75175,     0.75275,     0.75375,     0.75475,     0.75576,     0.75676,     0.75776,     0.75876,     0.75976,     0.76076,     0.76176,     0.76276,     0.76376,     0.76476,     0.76577,     0.76677,     0.76777,\n",
       "           0.76877,     0.76977,     0.77077,     0.77177,     0.77277,     0.77377,     0.77477,     0.77578,     0.77678,     0.77778,     0.77878,     0.77978,     0.78078,     0.78178,     0.78278,     0.78378,     0.78478,     0.78579,     0.78679,     0.78779,     0.78879,     0.78979,     0.79079,     0.79179,\n",
       "           0.79279,     0.79379,     0.79479,      0.7958,      0.7968,      0.7978,      0.7988,      0.7998,      0.8008,      0.8018,      0.8028,      0.8038,      0.8048,     0.80581,     0.80681,     0.80781,     0.80881,     0.80981,     0.81081,     0.81181,     0.81281,     0.81381,     0.81481,     0.81582,\n",
       "           0.81682,     0.81782,     0.81882,     0.81982,     0.82082,     0.82182,     0.82282,     0.82382,     0.82482,     0.82583,     0.82683,     0.82783,     0.82883,     0.82983,     0.83083,     0.83183,     0.83283,     0.83383,     0.83483,     0.83584,     0.83684,     0.83784,     0.83884,     0.83984,\n",
       "           0.84084,     0.84184,     0.84284,     0.84384,     0.84484,     0.84585,     0.84685,     0.84785,     0.84885,     0.84985,     0.85085,     0.85185,     0.85285,     0.85385,     0.85485,     0.85586,     0.85686,     0.85786,     0.85886,     0.85986,     0.86086,     0.86186,     0.86286,     0.86386,\n",
       "           0.86486,     0.86587,     0.86687,     0.86787,     0.86887,     0.86987,     0.87087,     0.87187,     0.87287,     0.87387,     0.87487,     0.87588,     0.87688,     0.87788,     0.87888,     0.87988,     0.88088,     0.88188,     0.88288,     0.88388,     0.88488,     0.88589,     0.88689,     0.88789,\n",
       "           0.88889,     0.88989,     0.89089,     0.89189,     0.89289,     0.89389,     0.89489,      0.8959,      0.8969,      0.8979,      0.8989,      0.8999,      0.9009,      0.9019,      0.9029,      0.9039,      0.9049,     0.90591,     0.90691,     0.90791,     0.90891,     0.90991,     0.91091,     0.91191,\n",
       "           0.91291,     0.91391,     0.91491,     0.91592,     0.91692,     0.91792,     0.91892,     0.91992,     0.92092,     0.92192,     0.92292,     0.92392,     0.92492,     0.92593,     0.92693,     0.92793,     0.92893,     0.92993,     0.93093,     0.93193,     0.93293,     0.93393,     0.93493,     0.93594,\n",
       "           0.93694,     0.93794,     0.93894,     0.93994,     0.94094,     0.94194,     0.94294,     0.94394,     0.94494,     0.94595,     0.94695,     0.94795,     0.94895,     0.94995,     0.95095,     0.95195,     0.95295,     0.95395,     0.95495,     0.95596,     0.95696,     0.95796,     0.95896,     0.95996,\n",
       "           0.96096,     0.96196,     0.96296,     0.96396,     0.96496,     0.96597,     0.96697,     0.96797,     0.96897,     0.96997,     0.97097,     0.97197,     0.97297,     0.97397,     0.97497,     0.97598,     0.97698,     0.97798,     0.97898,     0.97998,     0.98098,     0.98198,     0.98298,     0.98398,\n",
       "           0.98498,     0.98599,     0.98699,     0.98799,     0.98899,     0.98999,     0.99099,     0.99199,     0.99299,     0.99399,     0.99499,       0.996,       0.997,       0.998,       0.999,           1]), array([[  0.0081522,   0.0081775,     0.21097, ...,           0,           0,           0],\n",
       "       [    0.03928,    0.039458,     0.55552, ...,           0,           0,           0],\n",
       "       [  0.0088832,   0.0089122,     0.28991, ...,           0,           0,           0],\n",
       "       [  0.0069271,   0.0069445,     0.12023, ...,           0,           0,           0]]), 'Confidence', 'F1'], [array([          0,    0.001001,    0.002002,    0.003003,    0.004004,    0.005005,    0.006006,    0.007007,    0.008008,    0.009009,     0.01001,    0.011011,    0.012012,    0.013013,    0.014014,    0.015015,    0.016016,    0.017017,    0.018018,    0.019019,     0.02002,    0.021021,    0.022022,    0.023023,\n",
       "          0.024024,    0.025025,    0.026026,    0.027027,    0.028028,    0.029029,     0.03003,    0.031031,    0.032032,    0.033033,    0.034034,    0.035035,    0.036036,    0.037037,    0.038038,    0.039039,     0.04004,    0.041041,    0.042042,    0.043043,    0.044044,    0.045045,    0.046046,    0.047047,\n",
       "          0.048048,    0.049049,     0.05005,    0.051051,    0.052052,    0.053053,    0.054054,    0.055055,    0.056056,    0.057057,    0.058058,    0.059059,     0.06006,    0.061061,    0.062062,    0.063063,    0.064064,    0.065065,    0.066066,    0.067067,    0.068068,    0.069069,     0.07007,    0.071071,\n",
       "          0.072072,    0.073073,    0.074074,    0.075075,    0.076076,    0.077077,    0.078078,    0.079079,     0.08008,    0.081081,    0.082082,    0.083083,    0.084084,    0.085085,    0.086086,    0.087087,    0.088088,    0.089089,     0.09009,    0.091091,    0.092092,    0.093093,    0.094094,    0.095095,\n",
       "          0.096096,    0.097097,    0.098098,    0.099099,      0.1001,      0.1011,      0.1021,      0.1031,      0.1041,     0.10511,     0.10611,     0.10711,     0.10811,     0.10911,     0.11011,     0.11111,     0.11211,     0.11311,     0.11411,     0.11512,     0.11612,     0.11712,     0.11812,     0.11912,\n",
       "           0.12012,     0.12112,     0.12212,     0.12312,     0.12412,     0.12513,     0.12613,     0.12713,     0.12813,     0.12913,     0.13013,     0.13113,     0.13213,     0.13313,     0.13413,     0.13514,     0.13614,     0.13714,     0.13814,     0.13914,     0.14014,     0.14114,     0.14214,     0.14314,\n",
       "           0.14414,     0.14515,     0.14615,     0.14715,     0.14815,     0.14915,     0.15015,     0.15115,     0.15215,     0.15315,     0.15415,     0.15516,     0.15616,     0.15716,     0.15816,     0.15916,     0.16016,     0.16116,     0.16216,     0.16316,     0.16416,     0.16517,     0.16617,     0.16717,\n",
       "           0.16817,     0.16917,     0.17017,     0.17117,     0.17217,     0.17317,     0.17417,     0.17518,     0.17618,     0.17718,     0.17818,     0.17918,     0.18018,     0.18118,     0.18218,     0.18318,     0.18418,     0.18519,     0.18619,     0.18719,     0.18819,     0.18919,     0.19019,     0.19119,\n",
       "           0.19219,     0.19319,     0.19419,      0.1952,      0.1962,      0.1972,      0.1982,      0.1992,      0.2002,      0.2012,      0.2022,      0.2032,      0.2042,     0.20521,     0.20621,     0.20721,     0.20821,     0.20921,     0.21021,     0.21121,     0.21221,     0.21321,     0.21421,     0.21522,\n",
       "           0.21622,     0.21722,     0.21822,     0.21922,     0.22022,     0.22122,     0.22222,     0.22322,     0.22422,     0.22523,     0.22623,     0.22723,     0.22823,     0.22923,     0.23023,     0.23123,     0.23223,     0.23323,     0.23423,     0.23524,     0.23624,     0.23724,     0.23824,     0.23924,\n",
       "           0.24024,     0.24124,     0.24224,     0.24324,     0.24424,     0.24525,     0.24625,     0.24725,     0.24825,     0.24925,     0.25025,     0.25125,     0.25225,     0.25325,     0.25425,     0.25526,     0.25626,     0.25726,     0.25826,     0.25926,     0.26026,     0.26126,     0.26226,     0.26326,\n",
       "           0.26426,     0.26527,     0.26627,     0.26727,     0.26827,     0.26927,     0.27027,     0.27127,     0.27227,     0.27327,     0.27427,     0.27528,     0.27628,     0.27728,     0.27828,     0.27928,     0.28028,     0.28128,     0.28228,     0.28328,     0.28428,     0.28529,     0.28629,     0.28729,\n",
       "           0.28829,     0.28929,     0.29029,     0.29129,     0.29229,     0.29329,     0.29429,      0.2953,      0.2963,      0.2973,      0.2983,      0.2993,      0.3003,      0.3013,      0.3023,      0.3033,      0.3043,     0.30531,     0.30631,     0.30731,     0.30831,     0.30931,     0.31031,     0.31131,\n",
       "           0.31231,     0.31331,     0.31431,     0.31532,     0.31632,     0.31732,     0.31832,     0.31932,     0.32032,     0.32132,     0.32232,     0.32332,     0.32432,     0.32533,     0.32633,     0.32733,     0.32833,     0.32933,     0.33033,     0.33133,     0.33233,     0.33333,     0.33433,     0.33534,\n",
       "           0.33634,     0.33734,     0.33834,     0.33934,     0.34034,     0.34134,     0.34234,     0.34334,     0.34434,     0.34535,     0.34635,     0.34735,     0.34835,     0.34935,     0.35035,     0.35135,     0.35235,     0.35335,     0.35435,     0.35536,     0.35636,     0.35736,     0.35836,     0.35936,\n",
       "           0.36036,     0.36136,     0.36236,     0.36336,     0.36436,     0.36537,     0.36637,     0.36737,     0.36837,     0.36937,     0.37037,     0.37137,     0.37237,     0.37337,     0.37437,     0.37538,     0.37638,     0.37738,     0.37838,     0.37938,     0.38038,     0.38138,     0.38238,     0.38338,\n",
       "           0.38438,     0.38539,     0.38639,     0.38739,     0.38839,     0.38939,     0.39039,     0.39139,     0.39239,     0.39339,     0.39439,      0.3954,      0.3964,      0.3974,      0.3984,      0.3994,      0.4004,      0.4014,      0.4024,      0.4034,      0.4044,     0.40541,     0.40641,     0.40741,\n",
       "           0.40841,     0.40941,     0.41041,     0.41141,     0.41241,     0.41341,     0.41441,     0.41542,     0.41642,     0.41742,     0.41842,     0.41942,     0.42042,     0.42142,     0.42242,     0.42342,     0.42442,     0.42543,     0.42643,     0.42743,     0.42843,     0.42943,     0.43043,     0.43143,\n",
       "           0.43243,     0.43343,     0.43443,     0.43544,     0.43644,     0.43744,     0.43844,     0.43944,     0.44044,     0.44144,     0.44244,     0.44344,     0.44444,     0.44545,     0.44645,     0.44745,     0.44845,     0.44945,     0.45045,     0.45145,     0.45245,     0.45345,     0.45445,     0.45546,\n",
       "           0.45646,     0.45746,     0.45846,     0.45946,     0.46046,     0.46146,     0.46246,     0.46346,     0.46446,     0.46547,     0.46647,     0.46747,     0.46847,     0.46947,     0.47047,     0.47147,     0.47247,     0.47347,     0.47447,     0.47548,     0.47648,     0.47748,     0.47848,     0.47948,\n",
       "           0.48048,     0.48148,     0.48248,     0.48348,     0.48448,     0.48549,     0.48649,     0.48749,     0.48849,     0.48949,     0.49049,     0.49149,     0.49249,     0.49349,     0.49449,      0.4955,      0.4965,      0.4975,      0.4985,      0.4995,      0.5005,      0.5015,      0.5025,      0.5035,\n",
       "            0.5045,     0.50551,     0.50651,     0.50751,     0.50851,     0.50951,     0.51051,     0.51151,     0.51251,     0.51351,     0.51451,     0.51552,     0.51652,     0.51752,     0.51852,     0.51952,     0.52052,     0.52152,     0.52252,     0.52352,     0.52452,     0.52553,     0.52653,     0.52753,\n",
       "           0.52853,     0.52953,     0.53053,     0.53153,     0.53253,     0.53353,     0.53453,     0.53554,     0.53654,     0.53754,     0.53854,     0.53954,     0.54054,     0.54154,     0.54254,     0.54354,     0.54454,     0.54555,     0.54655,     0.54755,     0.54855,     0.54955,     0.55055,     0.55155,\n",
       "           0.55255,     0.55355,     0.55455,     0.55556,     0.55656,     0.55756,     0.55856,     0.55956,     0.56056,     0.56156,     0.56256,     0.56356,     0.56456,     0.56557,     0.56657,     0.56757,     0.56857,     0.56957,     0.57057,     0.57157,     0.57257,     0.57357,     0.57457,     0.57558,\n",
       "           0.57658,     0.57758,     0.57858,     0.57958,     0.58058,     0.58158,     0.58258,     0.58358,     0.58458,     0.58559,     0.58659,     0.58759,     0.58859,     0.58959,     0.59059,     0.59159,     0.59259,     0.59359,     0.59459,      0.5956,      0.5966,      0.5976,      0.5986,      0.5996,\n",
       "            0.6006,      0.6016,      0.6026,      0.6036,      0.6046,     0.60561,     0.60661,     0.60761,     0.60861,     0.60961,     0.61061,     0.61161,     0.61261,     0.61361,     0.61461,     0.61562,     0.61662,     0.61762,     0.61862,     0.61962,     0.62062,     0.62162,     0.62262,     0.62362,\n",
       "           0.62462,     0.62563,     0.62663,     0.62763,     0.62863,     0.62963,     0.63063,     0.63163,     0.63263,     0.63363,     0.63463,     0.63564,     0.63664,     0.63764,     0.63864,     0.63964,     0.64064,     0.64164,     0.64264,     0.64364,     0.64464,     0.64565,     0.64665,     0.64765,\n",
       "           0.64865,     0.64965,     0.65065,     0.65165,     0.65265,     0.65365,     0.65465,     0.65566,     0.65666,     0.65766,     0.65866,     0.65966,     0.66066,     0.66166,     0.66266,     0.66366,     0.66466,     0.66567,     0.66667,     0.66767,     0.66867,     0.66967,     0.67067,     0.67167,\n",
       "           0.67267,     0.67367,     0.67467,     0.67568,     0.67668,     0.67768,     0.67868,     0.67968,     0.68068,     0.68168,     0.68268,     0.68368,     0.68468,     0.68569,     0.68669,     0.68769,     0.68869,     0.68969,     0.69069,     0.69169,     0.69269,     0.69369,     0.69469,      0.6957,\n",
       "            0.6967,      0.6977,      0.6987,      0.6997,      0.7007,      0.7017,      0.7027,      0.7037,      0.7047,     0.70571,     0.70671,     0.70771,     0.70871,     0.70971,     0.71071,     0.71171,     0.71271,     0.71371,     0.71471,     0.71572,     0.71672,     0.71772,     0.71872,     0.71972,\n",
       "           0.72072,     0.72172,     0.72272,     0.72372,     0.72472,     0.72573,     0.72673,     0.72773,     0.72873,     0.72973,     0.73073,     0.73173,     0.73273,     0.73373,     0.73473,     0.73574,     0.73674,     0.73774,     0.73874,     0.73974,     0.74074,     0.74174,     0.74274,     0.74374,\n",
       "           0.74474,     0.74575,     0.74675,     0.74775,     0.74875,     0.74975,     0.75075,     0.75175,     0.75275,     0.75375,     0.75475,     0.75576,     0.75676,     0.75776,     0.75876,     0.75976,     0.76076,     0.76176,     0.76276,     0.76376,     0.76476,     0.76577,     0.76677,     0.76777,\n",
       "           0.76877,     0.76977,     0.77077,     0.77177,     0.77277,     0.77377,     0.77477,     0.77578,     0.77678,     0.77778,     0.77878,     0.77978,     0.78078,     0.78178,     0.78278,     0.78378,     0.78478,     0.78579,     0.78679,     0.78779,     0.78879,     0.78979,     0.79079,     0.79179,\n",
       "           0.79279,     0.79379,     0.79479,      0.7958,      0.7968,      0.7978,      0.7988,      0.7998,      0.8008,      0.8018,      0.8028,      0.8038,      0.8048,     0.80581,     0.80681,     0.80781,     0.80881,     0.80981,     0.81081,     0.81181,     0.81281,     0.81381,     0.81481,     0.81582,\n",
       "           0.81682,     0.81782,     0.81882,     0.81982,     0.82082,     0.82182,     0.82282,     0.82382,     0.82482,     0.82583,     0.82683,     0.82783,     0.82883,     0.82983,     0.83083,     0.83183,     0.83283,     0.83383,     0.83483,     0.83584,     0.83684,     0.83784,     0.83884,     0.83984,\n",
       "           0.84084,     0.84184,     0.84284,     0.84384,     0.84484,     0.84585,     0.84685,     0.84785,     0.84885,     0.84985,     0.85085,     0.85185,     0.85285,     0.85385,     0.85485,     0.85586,     0.85686,     0.85786,     0.85886,     0.85986,     0.86086,     0.86186,     0.86286,     0.86386,\n",
       "           0.86486,     0.86587,     0.86687,     0.86787,     0.86887,     0.86987,     0.87087,     0.87187,     0.87287,     0.87387,     0.87487,     0.87588,     0.87688,     0.87788,     0.87888,     0.87988,     0.88088,     0.88188,     0.88288,     0.88388,     0.88488,     0.88589,     0.88689,     0.88789,\n",
       "           0.88889,     0.88989,     0.89089,     0.89189,     0.89289,     0.89389,     0.89489,      0.8959,      0.8969,      0.8979,      0.8989,      0.8999,      0.9009,      0.9019,      0.9029,      0.9039,      0.9049,     0.90591,     0.90691,     0.90791,     0.90891,     0.90991,     0.91091,     0.91191,\n",
       "           0.91291,     0.91391,     0.91491,     0.91592,     0.91692,     0.91792,     0.91892,     0.91992,     0.92092,     0.92192,     0.92292,     0.92392,     0.92492,     0.92593,     0.92693,     0.92793,     0.92893,     0.92993,     0.93093,     0.93193,     0.93293,     0.93393,     0.93493,     0.93594,\n",
       "           0.93694,     0.93794,     0.93894,     0.93994,     0.94094,     0.94194,     0.94294,     0.94394,     0.94494,     0.94595,     0.94695,     0.94795,     0.94895,     0.94995,     0.95095,     0.95195,     0.95295,     0.95395,     0.95495,     0.95596,     0.95696,     0.95796,     0.95896,     0.95996,\n",
       "           0.96096,     0.96196,     0.96296,     0.96396,     0.96496,     0.96597,     0.96697,     0.96797,     0.96897,     0.96997,     0.97097,     0.97197,     0.97297,     0.97397,     0.97497,     0.97598,     0.97698,     0.97798,     0.97898,     0.97998,     0.98098,     0.98198,     0.98298,     0.98398,\n",
       "           0.98498,     0.98599,     0.98699,     0.98799,     0.98899,     0.98999,     0.99099,     0.99199,     0.99299,     0.99399,     0.99499,       0.996,       0.997,       0.998,       0.999,           1]), array([[  0.0040928,   0.0041056,     0.11793, ...,           1,           1,           1],\n",
       "       [   0.020033,    0.020126,     0.38458, ...,           1,           1,           1],\n",
       "       [  0.0044614,    0.004476,     0.16953, ...,           1,           1,           1],\n",
       "       [  0.0034756,   0.0034844,    0.063959, ...,           1,           1,           1]]), 'Confidence', 'Precision'], [array([          0,    0.001001,    0.002002,    0.003003,    0.004004,    0.005005,    0.006006,    0.007007,    0.008008,    0.009009,     0.01001,    0.011011,    0.012012,    0.013013,    0.014014,    0.015015,    0.016016,    0.017017,    0.018018,    0.019019,     0.02002,    0.021021,    0.022022,    0.023023,\n",
       "          0.024024,    0.025025,    0.026026,    0.027027,    0.028028,    0.029029,     0.03003,    0.031031,    0.032032,    0.033033,    0.034034,    0.035035,    0.036036,    0.037037,    0.038038,    0.039039,     0.04004,    0.041041,    0.042042,    0.043043,    0.044044,    0.045045,    0.046046,    0.047047,\n",
       "          0.048048,    0.049049,     0.05005,    0.051051,    0.052052,    0.053053,    0.054054,    0.055055,    0.056056,    0.057057,    0.058058,    0.059059,     0.06006,    0.061061,    0.062062,    0.063063,    0.064064,    0.065065,    0.066066,    0.067067,    0.068068,    0.069069,     0.07007,    0.071071,\n",
       "          0.072072,    0.073073,    0.074074,    0.075075,    0.076076,    0.077077,    0.078078,    0.079079,     0.08008,    0.081081,    0.082082,    0.083083,    0.084084,    0.085085,    0.086086,    0.087087,    0.088088,    0.089089,     0.09009,    0.091091,    0.092092,    0.093093,    0.094094,    0.095095,\n",
       "          0.096096,    0.097097,    0.098098,    0.099099,      0.1001,      0.1011,      0.1021,      0.1031,      0.1041,     0.10511,     0.10611,     0.10711,     0.10811,     0.10911,     0.11011,     0.11111,     0.11211,     0.11311,     0.11411,     0.11512,     0.11612,     0.11712,     0.11812,     0.11912,\n",
       "           0.12012,     0.12112,     0.12212,     0.12312,     0.12412,     0.12513,     0.12613,     0.12713,     0.12813,     0.12913,     0.13013,     0.13113,     0.13213,     0.13313,     0.13413,     0.13514,     0.13614,     0.13714,     0.13814,     0.13914,     0.14014,     0.14114,     0.14214,     0.14314,\n",
       "           0.14414,     0.14515,     0.14615,     0.14715,     0.14815,     0.14915,     0.15015,     0.15115,     0.15215,     0.15315,     0.15415,     0.15516,     0.15616,     0.15716,     0.15816,     0.15916,     0.16016,     0.16116,     0.16216,     0.16316,     0.16416,     0.16517,     0.16617,     0.16717,\n",
       "           0.16817,     0.16917,     0.17017,     0.17117,     0.17217,     0.17317,     0.17417,     0.17518,     0.17618,     0.17718,     0.17818,     0.17918,     0.18018,     0.18118,     0.18218,     0.18318,     0.18418,     0.18519,     0.18619,     0.18719,     0.18819,     0.18919,     0.19019,     0.19119,\n",
       "           0.19219,     0.19319,     0.19419,      0.1952,      0.1962,      0.1972,      0.1982,      0.1992,      0.2002,      0.2012,      0.2022,      0.2032,      0.2042,     0.20521,     0.20621,     0.20721,     0.20821,     0.20921,     0.21021,     0.21121,     0.21221,     0.21321,     0.21421,     0.21522,\n",
       "           0.21622,     0.21722,     0.21822,     0.21922,     0.22022,     0.22122,     0.22222,     0.22322,     0.22422,     0.22523,     0.22623,     0.22723,     0.22823,     0.22923,     0.23023,     0.23123,     0.23223,     0.23323,     0.23423,     0.23524,     0.23624,     0.23724,     0.23824,     0.23924,\n",
       "           0.24024,     0.24124,     0.24224,     0.24324,     0.24424,     0.24525,     0.24625,     0.24725,     0.24825,     0.24925,     0.25025,     0.25125,     0.25225,     0.25325,     0.25425,     0.25526,     0.25626,     0.25726,     0.25826,     0.25926,     0.26026,     0.26126,     0.26226,     0.26326,\n",
       "           0.26426,     0.26527,     0.26627,     0.26727,     0.26827,     0.26927,     0.27027,     0.27127,     0.27227,     0.27327,     0.27427,     0.27528,     0.27628,     0.27728,     0.27828,     0.27928,     0.28028,     0.28128,     0.28228,     0.28328,     0.28428,     0.28529,     0.28629,     0.28729,\n",
       "           0.28829,     0.28929,     0.29029,     0.29129,     0.29229,     0.29329,     0.29429,      0.2953,      0.2963,      0.2973,      0.2983,      0.2993,      0.3003,      0.3013,      0.3023,      0.3033,      0.3043,     0.30531,     0.30631,     0.30731,     0.30831,     0.30931,     0.31031,     0.31131,\n",
       "           0.31231,     0.31331,     0.31431,     0.31532,     0.31632,     0.31732,     0.31832,     0.31932,     0.32032,     0.32132,     0.32232,     0.32332,     0.32432,     0.32533,     0.32633,     0.32733,     0.32833,     0.32933,     0.33033,     0.33133,     0.33233,     0.33333,     0.33433,     0.33534,\n",
       "           0.33634,     0.33734,     0.33834,     0.33934,     0.34034,     0.34134,     0.34234,     0.34334,     0.34434,     0.34535,     0.34635,     0.34735,     0.34835,     0.34935,     0.35035,     0.35135,     0.35235,     0.35335,     0.35435,     0.35536,     0.35636,     0.35736,     0.35836,     0.35936,\n",
       "           0.36036,     0.36136,     0.36236,     0.36336,     0.36436,     0.36537,     0.36637,     0.36737,     0.36837,     0.36937,     0.37037,     0.37137,     0.37237,     0.37337,     0.37437,     0.37538,     0.37638,     0.37738,     0.37838,     0.37938,     0.38038,     0.38138,     0.38238,     0.38338,\n",
       "           0.38438,     0.38539,     0.38639,     0.38739,     0.38839,     0.38939,     0.39039,     0.39139,     0.39239,     0.39339,     0.39439,      0.3954,      0.3964,      0.3974,      0.3984,      0.3994,      0.4004,      0.4014,      0.4024,      0.4034,      0.4044,     0.40541,     0.40641,     0.40741,\n",
       "           0.40841,     0.40941,     0.41041,     0.41141,     0.41241,     0.41341,     0.41441,     0.41542,     0.41642,     0.41742,     0.41842,     0.41942,     0.42042,     0.42142,     0.42242,     0.42342,     0.42442,     0.42543,     0.42643,     0.42743,     0.42843,     0.42943,     0.43043,     0.43143,\n",
       "           0.43243,     0.43343,     0.43443,     0.43544,     0.43644,     0.43744,     0.43844,     0.43944,     0.44044,     0.44144,     0.44244,     0.44344,     0.44444,     0.44545,     0.44645,     0.44745,     0.44845,     0.44945,     0.45045,     0.45145,     0.45245,     0.45345,     0.45445,     0.45546,\n",
       "           0.45646,     0.45746,     0.45846,     0.45946,     0.46046,     0.46146,     0.46246,     0.46346,     0.46446,     0.46547,     0.46647,     0.46747,     0.46847,     0.46947,     0.47047,     0.47147,     0.47247,     0.47347,     0.47447,     0.47548,     0.47648,     0.47748,     0.47848,     0.47948,\n",
       "           0.48048,     0.48148,     0.48248,     0.48348,     0.48448,     0.48549,     0.48649,     0.48749,     0.48849,     0.48949,     0.49049,     0.49149,     0.49249,     0.49349,     0.49449,      0.4955,      0.4965,      0.4975,      0.4985,      0.4995,      0.5005,      0.5015,      0.5025,      0.5035,\n",
       "            0.5045,     0.50551,     0.50651,     0.50751,     0.50851,     0.50951,     0.51051,     0.51151,     0.51251,     0.51351,     0.51451,     0.51552,     0.51652,     0.51752,     0.51852,     0.51952,     0.52052,     0.52152,     0.52252,     0.52352,     0.52452,     0.52553,     0.52653,     0.52753,\n",
       "           0.52853,     0.52953,     0.53053,     0.53153,     0.53253,     0.53353,     0.53453,     0.53554,     0.53654,     0.53754,     0.53854,     0.53954,     0.54054,     0.54154,     0.54254,     0.54354,     0.54454,     0.54555,     0.54655,     0.54755,     0.54855,     0.54955,     0.55055,     0.55155,\n",
       "           0.55255,     0.55355,     0.55455,     0.55556,     0.55656,     0.55756,     0.55856,     0.55956,     0.56056,     0.56156,     0.56256,     0.56356,     0.56456,     0.56557,     0.56657,     0.56757,     0.56857,     0.56957,     0.57057,     0.57157,     0.57257,     0.57357,     0.57457,     0.57558,\n",
       "           0.57658,     0.57758,     0.57858,     0.57958,     0.58058,     0.58158,     0.58258,     0.58358,     0.58458,     0.58559,     0.58659,     0.58759,     0.58859,     0.58959,     0.59059,     0.59159,     0.59259,     0.59359,     0.59459,      0.5956,      0.5966,      0.5976,      0.5986,      0.5996,\n",
       "            0.6006,      0.6016,      0.6026,      0.6036,      0.6046,     0.60561,     0.60661,     0.60761,     0.60861,     0.60961,     0.61061,     0.61161,     0.61261,     0.61361,     0.61461,     0.61562,     0.61662,     0.61762,     0.61862,     0.61962,     0.62062,     0.62162,     0.62262,     0.62362,\n",
       "           0.62462,     0.62563,     0.62663,     0.62763,     0.62863,     0.62963,     0.63063,     0.63163,     0.63263,     0.63363,     0.63463,     0.63564,     0.63664,     0.63764,     0.63864,     0.63964,     0.64064,     0.64164,     0.64264,     0.64364,     0.64464,     0.64565,     0.64665,     0.64765,\n",
       "           0.64865,     0.64965,     0.65065,     0.65165,     0.65265,     0.65365,     0.65465,     0.65566,     0.65666,     0.65766,     0.65866,     0.65966,     0.66066,     0.66166,     0.66266,     0.66366,     0.66466,     0.66567,     0.66667,     0.66767,     0.66867,     0.66967,     0.67067,     0.67167,\n",
       "           0.67267,     0.67367,     0.67467,     0.67568,     0.67668,     0.67768,     0.67868,     0.67968,     0.68068,     0.68168,     0.68268,     0.68368,     0.68468,     0.68569,     0.68669,     0.68769,     0.68869,     0.68969,     0.69069,     0.69169,     0.69269,     0.69369,     0.69469,      0.6957,\n",
       "            0.6967,      0.6977,      0.6987,      0.6997,      0.7007,      0.7017,      0.7027,      0.7037,      0.7047,     0.70571,     0.70671,     0.70771,     0.70871,     0.70971,     0.71071,     0.71171,     0.71271,     0.71371,     0.71471,     0.71572,     0.71672,     0.71772,     0.71872,     0.71972,\n",
       "           0.72072,     0.72172,     0.72272,     0.72372,     0.72472,     0.72573,     0.72673,     0.72773,     0.72873,     0.72973,     0.73073,     0.73173,     0.73273,     0.73373,     0.73473,     0.73574,     0.73674,     0.73774,     0.73874,     0.73974,     0.74074,     0.74174,     0.74274,     0.74374,\n",
       "           0.74474,     0.74575,     0.74675,     0.74775,     0.74875,     0.74975,     0.75075,     0.75175,     0.75275,     0.75375,     0.75475,     0.75576,     0.75676,     0.75776,     0.75876,     0.75976,     0.76076,     0.76176,     0.76276,     0.76376,     0.76476,     0.76577,     0.76677,     0.76777,\n",
       "           0.76877,     0.76977,     0.77077,     0.77177,     0.77277,     0.77377,     0.77477,     0.77578,     0.77678,     0.77778,     0.77878,     0.77978,     0.78078,     0.78178,     0.78278,     0.78378,     0.78478,     0.78579,     0.78679,     0.78779,     0.78879,     0.78979,     0.79079,     0.79179,\n",
       "           0.79279,     0.79379,     0.79479,      0.7958,      0.7968,      0.7978,      0.7988,      0.7998,      0.8008,      0.8018,      0.8028,      0.8038,      0.8048,     0.80581,     0.80681,     0.80781,     0.80881,     0.80981,     0.81081,     0.81181,     0.81281,     0.81381,     0.81481,     0.81582,\n",
       "           0.81682,     0.81782,     0.81882,     0.81982,     0.82082,     0.82182,     0.82282,     0.82382,     0.82482,     0.82583,     0.82683,     0.82783,     0.82883,     0.82983,     0.83083,     0.83183,     0.83283,     0.83383,     0.83483,     0.83584,     0.83684,     0.83784,     0.83884,     0.83984,\n",
       "           0.84084,     0.84184,     0.84284,     0.84384,     0.84484,     0.84585,     0.84685,     0.84785,     0.84885,     0.84985,     0.85085,     0.85185,     0.85285,     0.85385,     0.85485,     0.85586,     0.85686,     0.85786,     0.85886,     0.85986,     0.86086,     0.86186,     0.86286,     0.86386,\n",
       "           0.86486,     0.86587,     0.86687,     0.86787,     0.86887,     0.86987,     0.87087,     0.87187,     0.87287,     0.87387,     0.87487,     0.87588,     0.87688,     0.87788,     0.87888,     0.87988,     0.88088,     0.88188,     0.88288,     0.88388,     0.88488,     0.88589,     0.88689,     0.88789,\n",
       "           0.88889,     0.88989,     0.89089,     0.89189,     0.89289,     0.89389,     0.89489,      0.8959,      0.8969,      0.8979,      0.8989,      0.8999,      0.9009,      0.9019,      0.9029,      0.9039,      0.9049,     0.90591,     0.90691,     0.90791,     0.90891,     0.90991,     0.91091,     0.91191,\n",
       "           0.91291,     0.91391,     0.91491,     0.91592,     0.91692,     0.91792,     0.91892,     0.91992,     0.92092,     0.92192,     0.92292,     0.92392,     0.92492,     0.92593,     0.92693,     0.92793,     0.92893,     0.92993,     0.93093,     0.93193,     0.93293,     0.93393,     0.93493,     0.93594,\n",
       "           0.93694,     0.93794,     0.93894,     0.93994,     0.94094,     0.94194,     0.94294,     0.94394,     0.94494,     0.94595,     0.94695,     0.94795,     0.94895,     0.94995,     0.95095,     0.95195,     0.95295,     0.95395,     0.95495,     0.95596,     0.95696,     0.95796,     0.95896,     0.95996,\n",
       "           0.96096,     0.96196,     0.96296,     0.96396,     0.96496,     0.96597,     0.96697,     0.96797,     0.96897,     0.96997,     0.97097,     0.97197,     0.97297,     0.97397,     0.97497,     0.97598,     0.97698,     0.97798,     0.97898,     0.97998,     0.98098,     0.98198,     0.98298,     0.98398,\n",
       "           0.98498,     0.98599,     0.98699,     0.98799,     0.98899,     0.98999,     0.99099,     0.99199,     0.99299,     0.99399,     0.99499,       0.996,       0.997,       0.998,       0.999,           1]), array([[          1,           1,           1, ...,           0,           0,           0],\n",
       "       [          1,           1,           1, ...,           0,           0,           0],\n",
       "       [          1,           1,           1, ...,           0,           0,           0],\n",
       "       [          1,           1,           1, ...,           0,           0,           0]]), 'Confidence', 'Recall']]\n",
       "fitness: 0.995\n",
       "keys: ['metrics/precision(B)', 'metrics/recall(B)', 'metrics/mAP50(B)', 'metrics/mAP50-95(B)']\n",
       "maps: array([      0.995,       0.995,       0.995,       0.995])\n",
       "names: {0: 'BATTERYNOLABEL', 1: 'BATTERYOKLABEL', 2: 'BATTERYREJECT', 3: 'BATTERYREJECT'}\n",
       "plot: True\n",
       "results_dict: {'metrics/precision(B)': 0.9951277715628476, 'metrics/recall(B)': 1.0, 'metrics/mAP50(B)': 0.995, 'metrics/mAP50-95(B)': 0.9949999999999999, 'fitness': 0.995}\n",
       "save_dir: WindowsPath('runs/detect/train')\n",
       "speed: {'preprocess': 5.3952104515499535, 'inference': 221.71405951182047, 'loss': 0.0, 'postprocess': 2.103318770726522}\n",
       "task: 'detect'"
      ]
     },
     "execution_count": 1,
     "metadata": {},
     "output_type": "execute_result"
    }
   ],
   "source": [
    "\n",
    "from ultralytics import YOLO\n",
    "\n",
    "# Training parameters\n",
    "INIT_LR = 1e-4\n",
    "EPOCHS = 50\n",
    "BS = 35\n",
    "\n",
    "# Load the YOLO model\n",
    "model = YOLO()\n",
    "\n",
    "# Train the model\n",
    "model.train(data=\"data.yaml\", epochs=EPOCHS, batch=BS)\n"
   ]
  },
  {
   "cell_type": "code",
   "execution_count": 7,
   "id": "b29d08d0-ce66-47ce-a19e-5fe8d16989ac",
   "metadata": {},
   "outputs": [
    {
     "data": {
      "text/plain": [
       "['Ultralytics YOLOv8.1.34 ðŸš€ Python-3.10.14 torch-2.3.1+cpu CPU (Intel Core(TM) i5-6300U 2.40GHz)',\n",
       " 'Model summary (fused): 168 layers, 3006428 parameters, 0 gradients, 8.1 GFLOPs',\n",
       " '',\n",
       " 'video 1/1 (frame 1/810) D:\\\\AI COURSE TAMIL\\\\First project\\\\BATTERY LABEL. YOLO8\\\\test_videos\\\\WhatsApp Video 2024-07-09 at 05.53.51_7d3eb018.mp4: 480x640 10 BATTERYNOLABELs, 260.7ms',\n",
       " 'video 1/1 (frame 2/810) D:\\\\AI COURSE TAMIL\\\\First project\\\\BATTERY LABEL. YOLO8\\\\test_videos\\\\WhatsApp Video 2024-07-09 at 05.53.51_7d3eb018.mp4: 480x640 10 BATTERYNOLABELs, 290.8ms',\n",
       " 'video 1/1 (frame 3/810) D:\\\\AI COURSE TAMIL\\\\First project\\\\BATTERY LABEL. YOLO8\\\\test_videos\\\\WhatsApp Video 2024-07-09 at 05.53.51_7d3eb018.mp4: 480x640 10 BATTERYNOLABELs, 293.7ms',\n",
       " 'video 1/1 (frame 4/810) D:\\\\AI COURSE TAMIL\\\\First project\\\\BATTERY LABEL. YOLO8\\\\test_videos\\\\WhatsApp Video 2024-07-09 at 05.53.51_7d3eb018.mp4: 480x640 10 BATTERYNOLABELs, 231.4ms',\n",
       " 'video 1/1 (frame 5/810) D:\\\\AI COURSE TAMIL\\\\First project\\\\BATTERY LABEL. YOLO8\\\\test_videos\\\\WhatsApp Video 2024-07-09 at 05.53.51_7d3eb018.mp4: 480x640 10 BATTERYNOLABELs, 211.3ms',\n",
       " 'video 1/1 (frame 6/810) D:\\\\AI COURSE TAMIL\\\\First project\\\\BATTERY LABEL. YOLO8\\\\test_videos\\\\WhatsApp Video 2024-07-09 at 05.53.51_7d3eb018.mp4: 480x640 10 BATTERYNOLABELs, 224.4ms',\n",
       " 'video 1/1 (frame 7/810) D:\\\\AI COURSE TAMIL\\\\First project\\\\BATTERY LABEL. YOLO8\\\\test_videos\\\\WhatsApp Video 2024-07-09 at 05.53.51_7d3eb018.mp4: 480x640 10 BATTERYNOLABELs, 211.5ms',\n",
       " 'video 1/1 (frame 8/810) D:\\\\AI COURSE TAMIL\\\\First project\\\\BATTERY LABEL. YOLO8\\\\test_videos\\\\WhatsApp Video 2024-07-09 at 05.53.51_7d3eb018.mp4: 480x640 10 BATTERYNOLABELs, 211.4ms',\n",
       " 'video 1/1 (frame 9/810) D:\\\\AI COURSE TAMIL\\\\First project\\\\BATTERY LABEL. YOLO8\\\\test_videos\\\\WhatsApp Video 2024-07-09 at 05.53.51_7d3eb018.mp4: 480x640 10 BATTERYNOLABELs, 231.4ms',\n",
       " 'video 1/1 (frame 10/810) D:\\\\AI COURSE TAMIL\\\\First project\\\\BATTERY LABEL. YOLO8\\\\test_videos\\\\WhatsApp Video 2024-07-09 at 05.53.51_7d3eb018.mp4: 480x640 10 BATTERYNOLABELs, 225.2ms',\n",
       " 'video 1/1 (frame 11/810) D:\\\\AI COURSE TAMIL\\\\First project\\\\BATTERY LABEL. YOLO8\\\\test_videos\\\\WhatsApp Video 2024-07-09 at 05.53.51_7d3eb018.mp4: 480x640 10 BATTERYNOLABELs, 214.4ms',\n",
       " 'video 1/1 (frame 12/810) D:\\\\AI COURSE TAMIL\\\\First project\\\\BATTERY LABEL. YOLO8\\\\test_videos\\\\WhatsApp Video 2024-07-09 at 05.53.51_7d3eb018.mp4: 480x640 10 BATTERYNOLABELs, 211.4ms',\n",
       " 'video 1/1 (frame 13/810) D:\\\\AI COURSE TAMIL\\\\First project\\\\BATTERY LABEL. YOLO8\\\\test_videos\\\\WhatsApp Video 2024-07-09 at 05.53.51_7d3eb018.mp4: 480x640 10 BATTERYNOLABELs, 221.4ms',\n",
       " 'video 1/1 (frame 14/810) D:\\\\AI COURSE TAMIL\\\\First project\\\\BATTERY LABEL. YOLO8\\\\test_videos\\\\WhatsApp Video 2024-07-09 at 05.53.51_7d3eb018.mp4: 480x640 10 BATTERYNOLABELs, 215.0ms',\n",
       " 'video 1/1 (frame 15/810) D:\\\\AI COURSE TAMIL\\\\First project\\\\BATTERY LABEL. YOLO8\\\\test_videos\\\\WhatsApp Video 2024-07-09 at 05.53.51_7d3eb018.mp4: 480x640 10 BATTERYNOLABELs, 231.3ms',\n",
       " 'video 1/1 (frame 16/810) D:\\\\AI COURSE TAMIL\\\\First project\\\\BATTERY LABEL. YOLO8\\\\test_videos\\\\WhatsApp Video 2024-07-09 at 05.53.51_7d3eb018.mp4: 480x640 10 BATTERYNOLABELs, 221.3ms',\n",
       " 'video 1/1 (frame 17/810) D:\\\\AI COURSE TAMIL\\\\First project\\\\BATTERY LABEL. YOLO8\\\\test_videos\\\\WhatsApp Video 2024-07-09 at 05.53.51_7d3eb018.mp4: 480x640 10 BATTERYNOLABELs, 219.3ms',\n",
       " 'video 1/1 (frame 18/810) D:\\\\AI COURSE TAMIL\\\\First project\\\\BATTERY LABEL. YOLO8\\\\test_videos\\\\WhatsApp Video 2024-07-09 at 05.53.51_7d3eb018.mp4: 480x640 10 BATTERYNOLABELs, 203.4ms',\n",
       " 'video 1/1 (frame 19/810) D:\\\\AI COURSE TAMIL\\\\First project\\\\BATTERY LABEL. YOLO8\\\\test_videos\\\\WhatsApp Video 2024-07-09 at 05.53.51_7d3eb018.mp4: 480x640 10 BATTERYNOLABELs, 232.1ms',\n",
       " 'video 1/1 (frame 20/810) D:\\\\AI COURSE TAMIL\\\\First project\\\\BATTERY LABEL. YOLO8\\\\test_videos\\\\WhatsApp Video 2024-07-09 at 05.53.51_7d3eb018.mp4: 480x640 10 BATTERYNOLABELs, 226.3ms',\n",
       " 'video 1/1 (frame 21/810) D:\\\\AI COURSE TAMIL\\\\First project\\\\BATTERY LABEL. YOLO8\\\\test_videos\\\\WhatsApp Video 2024-07-09 at 05.53.51_7d3eb018.mp4: 480x640 10 BATTERYNOLABELs, 212.3ms',\n",
       " 'video 1/1 (frame 22/810) D:\\\\AI COURSE TAMIL\\\\First project\\\\BATTERY LABEL. YOLO8\\\\test_videos\\\\WhatsApp Video 2024-07-09 at 05.53.51_7d3eb018.mp4: 480x640 10 BATTERYNOLABELs, 221.5ms',\n",
       " 'video 1/1 (frame 23/810) D:\\\\AI COURSE TAMIL\\\\First project\\\\BATTERY LABEL. YOLO8\\\\test_videos\\\\WhatsApp Video 2024-07-09 at 05.53.51_7d3eb018.mp4: 480x640 10 BATTERYNOLABELs, 211.3ms',\n",
       " 'video 1/1 (frame 24/810) D:\\\\AI COURSE TAMIL\\\\First project\\\\BATTERY LABEL. YOLO8\\\\test_videos\\\\WhatsApp Video 2024-07-09 at 05.53.51_7d3eb018.mp4: 480x640 10 BATTERYNOLABELs, 219.0ms',\n",
       " 'video 1/1 (frame 25/810) D:\\\\AI COURSE TAMIL\\\\First project\\\\BATTERY LABEL. YOLO8\\\\test_videos\\\\WhatsApp Video 2024-07-09 at 05.53.51_7d3eb018.mp4: 480x640 10 BATTERYNOLABELs, 213.0ms',\n",
       " 'video 1/1 (frame 26/810) D:\\\\AI COURSE TAMIL\\\\First project\\\\BATTERY LABEL. YOLO8\\\\test_videos\\\\WhatsApp Video 2024-07-09 at 05.53.51_7d3eb018.mp4: 480x640 10 BATTERYNOLABELs, 219.2ms',\n",
       " 'video 1/1 (frame 27/810) D:\\\\AI COURSE TAMIL\\\\First project\\\\BATTERY LABEL. YOLO8\\\\test_videos\\\\WhatsApp Video 2024-07-09 at 05.53.51_7d3eb018.mp4: 480x640 10 BATTERYNOLABELs, 213.6ms',\n",
       " 'video 1/1 (frame 28/810) D:\\\\AI COURSE TAMIL\\\\First project\\\\BATTERY LABEL. YOLO8\\\\test_videos\\\\WhatsApp Video 2024-07-09 at 05.53.51_7d3eb018.mp4: 480x640 10 BATTERYNOLABELs, 215.2ms',\n",
       " 'video 1/1 (frame 29/810) D:\\\\AI COURSE TAMIL\\\\First project\\\\BATTERY LABEL. YOLO8\\\\test_videos\\\\WhatsApp Video 2024-07-09 at 05.53.51_7d3eb018.mp4: 480x640 10 BATTERYNOLABELs, 217.5ms',\n",
       " 'video 1/1 (frame 30/810) D:\\\\AI COURSE TAMIL\\\\First project\\\\BATTERY LABEL. YOLO8\\\\test_videos\\\\WhatsApp Video 2024-07-09 at 05.53.51_7d3eb018.mp4: 480x640 10 BATTERYNOLABELs, 214.1ms',\n",
       " 'video 1/1 (frame 31/810) D:\\\\AI COURSE TAMIL\\\\First project\\\\BATTERY LABEL. YOLO8\\\\test_videos\\\\WhatsApp Video 2024-07-09 at 05.53.51_7d3eb018.mp4: 480x640 10 BATTERYNOLABELs, 216.4ms',\n",
       " 'video 1/1 (frame 32/810) D:\\\\AI COURSE TAMIL\\\\First project\\\\BATTERY LABEL. YOLO8\\\\test_videos\\\\WhatsApp Video 2024-07-09 at 05.53.51_7d3eb018.mp4: 480x640 10 BATTERYNOLABELs, 231.8ms',\n",
       " 'video 1/1 (frame 33/810) D:\\\\AI COURSE TAMIL\\\\First project\\\\BATTERY LABEL. YOLO8\\\\test_videos\\\\WhatsApp Video 2024-07-09 at 05.53.51_7d3eb018.mp4: 480x640 10 BATTERYNOLABELs, 221.4ms',\n",
       " 'video 1/1 (frame 34/810) D:\\\\AI COURSE TAMIL\\\\First project\\\\BATTERY LABEL. YOLO8\\\\test_videos\\\\WhatsApp Video 2024-07-09 at 05.53.51_7d3eb018.mp4: 480x640 10 BATTERYNOLABELs, 221.2ms',\n",
       " 'video 1/1 (frame 35/810) D:\\\\AI COURSE TAMIL\\\\First project\\\\BATTERY LABEL. YOLO8\\\\test_videos\\\\WhatsApp Video 2024-07-09 at 05.53.51_7d3eb018.mp4: 480x640 10 BATTERYNOLABELs, 218.8ms',\n",
       " 'video 1/1 (frame 36/810) D:\\\\AI COURSE TAMIL\\\\First project\\\\BATTERY LABEL. YOLO8\\\\test_videos\\\\WhatsApp Video 2024-07-09 at 05.53.51_7d3eb018.mp4: 480x640 10 BATTERYNOLABELs, 212.1ms',\n",
       " 'video 1/1 (frame 37/810) D:\\\\AI COURSE TAMIL\\\\First project\\\\BATTERY LABEL. YOLO8\\\\test_videos\\\\WhatsApp Video 2024-07-09 at 05.53.51_7d3eb018.mp4: 480x640 10 BATTERYNOLABELs, 221.1ms',\n",
       " 'video 1/1 (frame 38/810) D:\\\\AI COURSE TAMIL\\\\First project\\\\BATTERY LABEL. YOLO8\\\\test_videos\\\\WhatsApp Video 2024-07-09 at 05.53.51_7d3eb018.mp4: 480x640 10 BATTERYNOLABELs, 223.4ms',\n",
       " 'video 1/1 (frame 39/810) D:\\\\AI COURSE TAMIL\\\\First project\\\\BATTERY LABEL. YOLO8\\\\test_videos\\\\WhatsApp Video 2024-07-09 at 05.53.51_7d3eb018.mp4: 480x640 10 BATTERYNOLABELs, 219.3ms',\n",
       " 'video 1/1 (frame 40/810) D:\\\\AI COURSE TAMIL\\\\First project\\\\BATTERY LABEL. YOLO8\\\\test_videos\\\\WhatsApp Video 2024-07-09 at 05.53.51_7d3eb018.mp4: 480x640 10 BATTERYNOLABELs, 221.6ms',\n",
       " 'video 1/1 (frame 41/810) D:\\\\AI COURSE TAMIL\\\\First project\\\\BATTERY LABEL. YOLO8\\\\test_videos\\\\WhatsApp Video 2024-07-09 at 05.53.51_7d3eb018.mp4: 480x640 10 BATTERYNOLABELs, 213.9ms',\n",
       " 'video 1/1 (frame 42/810) D:\\\\AI COURSE TAMIL\\\\First project\\\\BATTERY LABEL. YOLO8\\\\test_videos\\\\WhatsApp Video 2024-07-09 at 05.53.51_7d3eb018.mp4: 480x640 10 BATTERYNOLABELs, 221.4ms',\n",
       " 'video 1/1 (frame 43/810) D:\\\\AI COURSE TAMIL\\\\First project\\\\BATTERY LABEL. YOLO8\\\\test_videos\\\\WhatsApp Video 2024-07-09 at 05.53.51_7d3eb018.mp4: 480x640 10 BATTERYNOLABELs, 219.3ms',\n",
       " 'video 1/1 (frame 44/810) D:\\\\AI COURSE TAMIL\\\\First project\\\\BATTERY LABEL. YOLO8\\\\test_videos\\\\WhatsApp Video 2024-07-09 at 05.53.51_7d3eb018.mp4: 480x640 10 BATTERYNOLABELs, 224.1ms',\n",
       " 'video 1/1 (frame 45/810) D:\\\\AI COURSE TAMIL\\\\First project\\\\BATTERY LABEL. YOLO8\\\\test_videos\\\\WhatsApp Video 2024-07-09 at 05.53.51_7d3eb018.mp4: 480x640 10 BATTERYNOLABELs, 219.2ms',\n",
       " 'video 1/1 (frame 46/810) D:\\\\AI COURSE TAMIL\\\\First project\\\\BATTERY LABEL. YOLO8\\\\test_videos\\\\WhatsApp Video 2024-07-09 at 05.53.51_7d3eb018.mp4: 480x640 10 BATTERYNOLABELs, 204.3ms',\n",
       " 'video 1/1 (frame 47/810) D:\\\\AI COURSE TAMIL\\\\First project\\\\BATTERY LABEL. YOLO8\\\\test_videos\\\\WhatsApp Video 2024-07-09 at 05.53.51_7d3eb018.mp4: 480x640 10 BATTERYNOLABELs, 211.3ms',\n",
       " 'video 1/1 (frame 48/810) D:\\\\AI COURSE TAMIL\\\\First project\\\\BATTERY LABEL. YOLO8\\\\test_videos\\\\WhatsApp Video 2024-07-09 at 05.53.51_7d3eb018.mp4: 480x640 10 BATTERYNOLABELs, 202.7ms',\n",
       " 'video 1/1 (frame 49/810) D:\\\\AI COURSE TAMIL\\\\First project\\\\BATTERY LABEL. YOLO8\\\\test_videos\\\\WhatsApp Video 2024-07-09 at 05.53.51_7d3eb018.mp4: 480x640 10 BATTERYNOLABELs, 213.5ms',\n",
       " 'video 1/1 (frame 50/810) D:\\\\AI COURSE TAMIL\\\\First project\\\\BATTERY LABEL. YOLO8\\\\test_videos\\\\WhatsApp Video 2024-07-09 at 05.53.51_7d3eb018.mp4: 480x640 10 BATTERYNOLABELs, 201.1ms',\n",
       " 'video 1/1 (frame 51/810) D:\\\\AI COURSE TAMIL\\\\First project\\\\BATTERY LABEL. YOLO8\\\\test_videos\\\\WhatsApp Video 2024-07-09 at 05.53.51_7d3eb018.mp4: 480x640 10 BATTERYNOLABELs, 226.0ms',\n",
       " 'video 1/1 (frame 52/810) D:\\\\AI COURSE TAMIL\\\\First project\\\\BATTERY LABEL. YOLO8\\\\test_videos\\\\WhatsApp Video 2024-07-09 at 05.53.51_7d3eb018.mp4: 480x640 10 BATTERYNOLABELs, 236.9ms',\n",
       " 'video 1/1 (frame 53/810) D:\\\\AI COURSE TAMIL\\\\First project\\\\BATTERY LABEL. YOLO8\\\\test_videos\\\\WhatsApp Video 2024-07-09 at 05.53.51_7d3eb018.mp4: 480x640 10 BATTERYNOLABELs, 226.9ms',\n",
       " 'video 1/1 (frame 54/810) D:\\\\AI COURSE TAMIL\\\\First project\\\\BATTERY LABEL. YOLO8\\\\test_videos\\\\WhatsApp Video 2024-07-09 at 05.53.51_7d3eb018.mp4: 480x640 10 BATTERYNOLABELs, 262.3ms',\n",
       " 'video 1/1 (frame 55/810) D:\\\\AI COURSE TAMIL\\\\First project\\\\BATTERY LABEL. YOLO8\\\\test_videos\\\\WhatsApp Video 2024-07-09 at 05.53.51_7d3eb018.mp4: 480x640 10 BATTERYNOLABELs, 230.4ms',\n",
       " 'video 1/1 (frame 56/810) D:\\\\AI COURSE TAMIL\\\\First project\\\\BATTERY LABEL. YOLO8\\\\test_videos\\\\WhatsApp Video 2024-07-09 at 05.53.51_7d3eb018.mp4: 480x640 10 BATTERYNOLABELs, 230.8ms',\n",
       " 'video 1/1 (frame 57/810) D:\\\\AI COURSE TAMIL\\\\First project\\\\BATTERY LABEL. YOLO8\\\\test_videos\\\\WhatsApp Video 2024-07-09 at 05.53.51_7d3eb018.mp4: 480x640 10 BATTERYNOLABELs, 516.4ms',\n",
       " 'video 1/1 (frame 58/810) D:\\\\AI COURSE TAMIL\\\\First project\\\\BATTERY LABEL. YOLO8\\\\test_videos\\\\WhatsApp Video 2024-07-09 at 05.53.51_7d3eb018.mp4: 480x640 10 BATTERYNOLABELs, 349.1ms',\n",
       " 'video 1/1 (frame 59/810) D:\\\\AI COURSE TAMIL\\\\First project\\\\BATTERY LABEL. YOLO8\\\\test_videos\\\\WhatsApp Video 2024-07-09 at 05.53.51_7d3eb018.mp4: 480x640 10 BATTERYNOLABELs, 218.4ms',\n",
       " 'video 1/1 (frame 60/810) D:\\\\AI COURSE TAMIL\\\\First project\\\\BATTERY LABEL. YOLO8\\\\test_videos\\\\WhatsApp Video 2024-07-09 at 05.53.51_7d3eb018.mp4: 480x640 10 BATTERYNOLABELs, 257.0ms',\n",
       " 'video 1/1 (frame 61/810) D:\\\\AI COURSE TAMIL\\\\First project\\\\BATTERY LABEL. YOLO8\\\\test_videos\\\\WhatsApp Video 2024-07-09 at 05.53.51_7d3eb018.mp4: 480x640 10 BATTERYNOLABELs, 278.7ms',\n",
       " 'video 1/1 (frame 62/810) D:\\\\AI COURSE TAMIL\\\\First project\\\\BATTERY LABEL. YOLO8\\\\test_videos\\\\WhatsApp Video 2024-07-09 at 05.53.51_7d3eb018.mp4: 480x640 10 BATTERYNOLABELs, 288.1ms',\n",
       " 'video 1/1 (frame 63/810) D:\\\\AI COURSE TAMIL\\\\First project\\\\BATTERY LABEL. YOLO8\\\\test_videos\\\\WhatsApp Video 2024-07-09 at 05.53.51_7d3eb018.mp4: 480x640 10 BATTERYNOLABELs, 681.6ms',\n",
       " 'video 1/1 (frame 64/810) D:\\\\AI COURSE TAMIL\\\\First project\\\\BATTERY LABEL. YOLO8\\\\test_videos\\\\WhatsApp Video 2024-07-09 at 05.53.51_7d3eb018.mp4: 480x640 10 BATTERYNOLABELs, 308.9ms',\n",
       " 'video 1/1 (frame 65/810) D:\\\\AI COURSE TAMIL\\\\First project\\\\BATTERY LABEL. YOLO8\\\\test_videos\\\\WhatsApp Video 2024-07-09 at 05.53.51_7d3eb018.mp4: 480x640 10 BATTERYNOLABELs, 551.2ms',\n",
       " 'video 1/1 (frame 66/810) D:\\\\AI COURSE TAMIL\\\\First project\\\\BATTERY LABEL. YOLO8\\\\test_videos\\\\WhatsApp Video 2024-07-09 at 05.53.51_7d3eb018.mp4: 480x640 10 BATTERYNOLABELs, 321.1ms',\n",
       " 'video 1/1 (frame 67/810) D:\\\\AI COURSE TAMIL\\\\First project\\\\BATTERY LABEL. YOLO8\\\\test_videos\\\\WhatsApp Video 2024-07-09 at 05.53.51_7d3eb018.mp4: 480x640 10 BATTERYNOLABELs, 385.0ms',\n",
       " 'video 1/1 (frame 68/810) D:\\\\AI COURSE TAMIL\\\\First project\\\\BATTERY LABEL. YOLO8\\\\test_videos\\\\WhatsApp Video 2024-07-09 at 05.53.51_7d3eb018.mp4: 480x640 10 BATTERYNOLABELs, 245.5ms',\n",
       " 'video 1/1 (frame 69/810) D:\\\\AI COURSE TAMIL\\\\First project\\\\BATTERY LABEL. YOLO8\\\\test_videos\\\\WhatsApp Video 2024-07-09 at 05.53.51_7d3eb018.mp4: 480x640 10 BATTERYNOLABELs, 262.3ms',\n",
       " 'video 1/1 (frame 70/810) D:\\\\AI COURSE TAMIL\\\\First project\\\\BATTERY LABEL. YOLO8\\\\test_videos\\\\WhatsApp Video 2024-07-09 at 05.53.51_7d3eb018.mp4: 480x640 10 BATTERYNOLABELs, 240.2ms',\n",
       " 'video 1/1 (frame 71/810) D:\\\\AI COURSE TAMIL\\\\First project\\\\BATTERY LABEL. YOLO8\\\\test_videos\\\\WhatsApp Video 2024-07-09 at 05.53.51_7d3eb018.mp4: 480x640 10 BATTERYNOLABELs, 214.2ms',\n",
       " 'video 1/1 (frame 72/810) D:\\\\AI COURSE TAMIL\\\\First project\\\\BATTERY LABEL. YOLO8\\\\test_videos\\\\WhatsApp Video 2024-07-09 at 05.53.51_7d3eb018.mp4: 480x640 10 BATTERYNOLABELs, 234.8ms',\n",
       " 'video 1/1 (frame 73/810) D:\\\\AI COURSE TAMIL\\\\First project\\\\BATTERY LABEL. YOLO8\\\\test_videos\\\\WhatsApp Video 2024-07-09 at 05.53.51_7d3eb018.mp4: 480x640 10 BATTERYNOLABELs, 329.5ms',\n",
       " 'video 1/1 (frame 74/810) D:\\\\AI COURSE TAMIL\\\\First project\\\\BATTERY LABEL. YOLO8\\\\test_videos\\\\WhatsApp Video 2024-07-09 at 05.53.51_7d3eb018.mp4: 480x640 10 BATTERYNOLABELs, 280.6ms',\n",
       " 'video 1/1 (frame 75/810) D:\\\\AI COURSE TAMIL\\\\First project\\\\BATTERY LABEL. YOLO8\\\\test_videos\\\\WhatsApp Video 2024-07-09 at 05.53.51_7d3eb018.mp4: 480x640 10 BATTERYNOLABELs, 219.5ms',\n",
       " 'video 1/1 (frame 76/810) D:\\\\AI COURSE TAMIL\\\\First project\\\\BATTERY LABEL. YOLO8\\\\test_videos\\\\WhatsApp Video 2024-07-09 at 05.53.51_7d3eb018.mp4: 480x640 10 BATTERYNOLABELs, 241.1ms',\n",
       " 'video 1/1 (frame 77/810) D:\\\\AI COURSE TAMIL\\\\First project\\\\BATTERY LABEL. YOLO8\\\\test_videos\\\\WhatsApp Video 2024-07-09 at 05.53.51_7d3eb018.mp4: 480x640 10 BATTERYNOLABELs, 239.3ms',\n",
       " 'video 1/1 (frame 78/810) D:\\\\AI COURSE TAMIL\\\\First project\\\\BATTERY LABEL. YOLO8\\\\test_videos\\\\WhatsApp Video 2024-07-09 at 05.53.51_7d3eb018.mp4: 480x640 10 BATTERYNOLABELs, 237.0ms',\n",
       " 'video 1/1 (frame 79/810) D:\\\\AI COURSE TAMIL\\\\First project\\\\BATTERY LABEL. YOLO8\\\\test_videos\\\\WhatsApp Video 2024-07-09 at 05.53.51_7d3eb018.mp4: 480x640 10 BATTERYNOLABELs, 219.7ms',\n",
       " 'video 1/1 (frame 80/810) D:\\\\AI COURSE TAMIL\\\\First project\\\\BATTERY LABEL. YOLO8\\\\test_videos\\\\WhatsApp Video 2024-07-09 at 05.53.51_7d3eb018.mp4: 480x640 10 BATTERYNOLABELs, 224.6ms',\n",
       " 'video 1/1 (frame 81/810) D:\\\\AI COURSE TAMIL\\\\First project\\\\BATTERY LABEL. YOLO8\\\\test_videos\\\\WhatsApp Video 2024-07-09 at 05.53.51_7d3eb018.mp4: 480x640 10 BATTERYNOLABELs, 224.6ms',\n",
       " 'video 1/1 (frame 82/810) D:\\\\AI COURSE TAMIL\\\\First project\\\\BATTERY LABEL. YOLO8\\\\test_videos\\\\WhatsApp Video 2024-07-09 at 05.53.51_7d3eb018.mp4: 480x640 10 BATTERYNOLABELs, 234.1ms',\n",
       " 'video 1/1 (frame 83/810) D:\\\\AI COURSE TAMIL\\\\First project\\\\BATTERY LABEL. YOLO8\\\\test_videos\\\\WhatsApp Video 2024-07-09 at 05.53.51_7d3eb018.mp4: 480x640 10 BATTERYNOLABELs, 210.6ms',\n",
       " 'video 1/1 (frame 84/810) D:\\\\AI COURSE TAMIL\\\\First project\\\\BATTERY LABEL. YOLO8\\\\test_videos\\\\WhatsApp Video 2024-07-09 at 05.53.51_7d3eb018.mp4: 480x640 10 BATTERYNOLABELs, 227.8ms',\n",
       " 'video 1/1 (frame 85/810) D:\\\\AI COURSE TAMIL\\\\First project\\\\BATTERY LABEL. YOLO8\\\\test_videos\\\\WhatsApp Video 2024-07-09 at 05.53.51_7d3eb018.mp4: 480x640 10 BATTERYNOLABELs, 235.3ms',\n",
       " 'video 1/1 (frame 86/810) D:\\\\AI COURSE TAMIL\\\\First project\\\\BATTERY LABEL. YOLO8\\\\test_videos\\\\WhatsApp Video 2024-07-09 at 05.53.51_7d3eb018.mp4: 480x640 10 BATTERYNOLABELs, 251.3ms',\n",
       " 'video 1/1 (frame 87/810) D:\\\\AI COURSE TAMIL\\\\First project\\\\BATTERY LABEL. YOLO8\\\\test_videos\\\\WhatsApp Video 2024-07-09 at 05.53.51_7d3eb018.mp4: 480x640 10 BATTERYNOLABELs, 260.2ms',\n",
       " 'video 1/1 (frame 88/810) D:\\\\AI COURSE TAMIL\\\\First project\\\\BATTERY LABEL. YOLO8\\\\test_videos\\\\WhatsApp Video 2024-07-09 at 05.53.51_7d3eb018.mp4: 480x640 10 BATTERYNOLABELs, 225.3ms',\n",
       " 'video 1/1 (frame 89/810) D:\\\\AI COURSE TAMIL\\\\First project\\\\BATTERY LABEL. YOLO8\\\\test_videos\\\\WhatsApp Video 2024-07-09 at 05.53.51_7d3eb018.mp4: 480x640 10 BATTERYNOLABELs, 224.5ms',\n",
       " 'video 1/1 (frame 90/810) D:\\\\AI COURSE TAMIL\\\\First project\\\\BATTERY LABEL. YOLO8\\\\test_videos\\\\WhatsApp Video 2024-07-09 at 05.53.51_7d3eb018.mp4: 480x640 10 BATTERYNOLABELs, 226.5ms',\n",
       " 'video 1/1 (frame 91/810) D:\\\\AI COURSE TAMIL\\\\First project\\\\BATTERY LABEL. YOLO8\\\\test_videos\\\\WhatsApp Video 2024-07-09 at 05.53.51_7d3eb018.mp4: 480x640 11 BATTERYREJECTs, 226.6ms',\n",
       " 'video 1/1 (frame 92/810) D:\\\\AI COURSE TAMIL\\\\First project\\\\BATTERY LABEL. YOLO8\\\\test_videos\\\\WhatsApp Video 2024-07-09 at 05.53.51_7d3eb018.mp4: 480x640 11 BATTERYREJECTs, 203.0ms',\n",
       " 'video 1/1 (frame 93/810) D:\\\\AI COURSE TAMIL\\\\First project\\\\BATTERY LABEL. YOLO8\\\\test_videos\\\\WhatsApp Video 2024-07-09 at 05.53.51_7d3eb018.mp4: 480x640 11 BATTERYREJECTs, 231.5ms',\n",
       " 'video 1/1 (frame 94/810) D:\\\\AI COURSE TAMIL\\\\First project\\\\BATTERY LABEL. YOLO8\\\\test_videos\\\\WhatsApp Video 2024-07-09 at 05.53.51_7d3eb018.mp4: 480x640 11 BATTERYREJECTs, 241.2ms',\n",
       " 'video 1/1 (frame 95/810) D:\\\\AI COURSE TAMIL\\\\First project\\\\BATTERY LABEL. YOLO8\\\\test_videos\\\\WhatsApp Video 2024-07-09 at 05.53.51_7d3eb018.mp4: 480x640 11 BATTERYREJECTs, 243.9ms',\n",
       " 'video 1/1 (frame 96/810) D:\\\\AI COURSE TAMIL\\\\First project\\\\BATTERY LABEL. YOLO8\\\\test_videos\\\\WhatsApp Video 2024-07-09 at 05.53.51_7d3eb018.mp4: 480x640 11 BATTERYREJECTs, 209.5ms',\n",
       " 'video 1/1 (frame 97/810) D:\\\\AI COURSE TAMIL\\\\First project\\\\BATTERY LABEL. YOLO8\\\\test_videos\\\\WhatsApp Video 2024-07-09 at 05.53.51_7d3eb018.mp4: 480x640 11 BATTERYREJECTs, 219.7ms',\n",
       " 'video 1/1 (frame 98/810) D:\\\\AI COURSE TAMIL\\\\First project\\\\BATTERY LABEL. YOLO8\\\\test_videos\\\\WhatsApp Video 2024-07-09 at 05.53.51_7d3eb018.mp4: 480x640 11 BATTERYREJECTs, 223.5ms',\n",
       " 'video 1/1 (frame 99/810) D:\\\\AI COURSE TAMIL\\\\First project\\\\BATTERY LABEL. YOLO8\\\\test_videos\\\\WhatsApp Video 2024-07-09 at 05.53.51_7d3eb018.mp4: 480x640 11 BATTERYREJECTs, 211.4ms',\n",
       " 'video 1/1 (frame 100/810) D:\\\\AI COURSE TAMIL\\\\First project\\\\BATTERY LABEL. YOLO8\\\\test_videos\\\\WhatsApp Video 2024-07-09 at 05.53.51_7d3eb018.mp4: 480x640 11 BATTERYREJECTs, 214.0ms',\n",
       " 'video 1/1 (frame 101/810) D:\\\\AI COURSE TAMIL\\\\First project\\\\BATTERY LABEL. YOLO8\\\\test_videos\\\\WhatsApp Video 2024-07-09 at 05.53.51_7d3eb018.mp4: 480x640 11 BATTERYREJECTs, 211.4ms',\n",
       " 'video 1/1 (frame 102/810) D:\\\\AI COURSE TAMIL\\\\First project\\\\BATTERY LABEL. YOLO8\\\\test_videos\\\\WhatsApp Video 2024-07-09 at 05.53.51_7d3eb018.mp4: 480x640 11 BATTERYREJECTs, 214.3ms',\n",
       " 'video 1/1 (frame 103/810) D:\\\\AI COURSE TAMIL\\\\First project\\\\BATTERY LABEL. YOLO8\\\\test_videos\\\\WhatsApp Video 2024-07-09 at 05.53.51_7d3eb018.mp4: 480x640 11 BATTERYREJECTs, 225.1ms',\n",
       " 'video 1/1 (frame 104/810) D:\\\\AI COURSE TAMIL\\\\First project\\\\BATTERY LABEL. YOLO8\\\\test_videos\\\\WhatsApp Video 2024-07-09 at 05.53.51_7d3eb018.mp4: 480x640 11 BATTERYREJECTs, 218.3ms',\n",
       " 'video 1/1 (frame 105/810) D:\\\\AI COURSE TAMIL\\\\First project\\\\BATTERY LABEL. YOLO8\\\\test_videos\\\\WhatsApp Video 2024-07-09 at 05.53.51_7d3eb018.mp4: 480x640 11 BATTERYREJECTs, 221.3ms',\n",
       " 'video 1/1 (frame 106/810) D:\\\\AI COURSE TAMIL\\\\First project\\\\BATTERY LABEL. YOLO8\\\\test_videos\\\\WhatsApp Video 2024-07-09 at 05.53.51_7d3eb018.mp4: 480x640 11 BATTERYREJECTs, 239.6ms',\n",
       " 'video 1/1 (frame 107/810) D:\\\\AI COURSE TAMIL\\\\First project\\\\BATTERY LABEL. YOLO8\\\\test_videos\\\\WhatsApp Video 2024-07-09 at 05.53.51_7d3eb018.mp4: 480x640 11 BATTERYREJECTs, 231.3ms',\n",
       " 'video 1/1 (frame 108/810) D:\\\\AI COURSE TAMIL\\\\First project\\\\BATTERY LABEL. YOLO8\\\\test_videos\\\\WhatsApp Video 2024-07-09 at 05.53.51_7d3eb018.mp4: 480x640 11 BATTERYREJECTs, 223.2ms',\n",
       " 'video 1/1 (frame 109/810) D:\\\\AI COURSE TAMIL\\\\First project\\\\BATTERY LABEL. YOLO8\\\\test_videos\\\\WhatsApp Video 2024-07-09 at 05.53.51_7d3eb018.mp4: 480x640 11 BATTERYREJECTs, 229.2ms',\n",
       " 'video 1/1 (frame 110/810) D:\\\\AI COURSE TAMIL\\\\First project\\\\BATTERY LABEL. YOLO8\\\\test_videos\\\\WhatsApp Video 2024-07-09 at 05.53.51_7d3eb018.mp4: 480x640 11 BATTERYREJECTs, 231.6ms',\n",
       " 'video 1/1 (frame 111/810) D:\\\\AI COURSE TAMIL\\\\First project\\\\BATTERY LABEL. YOLO8\\\\test_videos\\\\WhatsApp Video 2024-07-09 at 05.53.51_7d3eb018.mp4: 480x640 11 BATTERYREJECTs, 212.4ms',\n",
       " 'video 1/1 (frame 112/810) D:\\\\AI COURSE TAMIL\\\\First project\\\\BATTERY LABEL. YOLO8\\\\test_videos\\\\WhatsApp Video 2024-07-09 at 05.53.51_7d3eb018.mp4: 480x640 11 BATTERYREJECTs, 236.1ms',\n",
       " 'video 1/1 (frame 113/810) D:\\\\AI COURSE TAMIL\\\\First project\\\\BATTERY LABEL. YOLO8\\\\test_videos\\\\WhatsApp Video 2024-07-09 at 05.53.51_7d3eb018.mp4: 480x640 11 BATTERYREJECTs, 306.5ms',\n",
       " 'video 1/1 (frame 114/810) D:\\\\AI COURSE TAMIL\\\\First project\\\\BATTERY LABEL. YOLO8\\\\test_videos\\\\WhatsApp Video 2024-07-09 at 05.53.51_7d3eb018.mp4: 480x640 11 BATTERYREJECTs, 268.6ms',\n",
       " 'video 1/1 (frame 115/810) D:\\\\AI COURSE TAMIL\\\\First project\\\\BATTERY LABEL. YOLO8\\\\test_videos\\\\WhatsApp Video 2024-07-09 at 05.53.51_7d3eb018.mp4: 480x640 11 BATTERYREJECTs, 272.6ms',\n",
       " 'video 1/1 (frame 116/810) D:\\\\AI COURSE TAMIL\\\\First project\\\\BATTERY LABEL. YOLO8\\\\test_videos\\\\WhatsApp Video 2024-07-09 at 05.53.51_7d3eb018.mp4: 480x640 11 BATTERYREJECTs, 314.3ms',\n",
       " 'video 1/1 (frame 117/810) D:\\\\AI COURSE TAMIL\\\\First project\\\\BATTERY LABEL. YOLO8\\\\test_videos\\\\WhatsApp Video 2024-07-09 at 05.53.51_7d3eb018.mp4: 480x640 11 BATTERYREJECTs, 267.1ms',\n",
       " 'video 1/1 (frame 118/810) D:\\\\AI COURSE TAMIL\\\\First project\\\\BATTERY LABEL. YOLO8\\\\test_videos\\\\WhatsApp Video 2024-07-09 at 05.53.51_7d3eb018.mp4: 480x640 11 BATTERYREJECTs, 266.9ms',\n",
       " 'video 1/1 (frame 119/810) D:\\\\AI COURSE TAMIL\\\\First project\\\\BATTERY LABEL. YOLO8\\\\test_videos\\\\WhatsApp Video 2024-07-09 at 05.53.51_7d3eb018.mp4: 480x640 11 BATTERYREJECTs, 342.0ms',\n",
       " 'video 1/1 (frame 120/810) D:\\\\AI COURSE TAMIL\\\\First project\\\\BATTERY LABEL. YOLO8\\\\test_videos\\\\WhatsApp Video 2024-07-09 at 05.53.51_7d3eb018.mp4: 480x640 11 BATTERYREJECTs, 259.2ms',\n",
       " 'video 1/1 (frame 121/810) D:\\\\AI COURSE TAMIL\\\\First project\\\\BATTERY LABEL. YOLO8\\\\test_videos\\\\WhatsApp Video 2024-07-09 at 05.53.51_7d3eb018.mp4: 480x640 11 BATTERYREJECTs, 298.3ms',\n",
       " 'video 1/1 (frame 122/810) D:\\\\AI COURSE TAMIL\\\\First project\\\\BATTERY LABEL. YOLO8\\\\test_videos\\\\WhatsApp Video 2024-07-09 at 05.53.51_7d3eb018.mp4: 480x640 11 BATTERYREJECTs, 221.9ms',\n",
       " 'video 1/1 (frame 123/810) D:\\\\AI COURSE TAMIL\\\\First project\\\\BATTERY LABEL. YOLO8\\\\test_videos\\\\WhatsApp Video 2024-07-09 at 05.53.51_7d3eb018.mp4: 480x640 11 BATTERYREJECTs, 215.9ms',\n",
       " 'video 1/1 (frame 124/810) D:\\\\AI COURSE TAMIL\\\\First project\\\\BATTERY LABEL. YOLO8\\\\test_videos\\\\WhatsApp Video 2024-07-09 at 05.53.51_7d3eb018.mp4: 480x640 11 BATTERYREJECTs, 272.8ms',\n",
       " 'video 1/1 (frame 125/810) D:\\\\AI COURSE TAMIL\\\\First project\\\\BATTERY LABEL. YOLO8\\\\test_videos\\\\WhatsApp Video 2024-07-09 at 05.53.51_7d3eb018.mp4: 480x640 11 BATTERYREJECTs, 241.0ms',\n",
       " 'video 1/1 (frame 126/810) D:\\\\AI COURSE TAMIL\\\\First project\\\\BATTERY LABEL. YOLO8\\\\test_videos\\\\WhatsApp Video 2024-07-09 at 05.53.51_7d3eb018.mp4: 480x640 11 BATTERYREJECTs, 221.3ms',\n",
       " 'video 1/1 (frame 127/810) D:\\\\AI COURSE TAMIL\\\\First project\\\\BATTERY LABEL. YOLO8\\\\test_videos\\\\WhatsApp Video 2024-07-09 at 05.53.51_7d3eb018.mp4: 480x640 11 BATTERYREJECTs, 213.6ms',\n",
       " 'video 1/1 (frame 128/810) D:\\\\AI COURSE TAMIL\\\\First project\\\\BATTERY LABEL. YOLO8\\\\test_videos\\\\WhatsApp Video 2024-07-09 at 05.53.51_7d3eb018.mp4: 480x640 11 BATTERYREJECTs, 222.3ms',\n",
       " 'video 1/1 (frame 129/810) D:\\\\AI COURSE TAMIL\\\\First project\\\\BATTERY LABEL. YOLO8\\\\test_videos\\\\WhatsApp Video 2024-07-09 at 05.53.51_7d3eb018.mp4: 480x640 11 BATTERYREJECTs, 231.3ms',\n",
       " 'video 1/1 (frame 130/810) D:\\\\AI COURSE TAMIL\\\\First project\\\\BATTERY LABEL. YOLO8\\\\test_videos\\\\WhatsApp Video 2024-07-09 at 05.53.51_7d3eb018.mp4: 480x640 11 BATTERYREJECTs, 269.9ms',\n",
       " 'video 1/1 (frame 131/810) D:\\\\AI COURSE TAMIL\\\\First project\\\\BATTERY LABEL. YOLO8\\\\test_videos\\\\WhatsApp Video 2024-07-09 at 05.53.51_7d3eb018.mp4: 480x640 11 BATTERYREJECTs, 296.7ms',\n",
       " 'video 1/1 (frame 132/810) D:\\\\AI COURSE TAMIL\\\\First project\\\\BATTERY LABEL. YOLO8\\\\test_videos\\\\WhatsApp Video 2024-07-09 at 05.53.51_7d3eb018.mp4: 480x640 11 BATTERYREJECTs, 254.2ms',\n",
       " 'video 1/1 (frame 133/810) D:\\\\AI COURSE TAMIL\\\\First project\\\\BATTERY LABEL. YOLO8\\\\test_videos\\\\WhatsApp Video 2024-07-09 at 05.53.51_7d3eb018.mp4: 480x640 11 BATTERYREJECTs, 228.4ms',\n",
       " 'video 1/1 (frame 134/810) D:\\\\AI COURSE TAMIL\\\\First project\\\\BATTERY LABEL. YOLO8\\\\test_videos\\\\WhatsApp Video 2024-07-09 at 05.53.51_7d3eb018.mp4: 480x640 11 BATTERYREJECTs, 233.9ms',\n",
       " 'video 1/1 (frame 135/810) D:\\\\AI COURSE TAMIL\\\\First project\\\\BATTERY LABEL. YOLO8\\\\test_videos\\\\WhatsApp Video 2024-07-09 at 05.53.51_7d3eb018.mp4: 480x640 11 BATTERYREJECTs, 229.3ms',\n",
       " 'video 1/1 (frame 136/810) D:\\\\AI COURSE TAMIL\\\\First project\\\\BATTERY LABEL. YOLO8\\\\test_videos\\\\WhatsApp Video 2024-07-09 at 05.53.51_7d3eb018.mp4: 480x640 11 BATTERYREJECTs, 211.2ms',\n",
       " 'video 1/1 (frame 137/810) D:\\\\AI COURSE TAMIL\\\\First project\\\\BATTERY LABEL. YOLO8\\\\test_videos\\\\WhatsApp Video 2024-07-09 at 05.53.51_7d3eb018.mp4: 480x640 11 BATTERYREJECTs, 222.9ms',\n",
       " 'video 1/1 (frame 138/810) D:\\\\AI COURSE TAMIL\\\\First project\\\\BATTERY LABEL. YOLO8\\\\test_videos\\\\WhatsApp Video 2024-07-09 at 05.53.51_7d3eb018.mp4: 480x640 11 BATTERYREJECTs, 223.3ms',\n",
       " 'video 1/1 (frame 139/810) D:\\\\AI COURSE TAMIL\\\\First project\\\\BATTERY LABEL. YOLO8\\\\test_videos\\\\WhatsApp Video 2024-07-09 at 05.53.51_7d3eb018.mp4: 480x640 11 BATTERYREJECTs, 221.3ms',\n",
       " 'video 1/1 (frame 140/810) D:\\\\AI COURSE TAMIL\\\\First project\\\\BATTERY LABEL. YOLO8\\\\test_videos\\\\WhatsApp Video 2024-07-09 at 05.53.51_7d3eb018.mp4: 480x640 11 BATTERYREJECTs, 241.5ms',\n",
       " 'video 1/1 (frame 141/810) D:\\\\AI COURSE TAMIL\\\\First project\\\\BATTERY LABEL. YOLO8\\\\test_videos\\\\WhatsApp Video 2024-07-09 at 05.53.51_7d3eb018.mp4: 480x640 11 BATTERYREJECTs, 221.2ms',\n",
       " 'video 1/1 (frame 142/810) D:\\\\AI COURSE TAMIL\\\\First project\\\\BATTERY LABEL. YOLO8\\\\test_videos\\\\WhatsApp Video 2024-07-09 at 05.53.51_7d3eb018.mp4: 480x640 11 BATTERYREJECTs, 221.3ms',\n",
       " 'video 1/1 (frame 143/810) D:\\\\AI COURSE TAMIL\\\\First project\\\\BATTERY LABEL. YOLO8\\\\test_videos\\\\WhatsApp Video 2024-07-09 at 05.53.51_7d3eb018.mp4: 480x640 11 BATTERYREJECTs, 231.6ms',\n",
       " 'video 1/1 (frame 144/810) D:\\\\AI COURSE TAMIL\\\\First project\\\\BATTERY LABEL. YOLO8\\\\test_videos\\\\WhatsApp Video 2024-07-09 at 05.53.51_7d3eb018.mp4: 480x640 11 BATTERYREJECTs, 239.3ms',\n",
       " 'video 1/1 (frame 145/810) D:\\\\AI COURSE TAMIL\\\\First project\\\\BATTERY LABEL. YOLO8\\\\test_videos\\\\WhatsApp Video 2024-07-09 at 05.53.51_7d3eb018.mp4: 480x640 11 BATTERYREJECTs, 221.3ms',\n",
       " 'video 1/1 (frame 146/810) D:\\\\AI COURSE TAMIL\\\\First project\\\\BATTERY LABEL. YOLO8\\\\test_videos\\\\WhatsApp Video 2024-07-09 at 05.53.51_7d3eb018.mp4: 480x640 11 BATTERYREJECTs, 220.5ms',\n",
       " 'video 1/1 (frame 147/810) D:\\\\AI COURSE TAMIL\\\\First project\\\\BATTERY LABEL. YOLO8\\\\test_videos\\\\WhatsApp Video 2024-07-09 at 05.53.51_7d3eb018.mp4: 480x640 11 BATTERYREJECTs, 239.4ms',\n",
       " 'video 1/1 (frame 148/810) D:\\\\AI COURSE TAMIL\\\\First project\\\\BATTERY LABEL. YOLO8\\\\test_videos\\\\WhatsApp Video 2024-07-09 at 05.53.51_7d3eb018.mp4: 480x640 11 BATTERYREJECTs, 211.2ms',\n",
       " 'video 1/1 (frame 149/810) D:\\\\AI COURSE TAMIL\\\\First project\\\\BATTERY LABEL. YOLO8\\\\test_videos\\\\WhatsApp Video 2024-07-09 at 05.53.51_7d3eb018.mp4: 480x640 11 BATTERYREJECTs, 220.2ms',\n",
       " 'video 1/1 (frame 150/810) D:\\\\AI COURSE TAMIL\\\\First project\\\\BATTERY LABEL. YOLO8\\\\test_videos\\\\WhatsApp Video 2024-07-09 at 05.53.51_7d3eb018.mp4: 480x640 11 BATTERYREJECTs, 213.2ms',\n",
       " 'video 1/1 (frame 151/810) D:\\\\AI COURSE TAMIL\\\\First project\\\\BATTERY LABEL. YOLO8\\\\test_videos\\\\WhatsApp Video 2024-07-09 at 05.53.51_7d3eb018.mp4: 480x640 11 BATTERYREJECTs, 221.4ms',\n",
       " 'video 1/1 (frame 152/810) D:\\\\AI COURSE TAMIL\\\\First project\\\\BATTERY LABEL. YOLO8\\\\test_videos\\\\WhatsApp Video 2024-07-09 at 05.53.51_7d3eb018.mp4: 480x640 11 BATTERYREJECTs, 224.4ms',\n",
       " 'video 1/1 (frame 153/810) D:\\\\AI COURSE TAMIL\\\\First project\\\\BATTERY LABEL. YOLO8\\\\test_videos\\\\WhatsApp Video 2024-07-09 at 05.53.51_7d3eb018.mp4: 480x640 11 BATTERYREJECTs, 221.4ms',\n",
       " 'video 1/1 (frame 154/810) D:\\\\AI COURSE TAMIL\\\\First project\\\\BATTERY LABEL. YOLO8\\\\test_videos\\\\WhatsApp Video 2024-07-09 at 05.53.51_7d3eb018.mp4: 480x640 11 BATTERYREJECTs, 258.5ms',\n",
       " 'video 1/1 (frame 155/810) D:\\\\AI COURSE TAMIL\\\\First project\\\\BATTERY LABEL. YOLO8\\\\test_videos\\\\WhatsApp Video 2024-07-09 at 05.53.51_7d3eb018.mp4: 480x640 11 BATTERYREJECTs, 221.7ms',\n",
       " 'video 1/1 (frame 156/810) D:\\\\AI COURSE TAMIL\\\\First project\\\\BATTERY LABEL. YOLO8\\\\test_videos\\\\WhatsApp Video 2024-07-09 at 05.53.51_7d3eb018.mp4: 480x640 11 BATTERYREJECTs, 226.2ms',\n",
       " 'video 1/1 (frame 157/810) D:\\\\AI COURSE TAMIL\\\\First project\\\\BATTERY LABEL. YOLO8\\\\test_videos\\\\WhatsApp Video 2024-07-09 at 05.53.51_7d3eb018.mp4: 480x640 11 BATTERYREJECTs, 229.5ms',\n",
       " 'video 1/1 (frame 158/810) D:\\\\AI COURSE TAMIL\\\\First project\\\\BATTERY LABEL. YOLO8\\\\test_videos\\\\WhatsApp Video 2024-07-09 at 05.53.51_7d3eb018.mp4: 480x640 11 BATTERYREJECTs, 206.0ms',\n",
       " 'video 1/1 (frame 159/810) D:\\\\AI COURSE TAMIL\\\\First project\\\\BATTERY LABEL. YOLO8\\\\test_videos\\\\WhatsApp Video 2024-07-09 at 05.53.51_7d3eb018.mp4: 480x640 11 BATTERYREJECTs, 209.0ms',\n",
       " 'video 1/1 (frame 160/810) D:\\\\AI COURSE TAMIL\\\\First project\\\\BATTERY LABEL. YOLO8\\\\test_videos\\\\WhatsApp Video 2024-07-09 at 05.53.51_7d3eb018.mp4: 480x640 11 BATTERYREJECTs, 237.8ms',\n",
       " 'video 1/1 (frame 161/810) D:\\\\AI COURSE TAMIL\\\\First project\\\\BATTERY LABEL. YOLO8\\\\test_videos\\\\WhatsApp Video 2024-07-09 at 05.53.51_7d3eb018.mp4: 480x640 11 BATTERYREJECTs, 236.0ms',\n",
       " 'video 1/1 (frame 162/810) D:\\\\AI COURSE TAMIL\\\\First project\\\\BATTERY LABEL. YOLO8\\\\test_videos\\\\WhatsApp Video 2024-07-09 at 05.53.51_7d3eb018.mp4: 480x640 11 BATTERYREJECTs, 224.6ms',\n",
       " 'video 1/1 (frame 163/810) D:\\\\AI COURSE TAMIL\\\\First project\\\\BATTERY LABEL. YOLO8\\\\test_videos\\\\WhatsApp Video 2024-07-09 at 05.53.51_7d3eb018.mp4: 480x640 11 BATTERYREJECTs, 221.9ms',\n",
       " 'video 1/1 (frame 164/810) D:\\\\AI COURSE TAMIL\\\\First project\\\\BATTERY LABEL. YOLO8\\\\test_videos\\\\WhatsApp Video 2024-07-09 at 05.53.51_7d3eb018.mp4: 480x640 11 BATTERYREJECTs, 214.6ms',\n",
       " 'video 1/1 (frame 165/810) D:\\\\AI COURSE TAMIL\\\\First project\\\\BATTERY LABEL. YOLO8\\\\test_videos\\\\WhatsApp Video 2024-07-09 at 05.53.51_7d3eb018.mp4: 480x640 11 BATTERYREJECTs, 216.1ms',\n",
       " 'video 1/1 (frame 166/810) D:\\\\AI COURSE TAMIL\\\\First project\\\\BATTERY LABEL. YOLO8\\\\test_videos\\\\WhatsApp Video 2024-07-09 at 05.53.51_7d3eb018.mp4: 480x640 11 BATTERYREJECTs, 213.3ms',\n",
       " 'video 1/1 (frame 167/810) D:\\\\AI COURSE TAMIL\\\\First project\\\\BATTERY LABEL. YOLO8\\\\test_videos\\\\WhatsApp Video 2024-07-09 at 05.53.51_7d3eb018.mp4: 480x640 11 BATTERYREJECTs, 211.1ms',\n",
       " 'video 1/1 (frame 168/810) D:\\\\AI COURSE TAMIL\\\\First project\\\\BATTERY LABEL. YOLO8\\\\test_videos\\\\WhatsApp Video 2024-07-09 at 05.53.51_7d3eb018.mp4: 480x640 11 BATTERYREJECTs, 219.3ms',\n",
       " 'video 1/1 (frame 169/810) D:\\\\AI COURSE TAMIL\\\\First project\\\\BATTERY LABEL. YOLO8\\\\test_videos\\\\WhatsApp Video 2024-07-09 at 05.53.51_7d3eb018.mp4: 480x640 11 BATTERYREJECTs, 213.4ms',\n",
       " 'video 1/1 (frame 170/810) D:\\\\AI COURSE TAMIL\\\\First project\\\\BATTERY LABEL. YOLO8\\\\test_videos\\\\WhatsApp Video 2024-07-09 at 05.53.51_7d3eb018.mp4: 480x640 11 BATTERYREJECTs, 213.3ms',\n",
       " 'video 1/1 (frame 171/810) D:\\\\AI COURSE TAMIL\\\\First project\\\\BATTERY LABEL. YOLO8\\\\test_videos\\\\WhatsApp Video 2024-07-09 at 05.53.51_7d3eb018.mp4: 480x640 11 BATTERYREJECTs, 219.1ms',\n",
       " 'video 1/1 (frame 172/810) D:\\\\AI COURSE TAMIL\\\\First project\\\\BATTERY LABEL. YOLO8\\\\test_videos\\\\WhatsApp Video 2024-07-09 at 05.53.51_7d3eb018.mp4: 480x640 11 BATTERYREJECTs, 226.7ms',\n",
       " 'video 1/1 (frame 173/810) D:\\\\AI COURSE TAMIL\\\\First project\\\\BATTERY LABEL. YOLO8\\\\test_videos\\\\WhatsApp Video 2024-07-09 at 05.53.51_7d3eb018.mp4: 480x640 11 BATTERYREJECTs, 227.0ms',\n",
       " 'video 1/1 (frame 174/810) D:\\\\AI COURSE TAMIL\\\\First project\\\\BATTERY LABEL. YOLO8\\\\test_videos\\\\WhatsApp Video 2024-07-09 at 05.53.51_7d3eb018.mp4: 480x640 11 BATTERYREJECTs, 214.5ms',\n",
       " 'video 1/1 (frame 175/810) D:\\\\AI COURSE TAMIL\\\\First project\\\\BATTERY LABEL. YOLO8\\\\test_videos\\\\WhatsApp Video 2024-07-09 at 05.53.51_7d3eb018.mp4: 480x640 11 BATTERYREJECTs, 236.0ms',\n",
       " 'video 1/1 (frame 176/810) D:\\\\AI COURSE TAMIL\\\\First project\\\\BATTERY LABEL. YOLO8\\\\test_videos\\\\WhatsApp Video 2024-07-09 at 05.53.51_7d3eb018.mp4: 480x640 11 BATTERYREJECTs, 243.7ms',\n",
       " 'video 1/1 (frame 177/810) D:\\\\AI COURSE TAMIL\\\\First project\\\\BATTERY LABEL. YOLO8\\\\test_videos\\\\WhatsApp Video 2024-07-09 at 05.53.51_7d3eb018.mp4: 480x640 11 BATTERYREJECTs, 253.3ms',\n",
       " 'video 1/1 (frame 178/810) D:\\\\AI COURSE TAMIL\\\\First project\\\\BATTERY LABEL. YOLO8\\\\test_videos\\\\WhatsApp Video 2024-07-09 at 05.53.51_7d3eb018.mp4: 480x640 11 BATTERYREJECTs, 229.6ms',\n",
       " 'video 1/1 (frame 179/810) D:\\\\AI COURSE TAMIL\\\\First project\\\\BATTERY LABEL. YOLO8\\\\test_videos\\\\WhatsApp Video 2024-07-09 at 05.53.51_7d3eb018.mp4: 480x640 11 BATTERYREJECTs, 212.4ms',\n",
       " 'video 1/1 (frame 180/810) D:\\\\AI COURSE TAMIL\\\\First project\\\\BATTERY LABEL. YOLO8\\\\test_videos\\\\WhatsApp Video 2024-07-09 at 05.53.51_7d3eb018.mp4: 480x640 11 BATTERYREJECTs, 212.4ms',\n",
       " 'video 1/1 (frame 181/810) D:\\\\AI COURSE TAMIL\\\\First project\\\\BATTERY LABEL. YOLO8\\\\test_videos\\\\WhatsApp Video 2024-07-09 at 05.53.51_7d3eb018.mp4: 480x640 9 BATTERYREJECTs, 215.4ms',\n",
       " 'video 1/1 (frame 182/810) D:\\\\AI COURSE TAMIL\\\\First project\\\\BATTERY LABEL. YOLO8\\\\test_videos\\\\WhatsApp Video 2024-07-09 at 05.53.51_7d3eb018.mp4: 480x640 9 BATTERYREJECTs, 219.4ms',\n",
       " 'video 1/1 (frame 183/810) D:\\\\AI COURSE TAMIL\\\\First project\\\\BATTERY LABEL. YOLO8\\\\test_videos\\\\WhatsApp Video 2024-07-09 at 05.53.51_7d3eb018.mp4: 480x640 9 BATTERYREJECTs, 211.0ms',\n",
       " 'video 1/1 (frame 184/810) D:\\\\AI COURSE TAMIL\\\\First project\\\\BATTERY LABEL. YOLO8\\\\test_videos\\\\WhatsApp Video 2024-07-09 at 05.53.51_7d3eb018.mp4: 480x640 9 BATTERYREJECTs, 211.5ms',\n",
       " 'video 1/1 (frame 185/810) D:\\\\AI COURSE TAMIL\\\\First project\\\\BATTERY LABEL. YOLO8\\\\test_videos\\\\WhatsApp Video 2024-07-09 at 05.53.51_7d3eb018.mp4: 480x640 9 BATTERYREJECTs, 221.3ms',\n",
       " 'video 1/1 (frame 186/810) D:\\\\AI COURSE TAMIL\\\\First project\\\\BATTERY LABEL. YOLO8\\\\test_videos\\\\WhatsApp Video 2024-07-09 at 05.53.51_7d3eb018.mp4: 480x640 9 BATTERYREJECTs, 223.3ms',\n",
       " 'video 1/1 (frame 187/810) D:\\\\AI COURSE TAMIL\\\\First project\\\\BATTERY LABEL. YOLO8\\\\test_videos\\\\WhatsApp Video 2024-07-09 at 05.53.51_7d3eb018.mp4: 480x640 9 BATTERYREJECTs, 213.5ms',\n",
       " 'video 1/1 (frame 188/810) D:\\\\AI COURSE TAMIL\\\\First project\\\\BATTERY LABEL. YOLO8\\\\test_videos\\\\WhatsApp Video 2024-07-09 at 05.53.51_7d3eb018.mp4: 480x640 9 BATTERYREJECTs, 223.5ms',\n",
       " 'video 1/1 (frame 189/810) D:\\\\AI COURSE TAMIL\\\\First project\\\\BATTERY LABEL. YOLO8\\\\test_videos\\\\WhatsApp Video 2024-07-09 at 05.53.51_7d3eb018.mp4: 480x640 9 BATTERYREJECTs, 293.8ms',\n",
       " 'video 1/1 (frame 190/810) D:\\\\AI COURSE TAMIL\\\\First project\\\\BATTERY LABEL. YOLO8\\\\test_videos\\\\WhatsApp Video 2024-07-09 at 05.53.51_7d3eb018.mp4: 480x640 9 BATTERYREJECTs, 217.3ms',\n",
       " 'video 1/1 (frame 191/810) D:\\\\AI COURSE TAMIL\\\\First project\\\\BATTERY LABEL. YOLO8\\\\test_videos\\\\WhatsApp Video 2024-07-09 at 05.53.51_7d3eb018.mp4: 480x640 9 BATTERYREJECTs, 211.0ms',\n",
       " 'video 1/1 (frame 192/810) D:\\\\AI COURSE TAMIL\\\\First project\\\\BATTERY LABEL. YOLO8\\\\test_videos\\\\WhatsApp Video 2024-07-09 at 05.53.51_7d3eb018.mp4: 480x640 9 BATTERYREJECTs, 290.9ms',\n",
       " 'video 1/1 (frame 193/810) D:\\\\AI COURSE TAMIL\\\\First project\\\\BATTERY LABEL. YOLO8\\\\test_videos\\\\WhatsApp Video 2024-07-09 at 05.53.51_7d3eb018.mp4: 480x640 9 BATTERYREJECTs, 244.0ms',\n",
       " 'video 1/1 (frame 194/810) D:\\\\AI COURSE TAMIL\\\\First project\\\\BATTERY LABEL. YOLO8\\\\test_videos\\\\WhatsApp Video 2024-07-09 at 05.53.51_7d3eb018.mp4: 480x640 9 BATTERYREJECTs, 204.6ms',\n",
       " 'video 1/1 (frame 195/810) D:\\\\AI COURSE TAMIL\\\\First project\\\\BATTERY LABEL. YOLO8\\\\test_videos\\\\WhatsApp Video 2024-07-09 at 05.53.51_7d3eb018.mp4: 480x640 9 BATTERYREJECTs, 211.2ms',\n",
       " 'video 1/1 (frame 196/810) D:\\\\AI COURSE TAMIL\\\\First project\\\\BATTERY LABEL. YOLO8\\\\test_videos\\\\WhatsApp Video 2024-07-09 at 05.53.51_7d3eb018.mp4: 480x640 9 BATTERYREJECTs, 219.2ms',\n",
       " 'video 1/1 (frame 197/810) D:\\\\AI COURSE TAMIL\\\\First project\\\\BATTERY LABEL. YOLO8\\\\test_videos\\\\WhatsApp Video 2024-07-09 at 05.53.51_7d3eb018.mp4: 480x640 9 BATTERYREJECTs, 290.6ms',\n",
       " 'video 1/1 (frame 198/810) D:\\\\AI COURSE TAMIL\\\\First project\\\\BATTERY LABEL. YOLO8\\\\test_videos\\\\WhatsApp Video 2024-07-09 at 05.53.51_7d3eb018.mp4: 480x640 9 BATTERYREJECTs, 221.3ms',\n",
       " 'video 1/1 (frame 199/810) D:\\\\AI COURSE TAMIL\\\\First project\\\\BATTERY LABEL. YOLO8\\\\test_videos\\\\WhatsApp Video 2024-07-09 at 05.53.51_7d3eb018.mp4: 480x640 9 BATTERYREJECTs, 208.5ms',\n",
       " 'video 1/1 (frame 200/810) D:\\\\AI COURSE TAMIL\\\\First project\\\\BATTERY LABEL. YOLO8\\\\test_videos\\\\WhatsApp Video 2024-07-09 at 05.53.51_7d3eb018.mp4: 480x640 9 BATTERYREJECTs, 211.3ms',\n",
       " 'video 1/1 (frame 201/810) D:\\\\AI COURSE TAMIL\\\\First project\\\\BATTERY LABEL. YOLO8\\\\test_videos\\\\WhatsApp Video 2024-07-09 at 05.53.51_7d3eb018.mp4: 480x640 9 BATTERYREJECTs, 209.9ms',\n",
       " 'video 1/1 (frame 202/810) D:\\\\AI COURSE TAMIL\\\\First project\\\\BATTERY LABEL. YOLO8\\\\test_videos\\\\WhatsApp Video 2024-07-09 at 05.53.51_7d3eb018.mp4: 480x640 9 BATTERYREJECTs, 225.3ms',\n",
       " 'video 1/1 (frame 203/810) D:\\\\AI COURSE TAMIL\\\\First project\\\\BATTERY LABEL. YOLO8\\\\test_videos\\\\WhatsApp Video 2024-07-09 at 05.53.51_7d3eb018.mp4: 480x640 9 BATTERYREJECTs, 213.3ms',\n",
       " 'video 1/1 (frame 204/810) D:\\\\AI COURSE TAMIL\\\\First project\\\\BATTERY LABEL. YOLO8\\\\test_videos\\\\WhatsApp Video 2024-07-09 at 05.53.51_7d3eb018.mp4: 480x640 9 BATTERYREJECTs, 251.8ms',\n",
       " 'video 1/1 (frame 205/810) D:\\\\AI COURSE TAMIL\\\\First project\\\\BATTERY LABEL. YOLO8\\\\test_videos\\\\WhatsApp Video 2024-07-09 at 05.53.51_7d3eb018.mp4: 480x640 9 BATTERYREJECTs, 233.3ms',\n",
       " 'video 1/1 (frame 206/810) D:\\\\AI COURSE TAMIL\\\\First project\\\\BATTERY LABEL. YOLO8\\\\test_videos\\\\WhatsApp Video 2024-07-09 at 05.53.51_7d3eb018.mp4: 480x640 9 BATTERYREJECTs, 226.5ms',\n",
       " 'video 1/1 (frame 207/810) D:\\\\AI COURSE TAMIL\\\\First project\\\\BATTERY LABEL. YOLO8\\\\test_videos\\\\WhatsApp Video 2024-07-09 at 05.53.51_7d3eb018.mp4: 480x640 9 BATTERYREJECTs, 250.5ms',\n",
       " 'video 1/1 (frame 208/810) D:\\\\AI COURSE TAMIL\\\\First project\\\\BATTERY LABEL. YOLO8\\\\test_videos\\\\WhatsApp Video 2024-07-09 at 05.53.51_7d3eb018.mp4: 480x640 9 BATTERYREJECTs, 246.9ms',\n",
       " 'video 1/1 (frame 209/810) D:\\\\AI COURSE TAMIL\\\\First project\\\\BATTERY LABEL. YOLO8\\\\test_videos\\\\WhatsApp Video 2024-07-09 at 05.53.51_7d3eb018.mp4: 480x640 9 BATTERYREJECTs, 226.8ms',\n",
       " 'video 1/1 (frame 210/810) D:\\\\AI COURSE TAMIL\\\\First project\\\\BATTERY LABEL. YOLO8\\\\test_videos\\\\WhatsApp Video 2024-07-09 at 05.53.51_7d3eb018.mp4: 480x640 9 BATTERYREJECTs, 247.5ms',\n",
       " 'video 1/1 (frame 211/810) D:\\\\AI COURSE TAMIL\\\\First project\\\\BATTERY LABEL. YOLO8\\\\test_videos\\\\WhatsApp Video 2024-07-09 at 05.53.51_7d3eb018.mp4: 480x640 9 BATTERYREJECTs, 266.3ms',\n",
       " 'video 1/1 (frame 212/810) D:\\\\AI COURSE TAMIL\\\\First project\\\\BATTERY LABEL. YOLO8\\\\test_videos\\\\WhatsApp Video 2024-07-09 at 05.53.51_7d3eb018.mp4: 480x640 9 BATTERYREJECTs, 327.8ms',\n",
       " 'video 1/1 (frame 213/810) D:\\\\AI COURSE TAMIL\\\\First project\\\\BATTERY LABEL. YOLO8\\\\test_videos\\\\WhatsApp Video 2024-07-09 at 05.53.51_7d3eb018.mp4: 480x640 9 BATTERYREJECTs, 252.9ms',\n",
       " 'video 1/1 (frame 214/810) D:\\\\AI COURSE TAMIL\\\\First project\\\\BATTERY LABEL. YOLO8\\\\test_videos\\\\WhatsApp Video 2024-07-09 at 05.53.51_7d3eb018.mp4: 480x640 9 BATTERYREJECTs, 420.3ms',\n",
       " 'video 1/1 (frame 215/810) D:\\\\AI COURSE TAMIL\\\\First project\\\\BATTERY LABEL. YOLO8\\\\test_videos\\\\WhatsApp Video 2024-07-09 at 05.53.51_7d3eb018.mp4: 480x640 9 BATTERYREJECTs, 643.1ms',\n",
       " 'video 1/1 (frame 216/810) D:\\\\AI COURSE TAMIL\\\\First project\\\\BATTERY LABEL. YOLO8\\\\test_videos\\\\WhatsApp Video 2024-07-09 at 05.53.51_7d3eb018.mp4: 480x640 9 BATTERYREJECTs, 395.8ms',\n",
       " 'video 1/1 (frame 217/810) D:\\\\AI COURSE TAMIL\\\\First project\\\\BATTERY LABEL. YOLO8\\\\test_videos\\\\WhatsApp Video 2024-07-09 at 05.53.51_7d3eb018.mp4: 480x640 9 BATTERYREJECTs, 241.6ms',\n",
       " 'video 1/1 (frame 218/810) D:\\\\AI COURSE TAMIL\\\\First project\\\\BATTERY LABEL. YOLO8\\\\test_videos\\\\WhatsApp Video 2024-07-09 at 05.53.51_7d3eb018.mp4: 480x640 9 BATTERYREJECTs, 236.8ms',\n",
       " 'video 1/1 (frame 219/810) D:\\\\AI COURSE TAMIL\\\\First project\\\\BATTERY LABEL. YOLO8\\\\test_videos\\\\WhatsApp Video 2024-07-09 at 05.53.51_7d3eb018.mp4: 480x640 9 BATTERYREJECTs, 226.4ms',\n",
       " 'video 1/1 (frame 220/810) D:\\\\AI COURSE TAMIL\\\\First project\\\\BATTERY LABEL. YOLO8\\\\test_videos\\\\WhatsApp Video 2024-07-09 at 05.53.51_7d3eb018.mp4: 480x640 9 BATTERYREJECTs, 237.3ms',\n",
       " 'video 1/1 (frame 221/810) D:\\\\AI COURSE TAMIL\\\\First project\\\\BATTERY LABEL. YOLO8\\\\test_videos\\\\WhatsApp Video 2024-07-09 at 05.53.51_7d3eb018.mp4: 480x640 9 BATTERYREJECTs, 225.4ms',\n",
       " 'video 1/1 (frame 222/810) D:\\\\AI COURSE TAMIL\\\\First project\\\\BATTERY LABEL. YOLO8\\\\test_videos\\\\WhatsApp Video 2024-07-09 at 05.53.51_7d3eb018.mp4: 480x640 9 BATTERYREJECTs, 222.1ms',\n",
       " 'video 1/1 (frame 223/810) D:\\\\AI COURSE TAMIL\\\\First project\\\\BATTERY LABEL. YOLO8\\\\test_videos\\\\WhatsApp Video 2024-07-09 at 05.53.51_7d3eb018.mp4: 480x640 9 BATTERYREJECTs, 231.2ms',\n",
       " 'video 1/1 (frame 224/810) D:\\\\AI COURSE TAMIL\\\\First project\\\\BATTERY LABEL. YOLO8\\\\test_videos\\\\WhatsApp Video 2024-07-09 at 05.53.51_7d3eb018.mp4: 480x640 9 BATTERYREJECTs, 216.6ms',\n",
       " 'video 1/1 (frame 225/810) D:\\\\AI COURSE TAMIL\\\\First project\\\\BATTERY LABEL. YOLO8\\\\test_videos\\\\WhatsApp Video 2024-07-09 at 05.53.51_7d3eb018.mp4: 480x640 9 BATTERYREJECTs, 214.7ms',\n",
       " 'video 1/1 (frame 226/810) D:\\\\AI COURSE TAMIL\\\\First project\\\\BATTERY LABEL. YOLO8\\\\test_videos\\\\WhatsApp Video 2024-07-09 at 05.53.51_7d3eb018.mp4: 480x640 9 BATTERYREJECTs, 226.3ms',\n",
       " 'video 1/1 (frame 227/810) D:\\\\AI COURSE TAMIL\\\\First project\\\\BATTERY LABEL. YOLO8\\\\test_videos\\\\WhatsApp Video 2024-07-09 at 05.53.51_7d3eb018.mp4: 480x640 9 BATTERYREJECTs, 223.1ms',\n",
       " 'video 1/1 (frame 228/810) D:\\\\AI COURSE TAMIL\\\\First project\\\\BATTERY LABEL. YOLO8\\\\test_videos\\\\WhatsApp Video 2024-07-09 at 05.53.51_7d3eb018.mp4: 480x640 9 BATTERYREJECTs, 221.3ms',\n",
       " 'video 1/1 (frame 229/810) D:\\\\AI COURSE TAMIL\\\\First project\\\\BATTERY LABEL. YOLO8\\\\test_videos\\\\WhatsApp Video 2024-07-09 at 05.53.51_7d3eb018.mp4: 480x640 9 BATTERYREJECTs, 216.1ms',\n",
       " 'video 1/1 (frame 230/810) D:\\\\AI COURSE TAMIL\\\\First project\\\\BATTERY LABEL. YOLO8\\\\test_videos\\\\WhatsApp Video 2024-07-09 at 05.53.51_7d3eb018.mp4: 480x640 9 BATTERYREJECTs, 283.5ms',\n",
       " 'video 1/1 (frame 231/810) D:\\\\AI COURSE TAMIL\\\\First project\\\\BATTERY LABEL. YOLO8\\\\test_videos\\\\WhatsApp Video 2024-07-09 at 05.53.51_7d3eb018.mp4: 480x640 9 BATTERYREJECTs, 221.3ms',\n",
       " 'video 1/1 (frame 232/810) D:\\\\AI COURSE TAMIL\\\\First project\\\\BATTERY LABEL. YOLO8\\\\test_videos\\\\WhatsApp Video 2024-07-09 at 05.53.51_7d3eb018.mp4: 480x640 9 BATTERYREJECTs, 222.1ms',\n",
       " 'video 1/1 (frame 233/810) D:\\\\AI COURSE TAMIL\\\\First project\\\\BATTERY LABEL. YOLO8\\\\test_videos\\\\WhatsApp Video 2024-07-09 at 05.53.51_7d3eb018.mp4: 480x640 9 BATTERYREJECTs, 221.0ms',\n",
       " 'video 1/1 (frame 234/810) D:\\\\AI COURSE TAMIL\\\\First project\\\\BATTERY LABEL. YOLO8\\\\test_videos\\\\WhatsApp Video 2024-07-09 at 05.53.51_7d3eb018.mp4: 480x640 9 BATTERYREJECTs, 440.9ms',\n",
       " 'video 1/1 (frame 235/810) D:\\\\AI COURSE TAMIL\\\\First project\\\\BATTERY LABEL. YOLO8\\\\test_videos\\\\WhatsApp Video 2024-07-09 at 05.53.51_7d3eb018.mp4: 480x640 9 BATTERYREJECTs, 388.0ms',\n",
       " 'video 1/1 (frame 236/810) D:\\\\AI COURSE TAMIL\\\\First project\\\\BATTERY LABEL. YOLO8\\\\test_videos\\\\WhatsApp Video 2024-07-09 at 05.53.51_7d3eb018.mp4: 480x640 9 BATTERYREJECTs, 242.0ms',\n",
       " 'video 1/1 (frame 237/810) D:\\\\AI COURSE TAMIL\\\\First project\\\\BATTERY LABEL. YOLO8\\\\test_videos\\\\WhatsApp Video 2024-07-09 at 05.53.51_7d3eb018.mp4: 480x640 9 BATTERYREJECTs, 237.7ms',\n",
       " 'video 1/1 (frame 238/810) D:\\\\AI COURSE TAMIL\\\\First project\\\\BATTERY LABEL. YOLO8\\\\test_videos\\\\WhatsApp Video 2024-07-09 at 05.53.51_7d3eb018.mp4: 480x640 9 BATTERYREJECTs, 340.4ms',\n",
       " 'video 1/1 (frame 239/810) D:\\\\AI COURSE TAMIL\\\\First project\\\\BATTERY LABEL. YOLO8\\\\test_videos\\\\WhatsApp Video 2024-07-09 at 05.53.51_7d3eb018.mp4: 480x640 9 BATTERYREJECTs, 312.6ms',\n",
       " 'video 1/1 (frame 240/810) D:\\\\AI COURSE TAMIL\\\\First project\\\\BATTERY LABEL. YOLO8\\\\test_videos\\\\WhatsApp Video 2024-07-09 at 05.53.51_7d3eb018.mp4: 480x640 9 BATTERYREJECTs, 343.9ms',\n",
       " 'video 1/1 (frame 241/810) D:\\\\AI COURSE TAMIL\\\\First project\\\\BATTERY LABEL. YOLO8\\\\test_videos\\\\WhatsApp Video 2024-07-09 at 05.53.51_7d3eb018.mp4: 480x640 9 BATTERYREJECTs, 331.3ms',\n",
       " 'video 1/1 (frame 242/810) D:\\\\AI COURSE TAMIL\\\\First project\\\\BATTERY LABEL. YOLO8\\\\test_videos\\\\WhatsApp Video 2024-07-09 at 05.53.51_7d3eb018.mp4: 480x640 9 BATTERYREJECTs, 382.1ms',\n",
       " 'video 1/1 (frame 243/810) D:\\\\AI COURSE TAMIL\\\\First project\\\\BATTERY LABEL. YOLO8\\\\test_videos\\\\WhatsApp Video 2024-07-09 at 05.53.51_7d3eb018.mp4: 480x640 9 BATTERYREJECTs, 313.1ms',\n",
       " 'video 1/1 (frame 244/810) D:\\\\AI COURSE TAMIL\\\\First project\\\\BATTERY LABEL. YOLO8\\\\test_videos\\\\WhatsApp Video 2024-07-09 at 05.53.51_7d3eb018.mp4: 480x640 9 BATTERYREJECTs, 272.6ms',\n",
       " 'video 1/1 (frame 245/810) D:\\\\AI COURSE TAMIL\\\\First project\\\\BATTERY LABEL. YOLO8\\\\test_videos\\\\WhatsApp Video 2024-07-09 at 05.53.51_7d3eb018.mp4: 480x640 9 BATTERYREJECTs, 285.2ms',\n",
       " 'video 1/1 (frame 246/810) D:\\\\AI COURSE TAMIL\\\\First project\\\\BATTERY LABEL. YOLO8\\\\test_videos\\\\WhatsApp Video 2024-07-09 at 05.53.51_7d3eb018.mp4: 480x640 9 BATTERYREJECTs, 275.9ms',\n",
       " 'video 1/1 (frame 247/810) D:\\\\AI COURSE TAMIL\\\\First project\\\\BATTERY LABEL. YOLO8\\\\test_videos\\\\WhatsApp Video 2024-07-09 at 05.53.51_7d3eb018.mp4: 480x640 9 BATTERYREJECTs, 332.5ms',\n",
       " 'video 1/1 (frame 248/810) D:\\\\AI COURSE TAMIL\\\\First project\\\\BATTERY LABEL. YOLO8\\\\test_videos\\\\WhatsApp Video 2024-07-09 at 05.53.51_7d3eb018.mp4: 480x640 9 BATTERYREJECTs, 311.7ms',\n",
       " 'video 1/1 (frame 249/810) D:\\\\AI COURSE TAMIL\\\\First project\\\\BATTERY LABEL. YOLO8\\\\test_videos\\\\WhatsApp Video 2024-07-09 at 05.53.51_7d3eb018.mp4: 480x640 9 BATTERYREJECTs, 264.6ms',\n",
       " 'video 1/1 (frame 250/810) D:\\\\AI COURSE TAMIL\\\\First project\\\\BATTERY LABEL. YOLO8\\\\test_videos\\\\WhatsApp Video 2024-07-09 at 05.53.51_7d3eb018.mp4: 480x640 9 BATTERYREJECTs, 262.6ms',\n",
       " 'video 1/1 (frame 251/810) D:\\\\AI COURSE TAMIL\\\\First project\\\\BATTERY LABEL. YOLO8\\\\test_videos\\\\WhatsApp Video 2024-07-09 at 05.53.51_7d3eb018.mp4: 480x640 9 BATTERYREJECTs, 257.4ms',\n",
       " 'video 1/1 (frame 252/810) D:\\\\AI COURSE TAMIL\\\\First project\\\\BATTERY LABEL. YOLO8\\\\test_videos\\\\WhatsApp Video 2024-07-09 at 05.53.51_7d3eb018.mp4: 480x640 9 BATTERYREJECTs, 303.6ms',\n",
       " 'video 1/1 (frame 253/810) D:\\\\AI COURSE TAMIL\\\\First project\\\\BATTERY LABEL. YOLO8\\\\test_videos\\\\WhatsApp Video 2024-07-09 at 05.53.51_7d3eb018.mp4: 480x640 9 BATTERYREJECTs, 311.5ms',\n",
       " 'video 1/1 (frame 254/810) D:\\\\AI COURSE TAMIL\\\\First project\\\\BATTERY LABEL. YOLO8\\\\test_videos\\\\WhatsApp Video 2024-07-09 at 05.53.51_7d3eb018.mp4: 480x640 9 BATTERYREJECTs, 305.3ms',\n",
       " 'video 1/1 (frame 255/810) D:\\\\AI COURSE TAMIL\\\\First project\\\\BATTERY LABEL. YOLO8\\\\test_videos\\\\WhatsApp Video 2024-07-09 at 05.53.51_7d3eb018.mp4: 480x640 9 BATTERYREJECTs, 318.9ms',\n",
       " 'video 1/1 (frame 256/810) D:\\\\AI COURSE TAMIL\\\\First project\\\\BATTERY LABEL. YOLO8\\\\test_videos\\\\WhatsApp Video 2024-07-09 at 05.53.51_7d3eb018.mp4: 480x640 9 BATTERYREJECTs, 334.8ms',\n",
       " 'video 1/1 (frame 257/810) D:\\\\AI COURSE TAMIL\\\\First project\\\\BATTERY LABEL. YOLO8\\\\test_videos\\\\WhatsApp Video 2024-07-09 at 05.53.51_7d3eb018.mp4: 480x640 9 BATTERYREJECTs, 273.3ms',\n",
       " 'video 1/1 (frame 258/810) D:\\\\AI COURSE TAMIL\\\\First project\\\\BATTERY LABEL. YOLO8\\\\test_videos\\\\WhatsApp Video 2024-07-09 at 05.53.51_7d3eb018.mp4: 480x640 9 BATTERYREJECTs, 242.3ms',\n",
       " 'video 1/1 (frame 259/810) D:\\\\AI COURSE TAMIL\\\\First project\\\\BATTERY LABEL. YOLO8\\\\test_videos\\\\WhatsApp Video 2024-07-09 at 05.53.51_7d3eb018.mp4: 480x640 9 BATTERYREJECTs, 237.2ms',\n",
       " 'video 1/1 (frame 260/810) D:\\\\AI COURSE TAMIL\\\\First project\\\\BATTERY LABEL. YOLO8\\\\test_videos\\\\WhatsApp Video 2024-07-09 at 05.53.51_7d3eb018.mp4: 480x640 9 BATTERYREJECTs, 243.9ms',\n",
       " 'video 1/1 (frame 261/810) D:\\\\AI COURSE TAMIL\\\\First project\\\\BATTERY LABEL. YOLO8\\\\test_videos\\\\WhatsApp Video 2024-07-09 at 05.53.51_7d3eb018.mp4: 480x640 9 BATTERYREJECTs, 234.3ms',\n",
       " 'video 1/1 (frame 262/810) D:\\\\AI COURSE TAMIL\\\\First project\\\\BATTERY LABEL. YOLO8\\\\test_videos\\\\WhatsApp Video 2024-07-09 at 05.53.51_7d3eb018.mp4: 480x640 9 BATTERYREJECTs, 222.5ms',\n",
       " 'video 1/1 (frame 263/810) D:\\\\AI COURSE TAMIL\\\\First project\\\\BATTERY LABEL. YOLO8\\\\test_videos\\\\WhatsApp Video 2024-07-09 at 05.53.51_7d3eb018.mp4: 480x640 9 BATTERYREJECTs, 237.4ms',\n",
       " 'video 1/1 (frame 264/810) D:\\\\AI COURSE TAMIL\\\\First project\\\\BATTERY LABEL. YOLO8\\\\test_videos\\\\WhatsApp Video 2024-07-09 at 05.53.51_7d3eb018.mp4: 480x640 9 BATTERYREJECTs, 234.4ms',\n",
       " 'video 1/1 (frame 265/810) D:\\\\AI COURSE TAMIL\\\\First project\\\\BATTERY LABEL. YOLO8\\\\test_videos\\\\WhatsApp Video 2024-07-09 at 05.53.51_7d3eb018.mp4: 480x640 9 BATTERYREJECTs, 242.5ms',\n",
       " 'video 1/1 (frame 266/810) D:\\\\AI COURSE TAMIL\\\\First project\\\\BATTERY LABEL. YOLO8\\\\test_videos\\\\WhatsApp Video 2024-07-09 at 05.53.51_7d3eb018.mp4: 480x640 9 BATTERYREJECTs, 267.0ms',\n",
       " 'video 1/1 (frame 267/810) D:\\\\AI COURSE TAMIL\\\\First project\\\\BATTERY LABEL. YOLO8\\\\test_videos\\\\WhatsApp Video 2024-07-09 at 05.53.51_7d3eb018.mp4: 480x640 9 BATTERYREJECTs, 227.6ms',\n",
       " 'video 1/1 (frame 268/810) D:\\\\AI COURSE TAMIL\\\\First project\\\\BATTERY LABEL. YOLO8\\\\test_videos\\\\WhatsApp Video 2024-07-09 at 05.53.51_7d3eb018.mp4: 480x640 9 BATTERYREJECTs, 253.4ms',\n",
       " 'video 1/1 (frame 269/810) D:\\\\AI COURSE TAMIL\\\\First project\\\\BATTERY LABEL. YOLO8\\\\test_videos\\\\WhatsApp Video 2024-07-09 at 05.53.51_7d3eb018.mp4: 480x640 9 BATTERYREJECTs, 241.4ms',\n",
       " 'video 1/1 (frame 270/810) D:\\\\AI COURSE TAMIL\\\\First project\\\\BATTERY LABEL. YOLO8\\\\test_videos\\\\WhatsApp Video 2024-07-09 at 05.53.51_7d3eb018.mp4: 480x640 9 BATTERYREJECTs, 242.3ms',\n",
       " 'video 1/1 (frame 271/810) D:\\\\AI COURSE TAMIL\\\\First project\\\\BATTERY LABEL. YOLO8\\\\test_videos\\\\WhatsApp Video 2024-07-09 at 05.53.51_7d3eb018.mp4: 480x640 9 BATTERYNOLABELs, 239.6ms',\n",
       " 'video 1/1 (frame 272/810) D:\\\\AI COURSE TAMIL\\\\First project\\\\BATTERY LABEL. YOLO8\\\\test_videos\\\\WhatsApp Video 2024-07-09 at 05.53.51_7d3eb018.mp4: 480x640 9 BATTERYNOLABELs, 223.4ms',\n",
       " 'video 1/1 (frame 273/810) D:\\\\AI COURSE TAMIL\\\\First project\\\\BATTERY LABEL. YOLO8\\\\test_videos\\\\WhatsApp Video 2024-07-09 at 05.53.51_7d3eb018.mp4: 480x640 9 BATTERYNOLABELs, 252.7ms',\n",
       " 'video 1/1 (frame 274/810) D:\\\\AI COURSE TAMIL\\\\First project\\\\BATTERY LABEL. YOLO8\\\\test_videos\\\\WhatsApp Video 2024-07-09 at 05.53.51_7d3eb018.mp4: 480x640 9 BATTERYNOLABELs, 232.5ms',\n",
       " 'video 1/1 (frame 275/810) D:\\\\AI COURSE TAMIL\\\\First project\\\\BATTERY LABEL. YOLO8\\\\test_videos\\\\WhatsApp Video 2024-07-09 at 05.53.51_7d3eb018.mp4: 480x640 9 BATTERYNOLABELs, 241.2ms',\n",
       " 'video 1/1 (frame 276/810) D:\\\\AI COURSE TAMIL\\\\First project\\\\BATTERY LABEL. YOLO8\\\\test_videos\\\\WhatsApp Video 2024-07-09 at 05.53.51_7d3eb018.mp4: 480x640 9 BATTERYNOLABELs, 236.3ms',\n",
       " 'video 1/1 (frame 277/810) D:\\\\AI COURSE TAMIL\\\\First project\\\\BATTERY LABEL. YOLO8\\\\test_videos\\\\WhatsApp Video 2024-07-09 at 05.53.51_7d3eb018.mp4: 480x640 9 BATTERYNOLABELs, 231.9ms',\n",
       " 'video 1/1 (frame 278/810) D:\\\\AI COURSE TAMIL\\\\First project\\\\BATTERY LABEL. YOLO8\\\\test_videos\\\\WhatsApp Video 2024-07-09 at 05.53.51_7d3eb018.mp4: 480x640 9 BATTERYNOLABELs, 237.4ms',\n",
       " 'video 1/1 (frame 279/810) D:\\\\AI COURSE TAMIL\\\\First project\\\\BATTERY LABEL. YOLO8\\\\test_videos\\\\WhatsApp Video 2024-07-09 at 05.53.51_7d3eb018.mp4: 480x640 9 BATTERYNOLABELs, 244.4ms',\n",
       " 'video 1/1 (frame 280/810) D:\\\\AI COURSE TAMIL\\\\First project\\\\BATTERY LABEL. YOLO8\\\\test_videos\\\\WhatsApp Video 2024-07-09 at 05.53.51_7d3eb018.mp4: 480x640 9 BATTERYNOLABELs, 239.6ms',\n",
       " 'video 1/1 (frame 281/810) D:\\\\AI COURSE TAMIL\\\\First project\\\\BATTERY LABEL. YOLO8\\\\test_videos\\\\WhatsApp Video 2024-07-09 at 05.53.51_7d3eb018.mp4: 480x640 9 BATTERYNOLABELs, 241.4ms',\n",
       " 'video 1/1 (frame 282/810) D:\\\\AI COURSE TAMIL\\\\First project\\\\BATTERY LABEL. YOLO8\\\\test_videos\\\\WhatsApp Video 2024-07-09 at 05.53.51_7d3eb018.mp4: 480x640 9 BATTERYNOLABELs, 259.1ms',\n",
       " 'video 1/1 (frame 283/810) D:\\\\AI COURSE TAMIL\\\\First project\\\\BATTERY LABEL. YOLO8\\\\test_videos\\\\WhatsApp Video 2024-07-09 at 05.53.51_7d3eb018.mp4: 480x640 9 BATTERYNOLABELs, 247.2ms',\n",
       " 'video 1/1 (frame 284/810) D:\\\\AI COURSE TAMIL\\\\First project\\\\BATTERY LABEL. YOLO8\\\\test_videos\\\\WhatsApp Video 2024-07-09 at 05.53.51_7d3eb018.mp4: 480x640 9 BATTERYNOLABELs, 257.7ms',\n",
       " 'video 1/1 (frame 285/810) D:\\\\AI COURSE TAMIL\\\\First project\\\\BATTERY LABEL. YOLO8\\\\test_videos\\\\WhatsApp Video 2024-07-09 at 05.53.51_7d3eb018.mp4: 480x640 9 BATTERYNOLABELs, 243.3ms',\n",
       " 'video 1/1 (frame 286/810) D:\\\\AI COURSE TAMIL\\\\First project\\\\BATTERY LABEL. YOLO8\\\\test_videos\\\\WhatsApp Video 2024-07-09 at 05.53.51_7d3eb018.mp4: 480x640 9 BATTERYNOLABELs, 237.6ms',\n",
       " 'video 1/1 (frame 287/810) D:\\\\AI COURSE TAMIL\\\\First project\\\\BATTERY LABEL. YOLO8\\\\test_videos\\\\WhatsApp Video 2024-07-09 at 05.53.51_7d3eb018.mp4: 480x640 9 BATTERYNOLABELs, 238.3ms',\n",
       " 'video 1/1 (frame 288/810) D:\\\\AI COURSE TAMIL\\\\First project\\\\BATTERY LABEL. YOLO8\\\\test_videos\\\\WhatsApp Video 2024-07-09 at 05.53.51_7d3eb018.mp4: 480x640 9 BATTERYNOLABELs, 243.4ms',\n",
       " 'video 1/1 (frame 289/810) D:\\\\AI COURSE TAMIL\\\\First project\\\\BATTERY LABEL. YOLO8\\\\test_videos\\\\WhatsApp Video 2024-07-09 at 05.53.51_7d3eb018.mp4: 480x640 9 BATTERYNOLABELs, 250.8ms',\n",
       " 'video 1/1 (frame 290/810) D:\\\\AI COURSE TAMIL\\\\First project\\\\BATTERY LABEL. YOLO8\\\\test_videos\\\\WhatsApp Video 2024-07-09 at 05.53.51_7d3eb018.mp4: 480x640 9 BATTERYNOLABELs, 223.5ms',\n",
       " 'video 1/1 (frame 291/810) D:\\\\AI COURSE TAMIL\\\\First project\\\\BATTERY LABEL. YOLO8\\\\test_videos\\\\WhatsApp Video 2024-07-09 at 05.53.51_7d3eb018.mp4: 480x640 9 BATTERYNOLABELs, 239.1ms',\n",
       " 'video 1/1 (frame 292/810) D:\\\\AI COURSE TAMIL\\\\First project\\\\BATTERY LABEL. YOLO8\\\\test_videos\\\\WhatsApp Video 2024-07-09 at 05.53.51_7d3eb018.mp4: 480x640 9 BATTERYNOLABELs, 235.4ms',\n",
       " 'video 1/1 (frame 293/810) D:\\\\AI COURSE TAMIL\\\\First project\\\\BATTERY LABEL. YOLO8\\\\test_videos\\\\WhatsApp Video 2024-07-09 at 05.53.51_7d3eb018.mp4: 480x640 9 BATTERYNOLABELs, 240.5ms',\n",
       " 'video 1/1 (frame 294/810) D:\\\\AI COURSE TAMIL\\\\First project\\\\BATTERY LABEL. YOLO8\\\\test_videos\\\\WhatsApp Video 2024-07-09 at 05.53.51_7d3eb018.mp4: 480x640 9 BATTERYNOLABELs, 234.3ms',\n",
       " 'video 1/1 (frame 295/810) D:\\\\AI COURSE TAMIL\\\\First project\\\\BATTERY LABEL. YOLO8\\\\test_videos\\\\WhatsApp Video 2024-07-09 at 05.53.51_7d3eb018.mp4: 480x640 9 BATTERYNOLABELs, 237.7ms',\n",
       " 'video 1/1 (frame 296/810) D:\\\\AI COURSE TAMIL\\\\First project\\\\BATTERY LABEL. YOLO8\\\\test_videos\\\\WhatsApp Video 2024-07-09 at 05.53.51_7d3eb018.mp4: 480x640 9 BATTERYNOLABELs, 239.3ms',\n",
       " 'video 1/1 (frame 297/810) D:\\\\AI COURSE TAMIL\\\\First project\\\\BATTERY LABEL. YOLO8\\\\test_videos\\\\WhatsApp Video 2024-07-09 at 05.53.51_7d3eb018.mp4: 480x640 9 BATTERYNOLABELs, 243.0ms',\n",
       " 'video 1/1 (frame 298/810) D:\\\\AI COURSE TAMIL\\\\First project\\\\BATTERY LABEL. YOLO8\\\\test_videos\\\\WhatsApp Video 2024-07-09 at 05.53.51_7d3eb018.mp4: 480x640 9 BATTERYNOLABELs, 240.9ms',\n",
       " 'video 1/1 (frame 299/810) D:\\\\AI COURSE TAMIL\\\\First project\\\\BATTERY LABEL. YOLO8\\\\test_videos\\\\WhatsApp Video 2024-07-09 at 05.53.51_7d3eb018.mp4: 480x640 9 BATTERYNOLABELs, 233.5ms',\n",
       " 'video 1/1 (frame 300/810) D:\\\\AI COURSE TAMIL\\\\First project\\\\BATTERY LABEL. YOLO8\\\\test_videos\\\\WhatsApp Video 2024-07-09 at 05.53.51_7d3eb018.mp4: 480x640 9 BATTERYNOLABELs, 619.4ms',\n",
       " 'video 1/1 (frame 301/810) D:\\\\AI COURSE TAMIL\\\\First project\\\\BATTERY LABEL. YOLO8\\\\test_videos\\\\WhatsApp Video 2024-07-09 at 05.53.51_7d3eb018.mp4: 480x640 9 BATTERYNOLABELs, 321.9ms',\n",
       " 'video 1/1 (frame 302/810) D:\\\\AI COURSE TAMIL\\\\First project\\\\BATTERY LABEL. YOLO8\\\\test_videos\\\\WhatsApp Video 2024-07-09 at 05.53.51_7d3eb018.mp4: 480x640 9 BATTERYNOLABELs, 243.9ms',\n",
       " 'video 1/1 (frame 303/810) D:\\\\AI COURSE TAMIL\\\\First project\\\\BATTERY LABEL. YOLO8\\\\test_videos\\\\WhatsApp Video 2024-07-09 at 05.53.51_7d3eb018.mp4: 480x640 9 BATTERYNOLABELs, 672.2ms',\n",
       " 'video 1/1 (frame 304/810) D:\\\\AI COURSE TAMIL\\\\First project\\\\BATTERY LABEL. YOLO8\\\\test_videos\\\\WhatsApp Video 2024-07-09 at 05.53.51_7d3eb018.mp4: 480x640 9 BATTERYNOLABELs, 233.4ms',\n",
       " 'video 1/1 (frame 305/810) D:\\\\AI COURSE TAMIL\\\\First project\\\\BATTERY LABEL. YOLO8\\\\test_videos\\\\WhatsApp Video 2024-07-09 at 05.53.51_7d3eb018.mp4: 480x640 9 BATTERYNOLABELs, 247.3ms',\n",
       " 'video 1/1 (frame 306/810) D:\\\\AI COURSE TAMIL\\\\First project\\\\BATTERY LABEL. YOLO8\\\\test_videos\\\\WhatsApp Video 2024-07-09 at 05.53.51_7d3eb018.mp4: 480x640 9 BATTERYNOLABELs, 240.1ms',\n",
       " 'video 1/1 (frame 307/810) D:\\\\AI COURSE TAMIL\\\\First project\\\\BATTERY LABEL. YOLO8\\\\test_videos\\\\WhatsApp Video 2024-07-09 at 05.53.51_7d3eb018.mp4: 480x640 9 BATTERYNOLABELs, 242.2ms',\n",
       " 'video 1/1 (frame 308/810) D:\\\\AI COURSE TAMIL\\\\First project\\\\BATTERY LABEL. YOLO8\\\\test_videos\\\\WhatsApp Video 2024-07-09 at 05.53.51_7d3eb018.mp4: 480x640 9 BATTERYNOLABELs, 234.5ms',\n",
       " 'video 1/1 (frame 309/810) D:\\\\AI COURSE TAMIL\\\\First project\\\\BATTERY LABEL. YOLO8\\\\test_videos\\\\WhatsApp Video 2024-07-09 at 05.53.51_7d3eb018.mp4: 480x640 9 BATTERYNOLABELs, 248.5ms',\n",
       " 'video 1/1 (frame 310/810) D:\\\\AI COURSE TAMIL\\\\First project\\\\BATTERY LABEL. YOLO8\\\\test_videos\\\\WhatsApp Video 2024-07-09 at 05.53.51_7d3eb018.mp4: 480x640 9 BATTERYNOLABELs, 230.1ms',\n",
       " 'video 1/1 (frame 311/810) D:\\\\AI COURSE TAMIL\\\\First project\\\\BATTERY LABEL. YOLO8\\\\test_videos\\\\WhatsApp Video 2024-07-09 at 05.53.51_7d3eb018.mp4: 480x640 9 BATTERYNOLABELs, 235.7ms',\n",
       " 'video 1/1 (frame 312/810) D:\\\\AI COURSE TAMIL\\\\First project\\\\BATTERY LABEL. YOLO8\\\\test_videos\\\\WhatsApp Video 2024-07-09 at 05.53.51_7d3eb018.mp4: 480x640 9 BATTERYNOLABELs, 244.4ms',\n",
       " 'video 1/1 (frame 313/810) D:\\\\AI COURSE TAMIL\\\\First project\\\\BATTERY LABEL. YOLO8\\\\test_videos\\\\WhatsApp Video 2024-07-09 at 05.53.51_7d3eb018.mp4: 480x640 9 BATTERYNOLABELs, 241.6ms',\n",
       " 'video 1/1 (frame 314/810) D:\\\\AI COURSE TAMIL\\\\First project\\\\BATTERY LABEL. YOLO8\\\\test_videos\\\\WhatsApp Video 2024-07-09 at 05.53.51_7d3eb018.mp4: 480x640 9 BATTERYNOLABELs, 236.8ms',\n",
       " 'video 1/1 (frame 315/810) D:\\\\AI COURSE TAMIL\\\\First project\\\\BATTERY LABEL. YOLO8\\\\test_videos\\\\WhatsApp Video 2024-07-09 at 05.53.51_7d3eb018.mp4: 480x640 9 BATTERYNOLABELs, 236.8ms',\n",
       " 'video 1/1 (frame 316/810) D:\\\\AI COURSE TAMIL\\\\First project\\\\BATTERY LABEL. YOLO8\\\\test_videos\\\\WhatsApp Video 2024-07-09 at 05.53.51_7d3eb018.mp4: 480x640 9 BATTERYNOLABELs, 250.5ms',\n",
       " 'video 1/1 (frame 317/810) D:\\\\AI COURSE TAMIL\\\\First project\\\\BATTERY LABEL. YOLO8\\\\test_videos\\\\WhatsApp Video 2024-07-09 at 05.53.51_7d3eb018.mp4: 480x640 9 BATTERYNOLABELs, 240.7ms',\n",
       " 'video 1/1 (frame 318/810) D:\\\\AI COURSE TAMIL\\\\First project\\\\BATTERY LABEL. YOLO8\\\\test_videos\\\\WhatsApp Video 2024-07-09 at 05.53.51_7d3eb018.mp4: 480x640 9 BATTERYNOLABELs, 234.4ms',\n",
       " 'video 1/1 (frame 319/810) D:\\\\AI COURSE TAMIL\\\\First project\\\\BATTERY LABEL. YOLO8\\\\test_videos\\\\WhatsApp Video 2024-07-09 at 05.53.51_7d3eb018.mp4: 480x640 9 BATTERYNOLABELs, 236.2ms',\n",
       " 'video 1/1 (frame 320/810) D:\\\\AI COURSE TAMIL\\\\First project\\\\BATTERY LABEL. YOLO8\\\\test_videos\\\\WhatsApp Video 2024-07-09 at 05.53.51_7d3eb018.mp4: 480x640 9 BATTERYNOLABELs, 236.3ms',\n",
       " 'video 1/1 (frame 321/810) D:\\\\AI COURSE TAMIL\\\\First project\\\\BATTERY LABEL. YOLO8\\\\test_videos\\\\WhatsApp Video 2024-07-09 at 05.53.51_7d3eb018.mp4: 480x640 9 BATTERYNOLABELs, 233.1ms',\n",
       " 'video 1/1 (frame 322/810) D:\\\\AI COURSE TAMIL\\\\First project\\\\BATTERY LABEL. YOLO8\\\\test_videos\\\\WhatsApp Video 2024-07-09 at 05.53.51_7d3eb018.mp4: 480x640 9 BATTERYNOLABELs, 232.2ms',\n",
       " 'video 1/1 (frame 323/810) D:\\\\AI COURSE TAMIL\\\\First project\\\\BATTERY LABEL. YOLO8\\\\test_videos\\\\WhatsApp Video 2024-07-09 at 05.53.51_7d3eb018.mp4: 480x640 9 BATTERYNOLABELs, 260.3ms',\n",
       " 'video 1/1 (frame 324/810) D:\\\\AI COURSE TAMIL\\\\First project\\\\BATTERY LABEL. YOLO8\\\\test_videos\\\\WhatsApp Video 2024-07-09 at 05.53.51_7d3eb018.mp4: 480x640 9 BATTERYNOLABELs, 244.7ms',\n",
       " 'video 1/1 (frame 325/810) D:\\\\AI COURSE TAMIL\\\\First project\\\\BATTERY LABEL. YOLO8\\\\test_videos\\\\WhatsApp Video 2024-07-09 at 05.53.51_7d3eb018.mp4: 480x640 9 BATTERYNOLABELs, 239.5ms',\n",
       " 'video 1/1 (frame 326/810) D:\\\\AI COURSE TAMIL\\\\First project\\\\BATTERY LABEL. YOLO8\\\\test_videos\\\\WhatsApp Video 2024-07-09 at 05.53.51_7d3eb018.mp4: 480x640 9 BATTERYNOLABELs, 225.8ms',\n",
       " 'video 1/1 (frame 327/810) D:\\\\AI COURSE TAMIL\\\\First project\\\\BATTERY LABEL. YOLO8\\\\test_videos\\\\WhatsApp Video 2024-07-09 at 05.53.51_7d3eb018.mp4: 480x640 9 BATTERYNOLABELs, 238.0ms',\n",
       " 'video 1/1 (frame 328/810) D:\\\\AI COURSE TAMIL\\\\First project\\\\BATTERY LABEL. YOLO8\\\\test_videos\\\\WhatsApp Video 2024-07-09 at 05.53.51_7d3eb018.mp4: 480x640 9 BATTERYNOLABELs, 240.7ms',\n",
       " 'video 1/1 (frame 329/810) D:\\\\AI COURSE TAMIL\\\\First project\\\\BATTERY LABEL. YOLO8\\\\test_videos\\\\WhatsApp Video 2024-07-09 at 05.53.51_7d3eb018.mp4: 480x640 9 BATTERYNOLABELs, 235.1ms',\n",
       " 'video 1/1 (frame 330/810) D:\\\\AI COURSE TAMIL\\\\First project\\\\BATTERY LABEL. YOLO8\\\\test_videos\\\\WhatsApp Video 2024-07-09 at 05.53.51_7d3eb018.mp4: 480x640 9 BATTERYNOLABELs, 249.0ms',\n",
       " 'video 1/1 (frame 331/810) D:\\\\AI COURSE TAMIL\\\\First project\\\\BATTERY LABEL. YOLO8\\\\test_videos\\\\WhatsApp Video 2024-07-09 at 05.53.51_7d3eb018.mp4: 480x640 9 BATTERYNOLABELs, 239.3ms',\n",
       " 'video 1/1 (frame 332/810) D:\\\\AI COURSE TAMIL\\\\First project\\\\BATTERY LABEL. YOLO8\\\\test_videos\\\\WhatsApp Video 2024-07-09 at 05.53.51_7d3eb018.mp4: 480x640 9 BATTERYNOLABELs, 231.3ms',\n",
       " 'video 1/1 (frame 333/810) D:\\\\AI COURSE TAMIL\\\\First project\\\\BATTERY LABEL. YOLO8\\\\test_videos\\\\WhatsApp Video 2024-07-09 at 05.53.51_7d3eb018.mp4: 480x640 9 BATTERYNOLABELs, 238.2ms',\n",
       " 'video 1/1 (frame 334/810) D:\\\\AI COURSE TAMIL\\\\First project\\\\BATTERY LABEL. YOLO8\\\\test_videos\\\\WhatsApp Video 2024-07-09 at 05.53.51_7d3eb018.mp4: 480x640 9 BATTERYNOLABELs, 245.0ms',\n",
       " 'video 1/1 (frame 335/810) D:\\\\AI COURSE TAMIL\\\\First project\\\\BATTERY LABEL. YOLO8\\\\test_videos\\\\WhatsApp Video 2024-07-09 at 05.53.51_7d3eb018.mp4: 480x640 9 BATTERYNOLABELs, 236.9ms',\n",
       " 'video 1/1 (frame 336/810) D:\\\\AI COURSE TAMIL\\\\First project\\\\BATTERY LABEL. YOLO8\\\\test_videos\\\\WhatsApp Video 2024-07-09 at 05.53.51_7d3eb018.mp4: 480x640 9 BATTERYNOLABELs, 254.2ms',\n",
       " 'video 1/1 (frame 337/810) D:\\\\AI COURSE TAMIL\\\\First project\\\\BATTERY LABEL. YOLO8\\\\test_videos\\\\WhatsApp Video 2024-07-09 at 05.53.51_7d3eb018.mp4: 480x640 9 BATTERYNOLABELs, 246.1ms',\n",
       " 'video 1/1 (frame 338/810) D:\\\\AI COURSE TAMIL\\\\First project\\\\BATTERY LABEL. YOLO8\\\\test_videos\\\\WhatsApp Video 2024-07-09 at 05.53.51_7d3eb018.mp4: 480x640 9 BATTERYNOLABELs, 227.5ms',\n",
       " 'video 1/1 (frame 339/810) D:\\\\AI COURSE TAMIL\\\\First project\\\\BATTERY LABEL. YOLO8\\\\test_videos\\\\WhatsApp Video 2024-07-09 at 05.53.51_7d3eb018.mp4: 480x640 9 BATTERYNOLABELs, 242.7ms',\n",
       " 'video 1/1 (frame 340/810) D:\\\\AI COURSE TAMIL\\\\First project\\\\BATTERY LABEL. YOLO8\\\\test_videos\\\\WhatsApp Video 2024-07-09 at 05.53.51_7d3eb018.mp4: 480x640 9 BATTERYNOLABELs, 246.4ms',\n",
       " 'video 1/1 (frame 341/810) D:\\\\AI COURSE TAMIL\\\\First project\\\\BATTERY LABEL. YOLO8\\\\test_videos\\\\WhatsApp Video 2024-07-09 at 05.53.51_7d3eb018.mp4: 480x640 9 BATTERYNOLABELs, 243.6ms',\n",
       " 'video 1/1 (frame 342/810) D:\\\\AI COURSE TAMIL\\\\First project\\\\BATTERY LABEL. YOLO8\\\\test_videos\\\\WhatsApp Video 2024-07-09 at 05.53.51_7d3eb018.mp4: 480x640 9 BATTERYNOLABELs, 245.7ms',\n",
       " 'video 1/1 (frame 343/810) D:\\\\AI COURSE TAMIL\\\\First project\\\\BATTERY LABEL. YOLO8\\\\test_videos\\\\WhatsApp Video 2024-07-09 at 05.53.51_7d3eb018.mp4: 480x640 9 BATTERYNOLABELs, 242.2ms',\n",
       " 'video 1/1 (frame 344/810) D:\\\\AI COURSE TAMIL\\\\First project\\\\BATTERY LABEL. YOLO8\\\\test_videos\\\\WhatsApp Video 2024-07-09 at 05.53.51_7d3eb018.mp4: 480x640 9 BATTERYNOLABELs, 227.9ms',\n",
       " 'video 1/1 (frame 345/810) D:\\\\AI COURSE TAMIL\\\\First project\\\\BATTERY LABEL. YOLO8\\\\test_videos\\\\WhatsApp Video 2024-07-09 at 05.53.51_7d3eb018.mp4: 480x640 9 BATTERYNOLABELs, 248.9ms',\n",
       " 'video 1/1 (frame 346/810) D:\\\\AI COURSE TAMIL\\\\First project\\\\BATTERY LABEL. YOLO8\\\\test_videos\\\\WhatsApp Video 2024-07-09 at 05.53.51_7d3eb018.mp4: 480x640 9 BATTERYNOLABELs, 234.0ms',\n",
       " 'video 1/1 (frame 347/810) D:\\\\AI COURSE TAMIL\\\\First project\\\\BATTERY LABEL. YOLO8\\\\test_videos\\\\WhatsApp Video 2024-07-09 at 05.53.51_7d3eb018.mp4: 480x640 9 BATTERYNOLABELs, 258.8ms',\n",
       " 'video 1/1 (frame 348/810) D:\\\\AI COURSE TAMIL\\\\First project\\\\BATTERY LABEL. YOLO8\\\\test_videos\\\\WhatsApp Video 2024-07-09 at 05.53.51_7d3eb018.mp4: 480x640 9 BATTERYNOLABELs, 236.4ms',\n",
       " 'video 1/1 (frame 349/810) D:\\\\AI COURSE TAMIL\\\\First project\\\\BATTERY LABEL. YOLO8\\\\test_videos\\\\WhatsApp Video 2024-07-09 at 05.53.51_7d3eb018.mp4: 480x640 9 BATTERYNOLABELs, 235.0ms',\n",
       " 'video 1/1 (frame 350/810) D:\\\\AI COURSE TAMIL\\\\First project\\\\BATTERY LABEL. YOLO8\\\\test_videos\\\\WhatsApp Video 2024-07-09 at 05.53.51_7d3eb018.mp4: 480x640 9 BATTERYNOLABELs, 236.0ms',\n",
       " 'video 1/1 (frame 351/810) D:\\\\AI COURSE TAMIL\\\\First project\\\\BATTERY LABEL. YOLO8\\\\test_videos\\\\WhatsApp Video 2024-07-09 at 05.53.51_7d3eb018.mp4: 480x640 9 BATTERYNOLABELs, 233.6ms',\n",
       " 'video 1/1 (frame 352/810) D:\\\\AI COURSE TAMIL\\\\First project\\\\BATTERY LABEL. YOLO8\\\\test_videos\\\\WhatsApp Video 2024-07-09 at 05.53.51_7d3eb018.mp4: 480x640 9 BATTERYNOLABELs, 239.1ms',\n",
       " 'video 1/1 (frame 353/810) D:\\\\AI COURSE TAMIL\\\\First project\\\\BATTERY LABEL. YOLO8\\\\test_videos\\\\WhatsApp Video 2024-07-09 at 05.53.51_7d3eb018.mp4: 480x640 9 BATTERYNOLABELs, 242.5ms',\n",
       " 'video 1/1 (frame 354/810) D:\\\\AI COURSE TAMIL\\\\First project\\\\BATTERY LABEL. YOLO8\\\\test_videos\\\\WhatsApp Video 2024-07-09 at 05.53.51_7d3eb018.mp4: 480x640 9 BATTERYNOLABELs, 258.9ms',\n",
       " 'video 1/1 (frame 355/810) D:\\\\AI COURSE TAMIL\\\\First project\\\\BATTERY LABEL. YOLO8\\\\test_videos\\\\WhatsApp Video 2024-07-09 at 05.53.51_7d3eb018.mp4: 480x640 9 BATTERYNOLABELs, 234.7ms',\n",
       " 'video 1/1 (frame 356/810) D:\\\\AI COURSE TAMIL\\\\First project\\\\BATTERY LABEL. YOLO8\\\\test_videos\\\\WhatsApp Video 2024-07-09 at 05.53.51_7d3eb018.mp4: 480x640 9 BATTERYNOLABELs, 228.0ms',\n",
       " 'video 1/1 (frame 357/810) D:\\\\AI COURSE TAMIL\\\\First project\\\\BATTERY LABEL. YOLO8\\\\test_videos\\\\WhatsApp Video 2024-07-09 at 05.53.51_7d3eb018.mp4: 480x640 9 BATTERYNOLABELs, 240.9ms',\n",
       " 'video 1/1 (frame 358/810) D:\\\\AI COURSE TAMIL\\\\First project\\\\BATTERY LABEL. YOLO8\\\\test_videos\\\\WhatsApp Video 2024-07-09 at 05.53.51_7d3eb018.mp4: 480x640 9 BATTERYNOLABELs, 243.0ms',\n",
       " 'video 1/1 (frame 359/810) D:\\\\AI COURSE TAMIL\\\\First project\\\\BATTERY LABEL. YOLO8\\\\test_videos\\\\WhatsApp Video 2024-07-09 at 05.53.51_7d3eb018.mp4: 480x640 9 BATTERYNOLABELs, 236.3ms',\n",
       " 'video 1/1 (frame 360/810) D:\\\\AI COURSE TAMIL\\\\First project\\\\BATTERY LABEL. YOLO8\\\\test_videos\\\\WhatsApp Video 2024-07-09 at 05.53.51_7d3eb018.mp4: 480x640 9 BATTERYNOLABELs, 244.4ms',\n",
       " 'video 1/1 (frame 361/810) D:\\\\AI COURSE TAMIL\\\\First project\\\\BATTERY LABEL. YOLO8\\\\test_videos\\\\WhatsApp Video 2024-07-09 at 05.53.51_7d3eb018.mp4: 480x640 10 BATTERYREJECTs, 244.0ms',\n",
       " 'video 1/1 (frame 362/810) D:\\\\AI COURSE TAMIL\\\\First project\\\\BATTERY LABEL. YOLO8\\\\test_videos\\\\WhatsApp Video 2024-07-09 at 05.53.51_7d3eb018.mp4: 480x640 10 BATTERYREJECTs, 232.8ms',\n",
       " 'video 1/1 (frame 363/810) D:\\\\AI COURSE TAMIL\\\\First project\\\\BATTERY LABEL. YOLO8\\\\test_videos\\\\WhatsApp Video 2024-07-09 at 05.53.51_7d3eb018.mp4: 480x640 10 BATTERYREJECTs, 239.2ms',\n",
       " 'video 1/1 (frame 364/810) D:\\\\AI COURSE TAMIL\\\\First project\\\\BATTERY LABEL. YOLO8\\\\test_videos\\\\WhatsApp Video 2024-07-09 at 05.53.51_7d3eb018.mp4: 480x640 10 BATTERYREJECTs, 227.3ms',\n",
       " 'video 1/1 (frame 365/810) D:\\\\AI COURSE TAMIL\\\\First project\\\\BATTERY LABEL. YOLO8\\\\test_videos\\\\WhatsApp Video 2024-07-09 at 05.53.51_7d3eb018.mp4: 480x640 10 BATTERYREJECTs, 238.2ms',\n",
       " 'video 1/1 (frame 366/810) D:\\\\AI COURSE TAMIL\\\\First project\\\\BATTERY LABEL. YOLO8\\\\test_videos\\\\WhatsApp Video 2024-07-09 at 05.53.51_7d3eb018.mp4: 480x640 10 BATTERYREJECTs, 238.9ms',\n",
       " 'video 1/1 (frame 367/810) D:\\\\AI COURSE TAMIL\\\\First project\\\\BATTERY LABEL. YOLO8\\\\test_videos\\\\WhatsApp Video 2024-07-09 at 05.53.51_7d3eb018.mp4: 480x640 10 BATTERYREJECTs, 259.1ms',\n",
       " 'video 1/1 (frame 368/810) D:\\\\AI COURSE TAMIL\\\\First project\\\\BATTERY LABEL. YOLO8\\\\test_videos\\\\WhatsApp Video 2024-07-09 at 05.53.51_7d3eb018.mp4: 480x640 10 BATTERYREJECTs, 242.3ms',\n",
       " 'video 1/1 (frame 369/810) D:\\\\AI COURSE TAMIL\\\\First project\\\\BATTERY LABEL. YOLO8\\\\test_videos\\\\WhatsApp Video 2024-07-09 at 05.53.51_7d3eb018.mp4: 480x640 10 BATTERYREJECTs, 235.2ms',\n",
       " 'video 1/1 (frame 370/810) D:\\\\AI COURSE TAMIL\\\\First project\\\\BATTERY LABEL. YOLO8\\\\test_videos\\\\WhatsApp Video 2024-07-09 at 05.53.51_7d3eb018.mp4: 480x640 10 BATTERYREJECTs, 221.8ms',\n",
       " 'video 1/1 (frame 371/810) D:\\\\AI COURSE TAMIL\\\\First project\\\\BATTERY LABEL. YOLO8\\\\test_videos\\\\WhatsApp Video 2024-07-09 at 05.53.51_7d3eb018.mp4: 480x640 10 BATTERYREJECTs, 270.1ms',\n",
       " 'video 1/1 (frame 372/810) D:\\\\AI COURSE TAMIL\\\\First project\\\\BATTERY LABEL. YOLO8\\\\test_videos\\\\WhatsApp Video 2024-07-09 at 05.53.51_7d3eb018.mp4: 480x640 10 BATTERYREJECTs, 251.5ms',\n",
       " 'video 1/1 (frame 373/810) D:\\\\AI COURSE TAMIL\\\\First project\\\\BATTERY LABEL. YOLO8\\\\test_videos\\\\WhatsApp Video 2024-07-09 at 05.53.51_7d3eb018.mp4: 480x640 10 BATTERYREJECTs, 266.9ms',\n",
       " 'video 1/1 (frame 374/810) D:\\\\AI COURSE TAMIL\\\\First project\\\\BATTERY LABEL. YOLO8\\\\test_videos\\\\WhatsApp Video 2024-07-09 at 05.53.51_7d3eb018.mp4: 480x640 10 BATTERYREJECTs, 249.2ms',\n",
       " 'video 1/1 (frame 375/810) D:\\\\AI COURSE TAMIL\\\\First project\\\\BATTERY LABEL. YOLO8\\\\test_videos\\\\WhatsApp Video 2024-07-09 at 05.53.51_7d3eb018.mp4: 480x640 10 BATTERYREJECTs, 242.8ms',\n",
       " 'video 1/1 (frame 376/810) D:\\\\AI COURSE TAMIL\\\\First project\\\\BATTERY LABEL. YOLO8\\\\test_videos\\\\WhatsApp Video 2024-07-09 at 05.53.51_7d3eb018.mp4: 480x640 10 BATTERYREJECTs, 238.9ms',\n",
       " 'video 1/1 (frame 377/810) D:\\\\AI COURSE TAMIL\\\\First project\\\\BATTERY LABEL. YOLO8\\\\test_videos\\\\WhatsApp Video 2024-07-09 at 05.53.51_7d3eb018.mp4: 480x640 10 BATTERYREJECTs, 232.4ms',\n",
       " 'video 1/1 (frame 378/810) D:\\\\AI COURSE TAMIL\\\\First project\\\\BATTERY LABEL. YOLO8\\\\test_videos\\\\WhatsApp Video 2024-07-09 at 05.53.51_7d3eb018.mp4: 480x640 10 BATTERYREJECTs, 247.1ms',\n",
       " 'video 1/1 (frame 379/810) D:\\\\AI COURSE TAMIL\\\\First project\\\\BATTERY LABEL. YOLO8\\\\test_videos\\\\WhatsApp Video 2024-07-09 at 05.53.51_7d3eb018.mp4: 480x640 10 BATTERYREJECTs, 241.5ms',\n",
       " 'video 1/1 (frame 380/810) D:\\\\AI COURSE TAMIL\\\\First project\\\\BATTERY LABEL. YOLO8\\\\test_videos\\\\WhatsApp Video 2024-07-09 at 05.53.51_7d3eb018.mp4: 480x640 10 BATTERYREJECTs, 239.5ms',\n",
       " 'video 1/1 (frame 381/810) D:\\\\AI COURSE TAMIL\\\\First project\\\\BATTERY LABEL. YOLO8\\\\test_videos\\\\WhatsApp Video 2024-07-09 at 05.53.51_7d3eb018.mp4: 480x640 10 BATTERYREJECTs, 243.4ms',\n",
       " 'video 1/1 (frame 382/810) D:\\\\AI COURSE TAMIL\\\\First project\\\\BATTERY LABEL. YOLO8\\\\test_videos\\\\WhatsApp Video 2024-07-09 at 05.53.51_7d3eb018.mp4: 480x640 10 BATTERYREJECTs, 232.7ms',\n",
       " 'video 1/1 (frame 383/810) D:\\\\AI COURSE TAMIL\\\\First project\\\\BATTERY LABEL. YOLO8\\\\test_videos\\\\WhatsApp Video 2024-07-09 at 05.53.51_7d3eb018.mp4: 480x640 10 BATTERYREJECTs, 232.7ms',\n",
       " 'video 1/1 (frame 384/810) D:\\\\AI COURSE TAMIL\\\\First project\\\\BATTERY LABEL. YOLO8\\\\test_videos\\\\WhatsApp Video 2024-07-09 at 05.53.51_7d3eb018.mp4: 480x640 10 BATTERYREJECTs, 237.4ms',\n",
       " 'video 1/1 (frame 385/810) D:\\\\AI COURSE TAMIL\\\\First project\\\\BATTERY LABEL. YOLO8\\\\test_videos\\\\WhatsApp Video 2024-07-09 at 05.53.51_7d3eb018.mp4: 480x640 10 BATTERYREJECTs, 239.3ms',\n",
       " 'video 1/1 (frame 386/810) D:\\\\AI COURSE TAMIL\\\\First project\\\\BATTERY LABEL. YOLO8\\\\test_videos\\\\WhatsApp Video 2024-07-09 at 05.53.51_7d3eb018.mp4: 480x640 10 BATTERYREJECTs, 231.0ms',\n",
       " 'video 1/1 (frame 387/810) D:\\\\AI COURSE TAMIL\\\\First project\\\\BATTERY LABEL. YOLO8\\\\test_videos\\\\WhatsApp Video 2024-07-09 at 05.53.51_7d3eb018.mp4: 480x640 10 BATTERYREJECTs, 245.1ms',\n",
       " 'video 1/1 (frame 388/810) D:\\\\AI COURSE TAMIL\\\\First project\\\\BATTERY LABEL. YOLO8\\\\test_videos\\\\WhatsApp Video 2024-07-09 at 05.53.51_7d3eb018.mp4: 480x640 10 BATTERYREJECTs, 236.6ms',\n",
       " 'video 1/1 (frame 389/810) D:\\\\AI COURSE TAMIL\\\\First project\\\\BATTERY LABEL. YOLO8\\\\test_videos\\\\WhatsApp Video 2024-07-09 at 05.53.51_7d3eb018.mp4: 480x640 10 BATTERYREJECTs, 233.4ms',\n",
       " 'video 1/1 (frame 390/810) D:\\\\AI COURSE TAMIL\\\\First project\\\\BATTERY LABEL. YOLO8\\\\test_videos\\\\WhatsApp Video 2024-07-09 at 05.53.51_7d3eb018.mp4: 480x640 10 BATTERYREJECTs, 236.8ms',\n",
       " 'video 1/1 (frame 391/810) D:\\\\AI COURSE TAMIL\\\\First project\\\\BATTERY LABEL. YOLO8\\\\test_videos\\\\WhatsApp Video 2024-07-09 at 05.53.51_7d3eb018.mp4: 480x640 10 BATTERYREJECTs, 238.7ms',\n",
       " 'video 1/1 (frame 392/810) D:\\\\AI COURSE TAMIL\\\\First project\\\\BATTERY LABEL. YOLO8\\\\test_videos\\\\WhatsApp Video 2024-07-09 at 05.53.51_7d3eb018.mp4: 480x640 10 BATTERYREJECTs, 250.8ms',\n",
       " 'video 1/1 (frame 393/810) D:\\\\AI COURSE TAMIL\\\\First project\\\\BATTERY LABEL. YOLO8\\\\test_videos\\\\WhatsApp Video 2024-07-09 at 05.53.51_7d3eb018.mp4: 480x640 10 BATTERYREJECTs, 234.5ms',\n",
       " 'video 1/1 (frame 394/810) D:\\\\AI COURSE TAMIL\\\\First project\\\\BATTERY LABEL. YOLO8\\\\test_videos\\\\WhatsApp Video 2024-07-09 at 05.53.51_7d3eb018.mp4: 480x640 10 BATTERYREJECTs, 246.3ms',\n",
       " 'video 1/1 (frame 395/810) D:\\\\AI COURSE TAMIL\\\\First project\\\\BATTERY LABEL. YOLO8\\\\test_videos\\\\WhatsApp Video 2024-07-09 at 05.53.51_7d3eb018.mp4: 480x640 10 BATTERYREJECTs, 243.1ms',\n",
       " 'video 1/1 (frame 396/810) D:\\\\AI COURSE TAMIL\\\\First project\\\\BATTERY LABEL. YOLO8\\\\test_videos\\\\WhatsApp Video 2024-07-09 at 05.53.51_7d3eb018.mp4: 480x640 10 BATTERYREJECTs, 243.2ms',\n",
       " 'video 1/1 (frame 397/810) D:\\\\AI COURSE TAMIL\\\\First project\\\\BATTERY LABEL. YOLO8\\\\test_videos\\\\WhatsApp Video 2024-07-09 at 05.53.51_7d3eb018.mp4: 480x640 10 BATTERYREJECTs, 238.7ms',\n",
       " 'video 1/1 (frame 398/810) D:\\\\AI COURSE TAMIL\\\\First project\\\\BATTERY LABEL. YOLO8\\\\test_videos\\\\WhatsApp Video 2024-07-09 at 05.53.51_7d3eb018.mp4: 480x640 10 BATTERYREJECTs, 231.0ms',\n",
       " 'video 1/1 (frame 399/810) D:\\\\AI COURSE TAMIL\\\\First project\\\\BATTERY LABEL. YOLO8\\\\test_videos\\\\WhatsApp Video 2024-07-09 at 05.53.51_7d3eb018.mp4: 480x640 10 BATTERYREJECTs, 241.2ms',\n",
       " 'video 1/1 (frame 400/810) D:\\\\AI COURSE TAMIL\\\\First project\\\\BATTERY LABEL. YOLO8\\\\test_videos\\\\WhatsApp Video 2024-07-09 at 05.53.51_7d3eb018.mp4: 480x640 10 BATTERYREJECTs, 236.3ms',\n",
       " 'video 1/1 (frame 401/810) D:\\\\AI COURSE TAMIL\\\\First project\\\\BATTERY LABEL. YOLO8\\\\test_videos\\\\WhatsApp Video 2024-07-09 at 05.53.51_7d3eb018.mp4: 480x640 10 BATTERYREJECTs, 243.4ms',\n",
       " 'video 1/1 (frame 402/810) D:\\\\AI COURSE TAMIL\\\\First project\\\\BATTERY LABEL. YOLO8\\\\test_videos\\\\WhatsApp Video 2024-07-09 at 05.53.51_7d3eb018.mp4: 480x640 10 BATTERYREJECTs, 231.9ms',\n",
       " 'video 1/1 (frame 403/810) D:\\\\AI COURSE TAMIL\\\\First project\\\\BATTERY LABEL. YOLO8\\\\test_videos\\\\WhatsApp Video 2024-07-09 at 05.53.51_7d3eb018.mp4: 480x640 10 BATTERYREJECTs, 254.9ms',\n",
       " 'video 1/1 (frame 404/810) D:\\\\AI COURSE TAMIL\\\\First project\\\\BATTERY LABEL. YOLO8\\\\test_videos\\\\WhatsApp Video 2024-07-09 at 05.53.51_7d3eb018.mp4: 480x640 10 BATTERYREJECTs, 229.1ms',\n",
       " 'video 1/1 (frame 405/810) D:\\\\AI COURSE TAMIL\\\\First project\\\\BATTERY LABEL. YOLO8\\\\test_videos\\\\WhatsApp Video 2024-07-09 at 05.53.51_7d3eb018.mp4: 480x640 10 BATTERYREJECTs, 242.5ms',\n",
       " 'video 1/1 (frame 406/810) D:\\\\AI COURSE TAMIL\\\\First project\\\\BATTERY LABEL. YOLO8\\\\test_videos\\\\WhatsApp Video 2024-07-09 at 05.53.51_7d3eb018.mp4: 480x640 10 BATTERYREJECTs, 249.9ms',\n",
       " 'video 1/1 (frame 407/810) D:\\\\AI COURSE TAMIL\\\\First project\\\\BATTERY LABEL. YOLO8\\\\test_videos\\\\WhatsApp Video 2024-07-09 at 05.53.51_7d3eb018.mp4: 480x640 10 BATTERYREJECTs, 672.2ms',\n",
       " 'video 1/1 (frame 408/810) D:\\\\AI COURSE TAMIL\\\\First project\\\\BATTERY LABEL. YOLO8\\\\test_videos\\\\WhatsApp Video 2024-07-09 at 05.53.51_7d3eb018.mp4: 480x640 10 BATTERYREJECTs, 248.7ms',\n",
       " 'video 1/1 (frame 409/810) D:\\\\AI COURSE TAMIL\\\\First project\\\\BATTERY LABEL. YOLO8\\\\test_videos\\\\WhatsApp Video 2024-07-09 at 05.53.51_7d3eb018.mp4: 480x640 10 BATTERYREJECTs, 243.9ms',\n",
       " 'video 1/1 (frame 410/810) D:\\\\AI COURSE TAMIL\\\\First project\\\\BATTERY LABEL. YOLO8\\\\test_videos\\\\WhatsApp Video 2024-07-09 at 05.53.51_7d3eb018.mp4: 480x640 10 BATTERYREJECTs, 235.1ms',\n",
       " 'video 1/1 (frame 411/810) D:\\\\AI COURSE TAMIL\\\\First project\\\\BATTERY LABEL. YOLO8\\\\test_videos\\\\WhatsApp Video 2024-07-09 at 05.53.51_7d3eb018.mp4: 480x640 10 BATTERYREJECTs, 234.3ms',\n",
       " 'video 1/1 (frame 412/810) D:\\\\AI COURSE TAMIL\\\\First project\\\\BATTERY LABEL. YOLO8\\\\test_videos\\\\WhatsApp Video 2024-07-09 at 05.53.51_7d3eb018.mp4: 480x640 10 BATTERYREJECTs, 245.3ms',\n",
       " 'video 1/1 (frame 413/810) D:\\\\AI COURSE TAMIL\\\\First project\\\\BATTERY LABEL. YOLO8\\\\test_videos\\\\WhatsApp Video 2024-07-09 at 05.53.51_7d3eb018.mp4: 480x640 10 BATTERYREJECTs, 236.8ms',\n",
       " 'video 1/1 (frame 414/810) D:\\\\AI COURSE TAMIL\\\\First project\\\\BATTERY LABEL. YOLO8\\\\test_videos\\\\WhatsApp Video 2024-07-09 at 05.53.51_7d3eb018.mp4: 480x640 10 BATTERYREJECTs, 245.3ms',\n",
       " 'video 1/1 (frame 415/810) D:\\\\AI COURSE TAMIL\\\\First project\\\\BATTERY LABEL. YOLO8\\\\test_videos\\\\WhatsApp Video 2024-07-09 at 05.53.51_7d3eb018.mp4: 480x640 10 BATTERYREJECTs, 229.3ms',\n",
       " 'video 1/1 (frame 416/810) D:\\\\AI COURSE TAMIL\\\\First project\\\\BATTERY LABEL. YOLO8\\\\test_videos\\\\WhatsApp Video 2024-07-09 at 05.53.51_7d3eb018.mp4: 480x640 10 BATTERYREJECTs, 242.2ms',\n",
       " 'video 1/1 (frame 417/810) D:\\\\AI COURSE TAMIL\\\\First project\\\\BATTERY LABEL. YOLO8\\\\test_videos\\\\WhatsApp Video 2024-07-09 at 05.53.51_7d3eb018.mp4: 480x640 10 BATTERYREJECTs, 244.8ms',\n",
       " 'video 1/1 (frame 418/810) D:\\\\AI COURSE TAMIL\\\\First project\\\\BATTERY LABEL. YOLO8\\\\test_videos\\\\WhatsApp Video 2024-07-09 at 05.53.51_7d3eb018.mp4: 480x640 10 BATTERYREJECTs, 239.6ms',\n",
       " 'video 1/1 (frame 419/810) D:\\\\AI COURSE TAMIL\\\\First project\\\\BATTERY LABEL. YOLO8\\\\test_videos\\\\WhatsApp Video 2024-07-09 at 05.53.51_7d3eb018.mp4: 480x640 10 BATTERYREJECTs, 239.5ms',\n",
       " 'video 1/1 (frame 420/810) D:\\\\AI COURSE TAMIL\\\\First project\\\\BATTERY LABEL. YOLO8\\\\test_videos\\\\WhatsApp Video 2024-07-09 at 05.53.51_7d3eb018.mp4: 480x640 10 BATTERYREJECTs, 252.0ms',\n",
       " 'video 1/1 (frame 421/810) D:\\\\AI COURSE TAMIL\\\\First project\\\\BATTERY LABEL. YOLO8\\\\test_videos\\\\WhatsApp Video 2024-07-09 at 05.53.51_7d3eb018.mp4: 480x640 10 BATTERYREJECTs, 247.2ms',\n",
       " 'video 1/1 (frame 422/810) D:\\\\AI COURSE TAMIL\\\\First project\\\\BATTERY LABEL. YOLO8\\\\test_videos\\\\WhatsApp Video 2024-07-09 at 05.53.51_7d3eb018.mp4: 480x640 10 BATTERYREJECTs, 232.7ms',\n",
       " 'video 1/1 (frame 423/810) D:\\\\AI COURSE TAMIL\\\\First project\\\\BATTERY LABEL. YOLO8\\\\test_videos\\\\WhatsApp Video 2024-07-09 at 05.53.51_7d3eb018.mp4: 480x640 10 BATTERYREJECTs, 238.6ms',\n",
       " 'video 1/1 (frame 424/810) D:\\\\AI COURSE TAMIL\\\\First project\\\\BATTERY LABEL. YOLO8\\\\test_videos\\\\WhatsApp Video 2024-07-09 at 05.53.51_7d3eb018.mp4: 480x640 10 BATTERYREJECTs, 235.4ms',\n",
       " 'video 1/1 (frame 425/810) D:\\\\AI COURSE TAMIL\\\\First project\\\\BATTERY LABEL. YOLO8\\\\test_videos\\\\WhatsApp Video 2024-07-09 at 05.53.51_7d3eb018.mp4: 480x640 10 BATTERYREJECTs, 250.0ms',\n",
       " 'video 1/1 (frame 426/810) D:\\\\AI COURSE TAMIL\\\\First project\\\\BATTERY LABEL. YOLO8\\\\test_videos\\\\WhatsApp Video 2024-07-09 at 05.53.51_7d3eb018.mp4: 480x640 10 BATTERYREJECTs, 231.1ms',\n",
       " 'video 1/1 (frame 427/810) D:\\\\AI COURSE TAMIL\\\\First project\\\\BATTERY LABEL. YOLO8\\\\test_videos\\\\WhatsApp Video 2024-07-09 at 05.53.51_7d3eb018.mp4: 480x640 10 BATTERYREJECTs, 240.3ms',\n",
       " 'video 1/1 (frame 428/810) D:\\\\AI COURSE TAMIL\\\\First project\\\\BATTERY LABEL. YOLO8\\\\test_videos\\\\WhatsApp Video 2024-07-09 at 05.53.51_7d3eb018.mp4: 480x640 10 BATTERYREJECTs, 233.5ms',\n",
       " 'video 1/1 (frame 429/810) D:\\\\AI COURSE TAMIL\\\\First project\\\\BATTERY LABEL. YOLO8\\\\test_videos\\\\WhatsApp Video 2024-07-09 at 05.53.51_7d3eb018.mp4: 480x640 10 BATTERYREJECTs, 239.0ms',\n",
       " 'video 1/1 (frame 430/810) D:\\\\AI COURSE TAMIL\\\\First project\\\\BATTERY LABEL. YOLO8\\\\test_videos\\\\WhatsApp Video 2024-07-09 at 05.53.51_7d3eb018.mp4: 480x640 10 BATTERYREJECTs, 237.0ms',\n",
       " 'video 1/1 (frame 431/810) D:\\\\AI COURSE TAMIL\\\\First project\\\\BATTERY LABEL. YOLO8\\\\test_videos\\\\WhatsApp Video 2024-07-09 at 05.53.51_7d3eb018.mp4: 480x640 10 BATTERYREJECTs, 234.2ms',\n",
       " 'video 1/1 (frame 432/810) D:\\\\AI COURSE TAMIL\\\\First project\\\\BATTERY LABEL. YOLO8\\\\test_videos\\\\WhatsApp Video 2024-07-09 at 05.53.51_7d3eb018.mp4: 480x640 10 BATTERYREJECTs, 238.0ms',\n",
       " 'video 1/1 (frame 433/810) D:\\\\AI COURSE TAMIL\\\\First project\\\\BATTERY LABEL. YOLO8\\\\test_videos\\\\WhatsApp Video 2024-07-09 at 05.53.51_7d3eb018.mp4: 480x640 10 BATTERYREJECTs, 240.9ms',\n",
       " 'video 1/1 (frame 434/810) D:\\\\AI COURSE TAMIL\\\\First project\\\\BATTERY LABEL. YOLO8\\\\test_videos\\\\WhatsApp Video 2024-07-09 at 05.53.51_7d3eb018.mp4: 480x640 10 BATTERYREJECTs, 230.4ms',\n",
       " 'video 1/1 (frame 435/810) D:\\\\AI COURSE TAMIL\\\\First project\\\\BATTERY LABEL. YOLO8\\\\test_videos\\\\WhatsApp Video 2024-07-09 at 05.53.51_7d3eb018.mp4: 480x640 10 BATTERYREJECTs, 257.0ms',\n",
       " 'video 1/1 (frame 436/810) D:\\\\AI COURSE TAMIL\\\\First project\\\\BATTERY LABEL. YOLO8\\\\test_videos\\\\WhatsApp Video 2024-07-09 at 05.53.51_7d3eb018.mp4: 480x640 10 BATTERYREJECTs, 242.4ms',\n",
       " 'video 1/1 (frame 437/810) D:\\\\AI COURSE TAMIL\\\\First project\\\\BATTERY LABEL. YOLO8\\\\test_videos\\\\WhatsApp Video 2024-07-09 at 05.53.51_7d3eb018.mp4: 480x640 10 BATTERYREJECTs, 235.2ms',\n",
       " 'video 1/1 (frame 438/810) D:\\\\AI COURSE TAMIL\\\\First project\\\\BATTERY LABEL. YOLO8\\\\test_videos\\\\WhatsApp Video 2024-07-09 at 05.53.51_7d3eb018.mp4: 480x640 10 BATTERYREJECTs, 232.4ms',\n",
       " 'video 1/1 (frame 439/810) D:\\\\AI COURSE TAMIL\\\\First project\\\\BATTERY LABEL. YOLO8\\\\test_videos\\\\WhatsApp Video 2024-07-09 at 05.53.51_7d3eb018.mp4: 480x640 10 BATTERYREJECTs, 234.0ms',\n",
       " 'video 1/1 (frame 440/810) D:\\\\AI COURSE TAMIL\\\\First project\\\\BATTERY LABEL. YOLO8\\\\test_videos\\\\WhatsApp Video 2024-07-09 at 05.53.51_7d3eb018.mp4: 480x640 10 BATTERYREJECTs, 269.9ms',\n",
       " 'video 1/1 (frame 441/810) D:\\\\AI COURSE TAMIL\\\\First project\\\\BATTERY LABEL. YOLO8\\\\test_videos\\\\WhatsApp Video 2024-07-09 at 05.53.51_7d3eb018.mp4: 480x640 10 BATTERYREJECTs, 237.5ms',\n",
       " 'video 1/1 (frame 442/810) D:\\\\AI COURSE TAMIL\\\\First project\\\\BATTERY LABEL. YOLO8\\\\test_videos\\\\WhatsApp Video 2024-07-09 at 05.53.51_7d3eb018.mp4: 480x640 10 BATTERYREJECTs, 227.8ms',\n",
       " 'video 1/1 (frame 443/810) D:\\\\AI COURSE TAMIL\\\\First project\\\\BATTERY LABEL. YOLO8\\\\test_videos\\\\WhatsApp Video 2024-07-09 at 05.53.51_7d3eb018.mp4: 480x640 10 BATTERYREJECTs, 236.0ms',\n",
       " 'video 1/1 (frame 444/810) D:\\\\AI COURSE TAMIL\\\\First project\\\\BATTERY LABEL. YOLO8\\\\test_videos\\\\WhatsApp Video 2024-07-09 at 05.53.51_7d3eb018.mp4: 480x640 10 BATTERYREJECTs, 231.0ms',\n",
       " 'video 1/1 (frame 445/810) D:\\\\AI COURSE TAMIL\\\\First project\\\\BATTERY LABEL. YOLO8\\\\test_videos\\\\WhatsApp Video 2024-07-09 at 05.53.51_7d3eb018.mp4: 480x640 10 BATTERYREJECTs, 240.1ms',\n",
       " 'video 1/1 (frame 446/810) D:\\\\AI COURSE TAMIL\\\\First project\\\\BATTERY LABEL. YOLO8\\\\test_videos\\\\WhatsApp Video 2024-07-09 at 05.53.51_7d3eb018.mp4: 480x640 10 BATTERYREJECTs, 236.6ms',\n",
       " 'video 1/1 (frame 447/810) D:\\\\AI COURSE TAMIL\\\\First project\\\\BATTERY LABEL. YOLO8\\\\test_videos\\\\WhatsApp Video 2024-07-09 at 05.53.51_7d3eb018.mp4: 480x640 10 BATTERYREJECTs, 235.4ms',\n",
       " 'video 1/1 (frame 448/810) D:\\\\AI COURSE TAMIL\\\\First project\\\\BATTERY LABEL. YOLO8\\\\test_videos\\\\WhatsApp Video 2024-07-09 at 05.53.51_7d3eb018.mp4: 480x640 10 BATTERYREJECTs, 226.5ms',\n",
       " 'video 1/1 (frame 449/810) D:\\\\AI COURSE TAMIL\\\\First project\\\\BATTERY LABEL. YOLO8\\\\test_videos\\\\WhatsApp Video 2024-07-09 at 05.53.51_7d3eb018.mp4: 480x640 10 BATTERYREJECTs, 237.9ms',\n",
       " 'video 1/1 (frame 450/810) D:\\\\AI COURSE TAMIL\\\\First project\\\\BATTERY LABEL. YOLO8\\\\test_videos\\\\WhatsApp Video 2024-07-09 at 05.53.51_7d3eb018.mp4: 480x640 10 BATTERYREJECTs, 244.6ms',\n",
       " 'video 1/1 (frame 451/810) D:\\\\AI COURSE TAMIL\\\\First project\\\\BATTERY LABEL. YOLO8\\\\test_videos\\\\WhatsApp Video 2024-07-09 at 05.53.51_7d3eb018.mp4: 480x640 10 BATTERYOKLABELs, 246.1ms',\n",
       " 'video 1/1 (frame 452/810) D:\\\\AI COURSE TAMIL\\\\First project\\\\BATTERY LABEL. YOLO8\\\\test_videos\\\\WhatsApp Video 2024-07-09 at 05.53.51_7d3eb018.mp4: 480x640 10 BATTERYOKLABELs, 248.1ms',\n",
       " 'video 1/1 (frame 453/810) D:\\\\AI COURSE TAMIL\\\\First project\\\\BATTERY LABEL. YOLO8\\\\test_videos\\\\WhatsApp Video 2024-07-09 at 05.53.51_7d3eb018.mp4: 480x640 10 BATTERYOKLABELs, 240.5ms',\n",
       " 'video 1/1 (frame 454/810) D:\\\\AI COURSE TAMIL\\\\First project\\\\BATTERY LABEL. YOLO8\\\\test_videos\\\\WhatsApp Video 2024-07-09 at 05.53.51_7d3eb018.mp4: 480x640 10 BATTERYOKLABELs, 246.8ms',\n",
       " 'video 1/1 (frame 455/810) D:\\\\AI COURSE TAMIL\\\\First project\\\\BATTERY LABEL. YOLO8\\\\test_videos\\\\WhatsApp Video 2024-07-09 at 05.53.51_7d3eb018.mp4: 480x640 10 BATTERYOKLABELs, 241.4ms',\n",
       " 'video 1/1 (frame 456/810) D:\\\\AI COURSE TAMIL\\\\First project\\\\BATTERY LABEL. YOLO8\\\\test_videos\\\\WhatsApp Video 2024-07-09 at 05.53.51_7d3eb018.mp4: 480x640 10 BATTERYOKLABELs, 230.0ms',\n",
       " 'video 1/1 (frame 457/810) D:\\\\AI COURSE TAMIL\\\\First project\\\\BATTERY LABEL. YOLO8\\\\test_videos\\\\WhatsApp Video 2024-07-09 at 05.53.51_7d3eb018.mp4: 480x640 10 BATTERYOKLABELs, 242.6ms',\n",
       " 'video 1/1 (frame 458/810) D:\\\\AI COURSE TAMIL\\\\First project\\\\BATTERY LABEL. YOLO8\\\\test_videos\\\\WhatsApp Video 2024-07-09 at 05.53.51_7d3eb018.mp4: 480x640 10 BATTERYOKLABELs, 248.8ms',\n",
       " 'video 1/1 (frame 459/810) D:\\\\AI COURSE TAMIL\\\\First project\\\\BATTERY LABEL. YOLO8\\\\test_videos\\\\WhatsApp Video 2024-07-09 at 05.53.51_7d3eb018.mp4: 480x640 10 BATTERYOKLABELs, 252.4ms',\n",
       " 'video 1/1 (frame 460/810) D:\\\\AI COURSE TAMIL\\\\First project\\\\BATTERY LABEL. YOLO8\\\\test_videos\\\\WhatsApp Video 2024-07-09 at 05.53.51_7d3eb018.mp4: 480x640 10 BATTERYOKLABELs, 229.5ms',\n",
       " 'video 1/1 (frame 461/810) D:\\\\AI COURSE TAMIL\\\\First project\\\\BATTERY LABEL. YOLO8\\\\test_videos\\\\WhatsApp Video 2024-07-09 at 05.53.51_7d3eb018.mp4: 480x640 10 BATTERYOKLABELs, 232.6ms',\n",
       " 'video 1/1 (frame 462/810) D:\\\\AI COURSE TAMIL\\\\First project\\\\BATTERY LABEL. YOLO8\\\\test_videos\\\\WhatsApp Video 2024-07-09 at 05.53.51_7d3eb018.mp4: 480x640 10 BATTERYOKLABELs, 240.2ms',\n",
       " 'video 1/1 (frame 463/810) D:\\\\AI COURSE TAMIL\\\\First project\\\\BATTERY LABEL. YOLO8\\\\test_videos\\\\WhatsApp Video 2024-07-09 at 05.53.51_7d3eb018.mp4: 480x640 10 BATTERYOKLABELs, 242.3ms',\n",
       " 'video 1/1 (frame 464/810) D:\\\\AI COURSE TAMIL\\\\First project\\\\BATTERY LABEL. YOLO8\\\\test_videos\\\\WhatsApp Video 2024-07-09 at 05.53.51_7d3eb018.mp4: 480x640 10 BATTERYOKLABELs, 228.6ms',\n",
       " 'video 1/1 (frame 465/810) D:\\\\AI COURSE TAMIL\\\\First project\\\\BATTERY LABEL. YOLO8\\\\test_videos\\\\WhatsApp Video 2024-07-09 at 05.53.51_7d3eb018.mp4: 480x640 10 BATTERYOKLABELs, 247.7ms',\n",
       " 'video 1/1 (frame 466/810) D:\\\\AI COURSE TAMIL\\\\First project\\\\BATTERY LABEL. YOLO8\\\\test_videos\\\\WhatsApp Video 2024-07-09 at 05.53.51_7d3eb018.mp4: 480x640 10 BATTERYOKLABELs, 244.1ms',\n",
       " 'video 1/1 (frame 467/810) D:\\\\AI COURSE TAMIL\\\\First project\\\\BATTERY LABEL. YOLO8\\\\test_videos\\\\WhatsApp Video 2024-07-09 at 05.53.51_7d3eb018.mp4: 480x640 10 BATTERYOKLABELs, 238.4ms',\n",
       " 'video 1/1 (frame 468/810) D:\\\\AI COURSE TAMIL\\\\First project\\\\BATTERY LABEL. YOLO8\\\\test_videos\\\\WhatsApp Video 2024-07-09 at 05.53.51_7d3eb018.mp4: 480x640 10 BATTERYOKLABELs, 233.9ms',\n",
       " 'video 1/1 (frame 469/810) D:\\\\AI COURSE TAMIL\\\\First project\\\\BATTERY LABEL. YOLO8\\\\test_videos\\\\WhatsApp Video 2024-07-09 at 05.53.51_7d3eb018.mp4: 480x640 10 BATTERYOKLABELs, 245.7ms',\n",
       " 'video 1/1 (frame 470/810) D:\\\\AI COURSE TAMIL\\\\First project\\\\BATTERY LABEL. YOLO8\\\\test_videos\\\\WhatsApp Video 2024-07-09 at 05.53.51_7d3eb018.mp4: 480x640 10 BATTERYOKLABELs, 245.0ms',\n",
       " 'video 1/1 (frame 471/810) D:\\\\AI COURSE TAMIL\\\\First project\\\\BATTERY LABEL. YOLO8\\\\test_videos\\\\WhatsApp Video 2024-07-09 at 05.53.51_7d3eb018.mp4: 480x640 10 BATTERYOKLABELs, 235.2ms',\n",
       " 'video 1/1 (frame 472/810) D:\\\\AI COURSE TAMIL\\\\First project\\\\BATTERY LABEL. YOLO8\\\\test_videos\\\\WhatsApp Video 2024-07-09 at 05.53.51_7d3eb018.mp4: 480x640 10 BATTERYOKLABELs, 230.0ms',\n",
       " 'video 1/1 (frame 473/810) D:\\\\AI COURSE TAMIL\\\\First project\\\\BATTERY LABEL. YOLO8\\\\test_videos\\\\WhatsApp Video 2024-07-09 at 05.53.51_7d3eb018.mp4: 480x640 10 BATTERYOKLABELs, 245.0ms',\n",
       " 'video 1/1 (frame 474/810) D:\\\\AI COURSE TAMIL\\\\First project\\\\BATTERY LABEL. YOLO8\\\\test_videos\\\\WhatsApp Video 2024-07-09 at 05.53.51_7d3eb018.mp4: 480x640 10 BATTERYOKLABELs, 239.8ms',\n",
       " 'video 1/1 (frame 475/810) D:\\\\AI COURSE TAMIL\\\\First project\\\\BATTERY LABEL. YOLO8\\\\test_videos\\\\WhatsApp Video 2024-07-09 at 05.53.51_7d3eb018.mp4: 480x640 10 BATTERYOKLABELs, 241.3ms',\n",
       " 'video 1/1 (frame 476/810) D:\\\\AI COURSE TAMIL\\\\First project\\\\BATTERY LABEL. YOLO8\\\\test_videos\\\\WhatsApp Video 2024-07-09 at 05.53.51_7d3eb018.mp4: 480x640 10 BATTERYOKLABELs, 252.7ms',\n",
       " 'video 1/1 (frame 477/810) D:\\\\AI COURSE TAMIL\\\\First project\\\\BATTERY LABEL. YOLO8\\\\test_videos\\\\WhatsApp Video 2024-07-09 at 05.53.51_7d3eb018.mp4: 480x640 10 BATTERYOKLABELs, 245.8ms',\n",
       " 'video 1/1 (frame 478/810) D:\\\\AI COURSE TAMIL\\\\First project\\\\BATTERY LABEL. YOLO8\\\\test_videos\\\\WhatsApp Video 2024-07-09 at 05.53.51_7d3eb018.mp4: 480x640 10 BATTERYOKLABELs, 257.2ms',\n",
       " 'video 1/1 (frame 479/810) D:\\\\AI COURSE TAMIL\\\\First project\\\\BATTERY LABEL. YOLO8\\\\test_videos\\\\WhatsApp Video 2024-07-09 at 05.53.51_7d3eb018.mp4: 480x640 10 BATTERYOKLABELs, 237.1ms',\n",
       " 'video 1/1 (frame 480/810) D:\\\\AI COURSE TAMIL\\\\First project\\\\BATTERY LABEL. YOLO8\\\\test_videos\\\\WhatsApp Video 2024-07-09 at 05.53.51_7d3eb018.mp4: 480x640 10 BATTERYOKLABELs, 237.5ms',\n",
       " 'video 1/1 (frame 481/810) D:\\\\AI COURSE TAMIL\\\\First project\\\\BATTERY LABEL. YOLO8\\\\test_videos\\\\WhatsApp Video 2024-07-09 at 05.53.51_7d3eb018.mp4: 480x640 10 BATTERYOKLABELs, 252.6ms',\n",
       " 'video 1/1 (frame 482/810) D:\\\\AI COURSE TAMIL\\\\First project\\\\BATTERY LABEL. YOLO8\\\\test_videos\\\\WhatsApp Video 2024-07-09 at 05.53.51_7d3eb018.mp4: 480x640 10 BATTERYOKLABELs, 240.5ms',\n",
       " 'video 1/1 (frame 483/810) D:\\\\AI COURSE TAMIL\\\\First project\\\\BATTERY LABEL. YOLO8\\\\test_videos\\\\WhatsApp Video 2024-07-09 at 05.53.51_7d3eb018.mp4: 480x640 10 BATTERYOKLABELs, 247.1ms',\n",
       " 'video 1/1 (frame 484/810) D:\\\\AI COURSE TAMIL\\\\First project\\\\BATTERY LABEL. YOLO8\\\\test_videos\\\\WhatsApp Video 2024-07-09 at 05.53.51_7d3eb018.mp4: 480x640 10 BATTERYOKLABELs, 247.3ms',\n",
       " 'video 1/1 (frame 485/810) D:\\\\AI COURSE TAMIL\\\\First project\\\\BATTERY LABEL. YOLO8\\\\test_videos\\\\WhatsApp Video 2024-07-09 at 05.53.51_7d3eb018.mp4: 480x640 10 BATTERYOKLABELs, 245.7ms',\n",
       " 'video 1/1 (frame 486/810) D:\\\\AI COURSE TAMIL\\\\First project\\\\BATTERY LABEL. YOLO8\\\\test_videos\\\\WhatsApp Video 2024-07-09 at 05.53.51_7d3eb018.mp4: 480x640 10 BATTERYOKLABELs, 237.8ms',\n",
       " 'video 1/1 (frame 487/810) D:\\\\AI COURSE TAMIL\\\\First project\\\\BATTERY LABEL. YOLO8\\\\test_videos\\\\WhatsApp Video 2024-07-09 at 05.53.51_7d3eb018.mp4: 480x640 10 BATTERYOKLABELs, 225.4ms',\n",
       " 'video 1/1 (frame 488/810) D:\\\\AI COURSE TAMIL\\\\First project\\\\BATTERY LABEL. YOLO8\\\\test_videos\\\\WhatsApp Video 2024-07-09 at 05.53.51_7d3eb018.mp4: 480x640 10 BATTERYOKLABELs, 237.1ms',\n",
       " 'video 1/1 (frame 489/810) D:\\\\AI COURSE TAMIL\\\\First project\\\\BATTERY LABEL. YOLO8\\\\test_videos\\\\WhatsApp Video 2024-07-09 at 05.53.51_7d3eb018.mp4: 480x640 10 BATTERYOKLABELs, 239.6ms',\n",
       " 'video 1/1 (frame 490/810) D:\\\\AI COURSE TAMIL\\\\First project\\\\BATTERY LABEL. YOLO8\\\\test_videos\\\\WhatsApp Video 2024-07-09 at 05.53.51_7d3eb018.mp4: 480x640 10 BATTERYOKLABELs, 237.1ms',\n",
       " 'video 1/1 (frame 491/810) D:\\\\AI COURSE TAMIL\\\\First project\\\\BATTERY LABEL. YOLO8\\\\test_videos\\\\WhatsApp Video 2024-07-09 at 05.53.51_7d3eb018.mp4: 480x640 10 BATTERYOKLABELs, 235.9ms',\n",
       " 'video 1/1 (frame 492/810) D:\\\\AI COURSE TAMIL\\\\First project\\\\BATTERY LABEL. YOLO8\\\\test_videos\\\\WhatsApp Video 2024-07-09 at 05.53.51_7d3eb018.mp4: 480x640 10 BATTERYOKLABELs, 234.1ms',\n",
       " 'video 1/1 (frame 493/810) D:\\\\AI COURSE TAMIL\\\\First project\\\\BATTERY LABEL. YOLO8\\\\test_videos\\\\WhatsApp Video 2024-07-09 at 05.53.51_7d3eb018.mp4: 480x640 10 BATTERYOKLABELs, 244.9ms',\n",
       " 'video 1/1 (frame 494/810) D:\\\\AI COURSE TAMIL\\\\First project\\\\BATTERY LABEL. YOLO8\\\\test_videos\\\\WhatsApp Video 2024-07-09 at 05.53.51_7d3eb018.mp4: 480x640 10 BATTERYOKLABELs, 226.7ms',\n",
       " 'video 1/1 (frame 495/810) D:\\\\AI COURSE TAMIL\\\\First project\\\\BATTERY LABEL. YOLO8\\\\test_videos\\\\WhatsApp Video 2024-07-09 at 05.53.51_7d3eb018.mp4: 480x640 10 BATTERYOKLABELs, 232.5ms',\n",
       " 'video 1/1 (frame 496/810) D:\\\\AI COURSE TAMIL\\\\First project\\\\BATTERY LABEL. YOLO8\\\\test_videos\\\\WhatsApp Video 2024-07-09 at 05.53.51_7d3eb018.mp4: 480x640 10 BATTERYOKLABELs, 254.7ms',\n",
       " 'video 1/1 (frame 497/810) D:\\\\AI COURSE TAMIL\\\\First project\\\\BATTERY LABEL. YOLO8\\\\test_videos\\\\WhatsApp Video 2024-07-09 at 05.53.51_7d3eb018.mp4: 480x640 10 BATTERYOKLABELs, 235.4ms',\n",
       " 'video 1/1 (frame 498/810) D:\\\\AI COURSE TAMIL\\\\First project\\\\BATTERY LABEL. YOLO8\\\\test_videos\\\\WhatsApp Video 2024-07-09 at 05.53.51_7d3eb018.mp4: 480x640 10 BATTERYOKLABELs, 237.8ms',\n",
       " 'video 1/1 (frame 499/810) D:\\\\AI COURSE TAMIL\\\\First project\\\\BATTERY LABEL. YOLO8\\\\test_videos\\\\WhatsApp Video 2024-07-09 at 05.53.51_7d3eb018.mp4: 480x640 10 BATTERYOKLABELs, 239.3ms',\n",
       " 'video 1/1 (frame 500/810) D:\\\\AI COURSE TAMIL\\\\First project\\\\BATTERY LABEL. YOLO8\\\\test_videos\\\\WhatsApp Video 2024-07-09 at 05.53.51_7d3eb018.mp4: 480x640 10 BATTERYOKLABELs, 248.6ms',\n",
       " 'video 1/1 (frame 501/810) D:\\\\AI COURSE TAMIL\\\\First project\\\\BATTERY LABEL. YOLO8\\\\test_videos\\\\WhatsApp Video 2024-07-09 at 05.53.51_7d3eb018.mp4: 480x640 10 BATTERYOKLABELs, 243.0ms',\n",
       " 'video 1/1 (frame 502/810) D:\\\\AI COURSE TAMIL\\\\First project\\\\BATTERY LABEL. YOLO8\\\\test_videos\\\\WhatsApp Video 2024-07-09 at 05.53.51_7d3eb018.mp4: 480x640 10 BATTERYOKLABELs, 237.2ms',\n",
       " 'video 1/1 (frame 503/810) D:\\\\AI COURSE TAMIL\\\\First project\\\\BATTERY LABEL. YOLO8\\\\test_videos\\\\WhatsApp Video 2024-07-09 at 05.53.51_7d3eb018.mp4: 480x640 10 BATTERYOKLABELs, 247.8ms',\n",
       " 'video 1/1 (frame 504/810) D:\\\\AI COURSE TAMIL\\\\First project\\\\BATTERY LABEL. YOLO8\\\\test_videos\\\\WhatsApp Video 2024-07-09 at 05.53.51_7d3eb018.mp4: 480x640 10 BATTERYOKLABELs, 235.8ms',\n",
       " 'video 1/1 (frame 505/810) D:\\\\AI COURSE TAMIL\\\\First project\\\\BATTERY LABEL. YOLO8\\\\test_videos\\\\WhatsApp Video 2024-07-09 at 05.53.51_7d3eb018.mp4: 480x640 10 BATTERYOKLABELs, 236.9ms',\n",
       " 'video 1/1 (frame 506/810) D:\\\\AI COURSE TAMIL\\\\First project\\\\BATTERY LABEL. YOLO8\\\\test_videos\\\\WhatsApp Video 2024-07-09 at 05.53.51_7d3eb018.mp4: 480x640 10 BATTERYOKLABELs, 248.5ms',\n",
       " 'video 1/1 (frame 507/810) D:\\\\AI COURSE TAMIL\\\\First project\\\\BATTERY LABEL. YOLO8\\\\test_videos\\\\WhatsApp Video 2024-07-09 at 05.53.51_7d3eb018.mp4: 480x640 10 BATTERYOKLABELs, 238.6ms',\n",
       " 'video 1/1 (frame 508/810) D:\\\\AI COURSE TAMIL\\\\First project\\\\BATTERY LABEL. YOLO8\\\\test_videos\\\\WhatsApp Video 2024-07-09 at 05.53.51_7d3eb018.mp4: 480x640 10 BATTERYOKLABELs, 239.0ms',\n",
       " 'video 1/1 (frame 509/810) D:\\\\AI COURSE TAMIL\\\\First project\\\\BATTERY LABEL. YOLO8\\\\test_videos\\\\WhatsApp Video 2024-07-09 at 05.53.51_7d3eb018.mp4: 480x640 10 BATTERYOKLABELs, 310.2ms',\n",
       " 'video 1/1 (frame 510/810) D:\\\\AI COURSE TAMIL\\\\First project\\\\BATTERY LABEL. YOLO8\\\\test_videos\\\\WhatsApp Video 2024-07-09 at 05.53.51_7d3eb018.mp4: 480x640 10 BATTERYOKLABELs, 288.8ms',\n",
       " 'video 1/1 (frame 511/810) D:\\\\AI COURSE TAMIL\\\\First project\\\\BATTERY LABEL. YOLO8\\\\test_videos\\\\WhatsApp Video 2024-07-09 at 05.53.51_7d3eb018.mp4: 480x640 10 BATTERYOKLABELs, 297.1ms',\n",
       " 'video 1/1 (frame 512/810) D:\\\\AI COURSE TAMIL\\\\First project\\\\BATTERY LABEL. YOLO8\\\\test_videos\\\\WhatsApp Video 2024-07-09 at 05.53.51_7d3eb018.mp4: 480x640 10 BATTERYOKLABELs, 268.1ms',\n",
       " 'video 1/1 (frame 513/810) D:\\\\AI COURSE TAMIL\\\\First project\\\\BATTERY LABEL. YOLO8\\\\test_videos\\\\WhatsApp Video 2024-07-09 at 05.53.51_7d3eb018.mp4: 480x640 10 BATTERYOKLABELs, 277.9ms',\n",
       " 'video 1/1 (frame 514/810) D:\\\\AI COURSE TAMIL\\\\First project\\\\BATTERY LABEL. YOLO8\\\\test_videos\\\\WhatsApp Video 2024-07-09 at 05.53.51_7d3eb018.mp4: 480x640 10 BATTERYOKLABELs, 246.5ms',\n",
       " 'video 1/1 (frame 515/810) D:\\\\AI COURSE TAMIL\\\\First project\\\\BATTERY LABEL. YOLO8\\\\test_videos\\\\WhatsApp Video 2024-07-09 at 05.53.51_7d3eb018.mp4: 480x640 10 BATTERYOKLABELs, 676.3ms',\n",
       " 'video 1/1 (frame 516/810) D:\\\\AI COURSE TAMIL\\\\First project\\\\BATTERY LABEL. YOLO8\\\\test_videos\\\\WhatsApp Video 2024-07-09 at 05.53.51_7d3eb018.mp4: 480x640 10 BATTERYOKLABELs, 244.3ms',\n",
       " 'video 1/1 (frame 517/810) D:\\\\AI COURSE TAMIL\\\\First project\\\\BATTERY LABEL. YOLO8\\\\test_videos\\\\WhatsApp Video 2024-07-09 at 05.53.51_7d3eb018.mp4: 480x640 10 BATTERYOKLABELs, 270.6ms',\n",
       " 'video 1/1 (frame 518/810) D:\\\\AI COURSE TAMIL\\\\First project\\\\BATTERY LABEL. YOLO8\\\\test_videos\\\\WhatsApp Video 2024-07-09 at 05.53.51_7d3eb018.mp4: 480x640 10 BATTERYOKLABELs, 271.3ms',\n",
       " 'video 1/1 (frame 519/810) D:\\\\AI COURSE TAMIL\\\\First project\\\\BATTERY LABEL. YOLO8\\\\test_videos\\\\WhatsApp Video 2024-07-09 at 05.53.51_7d3eb018.mp4: 480x640 10 BATTERYOKLABELs, 272.8ms',\n",
       " 'video 1/1 (frame 520/810) D:\\\\AI COURSE TAMIL\\\\First project\\\\BATTERY LABEL. YOLO8\\\\test_videos\\\\WhatsApp Video 2024-07-09 at 05.53.51_7d3eb018.mp4: 480x640 10 BATTERYOKLABELs, 272.5ms',\n",
       " 'video 1/1 (frame 521/810) D:\\\\AI COURSE TAMIL\\\\First project\\\\BATTERY LABEL. YOLO8\\\\test_videos\\\\WhatsApp Video 2024-07-09 at 05.53.51_7d3eb018.mp4: 480x640 10 BATTERYOKLABELs, 284.4ms',\n",
       " 'video 1/1 (frame 522/810) D:\\\\AI COURSE TAMIL\\\\First project\\\\BATTERY LABEL. YOLO8\\\\test_videos\\\\WhatsApp Video 2024-07-09 at 05.53.51_7d3eb018.mp4: 480x640 10 BATTERYOKLABELs, 269.3ms',\n",
       " 'video 1/1 (frame 523/810) D:\\\\AI COURSE TAMIL\\\\First project\\\\BATTERY LABEL. YOLO8\\\\test_videos\\\\WhatsApp Video 2024-07-09 at 05.53.51_7d3eb018.mp4: 480x640 10 BATTERYOKLABELs, 274.9ms',\n",
       " 'video 1/1 (frame 524/810) D:\\\\AI COURSE TAMIL\\\\First project\\\\BATTERY LABEL. YOLO8\\\\test_videos\\\\WhatsApp Video 2024-07-09 at 05.53.51_7d3eb018.mp4: 480x640 10 BATTERYOKLABELs, 280.5ms',\n",
       " 'video 1/1 (frame 525/810) D:\\\\AI COURSE TAMIL\\\\First project\\\\BATTERY LABEL. YOLO8\\\\test_videos\\\\WhatsApp Video 2024-07-09 at 05.53.51_7d3eb018.mp4: 480x640 10 BATTERYOKLABELs, 250.8ms',\n",
       " 'video 1/1 (frame 526/810) D:\\\\AI COURSE TAMIL\\\\First project\\\\BATTERY LABEL. YOLO8\\\\test_videos\\\\WhatsApp Video 2024-07-09 at 05.53.51_7d3eb018.mp4: 480x640 10 BATTERYOKLABELs, 239.3ms',\n",
       " 'video 1/1 (frame 527/810) D:\\\\AI COURSE TAMIL\\\\First project\\\\BATTERY LABEL. YOLO8\\\\test_videos\\\\WhatsApp Video 2024-07-09 at 05.53.51_7d3eb018.mp4: 480x640 10 BATTERYOKLABELs, 232.7ms',\n",
       " 'video 1/1 (frame 528/810) D:\\\\AI COURSE TAMIL\\\\First project\\\\BATTERY LABEL. YOLO8\\\\test_videos\\\\WhatsApp Video 2024-07-09 at 05.53.51_7d3eb018.mp4: 480x640 10 BATTERYOKLABELs, 256.1ms',\n",
       " 'video 1/1 (frame 529/810) D:\\\\AI COURSE TAMIL\\\\First project\\\\BATTERY LABEL. YOLO8\\\\test_videos\\\\WhatsApp Video 2024-07-09 at 05.53.51_7d3eb018.mp4: 480x640 10 BATTERYOKLABELs, 258.7ms',\n",
       " 'video 1/1 (frame 530/810) D:\\\\AI COURSE TAMIL\\\\First project\\\\BATTERY LABEL. YOLO8\\\\test_videos\\\\WhatsApp Video 2024-07-09 at 05.53.51_7d3eb018.mp4: 480x640 10 BATTERYOKLABELs, 258.4ms',\n",
       " 'video 1/1 (frame 531/810) D:\\\\AI COURSE TAMIL\\\\First project\\\\BATTERY LABEL. YOLO8\\\\test_videos\\\\WhatsApp Video 2024-07-09 at 05.53.51_7d3eb018.mp4: 480x640 10 BATTERYOKLABELs, 250.3ms',\n",
       " 'video 1/1 (frame 532/810) D:\\\\AI COURSE TAMIL\\\\First project\\\\BATTERY LABEL. YOLO8\\\\test_videos\\\\WhatsApp Video 2024-07-09 at 05.53.51_7d3eb018.mp4: 480x640 10 BATTERYOKLABELs, 251.9ms',\n",
       " 'video 1/1 (frame 533/810) D:\\\\AI COURSE TAMIL\\\\First project\\\\BATTERY LABEL. YOLO8\\\\test_videos\\\\WhatsApp Video 2024-07-09 at 05.53.51_7d3eb018.mp4: 480x640 10 BATTERYOKLABELs, 245.3ms',\n",
       " 'video 1/1 (frame 534/810) D:\\\\AI COURSE TAMIL\\\\First project\\\\BATTERY LABEL. YOLO8\\\\test_videos\\\\WhatsApp Video 2024-07-09 at 05.53.51_7d3eb018.mp4: 480x640 10 BATTERYOKLABELs, 238.9ms',\n",
       " 'video 1/1 (frame 535/810) D:\\\\AI COURSE TAMIL\\\\First project\\\\BATTERY LABEL. YOLO8\\\\test_videos\\\\WhatsApp Video 2024-07-09 at 05.53.51_7d3eb018.mp4: 480x640 10 BATTERYOKLABELs, 246.1ms',\n",
       " 'video 1/1 (frame 536/810) D:\\\\AI COURSE TAMIL\\\\First project\\\\BATTERY LABEL. YOLO8\\\\test_videos\\\\WhatsApp Video 2024-07-09 at 05.53.51_7d3eb018.mp4: 480x640 10 BATTERYOKLABELs, 240.7ms',\n",
       " 'video 1/1 (frame 537/810) D:\\\\AI COURSE TAMIL\\\\First project\\\\BATTERY LABEL. YOLO8\\\\test_videos\\\\WhatsApp Video 2024-07-09 at 05.53.51_7d3eb018.mp4: 480x640 10 BATTERYOKLABELs, 249.7ms',\n",
       " 'video 1/1 (frame 538/810) D:\\\\AI COURSE TAMIL\\\\First project\\\\BATTERY LABEL. YOLO8\\\\test_videos\\\\WhatsApp Video 2024-07-09 at 05.53.51_7d3eb018.mp4: 480x640 10 BATTERYOKLABELs, 248.9ms',\n",
       " 'video 1/1 (frame 539/810) D:\\\\AI COURSE TAMIL\\\\First project\\\\BATTERY LABEL. YOLO8\\\\test_videos\\\\WhatsApp Video 2024-07-09 at 05.53.51_7d3eb018.mp4: 480x640 10 BATTERYOKLABELs, 234.3ms',\n",
       " 'video 1/1 (frame 540/810) D:\\\\AI COURSE TAMIL\\\\First project\\\\BATTERY LABEL. YOLO8\\\\test_videos\\\\WhatsApp Video 2024-07-09 at 05.53.51_7d3eb018.mp4: 480x640 10 BATTERYOKLABELs, 224.4ms',\n",
       " 'video 1/1 (frame 541/810) D:\\\\AI COURSE TAMIL\\\\First project\\\\BATTERY LABEL. YOLO8\\\\test_videos\\\\WhatsApp Video 2024-07-09 at 05.53.51_7d3eb018.mp4: 480x640 10 BATTERYNOLABELs, 230.7ms',\n",
       " 'video 1/1 (frame 542/810) D:\\\\AI COURSE TAMIL\\\\First project\\\\BATTERY LABEL. YOLO8\\\\test_videos\\\\WhatsApp Video 2024-07-09 at 05.53.51_7d3eb018.mp4: 480x640 10 BATTERYNOLABELs, 239.6ms',\n",
       " 'video 1/1 (frame 543/810) D:\\\\AI COURSE TAMIL\\\\First project\\\\BATTERY LABEL. YOLO8\\\\test_videos\\\\WhatsApp Video 2024-07-09 at 05.53.51_7d3eb018.mp4: 480x640 10 BATTERYNOLABELs, 243.3ms',\n",
       " 'video 1/1 (frame 544/810) D:\\\\AI COURSE TAMIL\\\\First project\\\\BATTERY LABEL. YOLO8\\\\test_videos\\\\WhatsApp Video 2024-07-09 at 05.53.51_7d3eb018.mp4: 480x640 10 BATTERYNOLABELs, 247.5ms',\n",
       " 'video 1/1 (frame 545/810) D:\\\\AI COURSE TAMIL\\\\First project\\\\BATTERY LABEL. YOLO8\\\\test_videos\\\\WhatsApp Video 2024-07-09 at 05.53.51_7d3eb018.mp4: 480x640 10 BATTERYNOLABELs, 259.2ms',\n",
       " 'video 1/1 (frame 546/810) D:\\\\AI COURSE TAMIL\\\\First project\\\\BATTERY LABEL. YOLO8\\\\test_videos\\\\WhatsApp Video 2024-07-09 at 05.53.51_7d3eb018.mp4: 480x640 10 BATTERYNOLABELs, 244.5ms',\n",
       " 'video 1/1 (frame 547/810) D:\\\\AI COURSE TAMIL\\\\First project\\\\BATTERY LABEL. YOLO8\\\\test_videos\\\\WhatsApp Video 2024-07-09 at 05.53.51_7d3eb018.mp4: 480x640 10 BATTERYNOLABELs, 239.9ms',\n",
       " 'video 1/1 (frame 548/810) D:\\\\AI COURSE TAMIL\\\\First project\\\\BATTERY LABEL. YOLO8\\\\test_videos\\\\WhatsApp Video 2024-07-09 at 05.53.51_7d3eb018.mp4: 480x640 10 BATTERYNOLABELs, 241.7ms',\n",
       " 'video 1/1 (frame 549/810) D:\\\\AI COURSE TAMIL\\\\First project\\\\BATTERY LABEL. YOLO8\\\\test_videos\\\\WhatsApp Video 2024-07-09 at 05.53.51_7d3eb018.mp4: 480x640 10 BATTERYNOLABELs, 247.9ms',\n",
       " 'video 1/1 (frame 550/810) D:\\\\AI COURSE TAMIL\\\\First project\\\\BATTERY LABEL. YOLO8\\\\test_videos\\\\WhatsApp Video 2024-07-09 at 05.53.51_7d3eb018.mp4: 480x640 10 BATTERYNOLABELs, 225.7ms',\n",
       " 'video 1/1 (frame 551/810) D:\\\\AI COURSE TAMIL\\\\First project\\\\BATTERY LABEL. YOLO8\\\\test_videos\\\\WhatsApp Video 2024-07-09 at 05.53.51_7d3eb018.mp4: 480x640 10 BATTERYNOLABELs, 241.6ms',\n",
       " 'video 1/1 (frame 552/810) D:\\\\AI COURSE TAMIL\\\\First project\\\\BATTERY LABEL. YOLO8\\\\test_videos\\\\WhatsApp Video 2024-07-09 at 05.53.51_7d3eb018.mp4: 480x640 10 BATTERYNOLABELs, 251.4ms',\n",
       " 'video 1/1 (frame 553/810) D:\\\\AI COURSE TAMIL\\\\First project\\\\BATTERY LABEL. YOLO8\\\\test_videos\\\\WhatsApp Video 2024-07-09 at 05.53.51_7d3eb018.mp4: 480x640 10 BATTERYNOLABELs, 240.4ms',\n",
       " 'video 1/1 (frame 554/810) D:\\\\AI COURSE TAMIL\\\\First project\\\\BATTERY LABEL. YOLO8\\\\test_videos\\\\WhatsApp Video 2024-07-09 at 05.53.51_7d3eb018.mp4: 480x640 10 BATTERYNOLABELs, 241.2ms',\n",
       " 'video 1/1 (frame 555/810) D:\\\\AI COURSE TAMIL\\\\First project\\\\BATTERY LABEL. YOLO8\\\\test_videos\\\\WhatsApp Video 2024-07-09 at 05.53.51_7d3eb018.mp4: 480x640 10 BATTERYNOLABELs, 240.2ms',\n",
       " 'video 1/1 (frame 556/810) D:\\\\AI COURSE TAMIL\\\\First project\\\\BATTERY LABEL. YOLO8\\\\test_videos\\\\WhatsApp Video 2024-07-09 at 05.53.51_7d3eb018.mp4: 480x640 10 BATTERYNOLABELs, 238.6ms',\n",
       " 'video 1/1 (frame 557/810) D:\\\\AI COURSE TAMIL\\\\First project\\\\BATTERY LABEL. YOLO8\\\\test_videos\\\\WhatsApp Video 2024-07-09 at 05.53.51_7d3eb018.mp4: 480x640 10 BATTERYNOLABELs, 245.4ms',\n",
       " 'video 1/1 (frame 558/810) D:\\\\AI COURSE TAMIL\\\\First project\\\\BATTERY LABEL. YOLO8\\\\test_videos\\\\WhatsApp Video 2024-07-09 at 05.53.51_7d3eb018.mp4: 480x640 10 BATTERYNOLABELs, 279.3ms',\n",
       " 'video 1/1 (frame 559/810) D:\\\\AI COURSE TAMIL\\\\First project\\\\BATTERY LABEL. YOLO8\\\\test_videos\\\\WhatsApp Video 2024-07-09 at 05.53.51_7d3eb018.mp4: 480x640 10 BATTERYNOLABELs, 270.3ms',\n",
       " 'video 1/1 (frame 560/810) D:\\\\AI COURSE TAMIL\\\\First project\\\\BATTERY LABEL. YOLO8\\\\test_videos\\\\WhatsApp Video 2024-07-09 at 05.53.51_7d3eb018.mp4: 480x640 10 BATTERYNOLABELs, 232.0ms',\n",
       " 'video 1/1 (frame 561/810) D:\\\\AI COURSE TAMIL\\\\First project\\\\BATTERY LABEL. YOLO8\\\\test_videos\\\\WhatsApp Video 2024-07-09 at 05.53.51_7d3eb018.mp4: 480x640 10 BATTERYNOLABELs, 277.9ms',\n",
       " 'video 1/1 (frame 562/810) D:\\\\AI COURSE TAMIL\\\\First project\\\\BATTERY LABEL. YOLO8\\\\test_videos\\\\WhatsApp Video 2024-07-09 at 05.53.51_7d3eb018.mp4: 480x640 10 BATTERYNOLABELs, 242.1ms',\n",
       " 'video 1/1 (frame 563/810) D:\\\\AI COURSE TAMIL\\\\First project\\\\BATTERY LABEL. YOLO8\\\\test_videos\\\\WhatsApp Video 2024-07-09 at 05.53.51_7d3eb018.mp4: 480x640 10 BATTERYNOLABELs, 275.3ms',\n",
       " 'video 1/1 (frame 564/810) D:\\\\AI COURSE TAMIL\\\\First project\\\\BATTERY LABEL. YOLO8\\\\test_videos\\\\WhatsApp Video 2024-07-09 at 05.53.51_7d3eb018.mp4: 480x640 10 BATTERYNOLABELs, 225.3ms',\n",
       " 'video 1/1 (frame 565/810) D:\\\\AI COURSE TAMIL\\\\First project\\\\BATTERY LABEL. YOLO8\\\\test_videos\\\\WhatsApp Video 2024-07-09 at 05.53.51_7d3eb018.mp4: 480x640 10 BATTERYNOLABELs, 269.3ms',\n",
       " 'video 1/1 (frame 566/810) D:\\\\AI COURSE TAMIL\\\\First project\\\\BATTERY LABEL. YOLO8\\\\test_videos\\\\WhatsApp Video 2024-07-09 at 05.53.51_7d3eb018.mp4: 480x640 10 BATTERYNOLABELs, 261.5ms',\n",
       " 'video 1/1 (frame 567/810) D:\\\\AI COURSE TAMIL\\\\First project\\\\BATTERY LABEL. YOLO8\\\\test_videos\\\\WhatsApp Video 2024-07-09 at 05.53.51_7d3eb018.mp4: 480x640 10 BATTERYNOLABELs, 227.8ms',\n",
       " 'video 1/1 (frame 568/810) D:\\\\AI COURSE TAMIL\\\\First project\\\\BATTERY LABEL. YOLO8\\\\test_videos\\\\WhatsApp Video 2024-07-09 at 05.53.51_7d3eb018.mp4: 480x640 10 BATTERYNOLABELs, 235.7ms',\n",
       " 'video 1/1 (frame 569/810) D:\\\\AI COURSE TAMIL\\\\First project\\\\BATTERY LABEL. YOLO8\\\\test_videos\\\\WhatsApp Video 2024-07-09 at 05.53.51_7d3eb018.mp4: 480x640 10 BATTERYNOLABELs, 244.2ms',\n",
       " 'video 1/1 (frame 570/810) D:\\\\AI COURSE TAMIL\\\\First project\\\\BATTERY LABEL. YOLO8\\\\test_videos\\\\WhatsApp Video 2024-07-09 at 05.53.51_7d3eb018.mp4: 480x640 10 BATTERYNOLABELs, 253.3ms',\n",
       " 'video 1/1 (frame 571/810) D:\\\\AI COURSE TAMIL\\\\First project\\\\BATTERY LABEL. YOLO8\\\\test_videos\\\\WhatsApp Video 2024-07-09 at 05.53.51_7d3eb018.mp4: 480x640 10 BATTERYNOLABELs, 255.3ms',\n",
       " 'video 1/1 (frame 572/810) D:\\\\AI COURSE TAMIL\\\\First project\\\\BATTERY LABEL. YOLO8\\\\test_videos\\\\WhatsApp Video 2024-07-09 at 05.53.51_7d3eb018.mp4: 480x640 10 BATTERYNOLABELs, 252.2ms',\n",
       " 'video 1/1 (frame 573/810) D:\\\\AI COURSE TAMIL\\\\First project\\\\BATTERY LABEL. YOLO8\\\\test_videos\\\\WhatsApp Video 2024-07-09 at 05.53.51_7d3eb018.mp4: 480x640 10 BATTERYNOLABELs, 242.6ms',\n",
       " 'video 1/1 (frame 574/810) D:\\\\AI COURSE TAMIL\\\\First project\\\\BATTERY LABEL. YOLO8\\\\test_videos\\\\WhatsApp Video 2024-07-09 at 05.53.51_7d3eb018.mp4: 480x640 10 BATTERYNOLABELs, 257.9ms',\n",
       " 'video 1/1 (frame 575/810) D:\\\\AI COURSE TAMIL\\\\First project\\\\BATTERY LABEL. YOLO8\\\\test_videos\\\\WhatsApp Video 2024-07-09 at 05.53.51_7d3eb018.mp4: 480x640 10 BATTERYNOLABELs, 222.5ms',\n",
       " 'video 1/1 (frame 576/810) D:\\\\AI COURSE TAMIL\\\\First project\\\\BATTERY LABEL. YOLO8\\\\test_videos\\\\WhatsApp Video 2024-07-09 at 05.53.51_7d3eb018.mp4: 480x640 10 BATTERYNOLABELs, 256.8ms',\n",
       " 'video 1/1 (frame 577/810) D:\\\\AI COURSE TAMIL\\\\First project\\\\BATTERY LABEL. YOLO8\\\\test_videos\\\\WhatsApp Video 2024-07-09 at 05.53.51_7d3eb018.mp4: 480x640 10 BATTERYNOLABELs, 233.6ms',\n",
       " 'video 1/1 (frame 578/810) D:\\\\AI COURSE TAMIL\\\\First project\\\\BATTERY LABEL. YOLO8\\\\test_videos\\\\WhatsApp Video 2024-07-09 at 05.53.51_7d3eb018.mp4: 480x640 10 BATTERYNOLABELs, 239.9ms',\n",
       " 'video 1/1 (frame 579/810) D:\\\\AI COURSE TAMIL\\\\First project\\\\BATTERY LABEL. YOLO8\\\\test_videos\\\\WhatsApp Video 2024-07-09 at 05.53.51_7d3eb018.mp4: 480x640 10 BATTERYNOLABELs, 247.3ms',\n",
       " 'video 1/1 (frame 580/810) D:\\\\AI COURSE TAMIL\\\\First project\\\\BATTERY LABEL. YOLO8\\\\test_videos\\\\WhatsApp Video 2024-07-09 at 05.53.51_7d3eb018.mp4: 480x640 10 BATTERYNOLABELs, 234.0ms',\n",
       " 'video 1/1 (frame 581/810) D:\\\\AI COURSE TAMIL\\\\First project\\\\BATTERY LABEL. YOLO8\\\\test_videos\\\\WhatsApp Video 2024-07-09 at 05.53.51_7d3eb018.mp4: 480x640 10 BATTERYNOLABELs, 233.0ms',\n",
       " 'video 1/1 (frame 582/810) D:\\\\AI COURSE TAMIL\\\\First project\\\\BATTERY LABEL. YOLO8\\\\test_videos\\\\WhatsApp Video 2024-07-09 at 05.53.51_7d3eb018.mp4: 480x640 10 BATTERYNOLABELs, 268.9ms',\n",
       " 'video 1/1 (frame 583/810) D:\\\\AI COURSE TAMIL\\\\First project\\\\BATTERY LABEL. YOLO8\\\\test_videos\\\\WhatsApp Video 2024-07-09 at 05.53.51_7d3eb018.mp4: 480x640 10 BATTERYNOLABELs, 252.7ms',\n",
       " 'video 1/1 (frame 584/810) D:\\\\AI COURSE TAMIL\\\\First project\\\\BATTERY LABEL. YOLO8\\\\test_videos\\\\WhatsApp Video 2024-07-09 at 05.53.51_7d3eb018.mp4: 480x640 10 BATTERYNOLABELs, 245.3ms',\n",
       " 'video 1/1 (frame 585/810) D:\\\\AI COURSE TAMIL\\\\First project\\\\BATTERY LABEL. YOLO8\\\\test_videos\\\\WhatsApp Video 2024-07-09 at 05.53.51_7d3eb018.mp4: 480x640 10 BATTERYNOLABELs, 228.8ms',\n",
       " 'video 1/1 (frame 586/810) D:\\\\AI COURSE TAMIL\\\\First project\\\\BATTERY LABEL. YOLO8\\\\test_videos\\\\WhatsApp Video 2024-07-09 at 05.53.51_7d3eb018.mp4: 480x640 10 BATTERYNOLABELs, 253.1ms',\n",
       " 'video 1/1 (frame 587/810) D:\\\\AI COURSE TAMIL\\\\First project\\\\BATTERY LABEL. YOLO8\\\\test_videos\\\\WhatsApp Video 2024-07-09 at 05.53.51_7d3eb018.mp4: 480x640 10 BATTERYNOLABELs, 247.9ms',\n",
       " 'video 1/1 (frame 588/810) D:\\\\AI COURSE TAMIL\\\\First project\\\\BATTERY LABEL. YOLO8\\\\test_videos\\\\WhatsApp Video 2024-07-09 at 05.53.51_7d3eb018.mp4: 480x640 10 BATTERYNOLABELs, 231.3ms',\n",
       " 'video 1/1 (frame 589/810) D:\\\\AI COURSE TAMIL\\\\First project\\\\BATTERY LABEL. YOLO8\\\\test_videos\\\\WhatsApp Video 2024-07-09 at 05.53.51_7d3eb018.mp4: 480x640 10 BATTERYNOLABELs, 255.2ms',\n",
       " 'video 1/1 (frame 590/810) D:\\\\AI COURSE TAMIL\\\\First project\\\\BATTERY LABEL. YOLO8\\\\test_videos\\\\WhatsApp Video 2024-07-09 at 05.53.51_7d3eb018.mp4: 480x640 10 BATTERYNOLABELs, 232.4ms',\n",
       " 'video 1/1 (frame 591/810) D:\\\\AI COURSE TAMIL\\\\First project\\\\BATTERY LABEL. YOLO8\\\\test_videos\\\\WhatsApp Video 2024-07-09 at 05.53.51_7d3eb018.mp4: 480x640 10 BATTERYNOLABELs, 238.6ms',\n",
       " 'video 1/1 (frame 592/810) D:\\\\AI COURSE TAMIL\\\\First project\\\\BATTERY LABEL. YOLO8\\\\test_videos\\\\WhatsApp Video 2024-07-09 at 05.53.51_7d3eb018.mp4: 480x640 10 BATTERYNOLABELs, 238.4ms',\n",
       " 'video 1/1 (frame 593/810) D:\\\\AI COURSE TAMIL\\\\First project\\\\BATTERY LABEL. YOLO8\\\\test_videos\\\\WhatsApp Video 2024-07-09 at 05.53.51_7d3eb018.mp4: 480x640 10 BATTERYNOLABELs, 255.5ms',\n",
       " 'video 1/1 (frame 594/810) D:\\\\AI COURSE TAMIL\\\\First project\\\\BATTERY LABEL. YOLO8\\\\test_videos\\\\WhatsApp Video 2024-07-09 at 05.53.51_7d3eb018.mp4: 480x640 10 BATTERYNOLABELs, 250.3ms',\n",
       " 'video 1/1 (frame 595/810) D:\\\\AI COURSE TAMIL\\\\First project\\\\BATTERY LABEL. YOLO8\\\\test_videos\\\\WhatsApp Video 2024-07-09 at 05.53.51_7d3eb018.mp4: 480x640 10 BATTERYNOLABELs, 266.3ms',\n",
       " 'video 1/1 (frame 596/810) D:\\\\AI COURSE TAMIL\\\\First project\\\\BATTERY LABEL. YOLO8\\\\test_videos\\\\WhatsApp Video 2024-07-09 at 05.53.51_7d3eb018.mp4: 480x640 10 BATTERYNOLABELs, 254.7ms',\n",
       " 'video 1/1 (frame 597/810) D:\\\\AI COURSE TAMIL\\\\First project\\\\BATTERY LABEL. YOLO8\\\\test_videos\\\\WhatsApp Video 2024-07-09 at 05.53.51_7d3eb018.mp4: 480x640 10 BATTERYNOLABELs, 241.8ms',\n",
       " 'video 1/1 (frame 598/810) D:\\\\AI COURSE TAMIL\\\\First project\\\\BATTERY LABEL. YOLO8\\\\test_videos\\\\WhatsApp Video 2024-07-09 at 05.53.51_7d3eb018.mp4: 480x640 10 BATTERYNOLABELs, 247.0ms',\n",
       " 'video 1/1 (frame 599/810) D:\\\\AI COURSE TAMIL\\\\First project\\\\BATTERY LABEL. YOLO8\\\\test_videos\\\\WhatsApp Video 2024-07-09 at 05.53.51_7d3eb018.mp4: 480x640 10 BATTERYNOLABELs, 239.5ms',\n",
       " 'video 1/1 (frame 600/810) D:\\\\AI COURSE TAMIL\\\\First project\\\\BATTERY LABEL. YOLO8\\\\test_videos\\\\WhatsApp Video 2024-07-09 at 05.53.51_7d3eb018.mp4: 480x640 10 BATTERYNOLABELs, 233.0ms',\n",
       " 'video 1/1 (frame 601/810) D:\\\\AI COURSE TAMIL\\\\First project\\\\BATTERY LABEL. YOLO8\\\\test_videos\\\\WhatsApp Video 2024-07-09 at 05.53.51_7d3eb018.mp4: 480x640 10 BATTERYNOLABELs, 227.4ms',\n",
       " 'video 1/1 (frame 602/810) D:\\\\AI COURSE TAMIL\\\\First project\\\\BATTERY LABEL. YOLO8\\\\test_videos\\\\WhatsApp Video 2024-07-09 at 05.53.51_7d3eb018.mp4: 480x640 10 BATTERYNOLABELs, 233.1ms',\n",
       " 'video 1/1 (frame 603/810) D:\\\\AI COURSE TAMIL\\\\First project\\\\BATTERY LABEL. YOLO8\\\\test_videos\\\\WhatsApp Video 2024-07-09 at 05.53.51_7d3eb018.mp4: 480x640 10 BATTERYNOLABELs, 238.8ms',\n",
       " 'video 1/1 (frame 604/810) D:\\\\AI COURSE TAMIL\\\\First project\\\\BATTERY LABEL. YOLO8\\\\test_videos\\\\WhatsApp Video 2024-07-09 at 05.53.51_7d3eb018.mp4: 480x640 10 BATTERYNOLABELs, 229.4ms',\n",
       " 'video 1/1 (frame 605/810) D:\\\\AI COURSE TAMIL\\\\First project\\\\BATTERY LABEL. YOLO8\\\\test_videos\\\\WhatsApp Video 2024-07-09 at 05.53.51_7d3eb018.mp4: 480x640 10 BATTERYNOLABELs, 226.3ms',\n",
       " 'video 1/1 (frame 606/810) D:\\\\AI COURSE TAMIL\\\\First project\\\\BATTERY LABEL. YOLO8\\\\test_videos\\\\WhatsApp Video 2024-07-09 at 05.53.51_7d3eb018.mp4: 480x640 10 BATTERYNOLABELs, 235.5ms',\n",
       " 'video 1/1 (frame 607/810) D:\\\\AI COURSE TAMIL\\\\First project\\\\BATTERY LABEL. YOLO8\\\\test_videos\\\\WhatsApp Video 2024-07-09 at 05.53.51_7d3eb018.mp4: 480x640 10 BATTERYNOLABELs, 235.0ms',\n",
       " 'video 1/1 (frame 608/810) D:\\\\AI COURSE TAMIL\\\\First project\\\\BATTERY LABEL. YOLO8\\\\test_videos\\\\WhatsApp Video 2024-07-09 at 05.53.51_7d3eb018.mp4: 480x640 10 BATTERYNOLABELs, 244.2ms',\n",
       " 'video 1/1 (frame 609/810) D:\\\\AI COURSE TAMIL\\\\First project\\\\BATTERY LABEL. YOLO8\\\\test_videos\\\\WhatsApp Video 2024-07-09 at 05.53.51_7d3eb018.mp4: 480x640 10 BATTERYNOLABELs, 255.7ms',\n",
       " 'video 1/1 (frame 610/810) D:\\\\AI COURSE TAMIL\\\\First project\\\\BATTERY LABEL. YOLO8\\\\test_videos\\\\WhatsApp Video 2024-07-09 at 05.53.51_7d3eb018.mp4: 480x640 10 BATTERYNOLABELs, 266.3ms',\n",
       " 'video 1/1 (frame 611/810) D:\\\\AI COURSE TAMIL\\\\First project\\\\BATTERY LABEL. YOLO8\\\\test_videos\\\\WhatsApp Video 2024-07-09 at 05.53.51_7d3eb018.mp4: 480x640 10 BATTERYNOLABELs, 248.0ms',\n",
       " 'video 1/1 (frame 612/810) D:\\\\AI COURSE TAMIL\\\\First project\\\\BATTERY LABEL. YOLO8\\\\test_videos\\\\WhatsApp Video 2024-07-09 at 05.53.51_7d3eb018.mp4: 480x640 10 BATTERYNOLABELs, 246.3ms',\n",
       " 'video 1/1 (frame 613/810) D:\\\\AI COURSE TAMIL\\\\First project\\\\BATTERY LABEL. YOLO8\\\\test_videos\\\\WhatsApp Video 2024-07-09 at 05.53.51_7d3eb018.mp4: 480x640 10 BATTERYNOLABELs, 237.4ms',\n",
       " 'video 1/1 (frame 614/810) D:\\\\AI COURSE TAMIL\\\\First project\\\\BATTERY LABEL. YOLO8\\\\test_videos\\\\WhatsApp Video 2024-07-09 at 05.53.51_7d3eb018.mp4: 480x640 10 BATTERYNOLABELs, 243.7ms',\n",
       " 'video 1/1 (frame 615/810) D:\\\\AI COURSE TAMIL\\\\First project\\\\BATTERY LABEL. YOLO8\\\\test_videos\\\\WhatsApp Video 2024-07-09 at 05.53.51_7d3eb018.mp4: 480x640 10 BATTERYNOLABELs, 238.5ms',\n",
       " 'video 1/1 (frame 616/810) D:\\\\AI COURSE TAMIL\\\\First project\\\\BATTERY LABEL. YOLO8\\\\test_videos\\\\WhatsApp Video 2024-07-09 at 05.53.51_7d3eb018.mp4: 480x640 10 BATTERYNOLABELs, 235.7ms',\n",
       " 'video 1/1 (frame 617/810) D:\\\\AI COURSE TAMIL\\\\First project\\\\BATTERY LABEL. YOLO8\\\\test_videos\\\\WhatsApp Video 2024-07-09 at 05.53.51_7d3eb018.mp4: 480x640 10 BATTERYNOLABELs, 239.8ms',\n",
       " 'video 1/1 (frame 618/810) D:\\\\AI COURSE TAMIL\\\\First project\\\\BATTERY LABEL. YOLO8\\\\test_videos\\\\WhatsApp Video 2024-07-09 at 05.53.51_7d3eb018.mp4: 480x640 10 BATTERYNOLABELs, 240.4ms',\n",
       " 'video 1/1 (frame 619/810) D:\\\\AI COURSE TAMIL\\\\First project\\\\BATTERY LABEL. YOLO8\\\\test_videos\\\\WhatsApp Video 2024-07-09 at 05.53.51_7d3eb018.mp4: 480x640 10 BATTERYNOLABELs, 227.7ms',\n",
       " 'video 1/1 (frame 620/810) D:\\\\AI COURSE TAMIL\\\\First project\\\\BATTERY LABEL. YOLO8\\\\test_videos\\\\WhatsApp Video 2024-07-09 at 05.53.51_7d3eb018.mp4: 480x640 10 BATTERYNOLABELs, 238.6ms',\n",
       " 'video 1/1 (frame 621/810) D:\\\\AI COURSE TAMIL\\\\First project\\\\BATTERY LABEL. YOLO8\\\\test_videos\\\\WhatsApp Video 2024-07-09 at 05.53.51_7d3eb018.mp4: 480x640 10 BATTERYNOLABELs, 240.8ms',\n",
       " 'video 1/1 (frame 622/810) D:\\\\AI COURSE TAMIL\\\\First project\\\\BATTERY LABEL. YOLO8\\\\test_videos\\\\WhatsApp Video 2024-07-09 at 05.53.51_7d3eb018.mp4: 480x640 10 BATTERYNOLABELs, 270.4ms',\n",
       " 'video 1/1 (frame 623/810) D:\\\\AI COURSE TAMIL\\\\First project\\\\BATTERY LABEL. YOLO8\\\\test_videos\\\\WhatsApp Video 2024-07-09 at 05.53.51_7d3eb018.mp4: 480x640 10 BATTERYNOLABELs, 312.2ms',\n",
       " 'video 1/1 (frame 624/810) D:\\\\AI COURSE TAMIL\\\\First project\\\\BATTERY LABEL. YOLO8\\\\test_videos\\\\WhatsApp Video 2024-07-09 at 05.53.51_7d3eb018.mp4: 480x640 10 BATTERYNOLABELs, 281.6ms',\n",
       " 'video 1/1 (frame 625/810) D:\\\\AI COURSE TAMIL\\\\First project\\\\BATTERY LABEL. YOLO8\\\\test_videos\\\\WhatsApp Video 2024-07-09 at 05.53.51_7d3eb018.mp4: 480x640 10 BATTERYNOLABELs, 279.7ms',\n",
       " 'video 1/1 (frame 626/810) D:\\\\AI COURSE TAMIL\\\\First project\\\\BATTERY LABEL. YOLO8\\\\test_videos\\\\WhatsApp Video 2024-07-09 at 05.53.51_7d3eb018.mp4: 480x640 10 BATTERYNOLABELs, 287.5ms',\n",
       " 'video 1/1 (frame 627/810) D:\\\\AI COURSE TAMIL\\\\First project\\\\BATTERY LABEL. YOLO8\\\\test_videos\\\\WhatsApp Video 2024-07-09 at 05.53.51_7d3eb018.mp4: 480x640 10 BATTERYNOLABELs, 245.8ms',\n",
       " 'video 1/1 (frame 628/810) D:\\\\AI COURSE TAMIL\\\\First project\\\\BATTERY LABEL. YOLO8\\\\test_videos\\\\WhatsApp Video 2024-07-09 at 05.53.51_7d3eb018.mp4: 480x640 10 BATTERYNOLABELs, 237.5ms',\n",
       " 'video 1/1 (frame 629/810) D:\\\\AI COURSE TAMIL\\\\First project\\\\BATTERY LABEL. YOLO8\\\\test_videos\\\\WhatsApp Video 2024-07-09 at 05.53.51_7d3eb018.mp4: 480x640 10 BATTERYNOLABELs, 262.4ms',\n",
       " 'video 1/1 (frame 630/810) D:\\\\AI COURSE TAMIL\\\\First project\\\\BATTERY LABEL. YOLO8\\\\test_videos\\\\WhatsApp Video 2024-07-09 at 05.53.51_7d3eb018.mp4: 480x640 10 BATTERYNOLABELs, 248.0ms',\n",
       " 'video 1/1 (frame 631/810) D:\\\\AI COURSE TAMIL\\\\First project\\\\BATTERY LABEL. YOLO8\\\\test_videos\\\\WhatsApp Video 2024-07-09 at 05.53.51_7d3eb018.mp4: 480x640 10 BATTERYREJECTs, 242.3ms',\n",
       " 'video 1/1 (frame 632/810) D:\\\\AI COURSE TAMIL\\\\First project\\\\BATTERY LABEL. YOLO8\\\\test_videos\\\\WhatsApp Video 2024-07-09 at 05.53.51_7d3eb018.mp4: 480x640 10 BATTERYREJECTs, 229.3ms',\n",
       " 'video 1/1 (frame 633/810) D:\\\\AI COURSE TAMIL\\\\First project\\\\BATTERY LABEL. YOLO8\\\\test_videos\\\\WhatsApp Video 2024-07-09 at 05.53.51_7d3eb018.mp4: 480x640 10 BATTERYREJECTs, 235.6ms',\n",
       " 'video 1/1 (frame 634/810) D:\\\\AI COURSE TAMIL\\\\First project\\\\BATTERY LABEL. YOLO8\\\\test_videos\\\\WhatsApp Video 2024-07-09 at 05.53.51_7d3eb018.mp4: 480x640 10 BATTERYREJECTs, 246.0ms',\n",
       " 'video 1/1 (frame 635/810) D:\\\\AI COURSE TAMIL\\\\First project\\\\BATTERY LABEL. YOLO8\\\\test_videos\\\\WhatsApp Video 2024-07-09 at 05.53.51_7d3eb018.mp4: 480x640 10 BATTERYREJECTs, 249.8ms',\n",
       " 'video 1/1 (frame 636/810) D:\\\\AI COURSE TAMIL\\\\First project\\\\BATTERY LABEL. YOLO8\\\\test_videos\\\\WhatsApp Video 2024-07-09 at 05.53.51_7d3eb018.mp4: 480x640 10 BATTERYREJECTs, 625.9ms',\n",
       " 'video 1/1 (frame 637/810) D:\\\\AI COURSE TAMIL\\\\First project\\\\BATTERY LABEL. YOLO8\\\\test_videos\\\\WhatsApp Video 2024-07-09 at 05.53.51_7d3eb018.mp4: 480x640 10 BATTERYREJECTs, 242.3ms',\n",
       " 'video 1/1 (frame 638/810) D:\\\\AI COURSE TAMIL\\\\First project\\\\BATTERY LABEL. YOLO8\\\\test_videos\\\\WhatsApp Video 2024-07-09 at 05.53.51_7d3eb018.mp4: 480x640 10 BATTERYREJECTs, 239.0ms',\n",
       " 'video 1/1 (frame 639/810) D:\\\\AI COURSE TAMIL\\\\First project\\\\BATTERY LABEL. YOLO8\\\\test_videos\\\\WhatsApp Video 2024-07-09 at 05.53.51_7d3eb018.mp4: 480x640 10 BATTERYREJECTs, 234.3ms',\n",
       " 'video 1/1 (frame 640/810) D:\\\\AI COURSE TAMIL\\\\First project\\\\BATTERY LABEL. YOLO8\\\\test_videos\\\\WhatsApp Video 2024-07-09 at 05.53.51_7d3eb018.mp4: 480x640 10 BATTERYREJECTs, 256.0ms',\n",
       " 'video 1/1 (frame 641/810) D:\\\\AI COURSE TAMIL\\\\First project\\\\BATTERY LABEL. YOLO8\\\\test_videos\\\\WhatsApp Video 2024-07-09 at 05.53.51_7d3eb018.mp4: 480x640 10 BATTERYREJECTs, 240.2ms',\n",
       " 'video 1/1 (frame 642/810) D:\\\\AI COURSE TAMIL\\\\First project\\\\BATTERY LABEL. YOLO8\\\\test_videos\\\\WhatsApp Video 2024-07-09 at 05.53.51_7d3eb018.mp4: 480x640 10 BATTERYREJECTs, 233.3ms',\n",
       " 'video 1/1 (frame 643/810) D:\\\\AI COURSE TAMIL\\\\First project\\\\BATTERY LABEL. YOLO8\\\\test_videos\\\\WhatsApp Video 2024-07-09 at 05.53.51_7d3eb018.mp4: 480x640 10 BATTERYREJECTs, 262.4ms',\n",
       " 'video 1/1 (frame 644/810) D:\\\\AI COURSE TAMIL\\\\First project\\\\BATTERY LABEL. YOLO8\\\\test_videos\\\\WhatsApp Video 2024-07-09 at 05.53.51_7d3eb018.mp4: 480x640 10 BATTERYREJECTs, 239.7ms',\n",
       " 'video 1/1 (frame 645/810) D:\\\\AI COURSE TAMIL\\\\First project\\\\BATTERY LABEL. YOLO8\\\\test_videos\\\\WhatsApp Video 2024-07-09 at 05.53.51_7d3eb018.mp4: 480x640 10 BATTERYREJECTs, 239.4ms',\n",
       " 'video 1/1 (frame 646/810) D:\\\\AI COURSE TAMIL\\\\First project\\\\BATTERY LABEL. YOLO8\\\\test_videos\\\\WhatsApp Video 2024-07-09 at 05.53.51_7d3eb018.mp4: 480x640 10 BATTERYREJECTs, 258.6ms',\n",
       " 'video 1/1 (frame 647/810) D:\\\\AI COURSE TAMIL\\\\First project\\\\BATTERY LABEL. YOLO8\\\\test_videos\\\\WhatsApp Video 2024-07-09 at 05.53.51_7d3eb018.mp4: 480x640 10 BATTERYREJECTs, 231.8ms',\n",
       " 'video 1/1 (frame 648/810) D:\\\\AI COURSE TAMIL\\\\First project\\\\BATTERY LABEL. YOLO8\\\\test_videos\\\\WhatsApp Video 2024-07-09 at 05.53.51_7d3eb018.mp4: 480x640 10 BATTERYREJECTs, 245.5ms',\n",
       " 'video 1/1 (frame 649/810) D:\\\\AI COURSE TAMIL\\\\First project\\\\BATTERY LABEL. YOLO8\\\\test_videos\\\\WhatsApp Video 2024-07-09 at 05.53.51_7d3eb018.mp4: 480x640 10 BATTERYREJECTs, 235.9ms',\n",
       " 'video 1/1 (frame 650/810) D:\\\\AI COURSE TAMIL\\\\First project\\\\BATTERY LABEL. YOLO8\\\\test_videos\\\\WhatsApp Video 2024-07-09 at 05.53.51_7d3eb018.mp4: 480x640 10 BATTERYREJECTs, 270.7ms',\n",
       " 'video 1/1 (frame 651/810) D:\\\\AI COURSE TAMIL\\\\First project\\\\BATTERY LABEL. YOLO8\\\\test_videos\\\\WhatsApp Video 2024-07-09 at 05.53.51_7d3eb018.mp4: 480x640 10 BATTERYREJECTs, 253.8ms',\n",
       " 'video 1/1 (frame 652/810) D:\\\\AI COURSE TAMIL\\\\First project\\\\BATTERY LABEL. YOLO8\\\\test_videos\\\\WhatsApp Video 2024-07-09 at 05.53.51_7d3eb018.mp4: 480x640 10 BATTERYREJECTs, 251.9ms',\n",
       " 'video 1/1 (frame 653/810) D:\\\\AI COURSE TAMIL\\\\First project\\\\BATTERY LABEL. YOLO8\\\\test_videos\\\\WhatsApp Video 2024-07-09 at 05.53.51_7d3eb018.mp4: 480x640 10 BATTERYREJECTs, 246.3ms',\n",
       " 'video 1/1 (frame 654/810) D:\\\\AI COURSE TAMIL\\\\First project\\\\BATTERY LABEL. YOLO8\\\\test_videos\\\\WhatsApp Video 2024-07-09 at 05.53.51_7d3eb018.mp4: 480x640 10 BATTERYREJECTs, 235.7ms',\n",
       " 'video 1/1 (frame 655/810) D:\\\\AI COURSE TAMIL\\\\First project\\\\BATTERY LABEL. YOLO8\\\\test_videos\\\\WhatsApp Video 2024-07-09 at 05.53.51_7d3eb018.mp4: 480x640 10 BATTERYREJECTs, 245.6ms',\n",
       " 'video 1/1 (frame 656/810) D:\\\\AI COURSE TAMIL\\\\First project\\\\BATTERY LABEL. YOLO8\\\\test_videos\\\\WhatsApp Video 2024-07-09 at 05.53.51_7d3eb018.mp4: 480x640 10 BATTERYREJECTs, 253.3ms',\n",
       " 'video 1/1 (frame 657/810) D:\\\\AI COURSE TAMIL\\\\First project\\\\BATTERY LABEL. YOLO8\\\\test_videos\\\\WhatsApp Video 2024-07-09 at 05.53.51_7d3eb018.mp4: 480x640 10 BATTERYREJECTs, 247.6ms',\n",
       " 'video 1/1 (frame 658/810) D:\\\\AI COURSE TAMIL\\\\First project\\\\BATTERY LABEL. YOLO8\\\\test_videos\\\\WhatsApp Video 2024-07-09 at 05.53.51_7d3eb018.mp4: 480x640 10 BATTERYREJECTs, 255.8ms',\n",
       " 'video 1/1 (frame 659/810) D:\\\\AI COURSE TAMIL\\\\First project\\\\BATTERY LABEL. YOLO8\\\\test_videos\\\\WhatsApp Video 2024-07-09 at 05.53.51_7d3eb018.mp4: 480x640 10 BATTERYREJECTs, 252.8ms',\n",
       " 'video 1/1 (frame 660/810) D:\\\\AI COURSE TAMIL\\\\First project\\\\BATTERY LABEL. YOLO8\\\\test_videos\\\\WhatsApp Video 2024-07-09 at 05.53.51_7d3eb018.mp4: 480x640 10 BATTERYREJECTs, 251.0ms',\n",
       " 'video 1/1 (frame 661/810) D:\\\\AI COURSE TAMIL\\\\First project\\\\BATTERY LABEL. YOLO8\\\\test_videos\\\\WhatsApp Video 2024-07-09 at 05.53.51_7d3eb018.mp4: 480x640 10 BATTERYREJECTs, 281.2ms',\n",
       " 'video 1/1 (frame 662/810) D:\\\\AI COURSE TAMIL\\\\First project\\\\BATTERY LABEL. YOLO8\\\\test_videos\\\\WhatsApp Video 2024-07-09 at 05.53.51_7d3eb018.mp4: 480x640 10 BATTERYREJECTs, 240.1ms',\n",
       " 'video 1/1 (frame 663/810) D:\\\\AI COURSE TAMIL\\\\First project\\\\BATTERY LABEL. YOLO8\\\\test_videos\\\\WhatsApp Video 2024-07-09 at 05.53.51_7d3eb018.mp4: 480x640 10 BATTERYREJECTs, 250.4ms',\n",
       " 'video 1/1 (frame 664/810) D:\\\\AI COURSE TAMIL\\\\First project\\\\BATTERY LABEL. YOLO8\\\\test_videos\\\\WhatsApp Video 2024-07-09 at 05.53.51_7d3eb018.mp4: 480x640 10 BATTERYREJECTs, 298.4ms',\n",
       " 'video 1/1 (frame 665/810) D:\\\\AI COURSE TAMIL\\\\First project\\\\BATTERY LABEL. YOLO8\\\\test_videos\\\\WhatsApp Video 2024-07-09 at 05.53.51_7d3eb018.mp4: 480x640 10 BATTERYREJECTs, 242.1ms',\n",
       " 'video 1/1 (frame 666/810) D:\\\\AI COURSE TAMIL\\\\First project\\\\BATTERY LABEL. YOLO8\\\\test_videos\\\\WhatsApp Video 2024-07-09 at 05.53.51_7d3eb018.mp4: 480x640 10 BATTERYREJECTs, 251.9ms',\n",
       " 'video 1/1 (frame 667/810) D:\\\\AI COURSE TAMIL\\\\First project\\\\BATTERY LABEL. YOLO8\\\\test_videos\\\\WhatsApp Video 2024-07-09 at 05.53.51_7d3eb018.mp4: 480x640 10 BATTERYREJECTs, 233.2ms',\n",
       " 'video 1/1 (frame 668/810) D:\\\\AI COURSE TAMIL\\\\First project\\\\BATTERY LABEL. YOLO8\\\\test_videos\\\\WhatsApp Video 2024-07-09 at 05.53.51_7d3eb018.mp4: 480x640 10 BATTERYREJECTs, 256.9ms',\n",
       " 'video 1/1 (frame 669/810) D:\\\\AI COURSE TAMIL\\\\First project\\\\BATTERY LABEL. YOLO8\\\\test_videos\\\\WhatsApp Video 2024-07-09 at 05.53.51_7d3eb018.mp4: 480x640 10 BATTERYREJECTs, 243.3ms',\n",
       " 'video 1/1 (frame 670/810) D:\\\\AI COURSE TAMIL\\\\First project\\\\BATTERY LABEL. YOLO8\\\\test_videos\\\\WhatsApp Video 2024-07-09 at 05.53.51_7d3eb018.mp4: 480x640 10 BATTERYREJECTs, 253.6ms',\n",
       " 'video 1/1 (frame 671/810) D:\\\\AI COURSE TAMIL\\\\First project\\\\BATTERY LABEL. YOLO8\\\\test_videos\\\\WhatsApp Video 2024-07-09 at 05.53.51_7d3eb018.mp4: 480x640 10 BATTERYREJECTs, 240.8ms',\n",
       " 'video 1/1 (frame 672/810) D:\\\\AI COURSE TAMIL\\\\First project\\\\BATTERY LABEL. YOLO8\\\\test_videos\\\\WhatsApp Video 2024-07-09 at 05.53.51_7d3eb018.mp4: 480x640 10 BATTERYREJECTs, 264.4ms',\n",
       " 'video 1/1 (frame 673/810) D:\\\\AI COURSE TAMIL\\\\First project\\\\BATTERY LABEL. YOLO8\\\\test_videos\\\\WhatsApp Video 2024-07-09 at 05.53.51_7d3eb018.mp4: 480x640 10 BATTERYREJECTs, 242.3ms',\n",
       " 'video 1/1 (frame 674/810) D:\\\\AI COURSE TAMIL\\\\First project\\\\BATTERY LABEL. YOLO8\\\\test_videos\\\\WhatsApp Video 2024-07-09 at 05.53.51_7d3eb018.mp4: 480x640 10 BATTERYREJECTs, 250.9ms',\n",
       " 'video 1/1 (frame 675/810) D:\\\\AI COURSE TAMIL\\\\First project\\\\BATTERY LABEL. YOLO8\\\\test_videos\\\\WhatsApp Video 2024-07-09 at 05.53.51_7d3eb018.mp4: 480x640 10 BATTERYREJECTs, 267.6ms',\n",
       " 'video 1/1 (frame 676/810) D:\\\\AI COURSE TAMIL\\\\First project\\\\BATTERY LABEL. YOLO8\\\\test_videos\\\\WhatsApp Video 2024-07-09 at 05.53.51_7d3eb018.mp4: 480x640 10 BATTERYREJECTs, 257.3ms',\n",
       " 'video 1/1 (frame 677/810) D:\\\\AI COURSE TAMIL\\\\First project\\\\BATTERY LABEL. YOLO8\\\\test_videos\\\\WhatsApp Video 2024-07-09 at 05.53.51_7d3eb018.mp4: 480x640 10 BATTERYREJECTs, 234.3ms',\n",
       " 'video 1/1 (frame 678/810) D:\\\\AI COURSE TAMIL\\\\First project\\\\BATTERY LABEL. YOLO8\\\\test_videos\\\\WhatsApp Video 2024-07-09 at 05.53.51_7d3eb018.mp4: 480x640 10 BATTERYREJECTs, 247.5ms',\n",
       " 'video 1/1 (frame 679/810) D:\\\\AI COURSE TAMIL\\\\First project\\\\BATTERY LABEL. YOLO8\\\\test_videos\\\\WhatsApp Video 2024-07-09 at 05.53.51_7d3eb018.mp4: 480x640 10 BATTERYREJECTs, 236.5ms',\n",
       " 'video 1/1 (frame 680/810) D:\\\\AI COURSE TAMIL\\\\First project\\\\BATTERY LABEL. YOLO8\\\\test_videos\\\\WhatsApp Video 2024-07-09 at 05.53.51_7d3eb018.mp4: 480x640 10 BATTERYREJECTs, 238.3ms',\n",
       " 'video 1/1 (frame 681/810) D:\\\\AI COURSE TAMIL\\\\First project\\\\BATTERY LABEL. YOLO8\\\\test_videos\\\\WhatsApp Video 2024-07-09 at 05.53.51_7d3eb018.mp4: 480x640 10 BATTERYREJECTs, 237.3ms',\n",
       " 'video 1/1 (frame 682/810) D:\\\\AI COURSE TAMIL\\\\First project\\\\BATTERY LABEL. YOLO8\\\\test_videos\\\\WhatsApp Video 2024-07-09 at 05.53.51_7d3eb018.mp4: 480x640 10 BATTERYREJECTs, 241.6ms',\n",
       " 'video 1/1 (frame 683/810) D:\\\\AI COURSE TAMIL\\\\First project\\\\BATTERY LABEL. YOLO8\\\\test_videos\\\\WhatsApp Video 2024-07-09 at 05.53.51_7d3eb018.mp4: 480x640 10 BATTERYREJECTs, 237.7ms',\n",
       " 'video 1/1 (frame 684/810) D:\\\\AI COURSE TAMIL\\\\First project\\\\BATTERY LABEL. YOLO8\\\\test_videos\\\\WhatsApp Video 2024-07-09 at 05.53.51_7d3eb018.mp4: 480x640 10 BATTERYREJECTs, 261.4ms',\n",
       " 'video 1/1 (frame 685/810) D:\\\\AI COURSE TAMIL\\\\First project\\\\BATTERY LABEL. YOLO8\\\\test_videos\\\\WhatsApp Video 2024-07-09 at 05.53.51_7d3eb018.mp4: 480x640 10 BATTERYREJECTs, 273.1ms',\n",
       " 'video 1/1 (frame 686/810) D:\\\\AI COURSE TAMIL\\\\First project\\\\BATTERY LABEL. YOLO8\\\\test_videos\\\\WhatsApp Video 2024-07-09 at 05.53.51_7d3eb018.mp4: 480x640 10 BATTERYREJECTs, 275.7ms',\n",
       " 'video 1/1 (frame 687/810) D:\\\\AI COURSE TAMIL\\\\First project\\\\BATTERY LABEL. YOLO8\\\\test_videos\\\\WhatsApp Video 2024-07-09 at 05.53.51_7d3eb018.mp4: 480x640 10 BATTERYREJECTs, 288.8ms',\n",
       " 'video 1/1 (frame 688/810) D:\\\\AI COURSE TAMIL\\\\First project\\\\BATTERY LABEL. YOLO8\\\\test_videos\\\\WhatsApp Video 2024-07-09 at 05.53.51_7d3eb018.mp4: 480x640 10 BATTERYREJECTs, 295.8ms',\n",
       " 'video 1/1 (frame 689/810) D:\\\\AI COURSE TAMIL\\\\First project\\\\BATTERY LABEL. YOLO8\\\\test_videos\\\\WhatsApp Video 2024-07-09 at 05.53.51_7d3eb018.mp4: 480x640 10 BATTERYREJECTs, 249.3ms',\n",
       " 'video 1/1 (frame 690/810) D:\\\\AI COURSE TAMIL\\\\First project\\\\BATTERY LABEL. YOLO8\\\\test_videos\\\\WhatsApp Video 2024-07-09 at 05.53.51_7d3eb018.mp4: 480x640 10 BATTERYREJECTs, 274.3ms',\n",
       " 'video 1/1 (frame 691/810) D:\\\\AI COURSE TAMIL\\\\First project\\\\BATTERY LABEL. YOLO8\\\\test_videos\\\\WhatsApp Video 2024-07-09 at 05.53.51_7d3eb018.mp4: 480x640 10 BATTERYREJECTs, 269.7ms',\n",
       " 'video 1/1 (frame 692/810) D:\\\\AI COURSE TAMIL\\\\First project\\\\BATTERY LABEL. YOLO8\\\\test_videos\\\\WhatsApp Video 2024-07-09 at 05.53.51_7d3eb018.mp4: 480x640 10 BATTERYREJECTs, 269.3ms',\n",
       " 'video 1/1 (frame 693/810) D:\\\\AI COURSE TAMIL\\\\First project\\\\BATTERY LABEL. YOLO8\\\\test_videos\\\\WhatsApp Video 2024-07-09 at 05.53.51_7d3eb018.mp4: 480x640 10 BATTERYREJECTs, 268.3ms',\n",
       " 'video 1/1 (frame 694/810) D:\\\\AI COURSE TAMIL\\\\First project\\\\BATTERY LABEL. YOLO8\\\\test_videos\\\\WhatsApp Video 2024-07-09 at 05.53.51_7d3eb018.mp4: 480x640 10 BATTERYREJECTs, 267.1ms',\n",
       " 'video 1/1 (frame 695/810) D:\\\\AI COURSE TAMIL\\\\First project\\\\BATTERY LABEL. YOLO8\\\\test_videos\\\\WhatsApp Video 2024-07-09 at 05.53.51_7d3eb018.mp4: 480x640 10 BATTERYREJECTs, 242.4ms',\n",
       " 'video 1/1 (frame 696/810) D:\\\\AI COURSE TAMIL\\\\First project\\\\BATTERY LABEL. YOLO8\\\\test_videos\\\\WhatsApp Video 2024-07-09 at 05.53.51_7d3eb018.mp4: 480x640 10 BATTERYREJECTs, 247.7ms',\n",
       " 'video 1/1 (frame 697/810) D:\\\\AI COURSE TAMIL\\\\First project\\\\BATTERY LABEL. YOLO8\\\\test_videos\\\\WhatsApp Video 2024-07-09 at 05.53.51_7d3eb018.mp4: 480x640 10 BATTERYREJECTs, 264.1ms',\n",
       " 'video 1/1 (frame 698/810) D:\\\\AI COURSE TAMIL\\\\First project\\\\BATTERY LABEL. YOLO8\\\\test_videos\\\\WhatsApp Video 2024-07-09 at 05.53.51_7d3eb018.mp4: 480x640 10 BATTERYREJECTs, 270.3ms',\n",
       " 'video 1/1 (frame 699/810) D:\\\\AI COURSE TAMIL\\\\First project\\\\BATTERY LABEL. YOLO8\\\\test_videos\\\\WhatsApp Video 2024-07-09 at 05.53.51_7d3eb018.mp4: 480x640 10 BATTERYREJECTs, 259.9ms',\n",
       " 'video 1/1 (frame 700/810) D:\\\\AI COURSE TAMIL\\\\First project\\\\BATTERY LABEL. YOLO8\\\\test_videos\\\\WhatsApp Video 2024-07-09 at 05.53.51_7d3eb018.mp4: 480x640 10 BATTERYREJECTs, 256.5ms',\n",
       " 'video 1/1 (frame 701/810) D:\\\\AI COURSE TAMIL\\\\First project\\\\BATTERY LABEL. YOLO8\\\\test_videos\\\\WhatsApp Video 2024-07-09 at 05.53.51_7d3eb018.mp4: 480x640 10 BATTERYREJECTs, 232.1ms',\n",
       " 'video 1/1 (frame 702/810) D:\\\\AI COURSE TAMIL\\\\First project\\\\BATTERY LABEL. YOLO8\\\\test_videos\\\\WhatsApp Video 2024-07-09 at 05.53.51_7d3eb018.mp4: 480x640 10 BATTERYREJECTs, 241.0ms',\n",
       " 'video 1/1 (frame 703/810) D:\\\\AI COURSE TAMIL\\\\First project\\\\BATTERY LABEL. YOLO8\\\\test_videos\\\\WhatsApp Video 2024-07-09 at 05.53.51_7d3eb018.mp4: 480x640 10 BATTERYREJECTs, 244.9ms',\n",
       " 'video 1/1 (frame 704/810) D:\\\\AI COURSE TAMIL\\\\First project\\\\BATTERY LABEL. YOLO8\\\\test_videos\\\\WhatsApp Video 2024-07-09 at 05.53.51_7d3eb018.mp4: 480x640 10 BATTERYREJECTs, 262.8ms',\n",
       " 'video 1/1 (frame 705/810) D:\\\\AI COURSE TAMIL\\\\First project\\\\BATTERY LABEL. YOLO8\\\\test_videos\\\\WhatsApp Video 2024-07-09 at 05.53.51_7d3eb018.mp4: 480x640 10 BATTERYREJECTs, 232.3ms',\n",
       " 'video 1/1 (frame 706/810) D:\\\\AI COURSE TAMIL\\\\First project\\\\BATTERY LABEL. YOLO8\\\\test_videos\\\\WhatsApp Video 2024-07-09 at 05.53.51_7d3eb018.mp4: 480x640 10 BATTERYREJECTs, 239.4ms',\n",
       " 'video 1/1 (frame 707/810) D:\\\\AI COURSE TAMIL\\\\First project\\\\BATTERY LABEL. YOLO8\\\\test_videos\\\\WhatsApp Video 2024-07-09 at 05.53.51_7d3eb018.mp4: 480x640 10 BATTERYREJECTs, 249.8ms',\n",
       " 'video 1/1 (frame 708/810) D:\\\\AI COURSE TAMIL\\\\First project\\\\BATTERY LABEL. YOLO8\\\\test_videos\\\\WhatsApp Video 2024-07-09 at 05.53.51_7d3eb018.mp4: 480x640 10 BATTERYREJECTs, 260.0ms',\n",
       " 'video 1/1 (frame 709/810) D:\\\\AI COURSE TAMIL\\\\First project\\\\BATTERY LABEL. YOLO8\\\\test_videos\\\\WhatsApp Video 2024-07-09 at 05.53.51_7d3eb018.mp4: 480x640 10 BATTERYREJECTs, 240.8ms',\n",
       " 'video 1/1 (frame 710/810) D:\\\\AI COURSE TAMIL\\\\First project\\\\BATTERY LABEL. YOLO8\\\\test_videos\\\\WhatsApp Video 2024-07-09 at 05.53.51_7d3eb018.mp4: 480x640 10 BATTERYREJECTs, 268.4ms',\n",
       " 'video 1/1 (frame 711/810) D:\\\\AI COURSE TAMIL\\\\First project\\\\BATTERY LABEL. YOLO8\\\\test_videos\\\\WhatsApp Video 2024-07-09 at 05.53.51_7d3eb018.mp4: 480x640 10 BATTERYREJECTs, 256.3ms',\n",
       " 'video 1/1 (frame 712/810) D:\\\\AI COURSE TAMIL\\\\First project\\\\BATTERY LABEL. YOLO8\\\\test_videos\\\\WhatsApp Video 2024-07-09 at 05.53.51_7d3eb018.mp4: 480x640 10 BATTERYREJECTs, 226.2ms',\n",
       " 'video 1/1 (frame 713/810) D:\\\\AI COURSE TAMIL\\\\First project\\\\BATTERY LABEL. YOLO8\\\\test_videos\\\\WhatsApp Video 2024-07-09 at 05.53.51_7d3eb018.mp4: 480x640 10 BATTERYREJECTs, 241.4ms',\n",
       " 'video 1/1 (frame 714/810) D:\\\\AI COURSE TAMIL\\\\First project\\\\BATTERY LABEL. YOLO8\\\\test_videos\\\\WhatsApp Video 2024-07-09 at 05.53.51_7d3eb018.mp4: 480x640 10 BATTERYREJECTs, 246.0ms',\n",
       " 'video 1/1 (frame 715/810) D:\\\\AI COURSE TAMIL\\\\First project\\\\BATTERY LABEL. YOLO8\\\\test_videos\\\\WhatsApp Video 2024-07-09 at 05.53.51_7d3eb018.mp4: 480x640 10 BATTERYREJECTs, 269.3ms',\n",
       " 'video 1/1 (frame 716/810) D:\\\\AI COURSE TAMIL\\\\First project\\\\BATTERY LABEL. YOLO8\\\\test_videos\\\\WhatsApp Video 2024-07-09 at 05.53.51_7d3eb018.mp4: 480x640 10 BATTERYREJECTs, 237.7ms',\n",
       " 'video 1/1 (frame 717/810) D:\\\\AI COURSE TAMIL\\\\First project\\\\BATTERY LABEL. YOLO8\\\\test_videos\\\\WhatsApp Video 2024-07-09 at 05.53.51_7d3eb018.mp4: 480x640 10 BATTERYREJECTs, 260.7ms',\n",
       " 'video 1/1 (frame 718/810) D:\\\\AI COURSE TAMIL\\\\First project\\\\BATTERY LABEL. YOLO8\\\\test_videos\\\\WhatsApp Video 2024-07-09 at 05.53.51_7d3eb018.mp4: 480x640 10 BATTERYREJECTs, 267.2ms',\n",
       " 'video 1/1 (frame 719/810) D:\\\\AI COURSE TAMIL\\\\First project\\\\BATTERY LABEL. YOLO8\\\\test_videos\\\\WhatsApp Video 2024-07-09 at 05.53.51_7d3eb018.mp4: 480x640 10 BATTERYREJECTs, 254.2ms',\n",
       " 'video 1/1 (frame 720/810) D:\\\\AI COURSE TAMIL\\\\First project\\\\BATTERY LABEL. YOLO8\\\\test_videos\\\\WhatsApp Video 2024-07-09 at 05.53.51_7d3eb018.mp4: 480x640 10 BATTERYREJECTs, 250.8ms',\n",
       " 'video 1/1 (frame 721/810) D:\\\\AI COURSE TAMIL\\\\First project\\\\BATTERY LABEL. YOLO8\\\\test_videos\\\\WhatsApp Video 2024-07-09 at 05.53.51_7d3eb018.mp4: 480x640 2 BATTERYNOLABELs, 240.6ms',\n",
       " 'video 1/1 (frame 722/810) D:\\\\AI COURSE TAMIL\\\\First project\\\\BATTERY LABEL. YOLO8\\\\test_videos\\\\WhatsApp Video 2024-07-09 at 05.53.51_7d3eb018.mp4: 480x640 2 BATTERYNOLABELs, 248.7ms',\n",
       " 'video 1/1 (frame 723/810) D:\\\\AI COURSE TAMIL\\\\First project\\\\BATTERY LABEL. YOLO8\\\\test_videos\\\\WhatsApp Video 2024-07-09 at 05.53.51_7d3eb018.mp4: 480x640 2 BATTERYNOLABELs, 248.7ms',\n",
       " 'video 1/1 (frame 724/810) D:\\\\AI COURSE TAMIL\\\\First project\\\\BATTERY LABEL. YOLO8\\\\test_videos\\\\WhatsApp Video 2024-07-09 at 05.53.51_7d3eb018.mp4: 480x640 2 BATTERYNOLABELs, 237.9ms',\n",
       " 'video 1/1 (frame 725/810) D:\\\\AI COURSE TAMIL\\\\First project\\\\BATTERY LABEL. YOLO8\\\\test_videos\\\\WhatsApp Video 2024-07-09 at 05.53.51_7d3eb018.mp4: 480x640 2 BATTERYNOLABELs, 245.9ms',\n",
       " 'video 1/1 (frame 726/810) D:\\\\AI COURSE TAMIL\\\\First project\\\\BATTERY LABEL. YOLO8\\\\test_videos\\\\WhatsApp Video 2024-07-09 at 05.53.51_7d3eb018.mp4: 480x640 2 BATTERYNOLABELs, 245.2ms',\n",
       " 'video 1/1 (frame 727/810) D:\\\\AI COURSE TAMIL\\\\First project\\\\BATTERY LABEL. YOLO8\\\\test_videos\\\\WhatsApp Video 2024-07-09 at 05.53.51_7d3eb018.mp4: 480x640 2 BATTERYNOLABELs, 263.2ms',\n",
       " 'video 1/1 (frame 728/810) D:\\\\AI COURSE TAMIL\\\\First project\\\\BATTERY LABEL. YOLO8\\\\test_videos\\\\WhatsApp Video 2024-07-09 at 05.53.51_7d3eb018.mp4: 480x640 2 BATTERYNOLABELs, 244.8ms',\n",
       " 'video 1/1 (frame 729/810) D:\\\\AI COURSE TAMIL\\\\First project\\\\BATTERY LABEL. YOLO8\\\\test_videos\\\\WhatsApp Video 2024-07-09 at 05.53.51_7d3eb018.mp4: 480x640 2 BATTERYNOLABELs, 242.8ms',\n",
       " 'video 1/1 (frame 730/810) D:\\\\AI COURSE TAMIL\\\\First project\\\\BATTERY LABEL. YOLO8\\\\test_videos\\\\WhatsApp Video 2024-07-09 at 05.53.51_7d3eb018.mp4: 480x640 2 BATTERYNOLABELs, 261.0ms',\n",
       " 'video 1/1 (frame 731/810) D:\\\\AI COURSE TAMIL\\\\First project\\\\BATTERY LABEL. YOLO8\\\\test_videos\\\\WhatsApp Video 2024-07-09 at 05.53.51_7d3eb018.mp4: 480x640 2 BATTERYNOLABELs, 286.8ms',\n",
       " 'video 1/1 (frame 732/810) D:\\\\AI COURSE TAMIL\\\\First project\\\\BATTERY LABEL. YOLO8\\\\test_videos\\\\WhatsApp Video 2024-07-09 at 05.53.51_7d3eb018.mp4: 480x640 2 BATTERYNOLABELs, 256.7ms',\n",
       " 'video 1/1 (frame 733/810) D:\\\\AI COURSE TAMIL\\\\First project\\\\BATTERY LABEL. YOLO8\\\\test_videos\\\\WhatsApp Video 2024-07-09 at 05.53.51_7d3eb018.mp4: 480x640 2 BATTERYNOLABELs, 273.4ms',\n",
       " 'video 1/1 (frame 734/810) D:\\\\AI COURSE TAMIL\\\\First project\\\\BATTERY LABEL. YOLO8\\\\test_videos\\\\WhatsApp Video 2024-07-09 at 05.53.51_7d3eb018.mp4: 480x640 2 BATTERYNOLABELs, 245.3ms',\n",
       " 'video 1/1 (frame 735/810) D:\\\\AI COURSE TAMIL\\\\First project\\\\BATTERY LABEL. YOLO8\\\\test_videos\\\\WhatsApp Video 2024-07-09 at 05.53.51_7d3eb018.mp4: 480x640 2 BATTERYNOLABELs, 273.1ms',\n",
       " 'video 1/1 (frame 736/810) D:\\\\AI COURSE TAMIL\\\\First project\\\\BATTERY LABEL. YOLO8\\\\test_videos\\\\WhatsApp Video 2024-07-09 at 05.53.51_7d3eb018.mp4: 480x640 2 BATTERYNOLABELs, 240.3ms',\n",
       " 'video 1/1 (frame 737/810) D:\\\\AI COURSE TAMIL\\\\First project\\\\BATTERY LABEL. YOLO8\\\\test_videos\\\\WhatsApp Video 2024-07-09 at 05.53.51_7d3eb018.mp4: 480x640 2 BATTERYNOLABELs, 249.5ms',\n",
       " 'video 1/1 (frame 738/810) D:\\\\AI COURSE TAMIL\\\\First project\\\\BATTERY LABEL. YOLO8\\\\test_videos\\\\WhatsApp Video 2024-07-09 at 05.53.51_7d3eb018.mp4: 480x640 2 BATTERYNOLABELs, 232.4ms',\n",
       " 'video 1/1 (frame 739/810) D:\\\\AI COURSE TAMIL\\\\First project\\\\BATTERY LABEL. YOLO8\\\\test_videos\\\\WhatsApp Video 2024-07-09 at 05.53.51_7d3eb018.mp4: 480x640 2 BATTERYNOLABELs, 307.8ms',\n",
       " 'video 1/1 (frame 740/810) D:\\\\AI COURSE TAMIL\\\\First project\\\\BATTERY LABEL. YOLO8\\\\test_videos\\\\WhatsApp Video 2024-07-09 at 05.53.51_7d3eb018.mp4: 480x640 2 BATTERYNOLABELs, 241.7ms',\n",
       " 'video 1/1 (frame 741/810) D:\\\\AI COURSE TAMIL\\\\First project\\\\BATTERY LABEL. YOLO8\\\\test_videos\\\\WhatsApp Video 2024-07-09 at 05.53.51_7d3eb018.mp4: 480x640 2 BATTERYNOLABELs, 239.6ms',\n",
       " 'video 1/1 (frame 742/810) D:\\\\AI COURSE TAMIL\\\\First project\\\\BATTERY LABEL. YOLO8\\\\test_videos\\\\WhatsApp Video 2024-07-09 at 05.53.51_7d3eb018.mp4: 480x640 2 BATTERYNOLABELs, 251.8ms',\n",
       " 'video 1/1 (frame 743/810) D:\\\\AI COURSE TAMIL\\\\First project\\\\BATTERY LABEL. YOLO8\\\\test_videos\\\\WhatsApp Video 2024-07-09 at 05.53.51_7d3eb018.mp4: 480x640 2 BATTERYNOLABELs, 253.3ms',\n",
       " 'video 1/1 (frame 744/810) D:\\\\AI COURSE TAMIL\\\\First project\\\\BATTERY LABEL. YOLO8\\\\test_videos\\\\WhatsApp Video 2024-07-09 at 05.53.51_7d3eb018.mp4: 480x640 2 BATTERYNOLABELs, 240.0ms',\n",
       " 'video 1/1 (frame 745/810) D:\\\\AI COURSE TAMIL\\\\First project\\\\BATTERY LABEL. YOLO8\\\\test_videos\\\\WhatsApp Video 2024-07-09 at 05.53.51_7d3eb018.mp4: 480x640 2 BATTERYNOLABELs, 249.4ms',\n",
       " 'video 1/1 (frame 746/810) D:\\\\AI COURSE TAMIL\\\\First project\\\\BATTERY LABEL. YOLO8\\\\test_videos\\\\WhatsApp Video 2024-07-09 at 05.53.51_7d3eb018.mp4: 480x640 2 BATTERYNOLABELs, 232.1ms',\n",
       " 'video 1/1 (frame 747/810) D:\\\\AI COURSE TAMIL\\\\First project\\\\BATTERY LABEL. YOLO8\\\\test_videos\\\\WhatsApp Video 2024-07-09 at 05.53.51_7d3eb018.mp4: 480x640 2 BATTERYNOLABELs, 249.1ms',\n",
       " 'video 1/1 (frame 748/810) D:\\\\AI COURSE TAMIL\\\\First project\\\\BATTERY LABEL. YOLO8\\\\test_videos\\\\WhatsApp Video 2024-07-09 at 05.53.51_7d3eb018.mp4: 480x640 2 BATTERYNOLABELs, 247.9ms',\n",
       " 'video 1/1 (frame 749/810) D:\\\\AI COURSE TAMIL\\\\First project\\\\BATTERY LABEL. YOLO8\\\\test_videos\\\\WhatsApp Video 2024-07-09 at 05.53.51_7d3eb018.mp4: 480x640 2 BATTERYNOLABELs, 241.4ms',\n",
       " 'video 1/1 (frame 750/810) D:\\\\AI COURSE TAMIL\\\\First project\\\\BATTERY LABEL. YOLO8\\\\test_videos\\\\WhatsApp Video 2024-07-09 at 05.53.51_7d3eb018.mp4: 480x640 2 BATTERYNOLABELs, 245.3ms',\n",
       " 'video 1/1 (frame 751/810) D:\\\\AI COURSE TAMIL\\\\First project\\\\BATTERY LABEL. YOLO8\\\\test_videos\\\\WhatsApp Video 2024-07-09 at 05.53.51_7d3eb018.mp4: 480x640 2 BATTERYNOLABELs, 253.6ms',\n",
       " 'video 1/1 (frame 752/810) D:\\\\AI COURSE TAMIL\\\\First project\\\\BATTERY LABEL. YOLO8\\\\test_videos\\\\WhatsApp Video 2024-07-09 at 05.53.51_7d3eb018.mp4: 480x640 2 BATTERYNOLABELs, 257.4ms',\n",
       " 'video 1/1 (frame 753/810) D:\\\\AI COURSE TAMIL\\\\First project\\\\BATTERY LABEL. YOLO8\\\\test_videos\\\\WhatsApp Video 2024-07-09 at 05.53.51_7d3eb018.mp4: 480x640 2 BATTERYNOLABELs, 229.3ms',\n",
       " 'video 1/1 (frame 754/810) D:\\\\AI COURSE TAMIL\\\\First project\\\\BATTERY LABEL. YOLO8\\\\test_videos\\\\WhatsApp Video 2024-07-09 at 05.53.51_7d3eb018.mp4: 480x640 2 BATTERYNOLABELs, 236.2ms',\n",
       " 'video 1/1 (frame 755/810) D:\\\\AI COURSE TAMIL\\\\First project\\\\BATTERY LABEL. YOLO8\\\\test_videos\\\\WhatsApp Video 2024-07-09 at 05.53.51_7d3eb018.mp4: 480x640 2 BATTERYNOLABELs, 308.1ms',\n",
       " 'video 1/1 (frame 756/810) D:\\\\AI COURSE TAMIL\\\\First project\\\\BATTERY LABEL. YOLO8\\\\test_videos\\\\WhatsApp Video 2024-07-09 at 05.53.51_7d3eb018.mp4: 480x640 2 BATTERYNOLABELs, 238.2ms',\n",
       " 'video 1/1 (frame 757/810) D:\\\\AI COURSE TAMIL\\\\First project\\\\BATTERY LABEL. YOLO8\\\\test_videos\\\\WhatsApp Video 2024-07-09 at 05.53.51_7d3eb018.mp4: 480x640 2 BATTERYNOLABELs, 251.7ms',\n",
       " 'video 1/1 (frame 758/810) D:\\\\AI COURSE TAMIL\\\\First project\\\\BATTERY LABEL. YOLO8\\\\test_videos\\\\WhatsApp Video 2024-07-09 at 05.53.51_7d3eb018.mp4: 480x640 2 BATTERYNOLABELs, 254.3ms',\n",
       " 'video 1/1 (frame 759/810) D:\\\\AI COURSE TAMIL\\\\First project\\\\BATTERY LABEL. YOLO8\\\\test_videos\\\\WhatsApp Video 2024-07-09 at 05.53.51_7d3eb018.mp4: 480x640 2 BATTERYNOLABELs, 246.7ms',\n",
       " 'video 1/1 (frame 760/810) D:\\\\AI COURSE TAMIL\\\\First project\\\\BATTERY LABEL. YOLO8\\\\test_videos\\\\WhatsApp Video 2024-07-09 at 05.53.51_7d3eb018.mp4: 480x640 2 BATTERYNOLABELs, 758.8ms',\n",
       " 'video 1/1 (frame 761/810) D:\\\\AI COURSE TAMIL\\\\First project\\\\BATTERY LABEL. YOLO8\\\\test_videos\\\\WhatsApp Video 2024-07-09 at 05.53.51_7d3eb018.mp4: 480x640 2 BATTERYNOLABELs, 239.9ms',\n",
       " 'video 1/1 (frame 762/810) D:\\\\AI COURSE TAMIL\\\\First project\\\\BATTERY LABEL. YOLO8\\\\test_videos\\\\WhatsApp Video 2024-07-09 at 05.53.51_7d3eb018.mp4: 480x640 2 BATTERYNOLABELs, 269.6ms',\n",
       " 'video 1/1 (frame 763/810) D:\\\\AI COURSE TAMIL\\\\First project\\\\BATTERY LABEL. YOLO8\\\\test_videos\\\\WhatsApp Video 2024-07-09 at 05.53.51_7d3eb018.mp4: 480x640 2 BATTERYNOLABELs, 224.8ms',\n",
       " 'video 1/1 (frame 764/810) D:\\\\AI COURSE TAMIL\\\\First project\\\\BATTERY LABEL. YOLO8\\\\test_videos\\\\WhatsApp Video 2024-07-09 at 05.53.51_7d3eb018.mp4: 480x640 2 BATTERYNOLABELs, 241.5ms',\n",
       " 'video 1/1 (frame 765/810) D:\\\\AI COURSE TAMIL\\\\First project\\\\BATTERY LABEL. YOLO8\\\\test_videos\\\\WhatsApp Video 2024-07-09 at 05.53.51_7d3eb018.mp4: 480x640 2 BATTERYNOLABELs, 255.2ms',\n",
       " 'video 1/1 (frame 766/810) D:\\\\AI COURSE TAMIL\\\\First project\\\\BATTERY LABEL. YOLO8\\\\test_videos\\\\WhatsApp Video 2024-07-09 at 05.53.51_7d3eb018.mp4: 480x640 2 BATTERYNOLABELs, 265.3ms',\n",
       " 'video 1/1 (frame 767/810) D:\\\\AI COURSE TAMIL\\\\First project\\\\BATTERY LABEL. YOLO8\\\\test_videos\\\\WhatsApp Video 2024-07-09 at 05.53.51_7d3eb018.mp4: 480x640 2 BATTERYNOLABELs, 247.6ms',\n",
       " 'video 1/1 (frame 768/810) D:\\\\AI COURSE TAMIL\\\\First project\\\\BATTERY LABEL. YOLO8\\\\test_videos\\\\WhatsApp Video 2024-07-09 at 05.53.51_7d3eb018.mp4: 480x640 2 BATTERYNOLABELs, 235.4ms',\n",
       " 'video 1/1 (frame 769/810) D:\\\\AI COURSE TAMIL\\\\First project\\\\BATTERY LABEL. YOLO8\\\\test_videos\\\\WhatsApp Video 2024-07-09 at 05.53.51_7d3eb018.mp4: 480x640 2 BATTERYNOLABELs, 253.6ms',\n",
       " 'video 1/1 (frame 770/810) D:\\\\AI COURSE TAMIL\\\\First project\\\\BATTERY LABEL. YOLO8\\\\test_videos\\\\WhatsApp Video 2024-07-09 at 05.53.51_7d3eb018.mp4: 480x640 2 BATTERYNOLABELs, 247.9ms',\n",
       " 'video 1/1 (frame 771/810) D:\\\\AI COURSE TAMIL\\\\First project\\\\BATTERY LABEL. YOLO8\\\\test_videos\\\\WhatsApp Video 2024-07-09 at 05.53.51_7d3eb018.mp4: 480x640 2 BATTERYNOLABELs, 236.1ms',\n",
       " 'video 1/1 (frame 772/810) D:\\\\AI COURSE TAMIL\\\\First project\\\\BATTERY LABEL. YOLO8\\\\test_videos\\\\WhatsApp Video 2024-07-09 at 05.53.51_7d3eb018.mp4: 480x640 2 BATTERYNOLABELs, 253.7ms',\n",
       " 'video 1/1 (frame 773/810) D:\\\\AI COURSE TAMIL\\\\First project\\\\BATTERY LABEL. YOLO8\\\\test_videos\\\\WhatsApp Video 2024-07-09 at 05.53.51_7d3eb018.mp4: 480x640 2 BATTERYNOLABELs, 244.9ms',\n",
       " 'video 1/1 (frame 774/810) D:\\\\AI COURSE TAMIL\\\\First project\\\\BATTERY LABEL. YOLO8\\\\test_videos\\\\WhatsApp Video 2024-07-09 at 05.53.51_7d3eb018.mp4: 480x640 2 BATTERYNOLABELs, 267.4ms',\n",
       " 'video 1/1 (frame 775/810) D:\\\\AI COURSE TAMIL\\\\First project\\\\BATTERY LABEL. YOLO8\\\\test_videos\\\\WhatsApp Video 2024-07-09 at 05.53.51_7d3eb018.mp4: 480x640 2 BATTERYNOLABELs, 280.5ms',\n",
       " 'video 1/1 (frame 776/810) D:\\\\AI COURSE TAMIL\\\\First project\\\\BATTERY LABEL. YOLO8\\\\test_videos\\\\WhatsApp Video 2024-07-09 at 05.53.51_7d3eb018.mp4: 480x640 2 BATTERYNOLABELs, 236.3ms',\n",
       " 'video 1/1 (frame 777/810) D:\\\\AI COURSE TAMIL\\\\First project\\\\BATTERY LABEL. YOLO8\\\\test_videos\\\\WhatsApp Video 2024-07-09 at 05.53.51_7d3eb018.mp4: 480x640 2 BATTERYNOLABELs, 282.5ms',\n",
       " 'video 1/1 (frame 778/810) D:\\\\AI COURSE TAMIL\\\\First project\\\\BATTERY LABEL. YOLO8\\\\test_videos\\\\WhatsApp Video 2024-07-09 at 05.53.51_7d3eb018.mp4: 480x640 2 BATTERYNOLABELs, 254.5ms',\n",
       " 'video 1/1 (frame 779/810) D:\\\\AI COURSE TAMIL\\\\First project\\\\BATTERY LABEL. YOLO8\\\\test_videos\\\\WhatsApp Video 2024-07-09 at 05.53.51_7d3eb018.mp4: 480x640 2 BATTERYNOLABELs, 260.6ms',\n",
       " 'video 1/1 (frame 780/810) D:\\\\AI COURSE TAMIL\\\\First project\\\\BATTERY LABEL. YOLO8\\\\test_videos\\\\WhatsApp Video 2024-07-09 at 05.53.51_7d3eb018.mp4: 480x640 2 BATTERYNOLABELs, 241.4ms',\n",
       " 'video 1/1 (frame 781/810) D:\\\\AI COURSE TAMIL\\\\First project\\\\BATTERY LABEL. YOLO8\\\\test_videos\\\\WhatsApp Video 2024-07-09 at 05.53.51_7d3eb018.mp4: 480x640 2 BATTERYNOLABELs, 242.9ms',\n",
       " 'video 1/1 (frame 782/810) D:\\\\AI COURSE TAMIL\\\\First project\\\\BATTERY LABEL. YOLO8\\\\test_videos\\\\WhatsApp Video 2024-07-09 at 05.53.51_7d3eb018.mp4: 480x640 2 BATTERYNOLABELs, 227.6ms',\n",
       " 'video 1/1 (frame 783/810) D:\\\\AI COURSE TAMIL\\\\First project\\\\BATTERY LABEL. YOLO8\\\\test_videos\\\\WhatsApp Video 2024-07-09 at 05.53.51_7d3eb018.mp4: 480x640 2 BATTERYNOLABELs, 236.6ms',\n",
       " 'video 1/1 (frame 784/810) D:\\\\AI COURSE TAMIL\\\\First project\\\\BATTERY LABEL. YOLO8\\\\test_videos\\\\WhatsApp Video 2024-07-09 at 05.53.51_7d3eb018.mp4: 480x640 2 BATTERYNOLABELs, 253.4ms',\n",
       " 'video 1/1 (frame 785/810) D:\\\\AI COURSE TAMIL\\\\First project\\\\BATTERY LABEL. YOLO8\\\\test_videos\\\\WhatsApp Video 2024-07-09 at 05.53.51_7d3eb018.mp4: 480x640 2 BATTERYNOLABELs, 249.5ms',\n",
       " 'video 1/1 (frame 786/810) D:\\\\AI COURSE TAMIL\\\\First project\\\\BATTERY LABEL. YOLO8\\\\test_videos\\\\WhatsApp Video 2024-07-09 at 05.53.51_7d3eb018.mp4: 480x640 2 BATTERYNOLABELs, 253.6ms',\n",
       " 'video 1/1 (frame 787/810) D:\\\\AI COURSE TAMIL\\\\First project\\\\BATTERY LABEL. YOLO8\\\\test_videos\\\\WhatsApp Video 2024-07-09 at 05.53.51_7d3eb018.mp4: 480x640 2 BATTERYNOLABELs, 239.7ms',\n",
       " 'video 1/1 (frame 788/810) D:\\\\AI COURSE TAMIL\\\\First project\\\\BATTERY LABEL. YOLO8\\\\test_videos\\\\WhatsApp Video 2024-07-09 at 05.53.51_7d3eb018.mp4: 480x640 2 BATTERYNOLABELs, 239.9ms',\n",
       " 'video 1/1 (frame 789/810) D:\\\\AI COURSE TAMIL\\\\First project\\\\BATTERY LABEL. YOLO8\\\\test_videos\\\\WhatsApp Video 2024-07-09 at 05.53.51_7d3eb018.mp4: 480x640 2 BATTERYNOLABELs, 238.0ms',\n",
       " 'video 1/1 (frame 790/810) D:\\\\AI COURSE TAMIL\\\\First project\\\\BATTERY LABEL. YOLO8\\\\test_videos\\\\WhatsApp Video 2024-07-09 at 05.53.51_7d3eb018.mp4: 480x640 2 BATTERYNOLABELs, 292.0ms',\n",
       " 'video 1/1 (frame 791/810) D:\\\\AI COURSE TAMIL\\\\First project\\\\BATTERY LABEL. YOLO8\\\\test_videos\\\\WhatsApp Video 2024-07-09 at 05.53.51_7d3eb018.mp4: 480x640 2 BATTERYNOLABELs, 300.1ms',\n",
       " 'video 1/1 (frame 792/810) D:\\\\AI COURSE TAMIL\\\\First project\\\\BATTERY LABEL. YOLO8\\\\test_videos\\\\WhatsApp Video 2024-07-09 at 05.53.51_7d3eb018.mp4: 480x640 2 BATTERYNOLABELs, 254.0ms',\n",
       " 'video 1/1 (frame 793/810) D:\\\\AI COURSE TAMIL\\\\First project\\\\BATTERY LABEL. YOLO8\\\\test_videos\\\\WhatsApp Video 2024-07-09 at 05.53.51_7d3eb018.mp4: 480x640 2 BATTERYNOLABELs, 237.7ms',\n",
       " 'video 1/1 (frame 794/810) D:\\\\AI COURSE TAMIL\\\\First project\\\\BATTERY LABEL. YOLO8\\\\test_videos\\\\WhatsApp Video 2024-07-09 at 05.53.51_7d3eb018.mp4: 480x640 2 BATTERYNOLABELs, 242.7ms',\n",
       " 'video 1/1 (frame 795/810) D:\\\\AI COURSE TAMIL\\\\First project\\\\BATTERY LABEL. YOLO8\\\\test_videos\\\\WhatsApp Video 2024-07-09 at 05.53.51_7d3eb018.mp4: 480x640 2 BATTERYNOLABELs, 290.8ms',\n",
       " 'video 1/1 (frame 796/810) D:\\\\AI COURSE TAMIL\\\\First project\\\\BATTERY LABEL. YOLO8\\\\test_videos\\\\WhatsApp Video 2024-07-09 at 05.53.51_7d3eb018.mp4: 480x640 2 BATTERYNOLABELs, 286.8ms',\n",
       " 'video 1/1 (frame 797/810) D:\\\\AI COURSE TAMIL\\\\First project\\\\BATTERY LABEL. YOLO8\\\\test_videos\\\\WhatsApp Video 2024-07-09 at 05.53.51_7d3eb018.mp4: 480x640 2 BATTERYNOLABELs, 260.7ms',\n",
       " 'video 1/1 (frame 798/810) D:\\\\AI COURSE TAMIL\\\\First project\\\\BATTERY LABEL. YOLO8\\\\test_videos\\\\WhatsApp Video 2024-07-09 at 05.53.51_7d3eb018.mp4: 480x640 2 BATTERYNOLABELs, 233.9ms',\n",
       " 'video 1/1 (frame 799/810) D:\\\\AI COURSE TAMIL\\\\First project\\\\BATTERY LABEL. YOLO8\\\\test_videos\\\\WhatsApp Video 2024-07-09 at 05.53.51_7d3eb018.mp4: 480x640 2 BATTERYNOLABELs, 255.4ms',\n",
       " 'video 1/1 (frame 800/810) D:\\\\AI COURSE TAMIL\\\\First project\\\\BATTERY LABEL. YOLO8\\\\test_videos\\\\WhatsApp Video 2024-07-09 at 05.53.51_7d3eb018.mp4: 480x640 2 BATTERYNOLABELs, 247.9ms',\n",
       " 'video 1/1 (frame 801/810) D:\\\\AI COURSE TAMIL\\\\First project\\\\BATTERY LABEL. YOLO8\\\\test_videos\\\\WhatsApp Video 2024-07-09 at 05.53.51_7d3eb018.mp4: 480x640 2 BATTERYNOLABELs, 374.4ms',\n",
       " 'video 1/1 (frame 802/810) D:\\\\AI COURSE TAMIL\\\\First project\\\\BATTERY LABEL. YOLO8\\\\test_videos\\\\WhatsApp Video 2024-07-09 at 05.53.51_7d3eb018.mp4: 480x640 2 BATTERYNOLABELs, 309.0ms',\n",
       " 'video 1/1 (frame 803/810) D:\\\\AI COURSE TAMIL\\\\First project\\\\BATTERY LABEL. YOLO8\\\\test_videos\\\\WhatsApp Video 2024-07-09 at 05.53.51_7d3eb018.mp4: 480x640 2 BATTERYNOLABELs, 249.4ms',\n",
       " 'video 1/1 (frame 804/810) D:\\\\AI COURSE TAMIL\\\\First project\\\\BATTERY LABEL. YOLO8\\\\test_videos\\\\WhatsApp Video 2024-07-09 at 05.53.51_7d3eb018.mp4: 480x640 2 BATTERYNOLABELs, 269.3ms',\n",
       " 'video 1/1 (frame 805/810) D:\\\\AI COURSE TAMIL\\\\First project\\\\BATTERY LABEL. YOLO8\\\\test_videos\\\\WhatsApp Video 2024-07-09 at 05.53.51_7d3eb018.mp4: 480x640 2 BATTERYNOLABELs, 253.0ms',\n",
       " 'video 1/1 (frame 806/810) D:\\\\AI COURSE TAMIL\\\\First project\\\\BATTERY LABEL. YOLO8\\\\test_videos\\\\WhatsApp Video 2024-07-09 at 05.53.51_7d3eb018.mp4: 480x640 2 BATTERYNOLABELs, 236.9ms',\n",
       " 'video 1/1 (frame 807/810) D:\\\\AI COURSE TAMIL\\\\First project\\\\BATTERY LABEL. YOLO8\\\\test_videos\\\\WhatsApp Video 2024-07-09 at 05.53.51_7d3eb018.mp4: 480x640 2 BATTERYNOLABELs, 245.1ms',\n",
       " 'video 1/1 (frame 808/810) D:\\\\AI COURSE TAMIL\\\\First project\\\\BATTERY LABEL. YOLO8\\\\test_videos\\\\WhatsApp Video 2024-07-09 at 05.53.51_7d3eb018.mp4: 480x640 2 BATTERYNOLABELs, 249.2ms',\n",
       " 'video 1/1 (frame 809/810) D:\\\\AI COURSE TAMIL\\\\First project\\\\BATTERY LABEL. YOLO8\\\\test_videos\\\\WhatsApp Video 2024-07-09 at 05.53.51_7d3eb018.mp4: 480x640 2 BATTERYNOLABELs, 247.4ms',\n",
       " 'video 1/1 (frame 810/810) D:\\\\AI COURSE TAMIL\\\\First project\\\\BATTERY LABEL. YOLO8\\\\test_videos\\\\WhatsApp Video 2024-07-09 at 05.53.51_7d3eb018.mp4: 480x640 2 BATTERYNOLABELs, 258.8ms',\n",
       " 'Speed: 5.7ms preprocess, 250.2ms inference, 2.0ms postprocess per image at shape (1, 3, 480, 640)',\n",
       " 'Results saved to \\x1b[1mruns\\\\detect\\\\predict4\\x1b[0m',\n",
       " 'ðŸ’¡ Learn more at https://docs.ultralytics.com/modes/predict']"
      ]
     },
     "execution_count": 7,
     "metadata": {},
     "output_type": "execute_result"
    }
   ],
   "source": [
    "!!yolo predict model=\"D:\\AI COURSE TAMIL\\First project\\BATTERY LABEL. YOLO8\\runs\\detect\\train\\weights/best.pt\" source=\"D:\\AI COURSE TAMIL\\First project\\BATTERY LABEL. YOLO8\\test_videos\""
   ]
  },
  {
   "cell_type": "code",
   "execution_count": 5,
   "id": "eba687dc-d3e2-418b-8a82-761d06f90911",
   "metadata": {},
   "outputs": [
    {
     "data": {
      "text/plain": [
       "['Ultralytics YOLOv8.1.34 ðŸš€ Python-3.10.14 torch-2.3.1+cpu CPU (Intel Core(TM) i5-6300U 2.40GHz)',\n",
       " 'Model summary (fused): 168 layers, 3006428 parameters, 0 gradients, 8.1 GFLOPs',\n",
       " '',\n",
       " 'image 1/2 D:\\\\AI COURSE TAMIL\\\\First project\\\\BATTERY LABEL. YOLO8\\\\test_images\\\\05175427_jpg.rf.3d9d670933d02a4997baca336f9cb30e.jpg: 480x640 10 BATTERYNOLABELs, 304.3ms',\n",
       " 'image 2/2 D:\\\\AI COURSE TAMIL\\\\First project\\\\BATTERY LABEL. YOLO8\\\\test_images\\\\WhatsApp Image 2024-07-01 at 16.02.45_9b38debe.jpg: 640x640 1 BATTERYOKLABEL, 391.2ms',\n",
       " 'Speed: 2.0ms preprocess, 347.7ms inference, 0.0ms postprocess per image at shape (1, 3, 640, 640)',\n",
       " 'Results saved to \\x1b[1mruns\\\\detect\\\\predict2\\x1b[0m',\n",
       " 'ðŸ’¡ Learn more at https://docs.ultralytics.com/modes/predict']"
      ]
     },
     "execution_count": 5,
     "metadata": {},
     "output_type": "execute_result"
    }
   ],
   "source": [
    "#prediction \n",
    "!!yolo predict model=\"D:\\AI COURSE TAMIL\\First project\\BATTERY LABEL. YOLO8\\runs\\detect\\train\\weights/best.pt\" source=\"D:\\AI COURSE TAMIL\\First project\\BATTERY LABEL. YOLO8\\test_images\"\n"
   ]
  },
  {
   "cell_type": "code",
   "execution_count": 3,
   "id": "e3ec0bc9-9a88-4591-a2f6-fc0616451189",
   "metadata": {},
   "outputs": [
    {
     "name": "stdout",
     "output_type": "stream",
     "text": [
      "\n",
      "0: 480x640 1 Laptop Battery, 283.1ms\n",
      "Speed: 6.5ms preprocess, 283.1ms inference, 0.0ms postprocess per image at shape (1, 3, 480, 640)\n",
      "\n",
      "0: 480x640 (no detections), 302.4ms\n",
      "Speed: 0.0ms preprocess, 302.4ms inference, 0.0ms postprocess per image at shape (1, 3, 480, 640)\n",
      "\n",
      "0: 480x640 1 Laptop Battery, 294.1ms\n",
      "Speed: 4.5ms preprocess, 294.1ms inference, 0.0ms postprocess per image at shape (1, 3, 480, 640)\n",
      "\n",
      "0: 480x640 1 Laptop Battery, 221.5ms\n",
      "Speed: 0.0ms preprocess, 221.5ms inference, 0.0ms postprocess per image at shape (1, 3, 480, 640)\n",
      "\n",
      "0: 480x640 1 Laptop Battery, 221.2ms\n",
      "Speed: 0.0ms preprocess, 221.2ms inference, 0.0ms postprocess per image at shape (1, 3, 480, 640)\n",
      "\n",
      "0: 480x640 (no detections), 221.6ms\n",
      "Speed: 0.0ms preprocess, 221.6ms inference, 0.0ms postprocess per image at shape (1, 3, 480, 640)\n",
      "\n",
      "0: 480x640 (no detections), 229.9ms\n",
      "Speed: 0.0ms preprocess, 229.9ms inference, 2.0ms postprocess per image at shape (1, 3, 480, 640)\n",
      "\n",
      "0: 480x640 (no detections), 229.6ms\n",
      "Speed: 0.0ms preprocess, 229.6ms inference, 2.0ms postprocess per image at shape (1, 3, 480, 640)\n",
      "\n",
      "0: 480x640 1 Laptop Battery, 243.0ms\n",
      "Speed: 0.0ms preprocess, 243.0ms inference, 0.0ms postprocess per image at shape (1, 3, 480, 640)\n",
      "\n",
      "0: 480x640 1 Laptop Battery, 219.7ms\n",
      "Speed: 0.0ms preprocess, 219.7ms inference, 10.0ms postprocess per image at shape (1, 3, 480, 640)\n",
      "\n",
      "0: 480x640 1 Laptop Battery, 249.6ms\n",
      "Speed: 0.0ms preprocess, 249.6ms inference, 0.0ms postprocess per image at shape (1, 3, 480, 640)\n",
      "\n",
      "0: 480x640 1 Laptop Battery, 221.7ms\n",
      "Speed: 0.0ms preprocess, 221.7ms inference, 8.0ms postprocess per image at shape (1, 3, 480, 640)\n",
      "\n",
      "0: 480x640 1 Laptop Battery, 221.6ms\n",
      "Speed: 0.0ms preprocess, 221.6ms inference, 0.0ms postprocess per image at shape (1, 3, 480, 640)\n",
      "\n",
      "0: 480x640 2 Laptop Batterys, 211.6ms\n",
      "Speed: 4.6ms preprocess, 211.6ms inference, 8.1ms postprocess per image at shape (1, 3, 480, 640)\n",
      "\n",
      "0: 480x640 1 Laptop Battery, 221.6ms\n",
      "Speed: 0.0ms preprocess, 221.6ms inference, 0.0ms postprocess per image at shape (1, 3, 480, 640)\n",
      "\n",
      "0: 480x640 1 Laptop Battery, 231.9ms\n",
      "Speed: 0.0ms preprocess, 231.9ms inference, 8.1ms postprocess per image at shape (1, 3, 480, 640)\n",
      "\n",
      "0: 480x640 1 Automotive Battery, 219.8ms\n",
      "Speed: 0.0ms preprocess, 219.8ms inference, 2.0ms postprocess per image at shape (1, 3, 480, 640)\n",
      "\n",
      "0: 480x640 (no detections), 221.7ms\n",
      "Speed: 0.0ms preprocess, 221.7ms inference, 0.0ms postprocess per image at shape (1, 3, 480, 640)\n",
      "\n",
      "0: 480x640 (no detections), 221.7ms\n",
      "Speed: 0.0ms preprocess, 221.7ms inference, 0.0ms postprocess per image at shape (1, 3, 480, 640)\n",
      "\n",
      "0: 480x640 (no detections), 229.7ms\n",
      "Speed: 0.0ms preprocess, 229.7ms inference, 0.0ms postprocess per image at shape (1, 3, 480, 640)\n",
      "\n",
      "0: 480x640 (no detections), 239.6ms\n",
      "Speed: 0.0ms preprocess, 239.6ms inference, 0.0ms postprocess per image at shape (1, 3, 480, 640)\n",
      "\n",
      "0: 480x640 (no detections), 229.6ms\n",
      "Speed: 0.0ms preprocess, 229.6ms inference, 0.0ms postprocess per image at shape (1, 3, 480, 640)\n",
      "\n",
      "0: 480x640 1 Laptop Battery, 249.8ms\n",
      "Speed: 0.0ms preprocess, 249.8ms inference, 2.0ms postprocess per image at shape (1, 3, 480, 640)\n",
      "\n",
      "0: 480x640 1 Laptop Battery, 229.8ms\n",
      "Speed: 0.0ms preprocess, 229.8ms inference, 0.0ms postprocess per image at shape (1, 3, 480, 640)\n",
      "\n",
      "0: 480x640 (no detections), 231.6ms\n",
      "Speed: 0.0ms preprocess, 231.6ms inference, 0.0ms postprocess per image at shape (1, 3, 480, 640)\n",
      "\n",
      "0: 480x640 1 Laptop Battery, 232.0ms\n",
      "Speed: 0.0ms preprocess, 232.0ms inference, 0.0ms postprocess per image at shape (1, 3, 480, 640)\n",
      "\n",
      "0: 480x640 1 Laptop Battery, 230.9ms\n",
      "Speed: 0.0ms preprocess, 230.9ms inference, 0.0ms postprocess per image at shape (1, 3, 480, 640)\n",
      "\n",
      "0: 480x640 2 Laptop Batterys, 221.7ms\n",
      "Speed: 0.0ms preprocess, 221.7ms inference, 0.0ms postprocess per image at shape (1, 3, 480, 640)\n",
      "\n",
      "0: 480x640 1 Laptop Battery, 230.0ms\n",
      "Speed: 0.0ms preprocess, 230.0ms inference, 2.0ms postprocess per image at shape (1, 3, 480, 640)\n",
      "\n",
      "0: 480x640 (no detections), 221.6ms\n",
      "Speed: 0.0ms preprocess, 221.6ms inference, 0.0ms postprocess per image at shape (1, 3, 480, 640)\n",
      "\n",
      "0: 480x640 (no detections), 232.0ms\n",
      "Speed: 0.0ms preprocess, 232.0ms inference, 0.0ms postprocess per image at shape (1, 3, 480, 640)\n",
      "\n",
      "0: 480x640 1 Laptop Battery, 219.7ms\n",
      "Speed: 0.0ms preprocess, 219.7ms inference, 0.0ms postprocess per image at shape (1, 3, 480, 640)\n",
      "\n",
      "0: 480x640 (no detections), 229.4ms\n",
      "Speed: 0.0ms preprocess, 229.4ms inference, 2.0ms postprocess per image at shape (1, 3, 480, 640)\n",
      "\n",
      "0: 480x640 1 Smartphone Battery, 231.7ms\n",
      "Speed: 0.0ms preprocess, 231.7ms inference, 8.1ms postprocess per image at shape (1, 3, 480, 640)\n",
      "\n",
      "0: 480x640 1 Laptop Battery, 221.8ms\n",
      "Speed: 0.0ms preprocess, 221.8ms inference, 0.0ms postprocess per image at shape (1, 3, 480, 640)\n",
      "\n",
      "0: 480x640 1 Laptop Battery, 214.8ms\n",
      "Speed: 0.0ms preprocess, 214.8ms inference, 0.0ms postprocess per image at shape (1, 3, 480, 640)\n",
      "\n",
      "0: 480x640 1 Smartphone Battery, 229.2ms\n",
      "Speed: 0.0ms preprocess, 229.2ms inference, 0.0ms postprocess per image at shape (1, 3, 480, 640)\n",
      "\n",
      "0: 480x640 (no detections), 228.7ms\n",
      "Speed: 0.0ms preprocess, 228.7ms inference, 0.0ms postprocess per image at shape (1, 3, 480, 640)\n",
      "\n",
      "0: 480x640 (no detections), 235.7ms\n",
      "Speed: 0.0ms preprocess, 235.7ms inference, 0.0ms postprocess per image at shape (1, 3, 480, 640)\n",
      "\n",
      "0: 480x640 1 Laptop Battery, 213.1ms\n",
      "Speed: 0.0ms preprocess, 213.1ms inference, 0.0ms postprocess per image at shape (1, 3, 480, 640)\n",
      "\n",
      "0: 480x640 1 Laptop Battery, 223.1ms\n",
      "Speed: 4.0ms preprocess, 223.1ms inference, 0.0ms postprocess per image at shape (1, 3, 480, 640)\n",
      "\n",
      "0: 480x640 (no detections), 229.9ms\n",
      "Speed: 0.0ms preprocess, 229.9ms inference, 2.0ms postprocess per image at shape (1, 3, 480, 640)\n",
      "\n",
      "0: 480x640 (no detections), 231.9ms\n",
      "Speed: 0.0ms preprocess, 231.9ms inference, 0.0ms postprocess per image at shape (1, 3, 480, 640)\n",
      "\n",
      "0: 480x640 (no detections), 229.4ms\n",
      "Speed: 0.0ms preprocess, 229.4ms inference, 0.0ms postprocess per image at shape (1, 3, 480, 640)\n",
      "\n",
      "0: 480x640 (no detections), 215.5ms\n",
      "Speed: 0.0ms preprocess, 215.5ms inference, 0.0ms postprocess per image at shape (1, 3, 480, 640)\n",
      "\n",
      "0: 480x640 1 Laptop Battery, 213.6ms\n",
      "Speed: 0.0ms preprocess, 213.6ms inference, 0.0ms postprocess per image at shape (1, 3, 480, 640)\n",
      "\n",
      "0: 480x640 (no detections), 222.5ms\n",
      "Speed: 0.0ms preprocess, 222.5ms inference, 0.0ms postprocess per image at shape (1, 3, 480, 640)\n",
      "\n",
      "0: 480x640 1 Laptop Battery, 213.6ms\n",
      "Speed: 0.0ms preprocess, 213.6ms inference, 0.0ms postprocess per image at shape (1, 3, 480, 640)\n",
      "\n",
      "0: 480x640 1 Laptop Battery, 237.6ms\n",
      "Speed: 0.0ms preprocess, 237.6ms inference, 2.0ms postprocess per image at shape (1, 3, 480, 640)\n",
      "\n",
      "0: 480x640 (no detections), 229.9ms\n",
      "Speed: 0.0ms preprocess, 229.9ms inference, 0.0ms postprocess per image at shape (1, 3, 480, 640)\n",
      "\n",
      "0: 480x640 (no detections), 242.0ms\n",
      "Speed: 0.0ms preprocess, 242.0ms inference, 0.0ms postprocess per image at shape (1, 3, 480, 640)\n",
      "\n",
      "0: 480x640 1 Laptop Battery, 221.7ms\n",
      "Speed: 0.0ms preprocess, 221.7ms inference, 0.0ms postprocess per image at shape (1, 3, 480, 640)\n",
      "\n",
      "0: 480x640 1 Laptop Battery, 221.1ms\n",
      "Speed: 0.0ms preprocess, 221.1ms inference, 0.0ms postprocess per image at shape (1, 3, 480, 640)\n",
      "\n",
      "0: 480x640 1 Laptop Battery, 239.8ms\n",
      "Speed: 0.0ms preprocess, 239.8ms inference, 2.0ms postprocess per image at shape (1, 3, 480, 640)\n",
      "\n",
      "0: 480x640 1 Laptop Battery, 241.4ms\n",
      "Speed: 0.0ms preprocess, 241.4ms inference, 0.0ms postprocess per image at shape (1, 3, 480, 640)\n",
      "\n",
      "0: 480x640 1 Laptop Battery, 229.7ms\n",
      "Speed: 0.0ms preprocess, 229.7ms inference, 0.0ms postprocess per image at shape (1, 3, 480, 640)\n",
      "\n",
      "0: 480x640 (no detections), 211.8ms\n",
      "Speed: 0.0ms preprocess, 211.8ms inference, 0.0ms postprocess per image at shape (1, 3, 480, 640)\n",
      "\n",
      "0: 480x640 (no detections), 229.7ms\n",
      "Speed: 0.0ms preprocess, 229.7ms inference, 2.0ms postprocess per image at shape (1, 3, 480, 640)\n",
      "\n",
      "0: 480x640 1 Automotive Battery, 241.6ms\n",
      "Speed: 0.0ms preprocess, 241.6ms inference, 0.0ms postprocess per image at shape (1, 3, 480, 640)\n",
      "\n",
      "0: 480x640 1 Automotive Battery, 221.9ms\n",
      "Speed: 0.0ms preprocess, 221.9ms inference, 0.0ms postprocess per image at shape (1, 3, 480, 640)\n",
      "\n",
      "0: 480x640 1 Automotive Battery, 242.0ms\n",
      "Speed: 0.0ms preprocess, 242.0ms inference, 0.0ms postprocess per image at shape (1, 3, 480, 640)\n",
      "\n",
      "0: 480x640 1 Automotive Battery, 1 Laptop Battery, 240.9ms\n",
      "Speed: 0.0ms preprocess, 240.9ms inference, 15.6ms postprocess per image at shape (1, 3, 480, 640)\n",
      "\n",
      "0: 480x640 1 Automotive Battery, 232.2ms\n",
      "Speed: 0.0ms preprocess, 232.2ms inference, 0.0ms postprocess per image at shape (1, 3, 480, 640)\n",
      "\n",
      "0: 480x640 1 Automotive Battery, 352.3ms\n",
      "Speed: 0.0ms preprocess, 352.3ms inference, 0.0ms postprocess per image at shape (1, 3, 480, 640)\n",
      "\n",
      "0: 480x640 1 Automotive Battery, 437.2ms\n",
      "Speed: 0.0ms preprocess, 437.2ms inference, 0.0ms postprocess per image at shape (1, 3, 480, 640)\n",
      "\n",
      "0: 480x640 1 Automotive Battery, 1 Laptop Battery, 221.3ms\n",
      "Speed: 0.0ms preprocess, 221.3ms inference, 2.0ms postprocess per image at shape (1, 3, 480, 640)\n",
      "\n",
      "0: 480x640 1 Automotive Battery, 1 Bike Battery, 252.1ms\n",
      "Speed: 0.0ms preprocess, 252.1ms inference, 0.0ms postprocess per image at shape (1, 3, 480, 640)\n",
      "\n",
      "0: 480x640 1 Automotive Battery, 221.6ms\n",
      "Speed: 0.0ms preprocess, 221.6ms inference, 0.0ms postprocess per image at shape (1, 3, 480, 640)\n",
      "\n",
      "0: 480x640 1 Automotive Battery, 242.5ms\n",
      "Speed: 0.0ms preprocess, 242.5ms inference, 0.0ms postprocess per image at shape (1, 3, 480, 640)\n",
      "\n",
      "0: 480x640 1 Automotive Battery, 241.8ms\n",
      "Speed: 0.0ms preprocess, 241.8ms inference, 0.0ms postprocess per image at shape (1, 3, 480, 640)\n",
      "\n",
      "0: 480x640 1 Automotive Battery, 260.0ms\n",
      "Speed: 0.0ms preprocess, 260.0ms inference, 0.0ms postprocess per image at shape (1, 3, 480, 640)\n",
      "\n",
      "0: 480x640 2 Automotive Batterys, 241.7ms\n",
      "Speed: 0.0ms preprocess, 241.7ms inference, 0.0ms postprocess per image at shape (1, 3, 480, 640)\n",
      "\n",
      "0: 480x640 1 Automotive Battery, 241.7ms\n",
      "Speed: 0.0ms preprocess, 241.7ms inference, 0.0ms postprocess per image at shape (1, 3, 480, 640)\n",
      "\n",
      "0: 480x640 1 Automotive Battery, 221.7ms\n",
      "Speed: 0.0ms preprocess, 221.7ms inference, 0.0ms postprocess per image at shape (1, 3, 480, 640)\n",
      "\n",
      "0: 480x640 2 Automotive Batterys, 231.6ms\n",
      "Speed: 0.0ms preprocess, 231.6ms inference, 0.0ms postprocess per image at shape (1, 3, 480, 640)\n",
      "\n",
      "0: 480x640 (no detections), 223.6ms\n",
      "Speed: 0.0ms preprocess, 223.6ms inference, 15.6ms postprocess per image at shape (1, 3, 480, 640)\n",
      "\n",
      "0: 480x640 2 Automotive Batterys, 213.6ms\n",
      "Speed: 0.0ms preprocess, 213.6ms inference, 0.0ms postprocess per image at shape (1, 3, 480, 640)\n",
      "\n",
      "0: 480x640 3 Automotive Batterys, 230.8ms\n",
      "Speed: 4.0ms preprocess, 230.8ms inference, 0.0ms postprocess per image at shape (1, 3, 480, 640)\n",
      "\n",
      "0: 480x640 (no detections), 241.0ms\n",
      "Speed: 0.0ms preprocess, 241.0ms inference, 0.0ms postprocess per image at shape (1, 3, 480, 640)\n",
      "\n",
      "0: 480x640 (no detections), 229.3ms\n",
      "Speed: 0.0ms preprocess, 229.3ms inference, 0.0ms postprocess per image at shape (1, 3, 480, 640)\n",
      "\n",
      "0: 480x640 2 Automotive Batterys, 247.4ms\n",
      "Speed: 4.0ms preprocess, 247.4ms inference, 0.0ms postprocess per image at shape (1, 3, 480, 640)\n",
      "\n",
      "0: 480x640 2 Automotive Batterys, 226.2ms\n",
      "Speed: 0.0ms preprocess, 226.2ms inference, 0.0ms postprocess per image at shape (1, 3, 480, 640)\n",
      "\n",
      "0: 480x640 2 Automotive Batterys, 219.6ms\n",
      "Speed: 0.0ms preprocess, 219.6ms inference, 0.0ms postprocess per image at shape (1, 3, 480, 640)\n",
      "\n",
      "0: 480x640 1 Automotive Battery, 231.6ms\n",
      "Speed: 0.0ms preprocess, 231.6ms inference, 0.0ms postprocess per image at shape (1, 3, 480, 640)\n",
      "\n",
      "0: 480x640 2 Automotive Batterys, 221.6ms\n",
      "Speed: 0.0ms preprocess, 221.6ms inference, 8.0ms postprocess per image at shape (1, 3, 480, 640)\n",
      "\n",
      "0: 480x640 2 Automotive Batterys, 232.0ms\n",
      "Speed: 0.0ms preprocess, 232.0ms inference, 0.0ms postprocess per image at shape (1, 3, 480, 640)\n",
      "\n",
      "0: 480x640 1 Automotive Battery, 236.3ms\n",
      "Speed: 0.0ms preprocess, 236.3ms inference, 0.0ms postprocess per image at shape (1, 3, 480, 640)\n",
      "\n",
      "0: 480x640 1 Automotive Battery, 230.8ms\n",
      "Speed: 0.0ms preprocess, 230.8ms inference, 0.0ms postprocess per image at shape (1, 3, 480, 640)\n",
      "\n",
      "0: 480x640 (no detections), 242.3ms\n",
      "Speed: 0.0ms preprocess, 242.3ms inference, 0.0ms postprocess per image at shape (1, 3, 480, 640)\n",
      "\n",
      "0: 480x640 (no detections), 241.9ms\n",
      "Speed: 0.0ms preprocess, 241.9ms inference, 0.0ms postprocess per image at shape (1, 3, 480, 640)\n",
      "\n",
      "0: 480x640 1 Automotive Battery, 251.9ms\n",
      "Speed: 0.0ms preprocess, 251.9ms inference, 0.0ms postprocess per image at shape (1, 3, 480, 640)\n",
      "\n",
      "0: 480x640 1 Automotive Battery, 230.1ms\n",
      "Speed: 0.0ms preprocess, 230.1ms inference, 2.0ms postprocess per image at shape (1, 3, 480, 640)\n",
      "\n",
      "0: 480x640 1 Automotive Battery, 229.6ms\n",
      "Speed: 0.0ms preprocess, 229.6ms inference, 2.0ms postprocess per image at shape (1, 3, 480, 640)\n",
      "\n",
      "0: 480x640 1 Automotive Battery, 221.6ms\n",
      "Speed: 0.0ms preprocess, 221.6ms inference, 0.0ms postprocess per image at shape (1, 3, 480, 640)\n",
      "\n",
      "0: 480x640 (no detections), 231.6ms\n",
      "Speed: 0.0ms preprocess, 231.6ms inference, 0.0ms postprocess per image at shape (1, 3, 480, 640)\n",
      "\n",
      "0: 480x640 1 Automotive Battery, 221.7ms\n",
      "Speed: 0.0ms preprocess, 221.7ms inference, 8.0ms postprocess per image at shape (1, 3, 480, 640)\n",
      "\n",
      "0: 480x640 1 Automotive Battery, 229.3ms\n",
      "Speed: 0.0ms preprocess, 229.3ms inference, 2.0ms postprocess per image at shape (1, 3, 480, 640)\n",
      "\n",
      "0: 480x640 1 Automotive Battery, 231.8ms\n",
      "Speed: 0.0ms preprocess, 231.8ms inference, 0.0ms postprocess per image at shape (1, 3, 480, 640)\n",
      "\n",
      "0: 480x640 2 Automotive Batterys, 236.2ms\n",
      "Speed: 0.0ms preprocess, 236.2ms inference, 0.0ms postprocess per image at shape (1, 3, 480, 640)\n",
      "\n",
      "0: 480x640 (no detections), 243.5ms\n",
      "Speed: 0.0ms preprocess, 243.5ms inference, 0.0ms postprocess per image at shape (1, 3, 480, 640)\n",
      "\n",
      "0: 480x640 1 Automotive Battery, 233.9ms\n",
      "Speed: 6.1ms preprocess, 233.9ms inference, 0.0ms postprocess per image at shape (1, 3, 480, 640)\n",
      "\n",
      "0: 480x640 (no detections), 231.9ms\n",
      "Speed: 0.0ms preprocess, 231.9ms inference, 0.0ms postprocess per image at shape (1, 3, 480, 640)\n",
      "\n",
      "0: 480x640 1 Bike Battery, 242.2ms\n",
      "Speed: 0.0ms preprocess, 242.2ms inference, 0.0ms postprocess per image at shape (1, 3, 480, 640)\n",
      "\n",
      "0: 480x640 (no detections), 221.9ms\n",
      "Speed: 0.0ms preprocess, 221.9ms inference, 0.0ms postprocess per image at shape (1, 3, 480, 640)\n",
      "\n",
      "0: 480x640 (no detections), 241.7ms\n",
      "Speed: 0.0ms preprocess, 241.7ms inference, 0.0ms postprocess per image at shape (1, 3, 480, 640)\n",
      "\n",
      "0: 480x640 1 Automotive Battery, 1 Bike Battery, 219.6ms\n",
      "Speed: 0.0ms preprocess, 219.6ms inference, 0.0ms postprocess per image at shape (1, 3, 480, 640)\n",
      "\n",
      "0: 480x640 (no detections), 241.7ms\n",
      "Speed: 0.0ms preprocess, 241.7ms inference, 0.0ms postprocess per image at shape (1, 3, 480, 640)\n",
      "\n",
      "0: 480x640 (no detections), 241.8ms\n",
      "Speed: 0.0ms preprocess, 241.8ms inference, 0.0ms postprocess per image at shape (1, 3, 480, 640)\n",
      "\n",
      "0: 480x640 (no detections), 241.8ms\n",
      "Speed: 0.0ms preprocess, 241.8ms inference, 0.0ms postprocess per image at shape (1, 3, 480, 640)\n",
      "\n",
      "0: 480x640 1 Automotive Battery, 1 Bike Battery, 219.6ms\n",
      "Speed: 0.0ms preprocess, 219.6ms inference, 0.0ms postprocess per image at shape (1, 3, 480, 640)\n",
      "\n",
      "0: 480x640 1 Automotive Battery, 1 Bike Battery, 241.8ms\n",
      "Speed: 0.0ms preprocess, 241.8ms inference, 0.0ms postprocess per image at shape (1, 3, 480, 640)\n",
      "\n",
      "0: 480x640 (no detections), 231.6ms\n",
      "Speed: 0.0ms preprocess, 231.6ms inference, 0.0ms postprocess per image at shape (1, 3, 480, 640)\n",
      "\n",
      "0: 480x640 (no detections), 224.1ms\n",
      "Speed: 0.0ms preprocess, 224.1ms inference, 0.0ms postprocess per image at shape (1, 3, 480, 640)\n",
      "\n",
      "0: 480x640 (no detections), 213.6ms\n",
      "Speed: 0.0ms preprocess, 213.6ms inference, 15.6ms postprocess per image at shape (1, 3, 480, 640)\n",
      "\n",
      "0: 480x640 1 Automotive Battery, 235.8ms\n",
      "Speed: 0.0ms preprocess, 235.8ms inference, 0.0ms postprocess per image at shape (1, 3, 480, 640)\n",
      "\n",
      "0: 480x640 1 Automotive Battery, 229.2ms\n",
      "Speed: 0.0ms preprocess, 229.2ms inference, 0.0ms postprocess per image at shape (1, 3, 480, 640)\n",
      "\n",
      "0: 480x640 1 Automotive Battery, 242.0ms\n",
      "Speed: 0.0ms preprocess, 242.0ms inference, 0.0ms postprocess per image at shape (1, 3, 480, 640)\n",
      "\n",
      "0: 480x640 1 Automotive Battery, 221.7ms\n",
      "Speed: 0.0ms preprocess, 221.7ms inference, 0.0ms postprocess per image at shape (1, 3, 480, 640)\n",
      "\n",
      "0: 480x640 3 Automotive Batterys, 1 Bike Battery, 231.8ms\n",
      "Speed: 0.0ms preprocess, 231.8ms inference, 0.0ms postprocess per image at shape (1, 3, 480, 640)\n",
      "\n",
      "0: 480x640 2 Automotive Batterys, 1 Bike Battery, 239.8ms\n",
      "Speed: 0.0ms preprocess, 239.8ms inference, 2.0ms postprocess per image at shape (1, 3, 480, 640)\n",
      "\n",
      "0: 480x640 2 Automotive Batterys, 221.8ms\n",
      "Speed: 0.0ms preprocess, 221.8ms inference, 0.0ms postprocess per image at shape (1, 3, 480, 640)\n",
      "\n",
      "0: 480x640 2 Automotive Batterys, 1 Dry Cell, 229.6ms\n",
      "Speed: 0.0ms preprocess, 229.6ms inference, 2.0ms postprocess per image at shape (1, 3, 480, 640)\n",
      "\n",
      "0: 480x640 1 Automotive Battery, 222.2ms\n",
      "Speed: 0.0ms preprocess, 222.2ms inference, 0.0ms postprocess per image at shape (1, 3, 480, 640)\n",
      "\n",
      "0: 480x640 3 Automotive Batterys, 239.9ms\n",
      "Speed: 0.0ms preprocess, 239.9ms inference, 2.0ms postprocess per image at shape (1, 3, 480, 640)\n",
      "\n",
      "0: 480x640 1 Automotive Battery, 1 Laptop Battery, 252.6ms\n",
      "Speed: 0.0ms preprocess, 252.6ms inference, 0.0ms postprocess per image at shape (1, 3, 480, 640)\n",
      "\n",
      "0: 480x640 1 Automotive Battery, 221.6ms\n",
      "Speed: 0.0ms preprocess, 221.6ms inference, 0.0ms postprocess per image at shape (1, 3, 480, 640)\n",
      "\n",
      "0: 480x640 (no detections), 221.6ms\n",
      "Speed: 0.0ms preprocess, 221.6ms inference, 8.0ms postprocess per image at shape (1, 3, 480, 640)\n",
      "\n",
      "0: 480x640 1 Bike Battery, 231.5ms\n",
      "Speed: 0.0ms preprocess, 231.5ms inference, 0.0ms postprocess per image at shape (1, 3, 480, 640)\n",
      "\n",
      "0: 480x640 1 Automotive Battery, 221.8ms\n",
      "Speed: 0.0ms preprocess, 221.8ms inference, 0.0ms postprocess per image at shape (1, 3, 480, 640)\n",
      "\n",
      "0: 480x640 (no detections), 231.8ms\n",
      "Speed: 0.0ms preprocess, 231.8ms inference, 0.0ms postprocess per image at shape (1, 3, 480, 640)\n",
      "\n",
      "0: 480x640 1 Automotive Battery, 1 Bike Battery, 221.4ms\n",
      "Speed: 0.0ms preprocess, 221.4ms inference, 0.0ms postprocess per image at shape (1, 3, 480, 640)\n",
      "\n",
      "0: 480x640 1 Automotive Battery, 231.8ms\n",
      "Speed: 0.0ms preprocess, 231.8ms inference, 0.0ms postprocess per image at shape (1, 3, 480, 640)\n",
      "\n",
      "0: 480x640 (no detections), 241.8ms\n",
      "Speed: 0.0ms preprocess, 241.8ms inference, 0.0ms postprocess per image at shape (1, 3, 480, 640)\n",
      "\n",
      "0: 480x640 (no detections), 242.1ms\n",
      "Speed: 0.0ms preprocess, 242.1ms inference, 8.0ms postprocess per image at shape (1, 3, 480, 640)\n",
      "\n",
      "0: 480x640 (no detections), 229.7ms\n",
      "Speed: 0.0ms preprocess, 229.7ms inference, 0.0ms postprocess per image at shape (1, 3, 480, 640)\n",
      "\n",
      "0: 480x640 (no detections), 241.8ms\n",
      "Speed: 0.0ms preprocess, 241.8ms inference, 0.0ms postprocess per image at shape (1, 3, 480, 640)\n",
      "\n",
      "0: 480x640 1 Automotive Battery, 1 Bike Battery, 229.8ms\n",
      "Speed: 0.0ms preprocess, 229.8ms inference, 0.0ms postprocess per image at shape (1, 3, 480, 640)\n",
      "\n",
      "0: 480x640 1 Bike Battery, 231.8ms\n",
      "Speed: 0.0ms preprocess, 231.8ms inference, 0.0ms postprocess per image at shape (1, 3, 480, 640)\n",
      "\n",
      "0: 480x640 1 Automotive Battery, 252.2ms\n",
      "Speed: 0.0ms preprocess, 252.2ms inference, 0.0ms postprocess per image at shape (1, 3, 480, 640)\n",
      "\n",
      "0: 480x640 1 Bike Battery, 232.3ms\n",
      "Speed: 0.0ms preprocess, 232.3ms inference, 0.0ms postprocess per image at shape (1, 3, 480, 640)\n",
      "\n",
      "0: 480x640 (no detections), 239.8ms\n",
      "Speed: 0.0ms preprocess, 239.8ms inference, 2.0ms postprocess per image at shape (1, 3, 480, 640)\n",
      "\n",
      "0: 480x640 1 Bike Battery, 245.3ms\n",
      "Speed: 0.0ms preprocess, 245.3ms inference, 0.0ms postprocess per image at shape (1, 3, 480, 640)\n",
      "\n",
      "0: 480x640 1 Bike Battery, 229.2ms\n",
      "Speed: 0.0ms preprocess, 229.2ms inference, 0.0ms postprocess per image at shape (1, 3, 480, 640)\n",
      "\n",
      "0: 480x640 (no detections), 216.1ms\n",
      "Speed: 4.0ms preprocess, 216.1ms inference, 15.6ms postprocess per image at shape (1, 3, 480, 640)\n",
      "\n",
      "0: 480x640 (no detections), 228.8ms\n",
      "Speed: 0.0ms preprocess, 228.8ms inference, 0.0ms postprocess per image at shape (1, 3, 480, 640)\n",
      "\n",
      "0: 480x640 1 Bike Battery, 231.2ms\n",
      "Speed: 4.0ms preprocess, 231.2ms inference, 2.0ms postprocess per image at shape (1, 3, 480, 640)\n",
      "\n",
      "0: 480x640 1 Automotive Battery, 1 Bike Battery, 239.9ms\n",
      "Speed: 0.0ms preprocess, 239.9ms inference, 2.0ms postprocess per image at shape (1, 3, 480, 640)\n",
      "\n",
      "0: 480x640 2 Automotive Batterys, 221.7ms\n",
      "Speed: 0.0ms preprocess, 221.7ms inference, 8.0ms postprocess per image at shape (1, 3, 480, 640)\n",
      "\n",
      "0: 480x640 (no detections), 231.9ms\n",
      "Speed: 0.0ms preprocess, 231.9ms inference, 0.0ms postprocess per image at shape (1, 3, 480, 640)\n",
      "\n",
      "0: 480x640 (no detections), 220.7ms\n",
      "Speed: 0.0ms preprocess, 220.7ms inference, 0.0ms postprocess per image at shape (1, 3, 480, 640)\n",
      "\n",
      "0: 480x640 1 Automotive Battery, 1 Bike Battery, 229.3ms\n",
      "Speed: 0.0ms preprocess, 229.3ms inference, 6.5ms postprocess per image at shape (1, 3, 480, 640)\n",
      "\n",
      "0: 480x640 1 Automotive Battery, 246.9ms\n",
      "Speed: 0.0ms preprocess, 246.9ms inference, 0.0ms postprocess per image at shape (1, 3, 480, 640)\n",
      "\n",
      "0: 480x640 2 Automotive Batterys, 239.7ms\n",
      "Speed: 0.0ms preprocess, 239.7ms inference, 2.0ms postprocess per image at shape (1, 3, 480, 640)\n",
      "\n",
      "0: 480x640 1 Automotive Battery, 231.7ms\n",
      "Speed: 0.0ms preprocess, 231.7ms inference, 0.0ms postprocess per image at shape (1, 3, 480, 640)\n",
      "\n",
      "0: 480x640 2 Automotive Batterys, 221.6ms\n",
      "Speed: 0.0ms preprocess, 221.6ms inference, 0.0ms postprocess per image at shape (1, 3, 480, 640)\n",
      "\n",
      "0: 480x640 1 Automotive Battery, 221.7ms\n",
      "Speed: 0.0ms preprocess, 221.7ms inference, 0.0ms postprocess per image at shape (1, 3, 480, 640)\n",
      "\n",
      "0: 480x640 (no detections), 231.6ms\n",
      "Speed: 0.0ms preprocess, 231.6ms inference, 8.1ms postprocess per image at shape (1, 3, 480, 640)\n",
      "\n",
      "0: 480x640 (no detections), 241.9ms\n",
      "Speed: 0.0ms preprocess, 241.9ms inference, 0.0ms postprocess per image at shape (1, 3, 480, 640)\n",
      "\n",
      "0: 480x640 2 Automotive Batterys, 232.5ms\n",
      "Speed: 0.0ms preprocess, 232.5ms inference, 0.0ms postprocess per image at shape (1, 3, 480, 640)\n",
      "\n",
      "0: 480x640 1 Automotive Battery, 219.6ms\n",
      "Speed: 0.0ms preprocess, 219.6ms inference, 2.0ms postprocess per image at shape (1, 3, 480, 640)\n",
      "\n",
      "0: 480x640 1 Automotive Battery, 229.8ms\n",
      "Speed: 0.0ms preprocess, 229.8ms inference, 2.0ms postprocess per image at shape (1, 3, 480, 640)\n",
      "\n",
      "0: 480x640 (no detections), 230.7ms\n",
      "Speed: 0.0ms preprocess, 230.7ms inference, 0.0ms postprocess per image at shape (1, 3, 480, 640)\n",
      "\n",
      "0: 480x640 1 Automotive Battery, 1 Bike Battery, 233.8ms\n",
      "Speed: 0.0ms preprocess, 233.8ms inference, 0.0ms postprocess per image at shape (1, 3, 480, 640)\n",
      "\n",
      "0: 480x640 2 Automotive Batterys, 1 Bike Battery, 229.9ms\n",
      "Speed: 0.0ms preprocess, 229.9ms inference, 2.0ms postprocess per image at shape (1, 3, 480, 640)\n",
      "\n",
      "0: 480x640 1 Automotive Battery, 230.0ms\n",
      "Speed: 0.0ms preprocess, 230.0ms inference, 2.0ms postprocess per image at shape (1, 3, 480, 640)\n",
      "\n",
      "0: 480x640 1 Automotive Battery, 221.5ms\n",
      "Speed: 0.0ms preprocess, 221.5ms inference, 0.0ms postprocess per image at shape (1, 3, 480, 640)\n",
      "\n",
      "0: 480x640 2 Automotive Batterys, 1 Bike Battery, 239.7ms\n",
      "Speed: 0.0ms preprocess, 239.7ms inference, 2.0ms postprocess per image at shape (1, 3, 480, 640)\n",
      "\n",
      "0: 480x640 1 Bike Battery, 221.7ms\n",
      "Speed: 0.0ms preprocess, 221.7ms inference, 0.0ms postprocess per image at shape (1, 3, 480, 640)\n",
      "\n",
      "0: 480x640 2 Automotive Batterys, 1 Bike Battery, 219.4ms\n",
      "Speed: 5.1ms preprocess, 219.4ms inference, 0.0ms postprocess per image at shape (1, 3, 480, 640)\n",
      "\n",
      "0: 480x640 (no detections), 242.0ms\n",
      "Speed: 0.0ms preprocess, 242.0ms inference, 0.0ms postprocess per image at shape (1, 3, 480, 640)\n",
      "\n",
      "0: 480x640 (no detections), 231.7ms\n",
      "Speed: 0.0ms preprocess, 231.7ms inference, 0.0ms postprocess per image at shape (1, 3, 480, 640)\n",
      "\n",
      "0: 480x640 (no detections), 229.5ms\n",
      "Speed: 0.0ms preprocess, 229.5ms inference, 2.0ms postprocess per image at shape (1, 3, 480, 640)\n",
      "\n",
      "0: 480x640 (no detections), 231.9ms\n",
      "Speed: 0.0ms preprocess, 231.9ms inference, 0.0ms postprocess per image at shape (1, 3, 480, 640)\n",
      "\n",
      "0: 480x640 (no detections), 232.2ms\n",
      "Speed: 0.0ms preprocess, 232.2ms inference, 0.0ms postprocess per image at shape (1, 3, 480, 640)\n",
      "\n",
      "0: 480x640 (no detections), 230.0ms\n",
      "Speed: 0.0ms preprocess, 230.0ms inference, 0.0ms postprocess per image at shape (1, 3, 480, 640)\n",
      "\n",
      "0: 480x640 (no detections), 241.9ms\n",
      "Speed: 0.0ms preprocess, 241.9ms inference, 0.0ms postprocess per image at shape (1, 3, 480, 640)\n",
      "\n",
      "0: 480x640 (no detections), 221.7ms\n",
      "Speed: 0.0ms preprocess, 221.7ms inference, 0.0ms postprocess per image at shape (1, 3, 480, 640)\n",
      "\n",
      "0: 480x640 (no detections), 231.8ms\n",
      "Speed: 0.0ms preprocess, 231.8ms inference, 0.0ms postprocess per image at shape (1, 3, 480, 640)\n",
      "\n",
      "0: 480x640 (no detections), 231.8ms\n",
      "Speed: 0.0ms preprocess, 231.8ms inference, 0.0ms postprocess per image at shape (1, 3, 480, 640)\n",
      "\n",
      "0: 480x640 (no detections), 241.9ms\n",
      "Speed: 0.0ms preprocess, 241.9ms inference, 0.0ms postprocess per image at shape (1, 3, 480, 640)\n",
      "\n",
      "0: 480x640 (no detections), 231.0ms\n",
      "Speed: 0.0ms preprocess, 231.0ms inference, 15.6ms postprocess per image at shape (1, 3, 480, 640)\n",
      "\n",
      "0: 480x640 (no detections), 229.2ms\n",
      "Speed: 0.0ms preprocess, 229.2ms inference, 0.0ms postprocess per image at shape (1, 3, 480, 640)\n",
      "\n",
      "0: 480x640 1 Automotive Battery, 235.3ms\n",
      "Speed: 0.0ms preprocess, 235.3ms inference, 0.0ms postprocess per image at shape (1, 3, 480, 640)\n",
      "\n",
      "0: 480x640 (no detections), 241.8ms\n",
      "Speed: 0.0ms preprocess, 241.8ms inference, 0.0ms postprocess per image at shape (1, 3, 480, 640)\n",
      "\n",
      "0: 480x640 1 Bike Battery, 231.7ms\n",
      "Speed: 0.0ms preprocess, 231.7ms inference, 0.0ms postprocess per image at shape (1, 3, 480, 640)\n",
      "\n",
      "0: 480x640 1 Automotive Battery, 241.8ms\n",
      "Speed: 0.0ms preprocess, 241.8ms inference, 0.0ms postprocess per image at shape (1, 3, 480, 640)\n",
      "\n",
      "0: 480x640 1 Automotive Battery, 1 Bike Battery, 232.8ms\n",
      "Speed: 0.0ms preprocess, 232.8ms inference, 8.0ms postprocess per image at shape (1, 3, 480, 640)\n",
      "\n",
      "0: 480x640 1 Automotive Battery, 1 Bike Battery, 229.6ms\n",
      "Speed: 0.0ms preprocess, 229.6ms inference, 2.0ms postprocess per image at shape (1, 3, 480, 640)\n",
      "\n",
      "0: 480x640 1 Automotive Battery, 231.7ms\n",
      "Speed: 0.0ms preprocess, 231.7ms inference, 0.0ms postprocess per image at shape (1, 3, 480, 640)\n",
      "\n",
      "0: 480x640 2 Automotive Batterys, 1 Bike Battery, 222.0ms\n",
      "Speed: 0.0ms preprocess, 222.0ms inference, 0.0ms postprocess per image at shape (1, 3, 480, 640)\n",
      "\n",
      "0: 480x640 2 Automotive Batterys, 1 Bike Battery, 231.7ms\n",
      "Speed: 0.0ms preprocess, 231.7ms inference, 0.0ms postprocess per image at shape (1, 3, 480, 640)\n",
      "\n",
      "0: 480x640 2 Automotive Batterys, 1 Bike Battery, 231.6ms\n",
      "Speed: 0.0ms preprocess, 231.6ms inference, 0.0ms postprocess per image at shape (1, 3, 480, 640)\n",
      "\n",
      "0: 480x640 2 Automotive Batterys, 252.5ms\n",
      "Speed: 0.0ms preprocess, 252.5ms inference, 0.0ms postprocess per image at shape (1, 3, 480, 640)\n",
      "\n",
      "0: 480x640 1 Automotive Battery, 1 Bike Battery, 226.4ms\n",
      "Speed: 0.0ms preprocess, 226.4ms inference, 0.0ms postprocess per image at shape (1, 3, 480, 640)\n",
      "\n",
      "0: 480x640 3 Automotive Batterys, 1 Bike Battery, 222.6ms\n",
      "Speed: 0.0ms preprocess, 222.6ms inference, 0.0ms postprocess per image at shape (1, 3, 480, 640)\n",
      "\n",
      "0: 480x640 2 Automotive Batterys, 1 Bike Battery, 219.6ms\n",
      "Speed: 0.0ms preprocess, 219.6ms inference, 0.0ms postprocess per image at shape (1, 3, 480, 640)\n",
      "\n",
      "0: 480x640 2 Automotive Batterys, 1 Bike Battery, 250.0ms\n",
      "Speed: 0.0ms preprocess, 250.0ms inference, 0.0ms postprocess per image at shape (1, 3, 480, 640)\n",
      "\n",
      "0: 480x640 2 Automotive Batterys, 1 Bike Battery, 231.8ms\n",
      "Speed: 0.0ms preprocess, 231.8ms inference, 0.0ms postprocess per image at shape (1, 3, 480, 640)\n",
      "\n",
      "0: 480x640 2 Automotive Batterys, 1 Bike Battery, 239.9ms\n",
      "Speed: 0.0ms preprocess, 239.9ms inference, 2.0ms postprocess per image at shape (1, 3, 480, 640)\n",
      "\n",
      "0: 480x640 2 Automotive Batterys, 241.8ms\n",
      "Speed: 0.0ms preprocess, 241.8ms inference, 0.0ms postprocess per image at shape (1, 3, 480, 640)\n",
      "\n",
      "0: 480x640 2 Automotive Batterys, 1 Bike Battery, 240.2ms\n",
      "Speed: 0.0ms preprocess, 240.2ms inference, 0.0ms postprocess per image at shape (1, 3, 480, 640)\n",
      "\n",
      "0: 480x640 2 Automotive Batterys, 241.8ms\n",
      "Speed: 0.0ms preprocess, 241.8ms inference, 0.0ms postprocess per image at shape (1, 3, 480, 640)\n",
      "\n",
      "0: 480x640 2 Automotive Batterys, 231.8ms\n",
      "Speed: 0.0ms preprocess, 231.8ms inference, 8.0ms postprocess per image at shape (1, 3, 480, 640)\n",
      "\n",
      "0: 480x640 2 Automotive Batterys, 1 Bike Battery, 221.7ms\n",
      "Speed: 0.0ms preprocess, 221.7ms inference, 0.0ms postprocess per image at shape (1, 3, 480, 640)\n",
      "\n",
      "0: 480x640 (no detections), 221.8ms\n",
      "Speed: 0.0ms preprocess, 221.8ms inference, 0.0ms postprocess per image at shape (1, 3, 480, 640)\n",
      "\n",
      "0: 480x640 (no detections), 252.1ms\n",
      "Speed: 0.0ms preprocess, 252.1ms inference, 0.0ms postprocess per image at shape (1, 3, 480, 640)\n",
      "\n",
      "0: 480x640 1 Bike Battery, 242.4ms\n",
      "Speed: 0.0ms preprocess, 242.4ms inference, 0.0ms postprocess per image at shape (1, 3, 480, 640)\n",
      "\n",
      "0: 480x640 1 Bike Battery, 232.6ms\n",
      "Speed: 0.0ms preprocess, 232.6ms inference, 0.0ms postprocess per image at shape (1, 3, 480, 640)\n",
      "\n",
      "0: 480x640 1 Automotive Battery, 1 Bike Battery, 210.7ms\n",
      "Speed: 0.0ms preprocess, 210.7ms inference, 15.6ms postprocess per image at shape (1, 3, 480, 640)\n",
      "\n",
      "0: 480x640 1 Bike Battery, 1 Laptop Battery, 236.2ms\n",
      "Speed: 0.0ms preprocess, 236.2ms inference, 2.0ms postprocess per image at shape (1, 3, 480, 640)\n",
      "\n",
      "0: 480x640 1 Automotive Battery, 1 Bike Battery, 241.8ms\n",
      "Speed: 0.0ms preprocess, 241.8ms inference, 0.0ms postprocess per image at shape (1, 3, 480, 640)\n",
      "\n",
      "0: 480x640 1 Automotive Battery, 1 Bike Battery, 235.8ms\n",
      "Speed: 0.0ms preprocess, 235.8ms inference, 0.0ms postprocess per image at shape (1, 3, 480, 640)\n",
      "\n",
      "0: 480x640 1 Automotive Battery, 1 Bike Battery, 213.6ms\n",
      "Speed: 0.0ms preprocess, 213.6ms inference, 15.6ms postprocess per image at shape (1, 3, 480, 640)\n",
      "\n",
      "0: 480x640 2 Automotive Batterys, 1 Bike Battery, 1 Laptop Battery, 232.6ms\n",
      "Speed: 0.0ms preprocess, 232.6ms inference, 0.0ms postprocess per image at shape (1, 3, 480, 640)\n",
      "\n",
      "0: 480x640 2 Automotive Batterys, 1 Bike Battery, 241.7ms\n",
      "Speed: 0.0ms preprocess, 241.7ms inference, 0.0ms postprocess per image at shape (1, 3, 480, 640)\n",
      "\n",
      "0: 480x640 2 Automotive Batterys, 1 Bike Battery, 252.2ms\n",
      "Speed: 0.0ms preprocess, 252.2ms inference, 0.0ms postprocess per image at shape (1, 3, 480, 640)\n",
      "\n",
      "0: 480x640 1 Automotive Battery, 1 Bike Battery, 223.6ms\n",
      "Speed: 8.1ms preprocess, 223.6ms inference, 8.1ms postprocess per image at shape (1, 3, 480, 640)\n",
      "\n",
      "0: 480x640 2 Automotive Batterys, 1 Bike Battery, 1 Laptop Battery, 229.6ms\n",
      "Speed: 0.0ms preprocess, 229.6ms inference, 0.0ms postprocess per image at shape (1, 3, 480, 640)\n",
      "\n",
      "0: 480x640 2 Automotive Batterys, 1 Bike Battery, 219.8ms\n",
      "Speed: 0.0ms preprocess, 219.8ms inference, 0.0ms postprocess per image at shape (1, 3, 480, 640)\n",
      "\n",
      "0: 480x640 1 Automotive Battery, 1 Bike Battery, 1 Laptop Battery, 231.6ms\n",
      "Speed: 0.0ms preprocess, 231.6ms inference, 0.1ms postprocess per image at shape (1, 3, 480, 640)\n",
      "\n",
      "0: 480x640 1 Automotive Battery, 1 Laptop Battery, 246.3ms\n",
      "Speed: 0.0ms preprocess, 246.3ms inference, 0.0ms postprocess per image at shape (1, 3, 480, 640)\n",
      "\n",
      "0: 480x640 1 Automotive Battery, 1 Bike Battery, 235.8ms\n",
      "Speed: 0.0ms preprocess, 235.8ms inference, 0.0ms postprocess per image at shape (1, 3, 480, 640)\n",
      "\n",
      "0: 480x640 2 Automotive Batterys, 1 Bike Battery, 243.0ms\n",
      "Speed: 0.0ms preprocess, 243.0ms inference, 0.0ms postprocess per image at shape (1, 3, 480, 640)\n",
      "\n",
      "0: 480x640 1 Automotive Battery, 213.6ms\n",
      "Speed: 0.0ms preprocess, 213.6ms inference, 15.6ms postprocess per image at shape (1, 3, 480, 640)\n",
      "\n",
      "0: 480x640 1 Automotive Battery, 1 Bike Battery, 238.3ms\n",
      "Speed: 0.0ms preprocess, 238.3ms inference, 8.1ms postprocess per image at shape (1, 3, 480, 640)\n",
      "\n",
      "0: 480x640 2 Automotive Batterys, 230.2ms\n",
      "Speed: 0.0ms preprocess, 230.2ms inference, 2.0ms postprocess per image at shape (1, 3, 480, 640)\n",
      "\n",
      "0: 480x640 (no detections), 226.2ms\n",
      "Speed: 0.0ms preprocess, 226.2ms inference, 0.0ms postprocess per image at shape (1, 3, 480, 640)\n",
      "\n",
      "0: 480x640 1 Laptop Battery, 213.6ms\n",
      "Speed: 0.0ms preprocess, 213.6ms inference, 0.0ms postprocess per image at shape (1, 3, 480, 640)\n",
      "\n",
      "0: 480x640 1 Laptop Battery, 225.1ms\n",
      "Speed: 0.0ms preprocess, 225.1ms inference, 0.0ms postprocess per image at shape (1, 3, 480, 640)\n",
      "\n",
      "0: 480x640 1 Laptop Battery, 219.7ms\n",
      "Speed: 0.0ms preprocess, 219.7ms inference, 10.0ms postprocess per image at shape (1, 3, 480, 640)\n",
      "\n",
      "0: 480x640 2 Automotive Batterys, 1 Laptop Battery, 240.2ms\n",
      "Speed: 0.0ms preprocess, 240.2ms inference, 0.0ms postprocess per image at shape (1, 3, 480, 640)\n",
      "\n",
      "0: 480x640 2 Automotive Batterys, 222.2ms\n",
      "Speed: 0.0ms preprocess, 222.2ms inference, 0.0ms postprocess per image at shape (1, 3, 480, 640)\n",
      "\n",
      "0: 480x640 1 Automotive Battery, 221.8ms\n",
      "Speed: 0.0ms preprocess, 221.8ms inference, 8.0ms postprocess per image at shape (1, 3, 480, 640)\n",
      "\n",
      "0: 480x640 1 Laptop Battery, 322.7ms\n",
      "Speed: 8.1ms preprocess, 322.7ms inference, 2.0ms postprocess per image at shape (1, 3, 480, 640)\n",
      "\n",
      "0: 480x640 1 Automotive Battery, 302.3ms\n",
      "Speed: 0.0ms preprocess, 302.3ms inference, 0.0ms postprocess per image at shape (1, 3, 480, 640)\n",
      "\n",
      "0: 480x640 1 Automotive Battery, 259.5ms\n",
      "Speed: 1.0ms preprocess, 259.5ms inference, 2.0ms postprocess per image at shape (1, 3, 480, 640)\n",
      "\n",
      "0: 480x640 2 Automotive Batterys, 232.0ms\n",
      "Speed: 0.0ms preprocess, 232.0ms inference, 0.0ms postprocess per image at shape (1, 3, 480, 640)\n"
     ]
    }
   ],
   "source": [
    "import cv2\n",
    "import random\n",
    "from ultralytics import YOLO\n",
    "\n",
    "# Load the YOLO model\n",
    "model = YOLO(\"D:\\AI COURSE TAMIL\\First project\\BATTERY LABEL. YOLO8\\runs\\detect\\train\\weights/best/best.pt\")\n",
    "\n",
    "# Define a list of colors (one for each class)\n",
    "colors = {}\n",
    "\n",
    "# Open the webcam\n",
    "cap = cv2.VideoCapture(0)\n",
    "\n",
    "# Create a named window and set it to full screen\n",
    "cv2.namedWindow(\"Webcam\", cv2.WND_PROP_FULLSCREEN)\n",
    "cv2.setWindowProperty(\"Webcam\", cv2.WND_PROP_FULLSCREEN, cv2.WINDOW_FULLSCREEN)\n",
    "\n",
    "while True:\n",
    "    ret, frame = cap.read()\n",
    "    if not ret:\n",
    "        break\n",
    "\n",
    "    # Perform prediction\n",
    "    results = model(frame)\n",
    "\n",
    "    # Process the results\n",
    "    for result in results:\n",
    "        boxes = result.boxes\n",
    "        for box in boxes:\n",
    "            x1, y1, x2, y2 = map(int, box.xyxy[0])\n",
    "            conf = box.conf[0]\n",
    "            cls = int(box.cls[0])\n",
    "\n",
    "            # Assign a color to the class if not already assigned\n",
    "            if cls not in colors:\n",
    "                colors[cls] = [random.randint(0, 255) for _ in range(3)]\n",
    "\n",
    "            # Get the color for the current class\n",
    "            color = colors[cls]\n",
    "\n",
    "            # Draw rectangle\n",
    "            cv2.rectangle(frame, (x1, y1), (x2, y2), color, 2)\n",
    "\n",
    "            # Put label\n",
    "            label = f'{model.names[cls]} {conf:.2f}'\n",
    "            cv2.putText(frame, label, (x1, y1 - 10), cv2.FONT_HERSHEY_SIMPLEX, 0.9, color, 2)\n",
    "\n",
    "    # Display the frame\n",
    "    cv2.imshow(\"Webcam\", frame)\n",
    "\n",
    "    # Break the loop on 'q' key press\n",
    "    if cv2.waitKey(1) & 0xFF == ord('q'):\n",
    "        break\n",
    "\n",
    "# Release the capture and close the windows\n",
    "cap.release()\n",
    "cv2.destroyAllWindows()\n"
   ]
  },
  {
   "cell_type": "code",
   "execution_count": null,
   "id": "8d0e39de-bf50-4a1c-83db-c1814f7cde44",
   "metadata": {},
   "outputs": [],
   "source": []
  }
 ],
 "metadata": {
  "kernelspec": {
   "display_name": "Python 3 (ipykernel)",
   "language": "python",
   "name": "python3"
  },
  "language_info": {
   "codemirror_mode": {
    "name": "ipython",
    "version": 3
   },
   "file_extension": ".py",
   "mimetype": "text/x-python",
   "name": "python",
   "nbconvert_exporter": "python",
   "pygments_lexer": "ipython3",
   "version": "3.10.14"
  }
 },
 "nbformat": 4,
 "nbformat_minor": 5
}
